{
  "nbformat": 4,
  "nbformat_minor": 0,
  "metadata": {
    "colab": {
      "name": "exam.ipynb",
      "provenance": [],
      "collapsed_sections": [],
      "authorship_tag": "ABX9TyO1XP86GX5r2ZftUJX1FN+y"
    },
    "kernelspec": {
      "name": "python3",
      "display_name": "Python 3"
    }
  },
  "cells": [
    {
      "cell_type": "code",
      "metadata": {
        "id": "UYTDLDB3DqQ2",
        "colab_type": "code",
        "colab": {
          "base_uri": "https://localhost:8080/",
          "height": 212
        },
        "outputId": "6ebd4409-15c5-4cb1-b9a6-360b866d3e51"
      },
      "source": [
        "!pip install eli5"
      ],
      "execution_count": 1,
      "outputs": [
        {
          "output_type": "stream",
          "text": [
            "Requirement already satisfied: eli5 in /usr/local/lib/python3.6/dist-packages (0.10.1)\n",
            "Requirement already satisfied: scikit-learn>=0.18 in /usr/local/lib/python3.6/dist-packages (from eli5) (0.22.2.post1)\n",
            "Requirement already satisfied: attrs>16.0.0 in /usr/local/lib/python3.6/dist-packages (from eli5) (19.3.0)\n",
            "Requirement already satisfied: jinja2 in /usr/local/lib/python3.6/dist-packages (from eli5) (2.11.2)\n",
            "Requirement already satisfied: graphviz in /usr/local/lib/python3.6/dist-packages (from eli5) (0.10.1)\n",
            "Requirement already satisfied: scipy in /usr/local/lib/python3.6/dist-packages (from eli5) (1.4.1)\n",
            "Requirement already satisfied: six in /usr/local/lib/python3.6/dist-packages (from eli5) (1.12.0)\n",
            "Requirement already satisfied: tabulate>=0.7.7 in /usr/local/lib/python3.6/dist-packages (from eli5) (0.8.7)\n",
            "Requirement already satisfied: numpy>=1.9.0 in /usr/local/lib/python3.6/dist-packages (from eli5) (1.18.5)\n",
            "Requirement already satisfied: joblib>=0.11 in /usr/local/lib/python3.6/dist-packages (from scikit-learn>=0.18->eli5) (0.15.1)\n",
            "Requirement already satisfied: MarkupSafe>=0.23 in /usr/local/lib/python3.6/dist-packages (from jinja2->eli5) (1.1.1)\n"
          ],
          "name": "stdout"
        }
      ]
    },
    {
      "cell_type": "code",
      "metadata": {
        "id": "UxcKri3leUmN",
        "colab_type": "code",
        "colab": {
          "base_uri": "https://localhost:8080/",
          "height": 52
        },
        "outputId": "52a647f8-77b9-4603-c9c7-1abed2a52199"
      },
      "source": [
        "!pip install youtokentome"
      ],
      "execution_count": 2,
      "outputs": [
        {
          "output_type": "stream",
          "text": [
            "Requirement already satisfied: youtokentome in /usr/local/lib/python3.6/dist-packages (1.0.6)\n",
            "Requirement already satisfied: Click>=7.0 in /usr/local/lib/python3.6/dist-packages (from youtokentome) (7.1.2)\n"
          ],
          "name": "stdout"
        }
      ]
    },
    {
      "cell_type": "code",
      "metadata": {
        "id": "bUj5MOh6RuVF",
        "colab_type": "code",
        "colab": {
          "base_uri": "https://localhost:8080/",
          "height": 70
        },
        "outputId": "d9a744f5-71c8-4490-eae3-7f418854a8a7"
      },
      "source": [
        "import nltk\n",
        "nltk.download('stopwords')"
      ],
      "execution_count": 3,
      "outputs": [
        {
          "output_type": "stream",
          "text": [
            "[nltk_data] Downloading package stopwords to /root/nltk_data...\n",
            "[nltk_data]   Package stopwords is already up-to-date!\n"
          ],
          "name": "stdout"
        },
        {
          "output_type": "execute_result",
          "data": {
            "text/plain": [
              "True"
            ]
          },
          "metadata": {
            "tags": []
          },
          "execution_count": 3
        }
      ]
    },
    {
      "cell_type": "code",
      "metadata": {
        "id": "5aZd2C5NqbCR",
        "colab_type": "code",
        "colab": {
          "base_uri": "https://localhost:8080/",
          "height": 125
        },
        "outputId": "60eaf9e7-f698-40e0-f420-d3e23226c516"
      },
      "source": [
        "import pandas as pd\n",
        "import numpy as np\n",
        "from sklearn.metrics import *\n",
        "from sklearn import metrics\n",
        "import gensim\n",
        "from sklearn.feature_extraction.text import CountVectorizer, TfidfTransformer\n",
        "from sklearn.model_selection import train_test_split, cross_val_score, GridSearchCV\n",
        "from sklearn.decomposition import TruncatedSVD\n",
        "from sklearn.cluster import DBSCAN\n",
        "from sklearn.neighbors import KNeighborsClassifier\n",
        "from sklearn.naive_bayes import GaussianNB, MultinomialNB, BernoulliNB\n",
        "from sklearn.tree import DecisionTreeClassifier\n",
        "from sklearn.pipeline import Pipeline\n",
        "from sklearn.pipeline import FeatureUnion\n",
        "from sklearn.linear_model import SGDClassifier, RidgeClassifier\n",
        "from sklearn.metrics import classification_report\n",
        "from sklearn.preprocessing import FunctionTransformer\n",
        "import eli5\n",
        "from matplotlib import pyplot\n",
        "from eli5.sklearn import PermutationImportance\n",
        "from nltk.corpus import stopwords\n",
        "from string import punctuation\n",
        "from sklearn.ensemble import VotingClassifier \n",
        "from xgboost import XGBClassifier\n",
        "from sklearn.linear_model import LogisticRegression \n",
        "from sklearn.svm import SVC \n",
        "from sklearn.tree import DecisionTreeClassifier\n",
        "import tensorflow as tf\n",
        "from string import punctuation\n",
        "from collections import Counter\n",
        "import youtokentome as yttm\n",
        "import matplotlib.pyplot as plt\n",
        "import re\n",
        "%matplotlib inline"
      ],
      "execution_count": 4,
      "outputs": [
        {
          "output_type": "stream",
          "text": [
            "/usr/local/lib/python3.6/dist-packages/sklearn/utils/deprecation.py:144: FutureWarning: The sklearn.metrics.scorer module is  deprecated in version 0.22 and will be removed in version 0.24. The corresponding classes / functions should instead be imported from sklearn.metrics. Anything that cannot be imported from sklearn.metrics is now part of the private API.\n",
            "  warnings.warn(message, FutureWarning)\n",
            "/usr/local/lib/python3.6/dist-packages/sklearn/utils/deprecation.py:144: FutureWarning: The sklearn.feature_selection.base module is  deprecated in version 0.22 and will be removed in version 0.24. The corresponding classes / functions should instead be imported from sklearn.feature_selection. Anything that cannot be imported from sklearn.feature_selection is now part of the private API.\n",
            "  warnings.warn(message, FutureWarning)\n",
            "Using TensorFlow backend.\n"
          ],
          "name": "stderr"
        }
      ]
    },
    {
      "cell_type": "code",
      "metadata": {
        "id": "b4_mRAqZvya9",
        "colab_type": "code",
        "colab": {
          "base_uri": "https://localhost:8080/",
          "height": 52
        },
        "outputId": "ca631802-58d0-4f8c-bea6-b22720a1328e"
      },
      "source": [
        "from google.colab import drive \n",
        "drive.mount('/gdrive')\n",
        "%cd /gdrive"
      ],
      "execution_count": 5,
      "outputs": [
        {
          "output_type": "stream",
          "text": [
            "Drive already mounted at /gdrive; to attempt to forcibly remount, call drive.mount(\"/gdrive\", force_remount=True).\n",
            "/gdrive\n"
          ],
          "name": "stdout"
        }
      ]
    },
    {
      "cell_type": "code",
      "metadata": {
        "id": "dy0f5R_GxBFK",
        "colab_type": "code",
        "colab": {}
      },
      "source": [
        "data = pd.read_csv('/gdrive/My Drive/exam/jigsaw-toxic-comment-train.csv.zip')"
      ],
      "execution_count": 6,
      "outputs": []
    },
    {
      "cell_type": "markdown",
      "metadata": {
        "id": "fSDK50e-sSu8",
        "colab_type": "text"
      },
      "source": [
        "## 1. Описательный анализ данных с привязкой к целевой переменной (toxic) и 2 другим дополнительным колонкам (как минимум 5 статистик на каждую группу) - 1.5 балл"
      ]
    },
    {
      "cell_type": "code",
      "metadata": {
        "id": "hVgTHTVQrG0k",
        "colab_type": "code",
        "colab": {
          "base_uri": "https://localhost:8080/",
          "height": 347
        },
        "outputId": "d6c39789-7eab-4403-8aad-ebff80c0dedf"
      },
      "source": [
        "data.head(10)"
      ],
      "execution_count": null,
      "outputs": [
        {
          "output_type": "execute_result",
          "data": {
            "text/html": [
              "<div>\n",
              "<style scoped>\n",
              "    .dataframe tbody tr th:only-of-type {\n",
              "        vertical-align: middle;\n",
              "    }\n",
              "\n",
              "    .dataframe tbody tr th {\n",
              "        vertical-align: top;\n",
              "    }\n",
              "\n",
              "    .dataframe thead th {\n",
              "        text-align: right;\n",
              "    }\n",
              "</style>\n",
              "<table border=\"1\" class=\"dataframe\">\n",
              "  <thead>\n",
              "    <tr style=\"text-align: right;\">\n",
              "      <th></th>\n",
              "      <th>id</th>\n",
              "      <th>comment_text</th>\n",
              "      <th>toxic</th>\n",
              "      <th>severe_toxic</th>\n",
              "      <th>obscene</th>\n",
              "      <th>threat</th>\n",
              "      <th>insult</th>\n",
              "      <th>identity_hate</th>\n",
              "    </tr>\n",
              "  </thead>\n",
              "  <tbody>\n",
              "    <tr>\n",
              "      <th>0</th>\n",
              "      <td>0000997932d777bf</td>\n",
              "      <td>Explanation\\nWhy the edits made under my usern...</td>\n",
              "      <td>0</td>\n",
              "      <td>0</td>\n",
              "      <td>0</td>\n",
              "      <td>0</td>\n",
              "      <td>0</td>\n",
              "      <td>0</td>\n",
              "    </tr>\n",
              "    <tr>\n",
              "      <th>1</th>\n",
              "      <td>000103f0d9cfb60f</td>\n",
              "      <td>D'aww! He matches this background colour I'm s...</td>\n",
              "      <td>0</td>\n",
              "      <td>0</td>\n",
              "      <td>0</td>\n",
              "      <td>0</td>\n",
              "      <td>0</td>\n",
              "      <td>0</td>\n",
              "    </tr>\n",
              "    <tr>\n",
              "      <th>2</th>\n",
              "      <td>000113f07ec002fd</td>\n",
              "      <td>Hey man, I'm really not trying to edit war. It...</td>\n",
              "      <td>0</td>\n",
              "      <td>0</td>\n",
              "      <td>0</td>\n",
              "      <td>0</td>\n",
              "      <td>0</td>\n",
              "      <td>0</td>\n",
              "    </tr>\n",
              "    <tr>\n",
              "      <th>3</th>\n",
              "      <td>0001b41b1c6bb37e</td>\n",
              "      <td>\"\\nMore\\nI can't make any real suggestions on ...</td>\n",
              "      <td>0</td>\n",
              "      <td>0</td>\n",
              "      <td>0</td>\n",
              "      <td>0</td>\n",
              "      <td>0</td>\n",
              "      <td>0</td>\n",
              "    </tr>\n",
              "    <tr>\n",
              "      <th>4</th>\n",
              "      <td>0001d958c54c6e35</td>\n",
              "      <td>You, sir, are my hero. Any chance you remember...</td>\n",
              "      <td>0</td>\n",
              "      <td>0</td>\n",
              "      <td>0</td>\n",
              "      <td>0</td>\n",
              "      <td>0</td>\n",
              "      <td>0</td>\n",
              "    </tr>\n",
              "    <tr>\n",
              "      <th>5</th>\n",
              "      <td>00025465d4725e87</td>\n",
              "      <td>\"\\n\\nCongratulations from me as well, use the ...</td>\n",
              "      <td>0</td>\n",
              "      <td>0</td>\n",
              "      <td>0</td>\n",
              "      <td>0</td>\n",
              "      <td>0</td>\n",
              "      <td>0</td>\n",
              "    </tr>\n",
              "    <tr>\n",
              "      <th>6</th>\n",
              "      <td>0002bcb3da6cb337</td>\n",
              "      <td>COCKSUCKER BEFORE YOU PISS AROUND ON MY WORK</td>\n",
              "      <td>1</td>\n",
              "      <td>1</td>\n",
              "      <td>1</td>\n",
              "      <td>0</td>\n",
              "      <td>1</td>\n",
              "      <td>0</td>\n",
              "    </tr>\n",
              "    <tr>\n",
              "      <th>7</th>\n",
              "      <td>00031b1e95af7921</td>\n",
              "      <td>Your vandalism to the Matt Shirvington article...</td>\n",
              "      <td>0</td>\n",
              "      <td>0</td>\n",
              "      <td>0</td>\n",
              "      <td>0</td>\n",
              "      <td>0</td>\n",
              "      <td>0</td>\n",
              "    </tr>\n",
              "    <tr>\n",
              "      <th>8</th>\n",
              "      <td>00037261f536c51d</td>\n",
              "      <td>Sorry if the word 'nonsense' was offensive to ...</td>\n",
              "      <td>0</td>\n",
              "      <td>0</td>\n",
              "      <td>0</td>\n",
              "      <td>0</td>\n",
              "      <td>0</td>\n",
              "      <td>0</td>\n",
              "    </tr>\n",
              "    <tr>\n",
              "      <th>9</th>\n",
              "      <td>00040093b2687caa</td>\n",
              "      <td>alignment on this subject and which are contra...</td>\n",
              "      <td>0</td>\n",
              "      <td>0</td>\n",
              "      <td>0</td>\n",
              "      <td>0</td>\n",
              "      <td>0</td>\n",
              "      <td>0</td>\n",
              "    </tr>\n",
              "  </tbody>\n",
              "</table>\n",
              "</div>"
            ],
            "text/plain": [
              "                 id  ... identity_hate\n",
              "0  0000997932d777bf  ...             0\n",
              "1  000103f0d9cfb60f  ...             0\n",
              "2  000113f07ec002fd  ...             0\n",
              "3  0001b41b1c6bb37e  ...             0\n",
              "4  0001d958c54c6e35  ...             0\n",
              "5  00025465d4725e87  ...             0\n",
              "6  0002bcb3da6cb337  ...             0\n",
              "7  00031b1e95af7921  ...             0\n",
              "8  00037261f536c51d  ...             0\n",
              "9  00040093b2687caa  ...             0\n",
              "\n",
              "[10 rows x 8 columns]"
            ]
          },
          "metadata": {
            "tags": []
          },
          "execution_count": 6
        }
      ]
    },
    {
      "cell_type": "code",
      "metadata": {
        "id": "e4qLRnZtM_uP",
        "colab_type": "code",
        "colab": {
          "base_uri": "https://localhost:8080/",
          "height": 34
        },
        "outputId": "07a9a710-e5c8-4795-f35c-7219c51995b4"
      },
      "source": [
        "len(data[data['toxic']==1])"
      ],
      "execution_count": null,
      "outputs": [
        {
          "output_type": "execute_result",
          "data": {
            "text/plain": [
              "21384"
            ]
          },
          "metadata": {
            "tags": []
          },
          "execution_count": 9
        }
      ]
    },
    {
      "cell_type": "code",
      "metadata": {
        "id": "H7DaPDPWNeS7",
        "colab_type": "code",
        "colab": {
          "base_uri": "https://localhost:8080/",
          "height": 34
        },
        "outputId": "518d4c22-ec70-43c3-d383-a197336fa98d"
      },
      "source": [
        "len(data[data['toxic']==0])"
      ],
      "execution_count": null,
      "outputs": [
        {
          "output_type": "execute_result",
          "data": {
            "text/plain": [
              "202165"
            ]
          },
          "metadata": {
            "tags": []
          },
          "execution_count": 10
        }
      ]
    },
    {
      "cell_type": "code",
      "metadata": {
        "id": "fUub4b3eIkqK",
        "colab_type": "code",
        "colab": {
          "base_uri": "https://localhost:8080/",
          "height": 34
        },
        "outputId": "1598287c-e153-42d6-9346-c7ee26657451"
      },
      "source": [
        "data.shape"
      ],
      "execution_count": null,
      "outputs": [
        {
          "output_type": "execute_result",
          "data": {
            "text/plain": [
              "(223549, 8)"
            ]
          },
          "metadata": {
            "tags": []
          },
          "execution_count": 7
        }
      ]
    },
    {
      "cell_type": "code",
      "metadata": {
        "id": "Ykvhzn2CP_e2",
        "colab_type": "code",
        "colab": {}
      },
      "source": [
        "def is_ascii(s):\n",
        "    return all(ord(c) < 128 for c in s)"
      ],
      "execution_count": null,
      "outputs": []
    },
    {
      "cell_type": "code",
      "metadata": {
        "id": "f6Z4bsJ_QDsf",
        "colab_type": "code",
        "colab": {}
      },
      "source": [
        "stops = stopwords.words('english')"
      ],
      "execution_count": null,
      "outputs": []
    },
    {
      "cell_type": "code",
      "metadata": {
        "id": "GA0ESYCPMFrI",
        "colab_type": "code",
        "colab": {}
      },
      "source": [
        "data['text_len'] = data['comment_text'].apply(len) #длина текста\n",
        "data['text_len_tokens'] = data['comment_text'].apply(lambda x: len(x.split())) #количество токенов\n",
        "data['number_of_caps'] = data['comment_text'].apply(lambda x: len([ch for ch in x if ch.isupper()])) #количество слов с заглавной буквы\n",
        "data['number_of_nonalphanum'] = data['comment_text'].apply(lambda x: len([ch for ch in x if not ch.isalnum()])) #количество  не буквенно-цифровых символов\n",
        "data['number_of_lows'] = data['comment_text'].apply(lambda x: len([ch for ch in x if ch.islower()])) #количество строчных букв\n",
        "data['number_of_digits'] = data['comment_text'].apply(lambda x: len([ch for ch in x if ch.isdigit()])) #количество цифр\n",
        "data['number_of_ascii'] = data['comment_text'].apply(lambda x: len([ch for ch in x if is_ascii(ch)])) #количество ascii символов\n",
        "data['number_of_nonascii'] = data['comment_text'].apply(lambda x: len([ch for ch in x if not is_ascii(ch)])) #количество non-ascii символов\n",
        "data['number_of_punctuation'] = data['comment_text'].apply(lambda x: len([ch for ch in x if ch in punctuation])) #количество знаков пунктуации\n",
        "data['number_of_stops'] = data['comment_text'].apply(lambda x: len([ch for ch in x if ch in stops])) #количество стоп-слов"
      ],
      "execution_count": null,
      "outputs": []
    },
    {
      "cell_type": "code",
      "metadata": {
        "id": "6gQrAt86SL6G",
        "colab_type": "code",
        "colab": {
          "base_uri": "https://localhost:8080/",
          "height": 281
        },
        "outputId": "c2a3bfb8-897d-4a50-bda5-439ba52731b8"
      },
      "source": [
        "data.head(3)"
      ],
      "execution_count": null,
      "outputs": [
        {
          "output_type": "execute_result",
          "data": {
            "text/html": [
              "<div>\n",
              "<style scoped>\n",
              "    .dataframe tbody tr th:only-of-type {\n",
              "        vertical-align: middle;\n",
              "    }\n",
              "\n",
              "    .dataframe tbody tr th {\n",
              "        vertical-align: top;\n",
              "    }\n",
              "\n",
              "    .dataframe thead th {\n",
              "        text-align: right;\n",
              "    }\n",
              "</style>\n",
              "<table border=\"1\" class=\"dataframe\">\n",
              "  <thead>\n",
              "    <tr style=\"text-align: right;\">\n",
              "      <th></th>\n",
              "      <th>id</th>\n",
              "      <th>comment_text</th>\n",
              "      <th>toxic</th>\n",
              "      <th>severe_toxic</th>\n",
              "      <th>obscene</th>\n",
              "      <th>threat</th>\n",
              "      <th>insult</th>\n",
              "      <th>identity_hate</th>\n",
              "      <th>text_len</th>\n",
              "      <th>text_len_tokens</th>\n",
              "      <th>number_of_caps</th>\n",
              "      <th>number_of_nonalphanum</th>\n",
              "      <th>number_of_lows</th>\n",
              "      <th>number_of_digits</th>\n",
              "      <th>number_of_ascii</th>\n",
              "      <th>number_of_nonascii</th>\n",
              "      <th>number_of_punctuation</th>\n",
              "      <th>number_of_stops</th>\n",
              "    </tr>\n",
              "  </thead>\n",
              "  <tbody>\n",
              "    <tr>\n",
              "      <th>0</th>\n",
              "      <td>0000997932d777bf</td>\n",
              "      <td>Explanation\\nWhy the edits made under my usern...</td>\n",
              "      <td>0</td>\n",
              "      <td>0</td>\n",
              "      <td>0</td>\n",
              "      <td>0</td>\n",
              "      <td>0</td>\n",
              "      <td>0</td>\n",
              "      <td>264</td>\n",
              "      <td>43</td>\n",
              "      <td>17</td>\n",
              "      <td>52</td>\n",
              "      <td>186</td>\n",
              "      <td>9</td>\n",
              "      <td>264</td>\n",
              "      <td>0</td>\n",
              "      <td>10</td>\n",
              "      <td>84</td>\n",
              "    </tr>\n",
              "    <tr>\n",
              "      <th>1</th>\n",
              "      <td>000103f0d9cfb60f</td>\n",
              "      <td>D'aww! He matches this background colour I'm s...</td>\n",
              "      <td>0</td>\n",
              "      <td>0</td>\n",
              "      <td>0</td>\n",
              "      <td>0</td>\n",
              "      <td>0</td>\n",
              "      <td>0</td>\n",
              "      <td>112</td>\n",
              "      <td>17</td>\n",
              "      <td>8</td>\n",
              "      <td>29</td>\n",
              "      <td>65</td>\n",
              "      <td>10</td>\n",
              "      <td>112</td>\n",
              "      <td>0</td>\n",
              "      <td>12</td>\n",
              "      <td>29</td>\n",
              "    </tr>\n",
              "    <tr>\n",
              "      <th>2</th>\n",
              "      <td>000113f07ec002fd</td>\n",
              "      <td>Hey man, I'm really not trying to edit war. It...</td>\n",
              "      <td>0</td>\n",
              "      <td>0</td>\n",
              "      <td>0</td>\n",
              "      <td>0</td>\n",
              "      <td>0</td>\n",
              "      <td>0</td>\n",
              "      <td>233</td>\n",
              "      <td>42</td>\n",
              "      <td>4</td>\n",
              "      <td>47</td>\n",
              "      <td>182</td>\n",
              "      <td>0</td>\n",
              "      <td>233</td>\n",
              "      <td>0</td>\n",
              "      <td>6</td>\n",
              "      <td>99</td>\n",
              "    </tr>\n",
              "  </tbody>\n",
              "</table>\n",
              "</div>"
            ],
            "text/plain": [
              "                 id  ... number_of_stops\n",
              "0  0000997932d777bf  ...              84\n",
              "1  000103f0d9cfb60f  ...              29\n",
              "2  000113f07ec002fd  ...              99\n",
              "\n",
              "[3 rows x 18 columns]"
            ]
          },
          "metadata": {
            "tags": []
          },
          "execution_count": 11
        }
      ]
    },
    {
      "cell_type": "markdown",
      "metadata": {
        "id": "is6Qp1Vy2-4C",
        "colab_type": "text"
      },
      "source": [
        "### Отдельные колонки"
      ]
    },
    {
      "cell_type": "markdown",
      "metadata": {
        "id": "U0AxvX6XXbeQ",
        "colab_type": "text"
      },
      "source": [
        "### Toxic/Non-toxic"
      ]
    },
    {
      "cell_type": "code",
      "metadata": {
        "id": "6pZtJvZgWNGZ",
        "colab_type": "code",
        "colab": {
          "base_uri": "https://localhost:8080/",
          "height": 227
        },
        "outputId": "a3ea7fe3-d49c-418e-8f53-a28e4990e521"
      },
      "source": [
        "data.groupby('toxic')['text_len', 'text_len_tokens', 'number_of_caps', 'number_of_nonalphanum', 'number_of_lows', 'number_of_digits', \n",
        "                      'number_of_ascii', 'number_of_nonascii', 'number_of_punctuation', 'number_of_stops'].agg(['mean'])"
      ],
      "execution_count": null,
      "outputs": [
        {
          "output_type": "stream",
          "text": [
            "/usr/local/lib/python3.6/dist-packages/ipykernel_launcher.py:2: FutureWarning: Indexing with multiple keys (implicitly converted to a tuple of keys) will be deprecated, use a list instead.\n",
            "  \n"
          ],
          "name": "stderr"
        },
        {
          "output_type": "execute_result",
          "data": {
            "text/html": [
              "<div>\n",
              "<style scoped>\n",
              "    .dataframe tbody tr th:only-of-type {\n",
              "        vertical-align: middle;\n",
              "    }\n",
              "\n",
              "    .dataframe tbody tr th {\n",
              "        vertical-align: top;\n",
              "    }\n",
              "\n",
              "    .dataframe thead tr th {\n",
              "        text-align: left;\n",
              "    }\n",
              "\n",
              "    .dataframe thead tr:last-of-type th {\n",
              "        text-align: right;\n",
              "    }\n",
              "</style>\n",
              "<table border=\"1\" class=\"dataframe\">\n",
              "  <thead>\n",
              "    <tr>\n",
              "      <th></th>\n",
              "      <th>text_len</th>\n",
              "      <th>text_len_tokens</th>\n",
              "      <th>number_of_caps</th>\n",
              "      <th>number_of_nonalphanum</th>\n",
              "      <th>number_of_lows</th>\n",
              "      <th>number_of_digits</th>\n",
              "      <th>number_of_ascii</th>\n",
              "      <th>number_of_nonascii</th>\n",
              "      <th>number_of_punctuation</th>\n",
              "      <th>number_of_stops</th>\n",
              "    </tr>\n",
              "    <tr>\n",
              "      <th></th>\n",
              "      <th>mean</th>\n",
              "      <th>mean</th>\n",
              "      <th>mean</th>\n",
              "      <th>mean</th>\n",
              "      <th>mean</th>\n",
              "      <th>mean</th>\n",
              "      <th>mean</th>\n",
              "      <th>mean</th>\n",
              "      <th>mean</th>\n",
              "      <th>mean</th>\n",
              "    </tr>\n",
              "    <tr>\n",
              "      <th>toxic</th>\n",
              "      <th></th>\n",
              "      <th></th>\n",
              "      <th></th>\n",
              "      <th></th>\n",
              "      <th></th>\n",
              "      <th></th>\n",
              "      <th></th>\n",
              "      <th></th>\n",
              "      <th></th>\n",
              "      <th></th>\n",
              "    </tr>\n",
              "  </thead>\n",
              "  <tbody>\n",
              "    <tr>\n",
              "      <th>0</th>\n",
              "      <td>402.691178</td>\n",
              "      <td>68.415161</td>\n",
              "      <td>14.484189</td>\n",
              "      <td>89.072456</td>\n",
              "      <td>294.922009</td>\n",
              "      <td>3.248698</td>\n",
              "      <td>400.972142</td>\n",
              "      <td>1.719036</td>\n",
              "      <td>16.974704</td>\n",
              "      <td>141.799609</td>\n",
              "    </tr>\n",
              "    <tr>\n",
              "      <th>1</th>\n",
              "      <td>280.604097</td>\n",
              "      <td>48.573466</td>\n",
              "      <td>44.689675</td>\n",
              "      <td>65.266741</td>\n",
              "      <td>168.618921</td>\n",
              "      <td>1.995885</td>\n",
              "      <td>280.409512</td>\n",
              "      <td>0.194585</td>\n",
              "      <td>14.257202</td>\n",
              "      <td>80.432941</td>\n",
              "    </tr>\n",
              "  </tbody>\n",
              "</table>\n",
              "</div>"
            ],
            "text/plain": [
              "         text_len text_len_tokens  ... number_of_punctuation number_of_stops\n",
              "             mean            mean  ...                  mean            mean\n",
              "toxic                              ...                                      \n",
              "0      402.691178       68.415161  ...             16.974704      141.799609\n",
              "1      280.604097       48.573466  ...             14.257202       80.432941\n",
              "\n",
              "[2 rows x 10 columns]"
            ]
          },
          "metadata": {
            "tags": []
          },
          "execution_count": 13
        }
      ]
    },
    {
      "cell_type": "markdown",
      "metadata": {
        "id": "4pt0HKP7XTWe",
        "colab_type": "text"
      },
      "source": [
        "1. Средняя длина нетоксичного комментария выше, чем у токсичного. \n",
        "2. Среднее количество слов у нетоксичных текстов также больше. \n",
        "3. Среднее количество используемых заглавных букв у токсичных сообщений в несколько рах выше, чем у нетоксичных.\n",
        "4. Среднее количество  не буквенно-цифровых символов в нетоксичных комментариях выше.\n",
        "5. Количество строчных букв в токсичных комментариях меньше, чем в нетоксичных.\n",
        "6. Цифр в нетоксичных комментариях также в среднем больше. \n",
        "7. Ascii-символов в нетоксичных комментариях больше.\n",
        "8. Не-ascii символов в целом по комментариям практически нет, но если они встречаются, то чаще в нетоксичных комментариях.\n",
        "9. Оба типа комментариев имеют практически одинаковое среднее количество знаков препинания. В нетоксичных комментариях их чуть больше. \n",
        "10. Используемых стоп-слов в нетоксичных комментариях гораздо больше, чем в токсичных."
      ]
    },
    {
      "cell_type": "markdown",
      "metadata": {
        "id": "992m3sndR2Yq",
        "colab_type": "text"
      },
      "source": [
        "### Severe_toxic/Non-severe_toxic"
      ]
    },
    {
      "cell_type": "code",
      "metadata": {
        "id": "kwwev4HSR0VL",
        "colab_type": "code",
        "colab": {
          "base_uri": "https://localhost:8080/",
          "height": 227
        },
        "outputId": "aac006eb-c550-41fe-9fbb-ba029b4dc9e8"
      },
      "source": [
        "data.groupby('severe_toxic')['text_len', 'text_len_tokens', 'number_of_caps', 'number_of_nonalphanum', 'number_of_lows', 'number_of_digits', \n",
        "                      'number_of_ascii', 'number_of_nonascii', 'number_of_punctuation', 'number_of_stops'].agg(['mean'])"
      ],
      "execution_count": null,
      "outputs": [
        {
          "output_type": "stream",
          "text": [
            "/usr/local/lib/python3.6/dist-packages/ipykernel_launcher.py:2: FutureWarning: Indexing with multiple keys (implicitly converted to a tuple of keys) will be deprecated, use a list instead.\n",
            "  \n"
          ],
          "name": "stderr"
        },
        {
          "output_type": "execute_result",
          "data": {
            "text/html": [
              "<div>\n",
              "<style scoped>\n",
              "    .dataframe tbody tr th:only-of-type {\n",
              "        vertical-align: middle;\n",
              "    }\n",
              "\n",
              "    .dataframe tbody tr th {\n",
              "        vertical-align: top;\n",
              "    }\n",
              "\n",
              "    .dataframe thead tr th {\n",
              "        text-align: left;\n",
              "    }\n",
              "\n",
              "    .dataframe thead tr:last-of-type th {\n",
              "        text-align: right;\n",
              "    }\n",
              "</style>\n",
              "<table border=\"1\" class=\"dataframe\">\n",
              "  <thead>\n",
              "    <tr>\n",
              "      <th></th>\n",
              "      <th>text_len</th>\n",
              "      <th>text_len_tokens</th>\n",
              "      <th>number_of_caps</th>\n",
              "      <th>number_of_nonalphanum</th>\n",
              "      <th>number_of_lows</th>\n",
              "      <th>number_of_digits</th>\n",
              "      <th>number_of_ascii</th>\n",
              "      <th>number_of_nonascii</th>\n",
              "      <th>number_of_punctuation</th>\n",
              "      <th>number_of_stops</th>\n",
              "    </tr>\n",
              "    <tr>\n",
              "      <th></th>\n",
              "      <th>mean</th>\n",
              "      <th>mean</th>\n",
              "      <th>mean</th>\n",
              "      <th>mean</th>\n",
              "      <th>mean</th>\n",
              "      <th>mean</th>\n",
              "      <th>mean</th>\n",
              "      <th>mean</th>\n",
              "      <th>mean</th>\n",
              "      <th>mean</th>\n",
              "    </tr>\n",
              "    <tr>\n",
              "      <th>severe_toxic</th>\n",
              "      <th></th>\n",
              "      <th></th>\n",
              "      <th></th>\n",
              "      <th></th>\n",
              "      <th></th>\n",
              "      <th></th>\n",
              "      <th></th>\n",
              "      <th></th>\n",
              "      <th></th>\n",
              "      <th></th>\n",
              "    </tr>\n",
              "  </thead>\n",
              "  <tbody>\n",
              "    <tr>\n",
              "      <th>0</th>\n",
              "      <td>389.999386</td>\n",
              "      <td>66.358270</td>\n",
              "      <td>15.988131</td>\n",
              "      <td>86.500630</td>\n",
              "      <td>283.491852</td>\n",
              "      <td>3.136258</td>\n",
              "      <td>388.413228</td>\n",
              "      <td>1.586158</td>\n",
              "      <td>16.591014</td>\n",
              "      <td>136.307514</td>\n",
              "    </tr>\n",
              "    <tr>\n",
              "      <th>1</th>\n",
              "      <td>505.456677</td>\n",
              "      <td>84.462793</td>\n",
              "      <td>173.841998</td>\n",
              "      <td>120.072375</td>\n",
              "      <td>209.248726</td>\n",
              "      <td>2.293068</td>\n",
              "      <td>505.345566</td>\n",
              "      <td>0.111111</td>\n",
              "      <td>30.690112</td>\n",
              "      <td>93.232926</td>\n",
              "    </tr>\n",
              "  </tbody>\n",
              "</table>\n",
              "</div>"
            ],
            "text/plain": [
              "                text_len text_len_tokens  ... number_of_punctuation number_of_stops\n",
              "                    mean            mean  ...                  mean            mean\n",
              "severe_toxic                              ...                                      \n",
              "0             389.999386       66.358270  ...             16.591014      136.307514\n",
              "1             505.456677       84.462793  ...             30.690112       93.232926\n",
              "\n",
              "[2 rows x 10 columns]"
            ]
          },
          "metadata": {
            "tags": []
          },
          "execution_count": 14
        }
      ]
    },
    {
      "cell_type": "markdown",
      "metadata": {
        "id": "AyI3mFJaSK1w",
        "colab_type": "text"
      },
      "source": [
        "1. Средняя длина сильно токсичных комментариев гораздо больше. \n",
        "2. Среднее количество слов в сильно токсичных комментариях выше.\n",
        "3. Количество заглавных букв в сильно токсичных текстах во много раз превышает количество в обычных комментариях.\n",
        "4. Среднее количество не буквенно-цифровых символов в токсичных комментариях выше.\n",
        "5. Строчных букв в обычных комментариях больше. \n",
        "6. В обоих типах комментариев цифр мало, но в обычных комментариях в среднем чуть больше.\n",
        "7. Ascii-символов больше в сильно токсичных комментариях.\n",
        "8. Не-ascii символы практически отсутствуют в обоих типах. В обычных чуть больше.\n",
        "9. Количество знаков пунктуации в среднем почти в 2 раза больше в токсичных комментариях.\n",
        "10. Количество стоп-слов в обычных комментариях в среднем больше. "
      ]
    },
    {
      "cell_type": "markdown",
      "metadata": {
        "id": "V8zOtYEPSMIy",
        "colab_type": "text"
      },
      "source": [
        "### Obscene/Non-obscene"
      ]
    },
    {
      "cell_type": "code",
      "metadata": {
        "id": "lWFqZkxUSMRv",
        "colab_type": "code",
        "colab": {
          "base_uri": "https://localhost:8080/",
          "height": 227
        },
        "outputId": "2a4d663e-43cd-4f15-a674-2c1192936d93"
      },
      "source": [
        "data.groupby('obscene')['text_len', 'text_len_tokens', 'number_of_caps', 'number_of_nonalphanum', 'number_of_lows', 'number_of_digits', \n",
        "                      'number_of_ascii', 'number_of_nonascii', 'number_of_punctuation', 'number_of_stops'].agg(['mean'])"
      ],
      "execution_count": null,
      "outputs": [
        {
          "output_type": "stream",
          "text": [
            "/usr/local/lib/python3.6/dist-packages/ipykernel_launcher.py:2: FutureWarning: Indexing with multiple keys (implicitly converted to a tuple of keys) will be deprecated, use a list instead.\n",
            "  \n"
          ],
          "name": "stderr"
        },
        {
          "output_type": "execute_result",
          "data": {
            "text/html": [
              "<div>\n",
              "<style scoped>\n",
              "    .dataframe tbody tr th:only-of-type {\n",
              "        vertical-align: middle;\n",
              "    }\n",
              "\n",
              "    .dataframe tbody tr th {\n",
              "        vertical-align: top;\n",
              "    }\n",
              "\n",
              "    .dataframe thead tr th {\n",
              "        text-align: left;\n",
              "    }\n",
              "\n",
              "    .dataframe thead tr:last-of-type th {\n",
              "        text-align: right;\n",
              "    }\n",
              "</style>\n",
              "<table border=\"1\" class=\"dataframe\">\n",
              "  <thead>\n",
              "    <tr>\n",
              "      <th></th>\n",
              "      <th>text_len</th>\n",
              "      <th>text_len_tokens</th>\n",
              "      <th>number_of_caps</th>\n",
              "      <th>number_of_nonalphanum</th>\n",
              "      <th>number_of_lows</th>\n",
              "      <th>number_of_digits</th>\n",
              "      <th>number_of_ascii</th>\n",
              "      <th>number_of_nonascii</th>\n",
              "      <th>number_of_punctuation</th>\n",
              "      <th>number_of_stops</th>\n",
              "    </tr>\n",
              "    <tr>\n",
              "      <th></th>\n",
              "      <th>mean</th>\n",
              "      <th>mean</th>\n",
              "      <th>mean</th>\n",
              "      <th>mean</th>\n",
              "      <th>mean</th>\n",
              "      <th>mean</th>\n",
              "      <th>mean</th>\n",
              "      <th>mean</th>\n",
              "      <th>mean</th>\n",
              "      <th>mean</th>\n",
              "    </tr>\n",
              "    <tr>\n",
              "      <th>obscene</th>\n",
              "      <th></th>\n",
              "      <th></th>\n",
              "      <th></th>\n",
              "      <th></th>\n",
              "      <th></th>\n",
              "      <th></th>\n",
              "      <th></th>\n",
              "      <th></th>\n",
              "      <th></th>\n",
              "      <th></th>\n",
              "    </tr>\n",
              "  </thead>\n",
              "  <tbody>\n",
              "    <tr>\n",
              "      <th>0</th>\n",
              "      <td>397.332876</td>\n",
              "      <td>67.559707</td>\n",
              "      <td>15.299590</td>\n",
              "      <td>88.032052</td>\n",
              "      <td>289.883993</td>\n",
              "      <td>3.193029</td>\n",
              "      <td>395.678353</td>\n",
              "      <td>1.654523</td>\n",
              "      <td>16.850087</td>\n",
              "      <td>139.417163</td>\n",
              "    </tr>\n",
              "    <tr>\n",
              "      <th>1</th>\n",
              "      <td>280.951730</td>\n",
              "      <td>48.362109</td>\n",
              "      <td>53.490033</td>\n",
              "      <td>65.257743</td>\n",
              "      <td>160.178748</td>\n",
              "      <td>2.011367</td>\n",
              "      <td>280.794481</td>\n",
              "      <td>0.157249</td>\n",
              "      <td>14.358072</td>\n",
              "      <td>75.193822</td>\n",
              "    </tr>\n",
              "  </tbody>\n",
              "</table>\n",
              "</div>"
            ],
            "text/plain": [
              "           text_len text_len_tokens  ... number_of_punctuation number_of_stops\n",
              "               mean            mean  ...                  mean            mean\n",
              "obscene                              ...                                      \n",
              "0        397.332876       67.559707  ...             16.850087      139.417163\n",
              "1        280.951730       48.362109  ...             14.358072       75.193822\n",
              "\n",
              "[2 rows x 10 columns]"
            ]
          },
          "metadata": {
            "tags": []
          },
          "execution_count": 15
        }
      ]
    },
    {
      "cell_type": "markdown",
      "metadata": {
        "id": "qID8tEdrSMh7",
        "colab_type": "text"
      },
      "source": [
        "1. Средняя длина грубых комментарией намного меньше, чем обычных.\n",
        "2. Количество слов в грубых текстах также меньше в среднем на 19.\n",
        "3. Заглавных букв в грубых комментариях во много раз больше.\n",
        "4. Среднее количество не буквенно-цифровых символов в грубых комментариях меньше.\n",
        "5. Негрубые тексты содержат гораздо больше строчных букв. \n",
        "6. Оба типа комментариев содержат мало цифр. В негрубых их в среднем на 1 больше.\n",
        "7. Количество ascii-символов практически полностью совпадает со средней длиной комментариев в обих типах.\n",
        "8. В негрубых в среднем встречается 1.6 не ascii-символов, что чуть больше, чем в грубых.\n",
        "9. Количество знаков пунктуации практически одинаковое, но в негрубых их на 2 больше, чем в грубых.\n",
        "10. В грубых комментариях используется меньше стоп-слов, чем в негрубых почти в 2 раза."
      ]
    },
    {
      "cell_type": "markdown",
      "metadata": {
        "id": "nnJq1D5oSbqI",
        "colab_type": "text"
      },
      "source": [
        "### Threat/Non-threat"
      ]
    },
    {
      "cell_type": "code",
      "metadata": {
        "id": "70T97KdAScIz",
        "colab_type": "code",
        "colab": {
          "base_uri": "https://localhost:8080/",
          "height": 227
        },
        "outputId": "e2d30373-80e1-4386-a9dd-af1a5653690d"
      },
      "source": [
        "data.groupby('threat')['text_len', 'text_len_tokens', 'number_of_caps', 'number_of_nonalphanum', 'number_of_lows', 'number_of_digits', \n",
        "                      'number_of_ascii', 'number_of_nonascii', 'number_of_punctuation', 'number_of_stops'].agg(['mean'])"
      ],
      "execution_count": null,
      "outputs": [
        {
          "output_type": "stream",
          "text": [
            "/usr/local/lib/python3.6/dist-packages/ipykernel_launcher.py:2: FutureWarning: Indexing with multiple keys (implicitly converted to a tuple of keys) will be deprecated, use a list instead.\n",
            "  \n"
          ],
          "name": "stderr"
        },
        {
          "output_type": "execute_result",
          "data": {
            "text/html": [
              "<div>\n",
              "<style scoped>\n",
              "    .dataframe tbody tr th:only-of-type {\n",
              "        vertical-align: middle;\n",
              "    }\n",
              "\n",
              "    .dataframe tbody tr th {\n",
              "        vertical-align: top;\n",
              "    }\n",
              "\n",
              "    .dataframe thead tr th {\n",
              "        text-align: left;\n",
              "    }\n",
              "\n",
              "    .dataframe thead tr:last-of-type th {\n",
              "        text-align: right;\n",
              "    }\n",
              "</style>\n",
              "<table border=\"1\" class=\"dataframe\">\n",
              "  <thead>\n",
              "    <tr>\n",
              "      <th></th>\n",
              "      <th>text_len</th>\n",
              "      <th>text_len_tokens</th>\n",
              "      <th>number_of_caps</th>\n",
              "      <th>number_of_nonalphanum</th>\n",
              "      <th>number_of_lows</th>\n",
              "      <th>number_of_digits</th>\n",
              "      <th>number_of_ascii</th>\n",
              "      <th>number_of_nonascii</th>\n",
              "      <th>number_of_punctuation</th>\n",
              "      <th>number_of_stops</th>\n",
              "    </tr>\n",
              "    <tr>\n",
              "      <th></th>\n",
              "      <th>mean</th>\n",
              "      <th>mean</th>\n",
              "      <th>mean</th>\n",
              "      <th>mean</th>\n",
              "      <th>mean</th>\n",
              "      <th>mean</th>\n",
              "      <th>mean</th>\n",
              "      <th>mean</th>\n",
              "      <th>mean</th>\n",
              "      <th>mean</th>\n",
              "    </tr>\n",
              "    <tr>\n",
              "      <th>threat</th>\n",
              "      <th></th>\n",
              "      <th></th>\n",
              "      <th></th>\n",
              "      <th></th>\n",
              "      <th></th>\n",
              "      <th></th>\n",
              "      <th></th>\n",
              "      <th></th>\n",
              "      <th></th>\n",
              "      <th></th>\n",
              "    </tr>\n",
              "  </thead>\n",
              "  <tbody>\n",
              "    <tr>\n",
              "      <th>0</th>\n",
              "      <td>391.241807</td>\n",
              "      <td>66.547128</td>\n",
              "      <td>17.149430</td>\n",
              "      <td>86.796312</td>\n",
              "      <td>283.283766</td>\n",
              "      <td>3.134856</td>\n",
              "      <td>389.665157</td>\n",
              "      <td>1.576649</td>\n",
              "      <td>16.686637</td>\n",
              "      <td>136.141282</td>\n",
              "    </tr>\n",
              "    <tr>\n",
              "      <th>1</th>\n",
              "      <td>316.910015</td>\n",
              "      <td>56.825835</td>\n",
              "      <td>89.866473</td>\n",
              "      <td>86.460087</td>\n",
              "      <td>139.383164</td>\n",
              "      <td>1.188679</td>\n",
              "      <td>316.448476</td>\n",
              "      <td>0.461538</td>\n",
              "      <td>25.809869</td>\n",
              "      <td>67.416546</td>\n",
              "    </tr>\n",
              "  </tbody>\n",
              "</table>\n",
              "</div>"
            ],
            "text/plain": [
              "          text_len text_len_tokens  ... number_of_punctuation number_of_stops\n",
              "              mean            mean  ...                  mean            mean\n",
              "threat                              ...                                      \n",
              "0       391.241807       66.547128  ...             16.686637      136.141282\n",
              "1       316.910015       56.825835  ...             25.809869       67.416546\n",
              "\n",
              "[2 rows x 10 columns]"
            ]
          },
          "metadata": {
            "tags": []
          },
          "execution_count": 16
        }
      ]
    },
    {
      "cell_type": "markdown",
      "metadata": {
        "id": "fs09jba7Scpb",
        "colab_type": "text"
      },
      "source": [
        "1. Длина текстов с угрозой меньше, чем текстов без угрозы.\n",
        "2. Количество слов в текстах без угрозы на 10 больше. \n",
        "3. Количество заглавных букв в текстах с угрозой во много раз больше, чем в текстах без.\n",
        "4. Среднее количество не буквенно-цифровых символов одинаково.\n",
        "5. Количество строчных букв в текстах без угрозы больше, чем в 2 раза.\n",
        "6. Количество цифр в обоих типах мало, но в текстах без угрозы их в среднем чуть больше.\n",
        "7. Количество ascii-символов практически полностью совпадает со средней длиной комментариев в обих типах.\n",
        "8. Не ascii-символы практически отсутствуют в обоих типах. В текстах без угрозы в среднем их 1.6.\n",
        "9. Знаки пунктуации присутствуют в обоих типах комментариев и их количество почти одинаковое.\n",
        "10. Количество использованных стоп-слов больше в текстах без угрозы в 2 раза. "
      ]
    },
    {
      "cell_type": "markdown",
      "metadata": {
        "id": "bCL5bm8hSrBd",
        "colab_type": "text"
      },
      "source": [
        "### Insult/Non-insult"
      ]
    },
    {
      "cell_type": "code",
      "metadata": {
        "id": "6IHhN3H8SrMp",
        "colab_type": "code",
        "colab": {
          "base_uri": "https://localhost:8080/",
          "height": 227
        },
        "outputId": "e8f232c2-2c2b-47fe-ef12-159ab58e8495"
      },
      "source": [
        "data.groupby('insult')['text_len', 'text_len_tokens', 'number_of_caps', 'number_of_nonalphanum', 'number_of_lows', 'number_of_digits', \n",
        "                      'number_of_ascii', 'number_of_nonascii', 'number_of_punctuation', 'number_of_stops'].agg(['mean'])"
      ],
      "execution_count": null,
      "outputs": [
        {
          "output_type": "stream",
          "text": [
            "/usr/local/lib/python3.6/dist-packages/ipykernel_launcher.py:2: FutureWarning: Indexing with multiple keys (implicitly converted to a tuple of keys) will be deprecated, use a list instead.\n",
            "  \n"
          ],
          "name": "stderr"
        },
        {
          "output_type": "execute_result",
          "data": {
            "text/html": [
              "<div>\n",
              "<style scoped>\n",
              "    .dataframe tbody tr th:only-of-type {\n",
              "        vertical-align: middle;\n",
              "    }\n",
              "\n",
              "    .dataframe tbody tr th {\n",
              "        vertical-align: top;\n",
              "    }\n",
              "\n",
              "    .dataframe thead tr th {\n",
              "        text-align: left;\n",
              "    }\n",
              "\n",
              "    .dataframe thead tr:last-of-type th {\n",
              "        text-align: right;\n",
              "    }\n",
              "</style>\n",
              "<table border=\"1\" class=\"dataframe\">\n",
              "  <thead>\n",
              "    <tr>\n",
              "      <th></th>\n",
              "      <th>text_len</th>\n",
              "      <th>text_len_tokens</th>\n",
              "      <th>number_of_caps</th>\n",
              "      <th>number_of_nonalphanum</th>\n",
              "      <th>number_of_lows</th>\n",
              "      <th>number_of_digits</th>\n",
              "      <th>number_of_ascii</th>\n",
              "      <th>number_of_nonascii</th>\n",
              "      <th>number_of_punctuation</th>\n",
              "      <th>number_of_stops</th>\n",
              "    </tr>\n",
              "    <tr>\n",
              "      <th></th>\n",
              "      <th>mean</th>\n",
              "      <th>mean</th>\n",
              "      <th>mean</th>\n",
              "      <th>mean</th>\n",
              "      <th>mean</th>\n",
              "      <th>mean</th>\n",
              "      <th>mean</th>\n",
              "      <th>mean</th>\n",
              "      <th>mean</th>\n",
              "      <th>mean</th>\n",
              "    </tr>\n",
              "    <tr>\n",
              "      <th>insult</th>\n",
              "      <th></th>\n",
              "      <th></th>\n",
              "      <th></th>\n",
              "      <th></th>\n",
              "      <th></th>\n",
              "      <th></th>\n",
              "      <th></th>\n",
              "      <th></th>\n",
              "      <th></th>\n",
              "      <th></th>\n",
              "    </tr>\n",
              "  </thead>\n",
              "  <tbody>\n",
              "    <tr>\n",
              "      <th>0</th>\n",
              "      <td>397.340234</td>\n",
              "      <td>67.544536</td>\n",
              "      <td>15.573931</td>\n",
              "      <td>88.053302</td>\n",
              "      <td>289.597522</td>\n",
              "      <td>3.194615</td>\n",
              "      <td>395.690669</td>\n",
              "      <td>1.649565</td>\n",
              "      <td>16.879710</td>\n",
              "      <td>139.233245</td>\n",
              "    </tr>\n",
              "    <tr>\n",
              "      <th>1</th>\n",
              "      <td>272.206476</td>\n",
              "      <td>47.227176</td>\n",
              "      <td>51.163393</td>\n",
              "      <td>63.174452</td>\n",
              "      <td>155.965057</td>\n",
              "      <td>1.894197</td>\n",
              "      <td>272.066879</td>\n",
              "      <td>0.139597</td>\n",
              "      <td>13.617569</td>\n",
              "      <td>73.897381</td>\n",
              "    </tr>\n",
              "  </tbody>\n",
              "</table>\n",
              "</div>"
            ],
            "text/plain": [
              "          text_len text_len_tokens  ... number_of_punctuation number_of_stops\n",
              "              mean            mean  ...                  mean            mean\n",
              "insult                              ...                                      \n",
              "0       397.340234       67.544536  ...             16.879710      139.233245\n",
              "1       272.206476       47.227176  ...             13.617569       73.897381\n",
              "\n",
              "[2 rows x 10 columns]"
            ]
          },
          "metadata": {
            "tags": []
          },
          "execution_count": 17
        }
      ]
    },
    {
      "cell_type": "markdown",
      "metadata": {
        "id": "K_PX3EINSrb0",
        "colab_type": "text"
      },
      "source": [
        "1. Средняя длина комментария с оскорблением меньше, чем обычный комментарий.\n",
        "2. В обычном комментарии в среднем на 20 слов больше, чем в тексте с оскорблением.\n",
        "3. Количество заглавных букв в тексте с оскорблением в несколько раз больше.\n",
        "4. Среднее количество не буквенно-цифровых символов в обычных комментариях больше, чем в оскорбительных.\n",
        "5. Количество строчных букв почти в 2 раза больше в комментариях без оскорбления.\n",
        "6. Количество цифр в обоих типах мало, но в текстах без оскорбления их в среднем чуть больше.\n",
        "7. Количество ascii-символов практически полностью совпадает со средней длиной комментариев в обих типах.\n",
        "8. Не ascii-символы практически отсутствуют в обоих типах. В текстах без оскорбления в среднем их 1.6.\n",
        "9. Знаки пунктуации присутствуют в обоих типах комментариев и их количество почти одинаковое.\n",
        "10. Количество использованных стоп-слов больше в текстах без оскорбления в 2 раза."
      ]
    },
    {
      "cell_type": "markdown",
      "metadata": {
        "id": "tThoJsZaTAku",
        "colab_type": "text"
      },
      "source": [
        "### Identity_hate/Non-identity_hate"
      ]
    },
    {
      "cell_type": "code",
      "metadata": {
        "id": "WV6Yml-rTA1D",
        "colab_type": "code",
        "colab": {
          "base_uri": "https://localhost:8080/",
          "height": 227
        },
        "outputId": "8e6708f7-7b8d-4d18-92b1-5a0228adfc25"
      },
      "source": [
        "data.groupby('identity_hate')['text_len', 'text_len_tokens', 'number_of_caps', 'number_of_nonalphanum', 'number_of_lows', 'number_of_digits', \n",
        "                      'number_of_ascii', 'number_of_nonascii', 'number_of_punctuation', 'number_of_stops'].agg(['mean'])"
      ],
      "execution_count": null,
      "outputs": [
        {
          "output_type": "stream",
          "text": [
            "/usr/local/lib/python3.6/dist-packages/ipykernel_launcher.py:2: FutureWarning: Indexing with multiple keys (implicitly converted to a tuple of keys) will be deprecated, use a list instead.\n",
            "  \n"
          ],
          "name": "stderr"
        },
        {
          "output_type": "execute_result",
          "data": {
            "text/html": [
              "<div>\n",
              "<style scoped>\n",
              "    .dataframe tbody tr th:only-of-type {\n",
              "        vertical-align: middle;\n",
              "    }\n",
              "\n",
              "    .dataframe tbody tr th {\n",
              "        vertical-align: top;\n",
              "    }\n",
              "\n",
              "    .dataframe thead tr th {\n",
              "        text-align: left;\n",
              "    }\n",
              "\n",
              "    .dataframe thead tr:last-of-type th {\n",
              "        text-align: right;\n",
              "    }\n",
              "</style>\n",
              "<table border=\"1\" class=\"dataframe\">\n",
              "  <thead>\n",
              "    <tr>\n",
              "      <th></th>\n",
              "      <th>text_len</th>\n",
              "      <th>text_len_tokens</th>\n",
              "      <th>number_of_caps</th>\n",
              "      <th>number_of_nonalphanum</th>\n",
              "      <th>number_of_lows</th>\n",
              "      <th>number_of_digits</th>\n",
              "      <th>number_of_ascii</th>\n",
              "      <th>number_of_nonascii</th>\n",
              "      <th>number_of_punctuation</th>\n",
              "      <th>number_of_stops</th>\n",
              "    </tr>\n",
              "    <tr>\n",
              "      <th></th>\n",
              "      <th>mean</th>\n",
              "      <th>mean</th>\n",
              "      <th>mean</th>\n",
              "      <th>mean</th>\n",
              "      <th>mean</th>\n",
              "      <th>mean</th>\n",
              "      <th>mean</th>\n",
              "      <th>mean</th>\n",
              "      <th>mean</th>\n",
              "      <th>mean</th>\n",
              "    </tr>\n",
              "    <tr>\n",
              "      <th>identity_hate</th>\n",
              "      <th></th>\n",
              "      <th></th>\n",
              "      <th></th>\n",
              "      <th></th>\n",
              "      <th></th>\n",
              "      <th></th>\n",
              "      <th></th>\n",
              "      <th></th>\n",
              "      <th></th>\n",
              "      <th></th>\n",
              "    </tr>\n",
              "  </thead>\n",
              "  <tbody>\n",
              "    <tr>\n",
              "      <th>0</th>\n",
              "      <td>391.744793</td>\n",
              "      <td>66.651428</td>\n",
              "      <td>16.774599</td>\n",
              "      <td>86.960259</td>\n",
              "      <td>283.989184</td>\n",
              "      <td>3.137812</td>\n",
              "      <td>390.158234</td>\n",
              "      <td>1.586559</td>\n",
              "      <td>16.740187</td>\n",
              "      <td>136.492779</td>\n",
              "    </tr>\n",
              "    <tr>\n",
              "      <th>1</th>\n",
              "      <td>314.438829</td>\n",
              "      <td>52.473784</td>\n",
              "      <td>80.022201</td>\n",
              "      <td>69.538498</td>\n",
              "      <td>162.665092</td>\n",
              "      <td>2.192253</td>\n",
              "      <td>314.261691</td>\n",
              "      <td>0.177137</td>\n",
              "      <td>14.054795</td>\n",
              "      <td>77.008503</td>\n",
              "    </tr>\n",
              "  </tbody>\n",
              "</table>\n",
              "</div>"
            ],
            "text/plain": [
              "                 text_len text_len_tokens  ... number_of_punctuation number_of_stops\n",
              "                     mean            mean  ...                  mean            mean\n",
              "identity_hate                              ...                                      \n",
              "0              391.744793       66.651428  ...             16.740187      136.492779\n",
              "1              314.438829       52.473784  ...             14.054795       77.008503\n",
              "\n",
              "[2 rows x 10 columns]"
            ]
          },
          "metadata": {
            "tags": []
          },
          "execution_count": 18
        }
      ]
    },
    {
      "cell_type": "markdown",
      "metadata": {
        "id": "B141c7MdTBCD",
        "colab_type": "text"
      },
      "source": [
        "1. Средняя длина комментария без ненависти личности больше на примерно 75 слов.\n",
        "2. Обычные комментарии в среднем имеют больше слов.\n",
        "3. Количество заглавных букв в тексте с ненавистью личности в несколько раз больше.\n",
        "4. Среднее количество не буквенно-цифровых символов в обычных комментариях больше. \n",
        "5. Количество строчных букв почти в 2 раза больше в комментариях без ненависти.\n",
        "6. Количество цифр в обоих типах мало, но в текстах без оскорбления их в среднем чуть больше.\n",
        "7. Количество ascii-символов практически полностью совпадает со средней длиной комментариев в обих типах.\n",
        "8. Не ascii-символы практически отсутствуют в обоих типах. В текстах без ненависти в среднем их 1.58.\n",
        "9. Знаки пунктуации присутствуют в обоих типах комментариев и их количество почти одинаковое.\n",
        "10. Количество использованных стоп-слов больше в текстах без ненависти меньше, чем в 2 раза."
      ]
    },
    {
      "cell_type": "markdown",
      "metadata": {
        "id": "GOkEwsDqWqMO",
        "colab_type": "text"
      },
      "source": [
        "### Привязка к другим колонкам"
      ]
    },
    {
      "cell_type": "markdown",
      "metadata": {
        "id": "P8Eb18_63Zxj",
        "colab_type": "text"
      },
      "source": [
        "### Toxic/Insult"
      ]
    },
    {
      "cell_type": "code",
      "metadata": {
        "id": "qS5n-UcsW1Ol",
        "colab_type": "code",
        "colab": {
          "base_uri": "https://localhost:8080/",
          "height": 263
        },
        "outputId": "58584c9d-8a44-4704-a83a-b929746cdc3c"
      },
      "source": [
        "data.groupby(['toxic', 'insult'])['text_len', 'text_len_tokens', 'number_of_caps', 'number_of_nonalphanum', 'number_of_lows', 'number_of_digits', \n",
        "                      'number_of_ascii', 'number_of_nonascii', 'number_of_punctuation', 'number_of_stops'].agg(['mean'])"
      ],
      "execution_count": null,
      "outputs": [
        {
          "output_type": "stream",
          "text": [
            "/usr/local/lib/python3.6/dist-packages/ipykernel_launcher.py:2: FutureWarning: Indexing with multiple keys (implicitly converted to a tuple of keys) will be deprecated, use a list instead.\n",
            "  \n"
          ],
          "name": "stderr"
        },
        {
          "output_type": "execute_result",
          "data": {
            "text/html": [
              "<div>\n",
              "<style scoped>\n",
              "    .dataframe tbody tr th:only-of-type {\n",
              "        vertical-align: middle;\n",
              "    }\n",
              "\n",
              "    .dataframe tbody tr th {\n",
              "        vertical-align: top;\n",
              "    }\n",
              "\n",
              "    .dataframe thead tr th {\n",
              "        text-align: left;\n",
              "    }\n",
              "\n",
              "    .dataframe thead tr:last-of-type th {\n",
              "        text-align: right;\n",
              "    }\n",
              "</style>\n",
              "<table border=\"1\" class=\"dataframe\">\n",
              "  <thead>\n",
              "    <tr>\n",
              "      <th></th>\n",
              "      <th></th>\n",
              "      <th>text_len</th>\n",
              "      <th>text_len_tokens</th>\n",
              "      <th>number_of_caps</th>\n",
              "      <th>number_of_nonalphanum</th>\n",
              "      <th>number_of_lows</th>\n",
              "      <th>number_of_digits</th>\n",
              "      <th>number_of_ascii</th>\n",
              "      <th>number_of_nonascii</th>\n",
              "      <th>number_of_punctuation</th>\n",
              "      <th>number_of_stops</th>\n",
              "    </tr>\n",
              "    <tr>\n",
              "      <th></th>\n",
              "      <th></th>\n",
              "      <th>mean</th>\n",
              "      <th>mean</th>\n",
              "      <th>mean</th>\n",
              "      <th>mean</th>\n",
              "      <th>mean</th>\n",
              "      <th>mean</th>\n",
              "      <th>mean</th>\n",
              "      <th>mean</th>\n",
              "      <th>mean</th>\n",
              "      <th>mean</th>\n",
              "    </tr>\n",
              "    <tr>\n",
              "      <th>toxic</th>\n",
              "      <th>insult</th>\n",
              "      <th></th>\n",
              "      <th></th>\n",
              "      <th></th>\n",
              "      <th></th>\n",
              "      <th></th>\n",
              "      <th></th>\n",
              "      <th></th>\n",
              "      <th></th>\n",
              "      <th></th>\n",
              "      <th></th>\n",
              "    </tr>\n",
              "  </thead>\n",
              "  <tbody>\n",
              "    <tr>\n",
              "      <th rowspan=\"2\" valign=\"top\">0</th>\n",
              "      <th>0</th>\n",
              "      <td>402.813001</td>\n",
              "      <td>68.433497</td>\n",
              "      <td>14.441753</td>\n",
              "      <td>89.097684</td>\n",
              "      <td>295.067930</td>\n",
              "      <td>3.239016</td>\n",
              "      <td>401.089875</td>\n",
              "      <td>1.723127</td>\n",
              "      <td>16.978293</td>\n",
              "      <td>141.864081</td>\n",
              "    </tr>\n",
              "    <tr>\n",
              "      <th>1</th>\n",
              "      <td>362.961165</td>\n",
              "      <td>62.435275</td>\n",
              "      <td>28.323625</td>\n",
              "      <td>80.844660</td>\n",
              "      <td>247.333333</td>\n",
              "      <td>6.406149</td>\n",
              "      <td>362.576052</td>\n",
              "      <td>0.385113</td>\n",
              "      <td>15.804207</td>\n",
              "      <td>120.773463</td>\n",
              "    </tr>\n",
              "    <tr>\n",
              "      <th rowspan=\"2\" valign=\"top\">1</th>\n",
              "      <th>0</th>\n",
              "      <td>294.234997</td>\n",
              "      <td>50.796784</td>\n",
              "      <td>36.903814</td>\n",
              "      <td>68.377454</td>\n",
              "      <td>186.536736</td>\n",
              "      <td>2.358104</td>\n",
              "      <td>293.971303</td>\n",
              "      <td>0.263694</td>\n",
              "      <td>15.022434</td>\n",
              "      <td>89.669097</td>\n",
              "    </tr>\n",
              "    <tr>\n",
              "      <th>1</th>\n",
              "      <td>266.957889</td>\n",
              "      <td>46.347651</td>\n",
              "      <td>52.484278</td>\n",
              "      <td>62.152536</td>\n",
              "      <td>150.680984</td>\n",
              "      <td>1.633258</td>\n",
              "      <td>266.832491</td>\n",
              "      <td>0.125398</td>\n",
              "      <td>13.491110</td>\n",
              "      <td>71.186412</td>\n",
              "    </tr>\n",
              "  </tbody>\n",
              "</table>\n",
              "</div>"
            ],
            "text/plain": [
              "                text_len text_len_tokens  ... number_of_punctuation number_of_stops\n",
              "                    mean            mean  ...                  mean            mean\n",
              "toxic insult                              ...                                      \n",
              "0     0       402.813001       68.433497  ...             16.978293      141.864081\n",
              "      1       362.961165       62.435275  ...             15.804207      120.773463\n",
              "1     0       294.234997       50.796784  ...             15.022434       89.669097\n",
              "      1       266.957889       46.347651  ...             13.491110       71.186412\n",
              "\n",
              "[4 rows x 10 columns]"
            ]
          },
          "metadata": {
            "tags": []
          },
          "execution_count": 14
        }
      ]
    },
    {
      "cell_type": "markdown",
      "metadata": {
        "id": "9nMJL4OP3doQ",
        "colab_type": "text"
      },
      "source": [
        "1. Non-toxic/non-insult имеют самую большую среднюю длину. В non-toxic/insult комментариях длина текста больше, чем просто в toxic/non-insult. Toxic/insult в свою очередь имеют самые короткие тексты.\n",
        "2. Non-toxic/non-insult имеют самое большое количество слов. В insult комментариях слов в среднем на 12 больше, чем просто в toxic/non-insult. Toxic/insult в свою очередь имеют меньше всего слов.\n",
        "3. Заглавных букв больше всего в комментариях имеющие обе метки toxic/insult. Меньше всего в обычных комментариях без меток. Токсичные комментарии имеют больше заглавных букв, чем оскорбительные.\n",
        "4. Среднее количество не буквенно-цифровых символов в обычных комментариях больше. Toxic/non-insult комментарии имеют меньше данных символов, чем non-toxic/insult. \n",
        "5. Количество строчных букв больше всего в комментариях без меток. Меньше всего строчных букв в комментариях с обеими метками toxic и insult. \n",
        "6. В комментариях всех типов используется мало цифр. Больше всего в текстах non-toxic/insult, меньше всего в toxic/insult. \n",
        "7. Количество ascii-символов практически полностью совпадает со средней длиной комментариев во всех типах.\n",
        "8. Не ascii-символы практически отсутствуют в данных типах.\n",
        "9. Знаков пунктуации больше всего в обычных комментариях. В комментариях toxic/insult их наименьшее количество.\n",
        "10. Больше всего стоп-слов в обычных комментариях. Меньше всего в toxic/insult. В toxic/non-insult их меньше, чем в non-toxic/insult."
      ]
    },
    {
      "cell_type": "markdown",
      "metadata": {
        "id": "DdSSDJek3fZK",
        "colab_type": "text"
      },
      "source": [
        "### Toxic/Obscene"
      ]
    },
    {
      "cell_type": "code",
      "metadata": {
        "id": "OIN5M3Pp3ljX",
        "colab_type": "code",
        "colab": {
          "base_uri": "https://localhost:8080/",
          "height": 263
        },
        "outputId": "179c44e6-fb0d-4007-a44f-93443323abb9"
      },
      "source": [
        "data.groupby(['toxic', 'obscene'])['text_len', 'text_len_tokens', 'number_of_caps', 'number_of_nonalphanum', 'number_of_lows', 'number_of_digits', \n",
        "                      'number_of_ascii', 'number_of_nonascii', 'number_of_punctuation', 'number_of_stops'].agg(['mean'])"
      ],
      "execution_count": null,
      "outputs": [
        {
          "output_type": "stream",
          "text": [
            "/usr/local/lib/python3.6/dist-packages/ipykernel_launcher.py:2: FutureWarning: Indexing with multiple keys (implicitly converted to a tuple of keys) will be deprecated, use a list instead.\n",
            "  \n"
          ],
          "name": "stderr"
        },
        {
          "output_type": "execute_result",
          "data": {
            "text/html": [
              "<div>\n",
              "<style scoped>\n",
              "    .dataframe tbody tr th:only-of-type {\n",
              "        vertical-align: middle;\n",
              "    }\n",
              "\n",
              "    .dataframe tbody tr th {\n",
              "        vertical-align: top;\n",
              "    }\n",
              "\n",
              "    .dataframe thead tr th {\n",
              "        text-align: left;\n",
              "    }\n",
              "\n",
              "    .dataframe thead tr:last-of-type th {\n",
              "        text-align: right;\n",
              "    }\n",
              "</style>\n",
              "<table border=\"1\" class=\"dataframe\">\n",
              "  <thead>\n",
              "    <tr>\n",
              "      <th></th>\n",
              "      <th></th>\n",
              "      <th>text_len</th>\n",
              "      <th>text_len_tokens</th>\n",
              "      <th>number_of_caps</th>\n",
              "      <th>number_of_nonalphanum</th>\n",
              "      <th>number_of_lows</th>\n",
              "      <th>number_of_digits</th>\n",
              "      <th>number_of_ascii</th>\n",
              "      <th>number_of_nonascii</th>\n",
              "      <th>number_of_punctuation</th>\n",
              "      <th>number_of_stops</th>\n",
              "    </tr>\n",
              "    <tr>\n",
              "      <th></th>\n",
              "      <th></th>\n",
              "      <th>mean</th>\n",
              "      <th>mean</th>\n",
              "      <th>mean</th>\n",
              "      <th>mean</th>\n",
              "      <th>mean</th>\n",
              "      <th>mean</th>\n",
              "      <th>mean</th>\n",
              "      <th>mean</th>\n",
              "      <th>mean</th>\n",
              "      <th>mean</th>\n",
              "    </tr>\n",
              "    <tr>\n",
              "      <th>toxic</th>\n",
              "      <th>obscene</th>\n",
              "      <th></th>\n",
              "      <th></th>\n",
              "      <th></th>\n",
              "      <th></th>\n",
              "      <th></th>\n",
              "      <th></th>\n",
              "      <th></th>\n",
              "      <th></th>\n",
              "      <th></th>\n",
              "      <th></th>\n",
              "    </tr>\n",
              "  </thead>\n",
              "  <tbody>\n",
              "    <tr>\n",
              "      <th rowspan=\"2\" valign=\"top\">0</th>\n",
              "      <th>0</th>\n",
              "      <td>402.480948</td>\n",
              "      <td>68.373545</td>\n",
              "      <td>14.440551</td>\n",
              "      <td>89.018316</td>\n",
              "      <td>294.816601</td>\n",
              "      <td>3.239035</td>\n",
              "      <td>400.758162</td>\n",
              "      <td>1.722786</td>\n",
              "      <td>16.961355</td>\n",
              "      <td>141.744579</td>\n",
              "    </tr>\n",
              "    <tr>\n",
              "      <th>1</th>\n",
              "      <td>474.761905</td>\n",
              "      <td>82.681973</td>\n",
              "      <td>29.443878</td>\n",
              "      <td>107.632653</td>\n",
              "      <td>331.057823</td>\n",
              "      <td>6.561224</td>\n",
              "      <td>474.328231</td>\n",
              "      <td>0.433673</td>\n",
              "      <td>21.551020</td>\n",
              "      <td>160.664966</td>\n",
              "    </tr>\n",
              "    <tr>\n",
              "      <th rowspan=\"2\" valign=\"top\">1</th>\n",
              "      <th>0</th>\n",
              "      <td>291.786412</td>\n",
              "      <td>50.874288</td>\n",
              "      <td>32.911717</td>\n",
              "      <td>67.811534</td>\n",
              "      <td>188.754984</td>\n",
              "      <td>2.249797</td>\n",
              "      <td>291.531428</td>\n",
              "      <td>0.254984</td>\n",
              "      <td>14.568857</td>\n",
              "      <td>91.700163</td>\n",
              "    </tr>\n",
              "    <tr>\n",
              "      <th>1</th>\n",
              "      <td>271.086738</td>\n",
              "      <td>46.615218</td>\n",
              "      <td>54.713989</td>\n",
              "      <td>63.100848</td>\n",
              "      <td>151.480956</td>\n",
              "      <td>1.779778</td>\n",
              "      <td>270.943560</td>\n",
              "      <td>0.143179</td>\n",
              "      <td>13.991949</td>\n",
              "      <td>70.843317</td>\n",
              "    </tr>\n",
              "  </tbody>\n",
              "</table>\n",
              "</div>"
            ],
            "text/plain": [
              "                 text_len text_len_tokens  ... number_of_punctuation number_of_stops\n",
              "                     mean            mean  ...                  mean            mean\n",
              "toxic obscene                              ...                                      \n",
              "0     0        402.480948       68.373545  ...             16.961355      141.744579\n",
              "      1        474.761905       82.681973  ...             21.551020      160.664966\n",
              "1     0        291.786412       50.874288  ...             14.568857       91.700163\n",
              "      1        271.086738       46.615218  ...             13.991949       70.843317\n",
              "\n",
              "[4 rows x 10 columns]"
            ]
          },
          "metadata": {
            "tags": []
          },
          "execution_count": 12
        }
      ]
    },
    {
      "cell_type": "markdown",
      "metadata": {
        "id": "MTmOT5MU3pVA",
        "colab_type": "text"
      },
      "source": [
        "1. Non-toxic/obscene комментарии являются самыми длинными. Toxic/obscene имеют самую маленькую длину.\n",
        "2. Больше всего слов в грубых комментариях non-toxic/obscene. Меньше всего в toxic/obscene вместе.\n",
        "3. Наибольшее количество заглавных букв наблюдается в toxic/obscene комментариях. В нормальных комментариях их меньше всего. Грубые и токсичные комментарии отдельно имеют примерно одинаковое количество заглавных букв.\n",
        "4. Среднее количество не буквенно-цифровых символов в грубых комментариях больше. Toxic/obscene комментарии имеют меньше всего данных символов.\n",
        "5. Больше всего строчных букв в грубых комментариях non-toxic/obscene. Toxic/obscene имеют меньше всего данных букв.\n",
        "6. В комментариях всех типов используется мало цифр. Больше всего в текстах obscene, меньше всего в toxic/obscene.\n",
        "7. Количество ascii-символов практически полностью совпадает со средней длиной комментариев в обих типах.\n",
        "8. Не ascii-символы практически отсутствуют в данных типах.\n",
        "9. Больше всего знаков пунктуации в грубых комментариях non-toxic/obscene.\n",
        "10. Non-toxic/obscene грубые комментарии имеют больше всего стоп-слов. Меньше всего в toxic/obscene."
      ]
    },
    {
      "cell_type": "markdown",
      "metadata": {
        "id": "h0WOh5Ky3rHv",
        "colab_type": "text"
      },
      "source": [
        "### Toxic/Threat"
      ]
    },
    {
      "cell_type": "code",
      "metadata": {
        "id": "9yADbYMS3qfI",
        "colab_type": "code",
        "colab": {
          "base_uri": "https://localhost:8080/",
          "height": 263
        },
        "outputId": "341482fb-c778-4a63-901d-88c94ff48ea6"
      },
      "source": [
        "data.groupby(['toxic', 'threat'])['text_len', 'text_len_tokens', 'number_of_caps', 'number_of_nonalphanum', 'number_of_lows', 'number_of_digits', \n",
        "                      'number_of_ascii', 'number_of_nonascii', 'number_of_punctuation', 'number_of_stops'].agg(['mean'])"
      ],
      "execution_count": null,
      "outputs": [
        {
          "output_type": "stream",
          "text": [
            "/usr/local/lib/python3.6/dist-packages/ipykernel_launcher.py:2: FutureWarning: Indexing with multiple keys (implicitly converted to a tuple of keys) will be deprecated, use a list instead.\n",
            "  \n"
          ],
          "name": "stderr"
        },
        {
          "output_type": "execute_result",
          "data": {
            "text/html": [
              "<div>\n",
              "<style scoped>\n",
              "    .dataframe tbody tr th:only-of-type {\n",
              "        vertical-align: middle;\n",
              "    }\n",
              "\n",
              "    .dataframe tbody tr th {\n",
              "        vertical-align: top;\n",
              "    }\n",
              "\n",
              "    .dataframe thead tr th {\n",
              "        text-align: left;\n",
              "    }\n",
              "\n",
              "    .dataframe thead tr:last-of-type th {\n",
              "        text-align: right;\n",
              "    }\n",
              "</style>\n",
              "<table border=\"1\" class=\"dataframe\">\n",
              "  <thead>\n",
              "    <tr>\n",
              "      <th></th>\n",
              "      <th></th>\n",
              "      <th>text_len</th>\n",
              "      <th>text_len_tokens</th>\n",
              "      <th>number_of_caps</th>\n",
              "      <th>number_of_nonalphanum</th>\n",
              "      <th>number_of_lows</th>\n",
              "      <th>number_of_digits</th>\n",
              "      <th>number_of_ascii</th>\n",
              "      <th>number_of_nonascii</th>\n",
              "      <th>number_of_punctuation</th>\n",
              "      <th>number_of_stops</th>\n",
              "    </tr>\n",
              "    <tr>\n",
              "      <th></th>\n",
              "      <th></th>\n",
              "      <th>mean</th>\n",
              "      <th>mean</th>\n",
              "      <th>mean</th>\n",
              "      <th>mean</th>\n",
              "      <th>mean</th>\n",
              "      <th>mean</th>\n",
              "      <th>mean</th>\n",
              "      <th>mean</th>\n",
              "      <th>mean</th>\n",
              "      <th>mean</th>\n",
              "    </tr>\n",
              "    <tr>\n",
              "      <th>toxic</th>\n",
              "      <th>threat</th>\n",
              "      <th></th>\n",
              "      <th></th>\n",
              "      <th></th>\n",
              "      <th></th>\n",
              "      <th></th>\n",
              "      <th></th>\n",
              "      <th></th>\n",
              "      <th></th>\n",
              "      <th></th>\n",
              "      <th></th>\n",
              "    </tr>\n",
              "  </thead>\n",
              "  <tbody>\n",
              "    <tr>\n",
              "      <th rowspan=\"2\" valign=\"top\">0</th>\n",
              "      <th>0</th>\n",
              "      <td>402.693648</td>\n",
              "      <td>68.415233</td>\n",
              "      <td>14.473087</td>\n",
              "      <td>89.073487</td>\n",
              "      <td>294.934681</td>\n",
              "      <td>3.248400</td>\n",
              "      <td>400.974492</td>\n",
              "      <td>1.719156</td>\n",
              "      <td>16.975268</td>\n",
              "      <td>141.805764</td>\n",
              "    </tr>\n",
              "    <tr>\n",
              "      <th>1</th>\n",
              "      <td>388.428571</td>\n",
              "      <td>68.000000</td>\n",
              "      <td>78.600000</td>\n",
              "      <td>83.114286</td>\n",
              "      <td>221.742857</td>\n",
              "      <td>4.971429</td>\n",
              "      <td>387.400000</td>\n",
              "      <td>1.028571</td>\n",
              "      <td>13.714286</td>\n",
              "      <td>106.257143</td>\n",
              "    </tr>\n",
              "    <tr>\n",
              "      <th rowspan=\"2\" valign=\"top\">1</th>\n",
              "      <th>0</th>\n",
              "      <td>279.579450</td>\n",
              "      <td>48.331983</td>\n",
              "      <td>43.245393</td>\n",
              "      <td>64.592475</td>\n",
              "      <td>169.680318</td>\n",
              "      <td>2.027738</td>\n",
              "      <td>279.392330</td>\n",
              "      <td>0.187120</td>\n",
              "      <td>13.872311</td>\n",
              "      <td>80.909165</td>\n",
              "    </tr>\n",
              "    <tr>\n",
              "      <th>1</th>\n",
              "      <td>313.082569</td>\n",
              "      <td>56.227829</td>\n",
              "      <td>90.469419</td>\n",
              "      <td>86.639144</td>\n",
              "      <td>134.975535</td>\n",
              "      <td>0.986239</td>\n",
              "      <td>312.651376</td>\n",
              "      <td>0.431193</td>\n",
              "      <td>26.457187</td>\n",
              "      <td>65.337920</td>\n",
              "    </tr>\n",
              "  </tbody>\n",
              "</table>\n",
              "</div>"
            ],
            "text/plain": [
              "                text_len text_len_tokens  ... number_of_punctuation number_of_stops\n",
              "                    mean            mean  ...                  mean            mean\n",
              "toxic threat                              ...                                      \n",
              "0     0       402.693648       68.415233  ...             16.975268      141.805764\n",
              "      1       388.428571       68.000000  ...             13.714286      106.257143\n",
              "1     0       279.579450       48.331983  ...             13.872311       80.909165\n",
              "      1       313.082569       56.227829  ...             26.457187       65.337920\n",
              "\n",
              "[4 rows x 10 columns]"
            ]
          },
          "metadata": {
            "tags": []
          },
          "execution_count": 13
        }
      ]
    },
    {
      "cell_type": "markdown",
      "metadata": {
        "id": "xYL5Ivg33yzf",
        "colab_type": "text"
      },
      "source": [
        "1. Обычные комментарии самые длинные. Самыми короткими являются комментарии типа toxic/non-threat. В non-toxic/threat также наблюдается большая средняя длина. \n",
        "2. Обычные комментарии и non-toxic/threat имеют одинаковое среднее количество слов. Меньше всего слов в toxic/non-threat комментариях. \n",
        "3. Заглавных букв больше всего в toxic/threat комментариях. Меньше всего в обычных. Тексты с угрозой имеют больше заглавных букв, чем токсичные.\n",
        "4. Среднее количество не буквенно-цифровых символов незначительно отличается. В toxic/non-threat комментариях их меньше всего. В остальных типах их примерно одинаково.\n",
        "5. Больше всего строчных букв в обычных комментариях. Меньше всего в toxic/threat. Non-toxic/threat имеют больше строчных букв, чем toxic/non threat. \n",
        "6. В комментариях всех типов используется мало цифр. Больше всего в текстах threat, меньше всего в toxic/threat.\n",
        "7. Количество ascii-символов практически полностью совпадает со средней длиной комментариев в обих типах.\n",
        "8. Не ascii-символы практически отсутствуют в данных типах.\n",
        "9. Больше всего знаков пунктуации в текстах toxic/threat. В toxic/non-threat и non-toxic/threat их примерно одинаково.\n",
        "10. Наибольшее количество стоп-слов наблюдается в текстах комментариев типа non-toxic/non-threat. Меньше всего в toxic/threat. В комментариях non-toxic/threat их больше, чем в toxic/non-threat. "
      ]
    },
    {
      "cell_type": "markdown",
      "metadata": {
        "id": "R9TVfOYR0Xs5",
        "colab_type": "text"
      },
      "source": [
        "## 2. Бейзлайн модель из sklearn (векторайзер + модель) с отбором признаков (через l1 регуляризацию, на глаз через анализ важных параметров или через permutation importance) - 2 балл"
      ]
    },
    {
      "cell_type": "markdown",
      "metadata": {
        "id": "gV4nfdYA96F7",
        "colab_type": "text"
      },
      "source": [
        "### Бейзлайн на всех данных"
      ]
    },
    {
      "cell_type": "code",
      "metadata": {
        "id": "d2gwR4gt3zx7",
        "colab_type": "code",
        "colab": {}
      },
      "source": [
        "X = data['comment_text']\n",
        "y = data['toxic']"
      ],
      "execution_count": 7,
      "outputs": []
    },
    {
      "cell_type": "code",
      "metadata": {
        "id": "IPvLM4wmyJo6",
        "colab_type": "code",
        "colab": {}
      },
      "source": [
        "X_train, X_test, y_train, y_test = train_test_split(X, y, test_size=0.33, random_state=42)"
      ],
      "execution_count": 8,
      "outputs": []
    },
    {
      "cell_type": "code",
      "metadata": {
        "id": "vMb6eTyd4vyh",
        "colab_type": "code",
        "colab": {}
      },
      "source": [
        "count_vect = CountVectorizer()"
      ],
      "execution_count": 9,
      "outputs": []
    },
    {
      "cell_type": "code",
      "metadata": {
        "id": "aCHukUg84zql",
        "colab_type": "code",
        "colab": {
          "base_uri": "https://localhost:8080/",
          "height": 34
        },
        "outputId": "3bd6b818-bbcd-40bc-e495-ae8c8b5ea55f"
      },
      "source": [
        "X_train = count_vect.fit_transform(X_train)\n",
        "X_train.shape"
      ],
      "execution_count": 10,
      "outputs": [
        {
          "output_type": "execute_result",
          "data": {
            "text/plain": [
              "(149777, 207901)"
            ]
          },
          "metadata": {
            "tags": []
          },
          "execution_count": 10
        }
      ]
    },
    {
      "cell_type": "code",
      "metadata": {
        "id": "yajKEe705QDb",
        "colab_type": "code",
        "colab": {
          "base_uri": "https://localhost:8080/",
          "height": 34
        },
        "outputId": "7f41239b-56a8-4d37-b8ea-9752af3a87c5"
      },
      "source": [
        "X_test = count_vect.transform(X_test)\n",
        "X_test.shape"
      ],
      "execution_count": 11,
      "outputs": [
        {
          "output_type": "execute_result",
          "data": {
            "text/plain": [
              "(73772, 207901)"
            ]
          },
          "metadata": {
            "tags": []
          },
          "execution_count": 11
        }
      ]
    },
    {
      "cell_type": "code",
      "metadata": {
        "id": "mmsx7fQf5tKZ",
        "colab_type": "code",
        "colab": {}
      },
      "source": [
        "clf = SGDClassifier().fit(X_train, y_train)"
      ],
      "execution_count": 12,
      "outputs": []
    },
    {
      "cell_type": "code",
      "metadata": {
        "id": "YUMX-Hv26p97",
        "colab_type": "code",
        "colab": {}
      },
      "source": [
        "y_pred = clf.predict(X_test)"
      ],
      "execution_count": 13,
      "outputs": []
    },
    {
      "cell_type": "code",
      "metadata": {
        "id": "hTz_FEH09KR4",
        "colab_type": "code",
        "colab": {
          "base_uri": "https://localhost:8080/",
          "height": 176
        },
        "outputId": "29663b1c-d0c3-4bb8-cfff-e1617bf752ad"
      },
      "source": [
        "print(classification_report(y_test, y_pred))"
      ],
      "execution_count": 14,
      "outputs": [
        {
          "output_type": "stream",
          "text": [
            "              precision    recall  f1-score   support\n",
            "\n",
            "           0       0.95      0.99      0.97     66765\n",
            "           1       0.85      0.55      0.67      7007\n",
            "\n",
            "    accuracy                           0.95     73772\n",
            "   macro avg       0.90      0.77      0.82     73772\n",
            "weighted avg       0.94      0.95      0.94     73772\n",
            "\n"
          ],
          "name": "stdout"
        }
      ]
    },
    {
      "cell_type": "code",
      "metadata": {
        "id": "Y7DfiLyQRMio",
        "colab_type": "code",
        "colab": {
          "base_uri": "https://localhost:8080/",
          "height": 278
        },
        "outputId": "975ded56-61b6-486d-9b91-75cb6cebdc10"
      },
      "source": [
        "y_true = y_test\n",
        "y_predicted = y_pred \n",
        "fpr, tpr, _ = roc_curve(y_true, y_predicted)\n",
        "pyplot.plot(fpr, tpr, marker='.', label='Test')\n",
        "pyplot.xlabel('False Positive Rate')\n",
        "pyplot.ylabel('True Positive Rate')\n",
        "pyplot.legend()\n",
        "pyplot.show()"
      ],
      "execution_count": 15,
      "outputs": [
        {
          "output_type": "display_data",
          "data": {
            "image/png": "[encoded data removed]",
            "text/plain": [
              "<Figure size 432x288 with 1 Axes>"
            ]
          },
          "metadata": {
            "tags": [],
            "needs_background": "light"
          }
        }
      ]
    },
    {
      "cell_type": "markdown",
      "metadata": {
        "id": "JoY6nWYFg17I",
        "colab_type": "text"
      },
      "source": [
        "### Бейзлайн на даунсэмпле (для ансамблей и нейронных сетей)"
      ]
    },
    {
      "cell_type": "code",
      "metadata": {
        "id": "i8MRaAsTPyov",
        "colab_type": "code",
        "colab": {}
      },
      "source": [
        "from sklearn.utils import resample\n",
        "\n",
        "data_majority = data[data.toxic==0]\n",
        "data_minority = data[data.toxic==1]\n",
        "length = len(data_minority)\n",
        "\n",
        "data_majority_downsampled = resample(data_majority, \n",
        "                                 replace=False,    \n",
        "                                 n_samples=length,     \n",
        "                                 random_state=123) \n",
        "\n",
        "data_downsampled = pd.concat([data_majority_downsampled, data_minority])"
      ],
      "execution_count": 16,
      "outputs": []
    },
    {
      "cell_type": "code",
      "metadata": {
        "id": "RDHm8yzyg5wH",
        "colab_type": "code",
        "colab": {}
      },
      "source": [
        "X = data_downsampled['comment_text']\n",
        "y = data_downsampled['toxic']"
      ],
      "execution_count": 17,
      "outputs": []
    },
    {
      "cell_type": "code",
      "metadata": {
        "id": "KK2O2Qilg8vu",
        "colab_type": "code",
        "colab": {}
      },
      "source": [
        "X_train, X_test, y_train, y_test = train_test_split(X, y, test_size=0.33, random_state=42)"
      ],
      "execution_count": 9,
      "outputs": []
    },
    {
      "cell_type": "code",
      "metadata": {
        "id": "nSNcVZ6Sg_Oq",
        "colab_type": "code",
        "colab": {}
      },
      "source": [
        "count_vect = CountVectorizer()"
      ],
      "execution_count": 10,
      "outputs": []
    },
    {
      "cell_type": "code",
      "metadata": {
        "id": "UL0gexVdhB4v",
        "colab_type": "code",
        "colab": {
          "base_uri": "https://localhost:8080/",
          "height": 34
        },
        "outputId": "0c1e35b0-ade5-42fd-bb0b-19fcdf57cb0f"
      },
      "source": [
        "X_train = count_vect.fit_transform(X_train)\n",
        "X_train.shape"
      ],
      "execution_count": 11,
      "outputs": [
        {
          "output_type": "execute_result",
          "data": {
            "text/plain": [
              "(28654, 64225)"
            ]
          },
          "metadata": {
            "tags": []
          },
          "execution_count": 11
        }
      ]
    },
    {
      "cell_type": "code",
      "metadata": {
        "id": "tr1RpUg_hCL3",
        "colab_type": "code",
        "colab": {
          "base_uri": "https://localhost:8080/",
          "height": 34
        },
        "outputId": "72c880f7-40af-4126-870c-258532642523"
      },
      "source": [
        "X_test = count_vect.transform(X_test)\n",
        "X_test.shape"
      ],
      "execution_count": 12,
      "outputs": [
        {
          "output_type": "execute_result",
          "data": {
            "text/plain": [
              "(14114, 64225)"
            ]
          },
          "metadata": {
            "tags": []
          },
          "execution_count": 12
        }
      ]
    },
    {
      "cell_type": "code",
      "metadata": {
        "id": "4l_og_cuhCaL",
        "colab_type": "code",
        "colab": {}
      },
      "source": [
        "clf = SGDClassifier().fit(X_train, y_train)"
      ],
      "execution_count": 13,
      "outputs": []
    },
    {
      "cell_type": "code",
      "metadata": {
        "id": "MGtEC89mhF2K",
        "colab_type": "code",
        "colab": {}
      },
      "source": [
        "y_pred = clf.predict(X_test)"
      ],
      "execution_count": 14,
      "outputs": []
    },
    {
      "cell_type": "code",
      "metadata": {
        "id": "prApC6yRhHr-",
        "colab_type": "code",
        "colab": {
          "base_uri": "https://localhost:8080/",
          "height": 176
        },
        "outputId": "e25318e7-e6ad-4616-f37d-985e987e7743"
      },
      "source": [
        "print(classification_report(y_test, y_pred))"
      ],
      "execution_count": 15,
      "outputs": [
        {
          "output_type": "stream",
          "text": [
            "              precision    recall  f1-score   support\n",
            "\n",
            "           0       0.89      0.89      0.89      7072\n",
            "           1       0.89      0.89      0.89      7042\n",
            "\n",
            "    accuracy                           0.89     14114\n",
            "   macro avg       0.89      0.89      0.89     14114\n",
            "weighted avg       0.89      0.89      0.89     14114\n",
            "\n"
          ],
          "name": "stdout"
        }
      ]
    },
    {
      "cell_type": "code",
      "metadata": {
        "id": "Dq3iYVLfSGEf",
        "colab_type": "code",
        "colab": {
          "base_uri": "https://localhost:8080/",
          "height": 278
        },
        "outputId": "73d44f26-3635-4c24-c4a5-0c9e4a68bdd0"
      },
      "source": [
        "y_true = y_test\n",
        "y_predicted = y_pred \n",
        "fpr, tpr, _ = roc_curve(y_true, y_predicted)\n",
        "pyplot.plot(fpr, tpr, marker='.', label='Test')\n",
        "pyplot.xlabel('False Positive Rate')\n",
        "pyplot.ylabel('True Positive Rate')\n",
        "pyplot.legend()\n",
        "pyplot.show()"
      ],
      "execution_count": 16,
      "outputs": [
        {
          "output_type": "display_data",
          "data": {
            "image/png": "[encoded data removed]",
            "text/plain": [
              "<Figure size 432x288 with 1 Axes>"
            ]
          },
          "metadata": {
            "tags": [],
            "needs_background": "light"
          }
        }
      ]
    },
    {
      "cell_type": "markdown",
      "metadata": {
        "id": "Mk03LEJ19yRR",
        "colab_type": "text"
      },
      "source": [
        "### Top features Eli5"
      ]
    },
    {
      "cell_type": "markdown",
      "metadata": {
        "id": "GH8uW_PQSL41",
        "colab_type": "text"
      },
      "source": [
        "На всех данных"
      ]
    },
    {
      "cell_type": "code",
      "metadata": {
        "id": "bH-cdUPXDo-X",
        "colab_type": "code",
        "colab": {
          "base_uri": "https://localhost:8080/",
          "height": 419
        },
        "outputId": "05de2b96-3bea-47a4-a9ac-cc258d04372d"
      },
      "source": [
        "eli5.formatters.as_dataframe.explain_weights_df(clf)\n"
      ],
      "execution_count": null,
      "outputs": [
        {
          "output_type": "execute_result",
          "data": {
            "text/html": [
              "<div>\n",
              "<style scoped>\n",
              "    .dataframe tbody tr th:only-of-type {\n",
              "        vertical-align: middle;\n",
              "    }\n",
              "\n",
              "    .dataframe tbody tr th {\n",
              "        vertical-align: top;\n",
              "    }\n",
              "\n",
              "    .dataframe thead th {\n",
              "        text-align: right;\n",
              "    }\n",
              "</style>\n",
              "<table border=\"1\" class=\"dataframe\">\n",
              "  <thead>\n",
              "    <tr style=\"text-align: right;\">\n",
              "      <th></th>\n",
              "      <th>target</th>\n",
              "      <th>feature</th>\n",
              "      <th>weight</th>\n",
              "    </tr>\n",
              "  </thead>\n",
              "  <tbody>\n",
              "    <tr>\n",
              "      <th>0</th>\n",
              "      <td>1</td>\n",
              "      <td>x70089</td>\n",
              "      <td>2.116671</td>\n",
              "    </tr>\n",
              "    <tr>\n",
              "      <th>1</th>\n",
              "      <td>1</td>\n",
              "      <td>x84835</td>\n",
              "      <td>2.067145</td>\n",
              "    </tr>\n",
              "    <tr>\n",
              "      <th>2</th>\n",
              "      <td>1</td>\n",
              "      <td>x64497</td>\n",
              "      <td>2.009007</td>\n",
              "    </tr>\n",
              "    <tr>\n",
              "      <th>3</th>\n",
              "      <td>1</td>\n",
              "      <td>x20704</td>\n",
              "      <td>1.970248</td>\n",
              "    </tr>\n",
              "    <tr>\n",
              "      <th>4</th>\n",
              "      <td>1</td>\n",
              "      <td>x69133</td>\n",
              "      <td>1.912109</td>\n",
              "    </tr>\n",
              "    <tr>\n",
              "      <th>...</th>\n",
              "      <td>...</td>\n",
              "      <td>...</td>\n",
              "      <td>...</td>\n",
              "    </tr>\n",
              "    <tr>\n",
              "      <th>71457</th>\n",
              "      <td>1</td>\n",
              "      <td>x23850</td>\n",
              "      <td>-1.195068</td>\n",
              "    </tr>\n",
              "    <tr>\n",
              "      <th>71458</th>\n",
              "      <td>1</td>\n",
              "      <td>x69507</td>\n",
              "      <td>-1.287659</td>\n",
              "    </tr>\n",
              "    <tr>\n",
              "      <th>71459</th>\n",
              "      <td>1</td>\n",
              "      <td>x166952</td>\n",
              "      <td>-1.511600</td>\n",
              "    </tr>\n",
              "    <tr>\n",
              "      <th>71460</th>\n",
              "      <td>1</td>\n",
              "      <td>x122363</td>\n",
              "      <td>-2.082218</td>\n",
              "    </tr>\n",
              "    <tr>\n",
              "      <th>71461</th>\n",
              "      <td>1</td>\n",
              "      <td>x71831</td>\n",
              "      <td>-2.377217</td>\n",
              "    </tr>\n",
              "  </tbody>\n",
              "</table>\n",
              "<p>71462 rows × 3 columns</p>\n",
              "</div>"
            ],
            "text/plain": [
              "       target  feature    weight\n",
              "0           1   x70089  2.116671\n",
              "1           1   x84835  2.067145\n",
              "2           1   x64497  2.009007\n",
              "3           1   x20704  1.970248\n",
              "4           1   x69133  1.912109\n",
              "...       ...      ...       ...\n",
              "71457       1   x23850 -1.195068\n",
              "71458       1   x69507 -1.287659\n",
              "71459       1  x166952 -1.511600\n",
              "71460       1  x122363 -2.082218\n",
              "71461       1   x71831 -2.377217\n",
              "\n",
              "[71462 rows x 3 columns]"
            ]
          },
          "metadata": {
            "tags": []
          },
          "execution_count": 69
        }
      ]
    },
    {
      "cell_type": "code",
      "metadata": {
        "id": "6o7n1LI95Qsf",
        "colab_type": "code",
        "colab": {}
      },
      "source": [
        "def analyze_features(model, n):\n",
        "  index_to_word = {v:k for k,v in count_vect.vocabulary_.items()}\n",
        "  data = eli5.formatters.as_dataframe.explain_weights_df(model)\n",
        "  \n",
        "  class1 = data[data['target']==1]\n",
        "  \n",
        "  print('\\n', n, 'самых значимых признаков класса (toxic):')\n",
        "  for element in class1.feature[:n]:\n",
        "    feature = element.strip('x')\n",
        "    print(index_to_word[int(feature)], element)"
      ],
      "execution_count": null,
      "outputs": []
    },
    {
      "cell_type": "code",
      "metadata": {
        "id": "7tDYpjAa5q0O",
        "colab_type": "code",
        "colab": {
          "base_uri": "https://localhost:8080/",
          "height": 561
        },
        "outputId": "e8e81ab0-c1ad-4188-b816-2a4d028dc2ad"
      },
      "source": [
        "analyze_features(clf, 30)"
      ],
      "execution_count": null,
      "outputs": [
        {
          "output_type": "stream",
          "text": [
            "\n",
            " 30 самых значимых признаков класса (toxic):\n",
            "fuck x70089\n",
            "idiot x84835\n",
            "faggot x64497\n",
            "asshole x20704\n",
            "france x69133\n",
            "fucking x70128\n",
            "idiots x84845\n",
            "suck x164233\n",
            "shit x154929\n",
            "bitch x28022\n",
            "fucked x70099\n",
            "stupid x163563\n",
            "cunt x46526\n",
            "moron x114373\n",
            "bark x24314\n",
            "niggers x119867\n",
            "ass x20589\n",
            "sucks x164261\n",
            "motherfucker x114630\n",
            "bullshit x32375\n",
            "bastard x24691\n",
            "penis x129840\n",
            "nigger x119855\n",
            "jerk x91987\n",
            "fuckin x70126\n",
            "dumbass x56450\n",
            "cock x40275\n",
            "aidsaids x13669\n",
            "fag x64461\n",
            "nigga x119839\n"
          ],
          "name": "stdout"
        }
      ]
    },
    {
      "cell_type": "code",
      "metadata": {
        "id": "cpV-lJ9JWaRB",
        "colab_type": "code",
        "colab": {
          "base_uri": "https://localhost:8080/",
          "height": 34
        },
        "outputId": "64af5fa5-ace7-4866-e42f-4856b2fcc9b3"
      },
      "source": [
        "sum(sum(clf.coef_ != 0))\n"
      ],
      "execution_count": null,
      "outputs": [
        {
          "output_type": "execute_result",
          "data": {
            "text/plain": [
              "71461"
            ]
          },
          "metadata": {
            "tags": []
          },
          "execution_count": 72
        }
      ]
    },
    {
      "cell_type": "code",
      "metadata": {
        "id": "wfe0px_MVwwx",
        "colab_type": "code",
        "colab": {}
      },
      "source": [
        "top_features = [int(i[1:]) for i in eli5.formatters.as_dataframe.explain_weights_df(clf).feature if 'BIAS' not in i]"
      ],
      "execution_count": null,
      "outputs": []
    },
    {
      "cell_type": "code",
      "metadata": {
        "id": "Gpv-y9HWV6qO",
        "colab_type": "code",
        "colab": {
          "base_uri": "https://localhost:8080/",
          "height": 34
        },
        "outputId": "b4291a44-2e94-4e80-a274-ba8cbd22cf6c"
      },
      "source": [
        "len(top_features)"
      ],
      "execution_count": null,
      "outputs": [
        {
          "output_type": "execute_result",
          "data": {
            "text/plain": [
              "71461"
            ]
          },
          "metadata": {
            "tags": []
          },
          "execution_count": 74
        }
      ]
    },
    {
      "cell_type": "markdown",
      "metadata": {
        "id": "r9-Hk2SDrCnq",
        "colab_type": "text"
      },
      "source": [
        "### Top features without BIAS"
      ]
    },
    {
      "cell_type": "code",
      "metadata": {
        "id": "JsyTu9DvrHct",
        "colab_type": "code",
        "colab": {}
      },
      "source": [
        "X_train_eli5 = X_train[:,top_features]\n",
        "X_test_eli5 = X_test[:,top_features]"
      ],
      "execution_count": null,
      "outputs": []
    },
    {
      "cell_type": "code",
      "metadata": {
        "id": "N06mhC_RrWWf",
        "colab_type": "code",
        "colab": {}
      },
      "source": [
        "eli5_model = SGDClassifier().fit(X_train_eli5, y_train)"
      ],
      "execution_count": null,
      "outputs": []
    },
    {
      "cell_type": "code",
      "metadata": {
        "id": "kFh6HxQerZhi",
        "colab_type": "code",
        "colab": {}
      },
      "source": [
        "y_pred = eli5_model.predict(X_test_eli5)"
      ],
      "execution_count": null,
      "outputs": []
    },
    {
      "cell_type": "code",
      "metadata": {
        "id": "bVx9XtiNre-w",
        "colab_type": "code",
        "colab": {
          "base_uri": "https://localhost:8080/",
          "height": 170
        },
        "outputId": "7175ad05-cf4f-4752-a22d-8c5577ef6ddf"
      },
      "source": [
        "print(classification_report(y_test, y_pred))"
      ],
      "execution_count": null,
      "outputs": [
        {
          "output_type": "stream",
          "text": [
            "              precision    recall  f1-score   support\n",
            "\n",
            "           0       0.96      0.98      0.97     66765\n",
            "           1       0.80      0.61      0.70      7007\n",
            "\n",
            "    accuracy                           0.95     73772\n",
            "   macro avg       0.88      0.80      0.83     73772\n",
            "weighted avg       0.95      0.95      0.95     73772\n",
            "\n"
          ],
          "name": "stdout"
        }
      ]
    },
    {
      "cell_type": "code",
      "metadata": {
        "id": "0qSTqoZySkrR",
        "colab_type": "code",
        "colab": {
          "base_uri": "https://localhost:8080/",
          "height": 279
        },
        "outputId": "b94a78b7-b830-4452-f1e6-d1b5e1e0c2a1"
      },
      "source": [
        "y_true = y_test\n",
        "y_predicted = y_pred \n",
        "fpr, tpr, _ = roc_curve(y_true, y_predicted)\n",
        "pyplot.plot(fpr, tpr, marker='.', label='Test')\n",
        "pyplot.xlabel('False Positive Rate')\n",
        "pyplot.ylabel('True Positive Rate')\n",
        "pyplot.legend()\n",
        "pyplot.show()"
      ],
      "execution_count": null,
      "outputs": [
        {
          "output_type": "display_data",
          "data": {
            "image/png": "[encoded data removed]",
            "text/plain": [
              "<Figure size 432x288 with 1 Axes>"
            ]
          },
          "metadata": {
            "tags": [],
            "needs_background": "light"
          }
        }
      ]
    },
    {
      "cell_type": "markdown",
      "metadata": {
        "id": "4Q1kXebssCRR",
        "colab_type": "text"
      },
      "source": [
        "По сравнению с бейзлайном на всех данных precision метки 1 снизился до 0.81. Все остальные метрики не изминились."
      ]
    },
    {
      "cell_type": "markdown",
      "metadata": {
        "id": "zD0wGAwR8Ghj",
        "colab_type": "text"
      },
      "source": [
        "### Top 1000 features"
      ]
    },
    {
      "cell_type": "code",
      "metadata": {
        "id": "Sd-Js2db6_0-",
        "colab_type": "code",
        "colab": {}
      },
      "source": [
        "top1000_features = top_features[:1000]"
      ],
      "execution_count": null,
      "outputs": []
    },
    {
      "cell_type": "code",
      "metadata": {
        "id": "fo9TKkaMWl4t",
        "colab_type": "code",
        "colab": {}
      },
      "source": [
        "X_train_eli5 = X_train[:,top1000_features]\n",
        "X_test_eli5 = X_test[:,top1000_features]"
      ],
      "execution_count": null,
      "outputs": []
    },
    {
      "cell_type": "code",
      "metadata": {
        "id": "ImLbARvbWocs",
        "colab_type": "code",
        "colab": {}
      },
      "source": [
        "eli5_model = SGDClassifier().fit(X_train_eli5, y_train)"
      ],
      "execution_count": null,
      "outputs": []
    },
    {
      "cell_type": "code",
      "metadata": {
        "id": "kGe-IELmXQlw",
        "colab_type": "code",
        "colab": {}
      },
      "source": [
        "y_pred = eli5_model.predict(X_test_eli5)"
      ],
      "execution_count": null,
      "outputs": []
    },
    {
      "cell_type": "code",
      "metadata": {
        "id": "Vc4VYCg-XuVQ",
        "colab_type": "code",
        "colab": {
          "base_uri": "https://localhost:8080/",
          "height": 170
        },
        "outputId": "769db11e-138f-425d-c5b9-0eec6898f333"
      },
      "source": [
        "print(classification_report(y_test, y_pred))"
      ],
      "execution_count": null,
      "outputs": [
        {
          "output_type": "stream",
          "text": [
            "              precision    recall  f1-score   support\n",
            "\n",
            "           0       0.95      0.99      0.97     66765\n",
            "           1       0.78      0.49      0.60      7007\n",
            "\n",
            "    accuracy                           0.94     73772\n",
            "   macro avg       0.86      0.74      0.79     73772\n",
            "weighted avg       0.93      0.94      0.93     73772\n",
            "\n"
          ],
          "name": "stdout"
        }
      ]
    },
    {
      "cell_type": "code",
      "metadata": {
        "id": "updJ6B0cSuBS",
        "colab_type": "code",
        "colab": {
          "base_uri": "https://localhost:8080/",
          "height": 279
        },
        "outputId": "ef69d417-e333-4884-da9d-1c16254139b8"
      },
      "source": [
        "y_true = y_test\n",
        "y_predicted = y_pred \n",
        "fpr, tpr, _ = roc_curve(y_true, y_predicted)\n",
        "pyplot.plot(fpr, tpr, marker='.', label='Test')\n",
        "pyplot.xlabel('False Positive Rate')\n",
        "pyplot.ylabel('True Positive Rate')\n",
        "pyplot.legend()\n",
        "pyplot.show()"
      ],
      "execution_count": null,
      "outputs": [
        {
          "output_type": "display_data",
          "data": {
            "image/png": "[encoded data removed]",
            "text/plain": [
              "<Figure size 432x288 with 1 Axes>"
            ]
          },
          "metadata": {
            "tags": [],
            "needs_background": "light"
          }
        }
      ]
    },
    {
      "cell_type": "markdown",
      "metadata": {
        "id": "d5WhdAIO-eul",
        "colab_type": "text"
      },
      "source": [
        "По сравнению с бейзлайном на всех данных precision метки 1 снизился до 0.70, recall меток 0 и 1 снизился до 0.98 и 0.49, f1-score снизился до 0.93."
      ]
    },
    {
      "cell_type": "markdown",
      "metadata": {
        "id": "EFj_fzeK8STC",
        "colab_type": "text"
      },
      "source": [
        "### Top 10000 features"
      ]
    },
    {
      "cell_type": "code",
      "metadata": {
        "id": "Lr673l5u8WFu",
        "colab_type": "code",
        "colab": {}
      },
      "source": [
        "top10000_features = top_features[:10000]"
      ],
      "execution_count": null,
      "outputs": []
    },
    {
      "cell_type": "code",
      "metadata": {
        "id": "khaRoE768Ykf",
        "colab_type": "code",
        "colab": {}
      },
      "source": [
        "X_train_eli5 = X_train[:,top10000_features]\n",
        "X_test_eli5 = X_test[:,top10000_features]"
      ],
      "execution_count": null,
      "outputs": []
    },
    {
      "cell_type": "code",
      "metadata": {
        "id": "G8Igm0Gx8Yvg",
        "colab_type": "code",
        "colab": {}
      },
      "source": [
        "eli5_model = SGDClassifier().fit(X_train_eli5, y_train)"
      ],
      "execution_count": null,
      "outputs": []
    },
    {
      "cell_type": "code",
      "metadata": {
        "id": "XGqxO9Mk8Y5U",
        "colab_type": "code",
        "colab": {}
      },
      "source": [
        "y_pred = eli5_model.predict(X_test_eli5)"
      ],
      "execution_count": null,
      "outputs": []
    },
    {
      "cell_type": "code",
      "metadata": {
        "id": "KlMfwmv-8cjn",
        "colab_type": "code",
        "colab": {
          "base_uri": "https://localhost:8080/",
          "height": 170
        },
        "outputId": "90dacc6d-525f-4b02-bf2f-8ed35dab7972"
      },
      "source": [
        "print(classification_report(y_test, y_pred))"
      ],
      "execution_count": null,
      "outputs": [
        {
          "output_type": "stream",
          "text": [
            "              precision    recall  f1-score   support\n",
            "\n",
            "           0       0.95      0.99      0.97     66765\n",
            "           1       0.79      0.49      0.61      7007\n",
            "\n",
            "    accuracy                           0.94     73772\n",
            "   macro avg       0.87      0.74      0.79     73772\n",
            "weighted avg       0.93      0.94      0.93     73772\n",
            "\n"
          ],
          "name": "stdout"
        }
      ]
    },
    {
      "cell_type": "code",
      "metadata": {
        "id": "vQXMD7O8S3Gm",
        "colab_type": "code",
        "colab": {
          "base_uri": "https://localhost:8080/",
          "height": 279
        },
        "outputId": "7668bbf8-f06a-465e-b65a-d4cbfca53882"
      },
      "source": [
        "y_true = y_test\n",
        "y_predicted = y_pred \n",
        "fpr, tpr, _ = roc_curve(y_true, y_predicted)\n",
        "pyplot.plot(fpr, tpr, marker='.', label='Test')\n",
        "pyplot.xlabel('False Positive Rate')\n",
        "pyplot.ylabel('True Positive Rate')\n",
        "pyplot.legend()\n",
        "pyplot.show()"
      ],
      "execution_count": null,
      "outputs": [
        {
          "output_type": "display_data",
          "data": {
            "image/png": "[encoded data removed]",
            "text/plain": [
              "<Figure size 432x288 with 1 Axes>"
            ]
          },
          "metadata": {
            "tags": [],
            "needs_background": "light"
          }
        }
      ]
    },
    {
      "cell_type": "markdown",
      "metadata": {
        "id": "sdtl3O50_y2e",
        "colab_type": "text"
      },
      "source": [
        "По сравнению с бейзлайном на всех данных precision меток 0 и 1 снизился до 0.95 0.78, recall меток 0 и 1 снизился до 0.98 и 0.55, f1-score снизился до 0.94. Результаты по сравнению с top 1000 features улучшились. "
      ]
    },
    {
      "cell_type": "markdown",
      "metadata": {
        "id": "Bx7s7rgJ8mE7",
        "colab_type": "text"
      },
      "source": [
        "### Top 30000 features"
      ]
    },
    {
      "cell_type": "code",
      "metadata": {
        "id": "0qMz0IL28qQT",
        "colab_type": "code",
        "colab": {}
      },
      "source": [
        "top30000_features = top_features[:30000]"
      ],
      "execution_count": null,
      "outputs": []
    },
    {
      "cell_type": "code",
      "metadata": {
        "id": "u54tRADf8q0l",
        "colab_type": "code",
        "colab": {}
      },
      "source": [
        "X_train_eli5 = X_train[:,top30000_features]\n",
        "X_test_eli5 = X_test[:,top30000_features]"
      ],
      "execution_count": null,
      "outputs": []
    },
    {
      "cell_type": "code",
      "metadata": {
        "id": "mN-_iBV58q91",
        "colab_type": "code",
        "colab": {}
      },
      "source": [
        "eli5_model = SGDClassifier().fit(X_train_eli5, y_train)"
      ],
      "execution_count": null,
      "outputs": []
    },
    {
      "cell_type": "code",
      "metadata": {
        "id": "CogYipJm8rIW",
        "colab_type": "code",
        "colab": {}
      },
      "source": [
        "y_pred = eli5_model.predict(X_test_eli5)"
      ],
      "execution_count": null,
      "outputs": []
    },
    {
      "cell_type": "code",
      "metadata": {
        "id": "niJiAosI8rVp",
        "colab_type": "code",
        "colab": {
          "base_uri": "https://localhost:8080/",
          "height": 170
        },
        "outputId": "887b3aef-9626-431d-9408-07c0c28d6fab"
      },
      "source": [
        "print(classification_report(y_test, y_pred))"
      ],
      "execution_count": null,
      "outputs": [
        {
          "output_type": "stream",
          "text": [
            "              precision    recall  f1-score   support\n",
            "\n",
            "           0       0.95      0.99      0.97     66765\n",
            "           1       0.83      0.54      0.65      7007\n",
            "\n",
            "    accuracy                           0.95     73772\n",
            "   macro avg       0.89      0.76      0.81     73772\n",
            "weighted avg       0.94      0.95      0.94     73772\n",
            "\n"
          ],
          "name": "stdout"
        }
      ]
    },
    {
      "cell_type": "code",
      "metadata": {
        "id": "SDrl953pTQIv",
        "colab_type": "code",
        "colab": {
          "base_uri": "https://localhost:8080/",
          "height": 279
        },
        "outputId": "43d9cf8d-43ab-419b-9a70-5bbb97d52b08"
      },
      "source": [
        "y_true = y_test\n",
        "y_predicted = y_pred \n",
        "fpr, tpr, _ = roc_curve(y_true, y_predicted)\n",
        "pyplot.plot(fpr, tpr, marker='.', label='Test')\n",
        "pyplot.xlabel('False Positive Rate')\n",
        "pyplot.ylabel('True Positive Rate')\n",
        "pyplot.legend()\n",
        "pyplot.show()"
      ],
      "execution_count": null,
      "outputs": [
        {
          "output_type": "display_data",
          "data": {
            "image/png": "[encoded data removed]",
            "text/plain": [
              "<Figure size 432x288 with 1 Axes>"
            ]
          },
          "metadata": {
            "tags": [],
            "needs_background": "light"
          }
        }
      ]
    },
    {
      "cell_type": "markdown",
      "metadata": {
        "id": "2iFfNL2epzT1",
        "colab_type": "text"
      },
      "source": [
        "По сравнению с бейзлайном на всех данных precision меток 0 и 1 снизился до 0.95 и 0.81, recall метки 1 снизился до 0.54, f1-score снизился до 0.94. Результаты по сравнению с top 10000 features улучшились."
      ]
    },
    {
      "cell_type": "markdown",
      "metadata": {
        "id": "RqS3w13T8_dS",
        "colab_type": "text"
      },
      "source": [
        "### Top 50000 features"
      ]
    },
    {
      "cell_type": "code",
      "metadata": {
        "id": "TAaj6tMI9Gt_",
        "colab_type": "code",
        "colab": {}
      },
      "source": [
        "top50000_features = top_features[:50000]"
      ],
      "execution_count": null,
      "outputs": []
    },
    {
      "cell_type": "code",
      "metadata": {
        "id": "4B6o6uue9G2G",
        "colab_type": "code",
        "colab": {}
      },
      "source": [
        "X_train_eli5 = X_train[:,top50000_features]\n",
        "X_test_eli5 = X_test[:,top50000_features]"
      ],
      "execution_count": null,
      "outputs": []
    },
    {
      "cell_type": "code",
      "metadata": {
        "id": "lLfHvc0s9HBU",
        "colab_type": "code",
        "colab": {}
      },
      "source": [
        "eli5_model = SGDClassifier().fit(X_train_eli5, y_train)"
      ],
      "execution_count": null,
      "outputs": []
    },
    {
      "cell_type": "code",
      "metadata": {
        "id": "jlBj7NG69G94",
        "colab_type": "code",
        "colab": {}
      },
      "source": [
        "y_pred = eli5_model.predict(X_test_eli5)"
      ],
      "execution_count": null,
      "outputs": []
    },
    {
      "cell_type": "code",
      "metadata": {
        "id": "KfjrONQ49G6e",
        "colab_type": "code",
        "colab": {
          "base_uri": "https://localhost:8080/",
          "height": 170
        },
        "outputId": "e69aafac-e737-48b7-80aa-1c1a71a1a737"
      },
      "source": [
        "print(classification_report(y_test, y_pred))"
      ],
      "execution_count": null,
      "outputs": [
        {
          "output_type": "stream",
          "text": [
            "              precision    recall  f1-score   support\n",
            "\n",
            "           0       0.95      0.99      0.97     66765\n",
            "           1       0.81      0.55      0.65      7007\n",
            "\n",
            "    accuracy                           0.94     73772\n",
            "   macro avg       0.88      0.77      0.81     73772\n",
            "weighted avg       0.94      0.94      0.94     73772\n",
            "\n"
          ],
          "name": "stdout"
        }
      ]
    },
    {
      "cell_type": "code",
      "metadata": {
        "id": "6dvjBco5Tu9C",
        "colab_type": "code",
        "colab": {
          "base_uri": "https://localhost:8080/",
          "height": 279
        },
        "outputId": "6821f737-4c7a-4a19-e78d-188511c3011f"
      },
      "source": [
        "y_true = y_test\n",
        "y_predicted = y_pred \n",
        "fpr, tpr, _ = roc_curve(y_true, y_predicted)\n",
        "pyplot.plot(fpr, tpr, marker='.', label='Test')\n",
        "pyplot.xlabel('False Positive Rate')\n",
        "pyplot.ylabel('True Positive Rate')\n",
        "pyplot.legend()\n",
        "pyplot.show()"
      ],
      "execution_count": null,
      "outputs": [
        {
          "output_type": "display_data",
          "data": {
            "image/png": "[encoded data removed]",
            "text/plain": [
              "<Figure size 432x288 with 1 Axes>"
            ]
          },
          "metadata": {
            "tags": [],
            "needs_background": "light"
          }
        }
      ]
    },
    {
      "cell_type": "markdown",
      "metadata": {
        "id": "P_lRQVVlqbNB",
        "colab_type": "text"
      },
      "source": [
        "По сравнению с бейзлайном на всех данных precision меток 0 и 1 снизился до 0.95 0.82, recall метки 1 снизился до 0.54. Результаты по сравнению с top 30000 features улучшились."
      ]
    },
    {
      "cell_type": "markdown",
      "metadata": {
        "id": "SRnXWT4Y0zFQ",
        "colab_type": "text"
      },
      "source": [
        "## 3. Ансамбль из моделей в sklearn (ансамблевые модели типа randomforest не считаются). Нужно минимум 5 разных моделей - 2 балла"
      ]
    },
    {
      "cell_type": "markdown",
      "metadata": {
        "id": "aYCAMTZMT3zX",
        "colab_type": "text"
      },
      "source": [
        "На даунсэмпле"
      ]
    },
    {
      "cell_type": "code",
      "metadata": {
        "id": "IKf6Qw7VX-jq",
        "colab_type": "code",
        "colab": {}
      },
      "source": [
        "X = data_downsampled['comment_text']\n",
        "y = data_downsampled['toxic']"
      ],
      "execution_count": 18,
      "outputs": []
    },
    {
      "cell_type": "code",
      "metadata": {
        "id": "SFeZJptiYRvV",
        "colab_type": "code",
        "colab": {}
      },
      "source": [
        "X_train, X_test, y_train, y_test = train_test_split(X, y, test_size=0.33, random_state=42)"
      ],
      "execution_count": 19,
      "outputs": []
    },
    {
      "cell_type": "markdown",
      "metadata": {
        "id": "_QzNYUzXuWZw",
        "colab_type": "text"
      },
      "source": [
        "Без параметров"
      ]
    },
    {
      "cell_type": "code",
      "metadata": {
        "id": "gTFKxISXwz6Y",
        "colab_type": "code",
        "colab": {
          "base_uri": "https://localhost:8080/",
          "height": 872
        },
        "outputId": "7ea914f9-1c69-4240-9c6f-dc176b675a9f"
      },
      "source": [
        "from sklearn.utils.testing import all_estimators\n",
        "\n",
        "estimators = all_estimators()\n",
        "\n",
        "for name, class_ in estimators:\n",
        "    if hasattr(class_, 'predict_proba'):\n",
        "        print(name)"
      ],
      "execution_count": 20,
      "outputs": [
        {
          "output_type": "stream",
          "text": [
            "AdaBoostClassifier\n",
            "BaggingClassifier\n",
            "BayesianGaussianMixture\n",
            "BernoulliNB\n",
            "CalibratedClassifierCV\n",
            "CategoricalNB\n",
            "ClassifierChain\n",
            "ComplementNB\n",
            "DecisionTreeClassifier\n",
            "DummyClassifier\n",
            "ExtraTreeClassifier\n",
            "ExtraTreesClassifier\n",
            "GaussianMixture\n",
            "GaussianNB\n",
            "GaussianProcessClassifier\n",
            "GradientBoostingClassifier\n",
            "GridSearchCV\n",
            "HistGradientBoostingClassifier\n",
            "KNeighborsClassifier\n",
            "LabelPropagation\n",
            "LabelSpreading\n",
            "LinearDiscriminantAnalysis\n",
            "LogisticRegression\n",
            "LogisticRegressionCV\n",
            "MLPClassifier\n",
            "MultiOutputClassifier\n",
            "MultinomialNB\n",
            "NoSampleWeightWrapper\n",
            "NuSVC\n",
            "OneVsRestClassifier\n",
            "Pipeline\n",
            "QuadraticDiscriminantAnalysis\n",
            "RFE\n",
            "RFECV\n",
            "RadiusNeighborsClassifier\n",
            "RandomForestClassifier\n",
            "RandomizedSearchCV\n",
            "SGDClassifier\n",
            "SVC\n",
            "StackingClassifier\n",
            "VotingClassifier\n",
            "_BinaryGaussianProcessClassifierLaplace\n",
            "_ConstantPredictor\n"
          ],
          "name": "stdout"
        },
        {
          "output_type": "stream",
          "text": [
            "/usr/local/lib/python3.6/dist-packages/sklearn/utils/deprecation.py:144: FutureWarning: The sklearn.utils.testing module is  deprecated in version 0.22 and will be removed in version 0.24. The corresponding classes / functions should instead be imported from sklearn.utils. Anything that cannot be imported from sklearn.utils is now part of the private API.\n",
            "  warnings.warn(message, FutureWarning)\n",
            "/usr/local/lib/python3.6/dist-packages/sklearn/externals/joblib/__init__.py:15: FutureWarning: sklearn.externals.joblib is deprecated in 0.21 and will be removed in 0.23. Please import this functionality directly from joblib, which can be installed with: pip install joblib. If this warning is raised when loading pickled models, you may need to re-serialize those models with scikit-learn 0.21+.\n",
            "  warnings.warn(msg, category=FutureWarning)\n"
          ],
          "name": "stderr"
        }
      ]
    },
    {
      "cell_type": "code",
      "metadata": {
        "id": "57J7m_IZQwH-",
        "colab_type": "code",
        "colab": {}
      },
      "source": [
        "clf1 = MultinomialNB()\n",
        "clf2 = SVC()\n",
        "clf3 = LogisticRegression()\n",
        "clf4 = DecisionTreeClassifier()\n",
        "clf5 = XGBClassifier()\n",
        "\n",
        "eclf = VotingClassifier(estimators=[\n",
        "        ('MNB', clf1), ('SVC', clf2), ('LogReg', clf3),  ('DecTree', clf4),  ('XGB', clf5)], voting='hard')"
      ],
      "execution_count": 21,
      "outputs": []
    },
    {
      "cell_type": "code",
      "metadata": {
        "id": "7dtvN7UXY1B9",
        "colab_type": "code",
        "colab": {}
      },
      "source": [
        "voting = Pipeline([\n",
        "    ('vect', CountVectorizer(analyzer='word', max_features=200)),\n",
        "    ('tfidf', TfidfTransformer(sublinear_tf=True)),\n",
        "    ('to_dense', FunctionTransformer(lambda x: x.todense(), accept_sparse=True)), \n",
        "    ('clf', eclf),\n",
        "    ])"
      ],
      "execution_count": 22,
      "outputs": []
    },
    {
      "cell_type": "code",
      "metadata": {
        "id": "tWRuK7IVFIrs",
        "colab_type": "code",
        "colab": {}
      },
      "source": [
        "voting = voting.fit(X_train, y_train)"
      ],
      "execution_count": 23,
      "outputs": []
    },
    {
      "cell_type": "code",
      "metadata": {
        "id": "FWCocf56aks3",
        "colab_type": "code",
        "colab": {}
      },
      "source": [
        "predictions = voting.predict(X_test)"
      ],
      "execution_count": 24,
      "outputs": []
    },
    {
      "cell_type": "code",
      "metadata": {
        "id": "vY_LCGr0Giws",
        "colab_type": "code",
        "colab": {
          "base_uri": "https://localhost:8080/",
          "height": 87
        },
        "outputId": "61fced32-080d-444f-9a46-931cde7b203f"
      },
      "source": [
        "print(\"Precision: {0:6.2f}\".format(precision_score(y_test, predictions, average='macro')))\n",
        "print(\"Recall: {0:6.2f}\".format(recall_score(y_test, predictions, average='macro')))\n",
        "print(\"F1-measure: {0:6.2f}\".format(f1_score(y_test, predictions, average='macro')))\n",
        "print(\"Accuracy: {0:6.2f}\".format(accuracy_score(y_test, predictions)))"
      ],
      "execution_count": 25,
      "outputs": [
        {
          "output_type": "stream",
          "text": [
            "Precision:   0.83\n",
            "Recall:   0.83\n",
            "F1-measure:   0.83\n",
            "Accuracy:   0.83\n"
          ],
          "name": "stdout"
        }
      ]
    },
    {
      "cell_type": "markdown",
      "metadata": {
        "id": "OFWy0ZAht2xX",
        "colab_type": "text"
      },
      "source": [
        "По сравнению с бейзлайном на даунсэмпле метрики получились на порядок меньше. "
      ]
    },
    {
      "cell_type": "markdown",
      "metadata": {
        "id": "iwW1oYe1JjkH",
        "colab_type": "text"
      },
      "source": [
        "## 4. Любая нейронная модель (минимум 5 слоев) с Dropout, Pooling и колбеками - 2 балла"
      ]
    },
    {
      "cell_type": "markdown",
      "metadata": {
        "id": "p1OScZyPUtJW",
        "colab_type": "text"
      },
      "source": [
        "На даунсэмпле"
      ]
    },
    {
      "cell_type": "code",
      "metadata": {
        "id": "qG0E6An4JzOH",
        "colab_type": "code",
        "colab": {}
      },
      "source": [
        "def preprocess(text):\n",
        "    tokens = text.lower().split()\n",
        "    tokens = [token.strip(punctuation) for token in tokens]\n",
        "    return tokens"
      ],
      "execution_count": null,
      "outputs": []
    },
    {
      "cell_type": "code",
      "metadata": {
        "id": "OwfSBM3_u8j9",
        "colab_type": "code",
        "colab": {}
      },
      "source": [
        "from tensorflow.keras import backend as K\n",
        "def f1(y_true, y_pred):\n",
        "    def recall(y_true, y_pred):\n",
        "        \"\"\"Recall metric.\n",
        "\n",
        "        Only computes a batch-wise average of recall.\n",
        "\n",
        "        Computes the recall, a metric for multi-label classification of\n",
        "        how many relevant items are selected.\n",
        "        \"\"\"\n",
        "        true_positives = K.sum(K.round(K.clip(y_true * y_pred, 0, 1)))\n",
        "        possible_positives = K.sum(K.round(K.clip(y_true, 0, 1)))\n",
        "        recall = true_positives / (possible_positives + K.epsilon())\n",
        "        return recall\n",
        "\n",
        "    def precision(y_true, y_pred):\n",
        "        \"\"\"Precision metric.\n",
        "\n",
        "        Only computes a batch-wise average of precision.\n",
        "\n",
        "        Computes the precision, a metric for multi-label classification of\n",
        "        how many selected items are relevant.\n",
        "        \"\"\"\n",
        "        true_positives = K.sum(K.round(K.clip(y_true * y_pred, 0, 1)))\n",
        "        predicted_positives = K.sum(K.round(K.clip(y_pred, 0, 1)))\n",
        "        precision = true_positives / (predicted_positives + K.epsilon())\n",
        "        return precision\n",
        "    precision = precision(y_true, y_pred)\n",
        "    recall = recall(y_true, y_pred)\n",
        "    return 2*((precision*recall)/(precision+recall+K.epsilon()))"
      ],
      "execution_count": null,
      "outputs": []
    },
    {
      "cell_type": "code",
      "metadata": {
        "id": "12WhPnO3u_Wq",
        "colab_type": "code",
        "colab": {}
      },
      "source": [
        "vocab = Counter()\n",
        "\n",
        "for text in data_downsampled['comment_text']:\n",
        "    vocab.update(preprocess(text))"
      ],
      "execution_count": null,
      "outputs": []
    },
    {
      "cell_type": "code",
      "metadata": {
        "id": "-02akU7evOiB",
        "colab_type": "code",
        "colab": {
          "base_uri": "https://localhost:8080/",
          "height": 34
        },
        "outputId": "858c4a69-3e3a-4e4f-e4fd-a29e798a5a96"
      },
      "source": [
        "len(vocab)"
      ],
      "execution_count": null,
      "outputs": [
        {
          "output_type": "execute_result",
          "data": {
            "text/plain": [
              "102673"
            ]
          },
          "metadata": {
            "tags": []
          },
          "execution_count": 131
        }
      ]
    },
    {
      "cell_type": "code",
      "metadata": {
        "id": "TPhA5DtmvXeR",
        "colab_type": "code",
        "colab": {}
      },
      "source": [
        "filtered_vocab = set()\n",
        "\n",
        "for word in vocab:\n",
        "    if vocab[word] > 2:\n",
        "        filtered_vocab.add(word)"
      ],
      "execution_count": null,
      "outputs": []
    },
    {
      "cell_type": "code",
      "metadata": {
        "id": "BqAszN97va86",
        "colab_type": "code",
        "colab": {
          "base_uri": "https://localhost:8080/",
          "height": 34
        },
        "outputId": "39682a0d-65a8-4ad2-c2c2-9234f6c0daa1"
      },
      "source": [
        "len(filtered_vocab)"
      ],
      "execution_count": null,
      "outputs": [
        {
          "output_type": "execute_result",
          "data": {
            "text/plain": [
              "27207"
            ]
          },
          "metadata": {
            "tags": []
          },
          "execution_count": 133
        }
      ]
    },
    {
      "cell_type": "code",
      "metadata": {
        "id": "A1Mto0XEvcxR",
        "colab_type": "code",
        "colab": {}
      },
      "source": [
        "word2id = {'UNK':1, 'PAD':0}\n",
        "\n",
        "for word in filtered_vocab:\n",
        "    word2id[word] = len(word2id)"
      ],
      "execution_count": null,
      "outputs": []
    },
    {
      "cell_type": "code",
      "metadata": {
        "id": "CSl1OsRbvqsB",
        "colab_type": "code",
        "colab": {}
      },
      "source": [
        "id2word = {i:word for word, i in word2id.items()}"
      ],
      "execution_count": null,
      "outputs": []
    },
    {
      "cell_type": "code",
      "metadata": {
        "id": "AWrORXoGvtKR",
        "colab_type": "code",
        "colab": {}
      },
      "source": [
        "X = []\n",
        "\n",
        "for text in data_downsampled['comment_text']:\n",
        "    tokens = preprocess(text)\n",
        "    ids = [word2id.get(token, 1) for token in tokens]\n",
        "    X.append(ids)"
      ],
      "execution_count": null,
      "outputs": []
    },
    {
      "cell_type": "code",
      "metadata": {
        "id": "8WVEb7dav09x",
        "colab_type": "code",
        "colab": {}
      },
      "source": [
        "MAX_LEN = max(len(x) for x in X)"
      ],
      "execution_count": null,
      "outputs": []
    },
    {
      "cell_type": "code",
      "metadata": {
        "id": "DJTdvavYv5JP",
        "colab_type": "code",
        "colab": {}
      },
      "source": [
        "MEAN_LEN = np.median([len(x) for x in X])"
      ],
      "execution_count": null,
      "outputs": []
    },
    {
      "cell_type": "code",
      "metadata": {
        "id": "fHWCjdfawGVY",
        "colab_type": "code",
        "colab": {
          "base_uri": "https://localhost:8080/",
          "height": 34
        },
        "outputId": "1f70755d-bba3-40f4-9660-77a028daac95"
      },
      "source": [
        "MAX_LEN, MEAN_LEN"
      ],
      "execution_count": null,
      "outputs": [
        {
          "output_type": "execute_result",
          "data": {
            "text/plain": [
              "(2321, 28.0)"
            ]
          },
          "metadata": {
            "tags": []
          },
          "execution_count": 139
        }
      ]
    },
    {
      "cell_type": "code",
      "metadata": {
        "id": "ElBhVeXNwNL_",
        "colab_type": "code",
        "colab": {}
      },
      "source": [
        "MAX_LEN = 35"
      ],
      "execution_count": null,
      "outputs": []
    },
    {
      "cell_type": "code",
      "metadata": {
        "id": "ZCq-yXZ6weDX",
        "colab_type": "code",
        "colab": {}
      },
      "source": [
        "X = tf.keras.preprocessing.sequence.pad_sequences(X, maxlen=MAX_LEN)"
      ],
      "execution_count": null,
      "outputs": []
    },
    {
      "cell_type": "code",
      "metadata": {
        "id": "pAY_p3KnwhD3",
        "colab_type": "code",
        "colab": {
          "base_uri": "https://localhost:8080/",
          "height": 34
        },
        "outputId": "51fa2295-d522-4b00-dc6c-a86c597fcf34"
      },
      "source": [
        "X.shape"
      ],
      "execution_count": null,
      "outputs": [
        {
          "output_type": "execute_result",
          "data": {
            "text/plain": [
              "(42768, 35)"
            ]
          },
          "metadata": {
            "tags": []
          },
          "execution_count": 142
        }
      ]
    },
    {
      "cell_type": "code",
      "metadata": {
        "id": "aWo-T9Vww0rq",
        "colab_type": "code",
        "colab": {}
      },
      "source": [
        "y = data_downsampled.toxic.values"
      ],
      "execution_count": null,
      "outputs": []
    },
    {
      "cell_type": "code",
      "metadata": {
        "id": "d0ZCLU6pxBSe",
        "colab_type": "code",
        "colab": {}
      },
      "source": [
        "X_train, X_valid, y_train, y_valid = train_test_split(X, y, test_size=0.05, stratify=y)"
      ],
      "execution_count": null,
      "outputs": []
    },
    {
      "cell_type": "code",
      "metadata": {
        "id": "8eGRVart3enH",
        "colab_type": "code",
        "colab": {}
      },
      "source": [
        "filepath = '/gdrive/My Drive/exam/model.weights'"
      ],
      "execution_count": null,
      "outputs": []
    },
    {
      "cell_type": "code",
      "metadata": {
        "id": "3L00x3q71RJ9",
        "colab_type": "code",
        "colab": {}
      },
      "source": [
        "checkpoint = tf.keras.callbacks.ModelCheckpoint(filepath, \n",
        "                                                monitor='val_f1', \n",
        "                                                verbose=1, \n",
        "                                                save_weights_only=True, \n",
        "                                                save_best_only=True,\n",
        "                                                mode='max', \n",
        "                                                save_freq='epoch' \n",
        "                                               )\n",
        "\n",
        "early_stop = tf.keras.callbacks.EarlyStopping(monitor='val_f1', \n",
        "                                              min_delta=0.01, \n",
        "                                              patience=3, \n",
        "                                              verbose=1, \n",
        "                                              mode='max',\n",
        "                                              )"
      ],
      "execution_count": null,
      "outputs": []
    },
    {
      "cell_type": "code",
      "metadata": {
        "id": "VX8TR6ngzjwz",
        "colab_type": "code",
        "colab": {}
      },
      "source": [
        "inputs = tf.keras.layers.Input(shape=(MAX_LEN,))\n",
        "embeddings = tf.keras.layers.Embedding(input_dim=len(word2id), output_dim=100)(inputs, )\n",
        "convs = []\n",
        "\n",
        "conv1 = tf.keras.layers.Conv1D(kernel_size=2, filters=24, strides=1)(embeddings)\n",
        "drop1 = tf.keras.layers.Dropout(0.1)(conv1)\n",
        "conv2 = tf.keras.layers.Conv1D(kernel_size=1, filters=16, strides=1, activation='relu')(drop1)\n",
        "pool1 = tf.keras.layers.GlobalAveragePooling1D()(conv2)\n",
        "drop2 = tf.keras.layers.Dropout(0.2)(pool1)\n",
        "convs.append(drop2)\n",
        "\n",
        "conv3 = tf.keras.layers.Conv1D(kernel_size=4, filters=32, strides=1)(embeddings)\n",
        "conv4 = tf.keras.layers.Conv1D(kernel_size=6, filters=16, strides=1, activation='relu')(conv3)\n",
        "pool2 = tf.keras.layers.GlobalMaxPooling1D()(conv4)\n",
        "drop3 = tf.keras.layers.Dropout(0.3)(pool2)\n",
        "convs.append(drop3)\n",
        "\n",
        "conv5 = tf.keras.layers.Conv1D(kernel_size=8, filters=32, strides=1, kernel_regularizer='l2')(embeddings)\n",
        "conv6 = tf.keras.layers.Conv1D(kernel_size=10, filters=16, strides=1, activation='relu')(conv5)\n",
        "pool3 = tf.keras.layers.GlobalAveragePooling1D()(conv6)\n",
        "drop4 = tf.keras.layers.Dropout(0.4)(pool3)\n",
        "convs.append(drop4)\n",
        "\n",
        "conv7 = tf.keras.layers.Conv1D(kernel_size=2, filters=16, strides=2, kernel_regularizer='l2')(embeddings)\n",
        "conv8 = tf.keras.layers.Conv1D(kernel_size=2, filters=16, strides=2, activation='relu')(conv7)\n",
        "pool4 = tf.keras.layers.GlobalMaxPooling1D()(conv8)\n",
        "drop5 = tf.keras.layers.Dropout(0.5)(pool4)\n",
        "convs.append(drop5)\n",
        "\n",
        "concat = tf.keras.layers.concatenate(convs)\n",
        "\n",
        "dense = tf.keras.layers.Dense(64, activation='relu')(concat)\n",
        "\n",
        "outputs = tf.keras.layers.Dense(1, activation='sigmoid')(dense)\n",
        "\n",
        "model = tf.keras.Model(inputs=inputs, outputs=outputs)\n",
        "optimizer = tf.keras.optimizers.Adam(learning_rate=0.001)\n",
        "model.compile(optimizer=optimizer,\n",
        "              loss='binary_crossentropy',\n",
        "              metrics=[f1])"
      ],
      "execution_count": null,
      "outputs": []
    },
    {
      "cell_type": "code",
      "metadata": {
        "id": "Nks7xmreypWL",
        "colab_type": "code",
        "colab": {
          "base_uri": "https://localhost:8080/",
          "height": 459
        },
        "outputId": "4b40ff7b-f390-401e-fcff-0726d712d729"
      },
      "source": [
        "model.fit(X_train, y_train, \n",
        "          validation_data=(X_valid, y_valid),\n",
        "          batch_size=2000,\n",
        "         epochs=10,\n",
        "         callbacks=[checkpoint, early_stop])"
      ],
      "execution_count": null,
      "outputs": [
        {
          "output_type": "stream",
          "text": [
            "Epoch 1/10\n",
            "21/21 [==============================] - ETA: 0s - loss: 1.2324 - f1: 0.4832\n",
            "Epoch 00001: val_f1 improved from -inf to 0.61628, saving model to /gdrive/My Drive/exam/model.weights\n",
            "21/21 [==============================] - 16s 754ms/step - loss: 1.2324 - f1: 0.4832 - val_loss: 0.9908 - val_f1: 0.6163\n",
            "Epoch 2/10\n",
            "21/21 [==============================] - ETA: 0s - loss: 0.8170 - f1: 0.7328\n",
            "Epoch 00002: val_f1 improved from 0.61628 to 0.82849, saving model to /gdrive/My Drive/exam/model.weights\n",
            "21/21 [==============================] - 15s 736ms/step - loss: 0.8170 - f1: 0.7328 - val_loss: 0.5873 - val_f1: 0.8285\n",
            "Epoch 3/10\n",
            "21/21 [==============================] - ETA: 0s - loss: 0.4961 - f1: 0.8464\n",
            "Epoch 00003: val_f1 improved from 0.82849 to 0.87461, saving model to /gdrive/My Drive/exam/model.weights\n",
            "21/21 [==============================] - 15s 733ms/step - loss: 0.4961 - f1: 0.8464 - val_loss: 0.4069 - val_f1: 0.8746\n",
            "Epoch 4/10\n",
            "21/21 [==============================] - ETA: 0s - loss: 0.3301 - f1: 0.9002\n",
            "Epoch 00004: val_f1 improved from 0.87461 to 0.87953, saving model to /gdrive/My Drive/exam/model.weights\n",
            "21/21 [==============================] - 16s 740ms/step - loss: 0.3301 - f1: 0.9002 - val_loss: 0.3302 - val_f1: 0.8795\n",
            "Epoch 5/10\n",
            "21/21 [==============================] - ETA: 0s - loss: 0.2389 - f1: 0.9263\n",
            "Epoch 00005: val_f1 did not improve from 0.87953\n",
            "21/21 [==============================] - 15s 732ms/step - loss: 0.2389 - f1: 0.9263 - val_loss: 0.3154 - val_f1: 0.8753\n",
            "Epoch 6/10\n",
            "21/21 [==============================] - ETA: 0s - loss: 0.1904 - f1: 0.9389\n",
            "Epoch 00006: val_f1 improved from 0.87953 to 0.88432, saving model to /gdrive/My Drive/exam/model.weights\n",
            "21/21 [==============================] - 15s 737ms/step - loss: 0.1904 - f1: 0.9389 - val_loss: 0.3319 - val_f1: 0.8843\n",
            "Epoch 00006: early stopping\n"
          ],
          "name": "stdout"
        },
        {
          "output_type": "execute_result",
          "data": {
            "text/plain": [
              "<tensorflow.python.keras.callbacks.History at 0x7f2c2f534f28>"
            ]
          },
          "metadata": {
            "tags": []
          },
          "execution_count": 35
        }
      ]
    },
    {
      "cell_type": "code",
      "metadata": {
        "id": "IQM_yeqSyrqj",
        "colab_type": "code",
        "colab": {
          "base_uri": "https://localhost:8080/",
          "height": 312
        },
        "outputId": "bd9ebda9-a83c-49f9-c459-b4987ce410be"
      },
      "source": [
        "print(model.history.history.keys())\n",
        "# summarize history for accuracy\n",
        "plt.plot(model.history.history['f1'])\n",
        "plt.plot(model.history.history['val_f1'])\n",
        "plt.title('model f1')\n",
        "plt.ylabel('f1')\n",
        "plt.xlabel('epoch')\n",
        "plt.legend(['train', 'val'], loc='upper left')\n",
        "plt.show()"
      ],
      "execution_count": null,
      "outputs": [
        {
          "output_type": "stream",
          "text": [
            "dict_keys(['loss', 'f1', 'val_loss', 'val_f1'])\n"
          ],
          "name": "stdout"
        },
        {
          "output_type": "display_data",
          "data": {
            "image/png": "[encoded data removed]",
            "text/plain": [
              "<Figure size 432x288 with 1 Axes>"
            ]
          },
          "metadata": {
            "tags": [],
            "needs_background": "light"
          }
        }
      ]
    },
    {
      "cell_type": "markdown",
      "metadata": {
        "id": "n2Q1B_RT6Pyv",
        "colab_type": "text"
      },
      "source": [
        "Судя по графику в модели наблюдается небольшое переобучение, но f1-мера 0.88 на тесте оказалась на несколько процентов лучше, чем в бейзлайне на всех данных 0.83 и почти такой же как в бейзлайне на даунсэмпле 0.89."
      ]
    },
    {
      "cell_type": "markdown",
      "metadata": {
        "id": "99gghnKB3-qd",
        "colab_type": "text"
      },
      "source": [
        "## 5. Использование токенизации на символьные нграммы (не параметром analyzer=’char’, а вручную или готовым энструментов вроде youtokentome - 2 балла"
      ]
    },
    {
      "cell_type": "markdown",
      "metadata": {
        "id": "Jlvijey7h8O4",
        "colab_type": "text"
      },
      "source": [
        "С использованием кода по youtokentome Алексея Доркина на даунсэмпле"
      ]
    },
    {
      "cell_type": "code",
      "metadata": {
        "id": "wngfwz02gU6s",
        "colab_type": "code",
        "colab": {
          "base_uri": "https://localhost:8080/",
          "height": 34
        },
        "outputId": "5805fd62-bb21-45fc-99c0-bff4f3a981a5"
      },
      "source": [
        "cd '/gdrive/My Drive/exam/'"
      ],
      "execution_count": null,
      "outputs": [
        {
          "output_type": "stream",
          "text": [
            "/gdrive/My Drive/exam\n"
          ],
          "name": "stdout"
        }
      ]
    },
    {
      "cell_type": "code",
      "metadata": {
        "id": "uw0Y07MOgUzJ",
        "colab_type": "code",
        "colab": {}
      },
      "source": [
        "train, test = train_test_split(data_downsampled, test_size=0.3, random_state=0) "
      ],
      "execution_count": null,
      "outputs": []
    },
    {
      "cell_type": "code",
      "metadata": {
        "id": "imO7GzFPgUr4",
        "colab_type": "code",
        "colab": {}
      },
      "source": [
        "comments = train.comment_text.to_csv(index=False, header=None) "
      ],
      "execution_count": null,
      "outputs": []
    },
    {
      "cell_type": "code",
      "metadata": {
        "id": "vVv3qEWpgUjb",
        "colab_type": "code",
        "colab": {}
      },
      "source": [
        "with open('/gdrive/My Drive/exam/comments.txt', 'w') as file: \n",
        "  new_comments = re.sub(r'\\\"{2,}', '', comments) \n",
        "  new_comments = re.sub(r'\\n+', ' ', new_comments) \n",
        "  file.write(new_comments)"
      ],
      "execution_count": null,
      "outputs": []
    },
    {
      "cell_type": "code",
      "metadata": {
        "id": "foCzovgJgUbt",
        "colab_type": "code",
        "colab": {
          "base_uri": "https://localhost:8080/",
          "height": 68
        },
        "outputId": "b0218c2b-a50a-4149-ef58-7491ab9c868c"
      },
      "source": [
        "%%time\n",
        "yttm.BPE.train('/gdrive/My Drive/exam/comments.txt', '/gdrive/My Drive/exam/bpe.model', vocab_size=2000, coverage=0.9999, n_threads=-1, pad_id=0, unk_id=1) "
      ],
      "execution_count": null,
      "outputs": [
        {
          "output_type": "stream",
          "text": [
            "CPU times: user 1.55 s, sys: 90.9 ms, total: 1.64 s\n",
            "Wall time: 1.21 s\n"
          ],
          "name": "stdout"
        },
        {
          "output_type": "execute_result",
          "data": {
            "text/plain": [
              "<youtokentome.youtokentome.BPE at 0x7f29a9c7d4e0>"
            ]
          },
          "metadata": {
            "tags": []
          },
          "execution_count": 128
        }
      ]
    },
    {
      "cell_type": "code",
      "metadata": {
        "id": "M646_PWHiOsN",
        "colab_type": "code",
        "colab": {}
      },
      "source": [
        "bpe_model = yttm.BPE('/gdrive/My Drive/exam/bpe.model', n_threads=-1) # читаем модель из файла"
      ],
      "execution_count": null,
      "outputs": []
    },
    {
      "cell_type": "code",
      "metadata": {
        "id": "zeYG-Ku0iYYW",
        "colab_type": "code",
        "colab": {}
      },
      "source": [
        "encoded_comments = bpe_model.encode(data_downsampled.comment_text.tolist(), output_type=yttm.OutputType.ID) # на выходе получаем сразу ID подслов в предложениях, что нам и нужно на входе в сеть"
      ],
      "execution_count": null,
      "outputs": []
    },
    {
      "cell_type": "code",
      "metadata": {
        "id": "UDQq-93KgUTx",
        "colab_type": "code",
        "colab": {}
      },
      "source": [
        "data_downsampled['encoded_comments'] = encoded_comments # записываем закодированные версии для всех предложений"
      ],
      "execution_count": null,
      "outputs": []
    },
    {
      "cell_type": "code",
      "metadata": {
        "id": "NsMxOKzAidI5",
        "colab_type": "code",
        "colab": {}
      },
      "source": [
        "train, test = train_test_split(data_downsampled, test_size=0.3, random_state=0) # опять делим на трейн и тест (с тем же сидом, чтобы разделение было такое же)"
      ],
      "execution_count": null,
      "outputs": []
    },
    {
      "cell_type": "code",
      "metadata": {
        "id": "ijKSgLqhig18",
        "colab_type": "code",
        "colab": {
          "base_uri": "https://localhost:8080/",
          "height": 34
        },
        "outputId": "910cd63b-cba8-47d8-aecd-61d0ad62f699"
      },
      "source": [
        "[bpe_model.id_to_subword(num) for num in encoded_comments[0]][:10] # модель содержит словарь подслов"
      ],
      "execution_count": null,
      "outputs": [
        {
          "output_type": "execute_result",
          "data": {
            "text/plain": [
              "['▁h', 'mm', 'mm', '...', '▁app', 'are', 'nt', 'ly', '▁i', \"▁didn't\"]"
            ]
          },
          "metadata": {
            "tags": []
          },
          "execution_count": 133
        }
      ]
    },
    {
      "cell_type": "code",
      "metadata": {
        "id": "psx5t58MifEs",
        "colab_type": "code",
        "colab": {
          "base_uri": "https://localhost:8080/",
          "height": 34
        },
        "outputId": "6a9154cb-5aac-4ef1-eabc-9ebee6fb9aba"
      },
      "source": [
        "MAX_LEN = max(len(text) for text in train['encoded_comments'])\n",
        "MAX_LEN"
      ],
      "execution_count": null,
      "outputs": [
        {
          "output_type": "execute_result",
          "data": {
            "text/plain": [
              "4982"
            ]
          },
          "metadata": {
            "tags": []
          },
          "execution_count": 134
        }
      ]
    },
    {
      "cell_type": "code",
      "metadata": {
        "id": "XMxMcAk0ikF0",
        "colab_type": "code",
        "colab": {
          "base_uri": "https://localhost:8080/",
          "height": 34
        },
        "outputId": "69ada9f4-5ec0-4155-b3a0-a3ee3b69ad33"
      },
      "source": [
        "MEAN_LEN = np.median([len(text) for text in train['encoded_comments']])\n",
        "MEAN_LEN"
      ],
      "execution_count": null,
      "outputs": [
        {
          "output_type": "execute_result",
          "data": {
            "text/plain": [
              "54.0"
            ]
          },
          "metadata": {
            "tags": []
          },
          "execution_count": 135
        }
      ]
    },
    {
      "cell_type": "code",
      "metadata": {
        "id": "LIBBWMyD4e92",
        "colab_type": "code",
        "colab": {
          "base_uri": "https://localhost:8080/",
          "height": 34
        },
        "outputId": "8ffaeae1-5d85-40cc-ac2e-02c6a0299450"
      },
      "source": [
        "len(bpe_model.vocab())"
      ],
      "execution_count": null,
      "outputs": [
        {
          "output_type": "execute_result",
          "data": {
            "text/plain": [
              "2000"
            ]
          },
          "metadata": {
            "tags": []
          },
          "execution_count": 136
        }
      ]
    },
    {
      "cell_type": "code",
      "metadata": {
        "id": "lb7dk8I801sZ",
        "colab_type": "code",
        "colab": {}
      },
      "source": [
        "MAX_LEN = 60\n",
        "X_train = tf.keras.preprocessing.sequence.pad_sequences(train['encoded_comments'], maxlen=MAX_LEN)\n",
        "X_valid = tf.keras.preprocessing.sequence.pad_sequences(test['encoded_comments'], maxlen=MAX_LEN)"
      ],
      "execution_count": null,
      "outputs": []
    },
    {
      "cell_type": "code",
      "metadata": {
        "id": "YbYQ8ptZ2KEx",
        "colab_type": "code",
        "colab": {}
      },
      "source": [
        "y_train = train['toxic']\n",
        "y_valid = test['toxic']"
      ],
      "execution_count": null,
      "outputs": []
    },
    {
      "cell_type": "code",
      "metadata": {
        "id": "yW4Ga5gN2rSh",
        "colab_type": "code",
        "colab": {}
      },
      "source": [
        "checkpoint = tf.keras.callbacks.ModelCheckpoint('model.weights', \n",
        "                                                monitor='val_f1', \n",
        "                                                verbose=1, \n",
        "                                                save_weights_only=True, \n",
        "                                                save_best_only=True,\n",
        "                                                mode='max', \n",
        "                                                save_freq='epoch' \n",
        "                                               )\n",
        "\n",
        "early_stop = tf.keras.callbacks.EarlyStopping(monitor='val_f1', \n",
        "                                              min_delta=0.01, \n",
        "                                              patience=3, \n",
        "                                              verbose=1, \n",
        "                                              mode='max',\n",
        "                                              )"
      ],
      "execution_count": null,
      "outputs": []
    },
    {
      "cell_type": "code",
      "metadata": {
        "id": "YZ06lpUV2yM0",
        "colab_type": "code",
        "colab": {}
      },
      "source": [
        "inputs = tf.keras.layers.Input(shape=(MAX_LEN,))\n",
        "embeddings = tf.keras.layers.Embedding(input_dim=len(bpe_model.vocab()), output_dim=50)(inputs, )\n",
        "convs = []\n",
        "\n",
        "conv1 = tf.keras.layers.Conv1D(kernel_size=2, filters=24, strides=1)(embeddings)\n",
        "drop1 = tf.keras.layers.Dropout(0.1)(conv1)\n",
        "conv2 = tf.keras.layers.Conv1D(kernel_size=1, filters=16, strides=1, activation='relu')(drop1)\n",
        "pool1 = tf.keras.layers.GlobalAveragePooling1D()(conv2)\n",
        "drop2 = tf.keras.layers.Dropout(0.2)(pool1)\n",
        "convs.append(drop2)\n",
        "\n",
        "conv3 = tf.keras.layers.Conv1D(kernel_size=4, filters=32, strides=1)(embeddings)\n",
        "conv4 = tf.keras.layers.Conv1D(kernel_size=6, filters=16, strides=1, activation='relu')(conv3)\n",
        "pool2 = tf.keras.layers.GlobalMaxPooling1D()(conv4)\n",
        "drop3 = tf.keras.layers.Dropout(0.3)(pool2)\n",
        "convs.append(drop3)\n",
        "\n",
        "conv5 = tf.keras.layers.Conv1D(kernel_size=8, filters=32, strides=1, kernel_regularizer='l2')(embeddings)\n",
        "conv6 = tf.keras.layers.Conv1D(kernel_size=10, filters=16, strides=1, activation='relu')(conv5)\n",
        "pool3 = tf.keras.layers.GlobalAveragePooling1D()(conv6)\n",
        "drop4 = tf.keras.layers.Dropout(0.4)(pool3)\n",
        "convs.append(drop4)\n",
        "\n",
        "conv7 = tf.keras.layers.Conv1D(kernel_size=2, filters=16, strides=2, kernel_regularizer='l2')(embeddings)\n",
        "conv8 = tf.keras.layers.Conv1D(kernel_size=2, filters=16, strides=2, activation='relu')(conv7)\n",
        "pool4 = tf.keras.layers.GlobalMaxPooling1D()(conv8)\n",
        "drop5 = tf.keras.layers.Dropout(0.5)(pool4)\n",
        "convs.append(drop5)\n",
        "\n",
        "concat = tf.keras.layers.concatenate(convs)\n",
        "\n",
        "dense = tf.keras.layers.Dense(64, activation='relu')(concat)\n",
        "\n",
        "outputs = tf.keras.layers.Dense(1, activation='sigmoid')(dense)\n",
        "\n",
        "model = tf.keras.Model(inputs=inputs, outputs=outputs)\n",
        "optimizer = tf.keras.optimizers.Adam(learning_rate=0.001)\n",
        "model.compile(optimizer=optimizer,\n",
        "              loss='binary_crossentropy',\n",
        "              metrics=[f1])"
      ],
      "execution_count": null,
      "outputs": []
    },
    {
      "cell_type": "code",
      "metadata": {
        "id": "uqx4OVHM4tym",
        "colab_type": "code",
        "colab": {
          "base_uri": "https://localhost:8080/",
          "height": 731
        },
        "outputId": "95ac5434-89e8-4b30-f977-d7db7a335f0f"
      },
      "source": [
        "model.fit(X_train, y_train, \n",
        "          validation_data=(X_valid, y_valid),\n",
        "          batch_size=2000,\n",
        "         epochs=15,\n",
        "         callbacks=[checkpoint, early_stop])"
      ],
      "execution_count": null,
      "outputs": [
        {
          "output_type": "stream",
          "text": [
            "Epoch 1/15\n",
            "15/15 [==============================] - ETA: 0s - loss: 1.2205 - f1: 0.5272\n",
            "Epoch 00001: val_f1 improved from -inf to 0.62807, saving model to model.weights\n",
            "15/15 [==============================] - 14s 910ms/step - loss: 1.2205 - f1: 0.5272 - val_loss: 1.0964 - val_f1: 0.6281\n",
            "Epoch 2/15\n",
            "15/15 [==============================] - ETA: 0s - loss: 0.9972 - f1: 0.6406\n",
            "Epoch 00002: val_f1 improved from 0.62807 to 0.69330, saving model to model.weights\n",
            "15/15 [==============================] - 13s 878ms/step - loss: 0.9972 - f1: 0.6406 - val_loss: 0.8687 - val_f1: 0.6933\n",
            "Epoch 3/15\n",
            "15/15 [==============================] - ETA: 0s - loss: 0.7483 - f1: 0.7649\n",
            "Epoch 00003: val_f1 improved from 0.69330 to 0.81240, saving model to model.weights\n",
            "15/15 [==============================] - 13s 879ms/step - loss: 0.7483 - f1: 0.7649 - val_loss: 0.6201 - val_f1: 0.8124\n",
            "Epoch 4/15\n",
            "15/15 [==============================] - ETA: 0s - loss: 0.5717 - f1: 0.8263\n",
            "Epoch 00004: val_f1 improved from 0.81240 to 0.84351, saving model to model.weights\n",
            "15/15 [==============================] - 13s 878ms/step - loss: 0.5717 - f1: 0.8263 - val_loss: 0.5011 - val_f1: 0.8435\n",
            "Epoch 5/15\n",
            "15/15 [==============================] - ETA: 0s - loss: 0.4626 - f1: 0.8569\n",
            "Epoch 00005: val_f1 improved from 0.84351 to 0.85933, saving model to model.weights\n",
            "15/15 [==============================] - 13s 878ms/step - loss: 0.4626 - f1: 0.8569 - val_loss: 0.4293 - val_f1: 0.8593\n",
            "Epoch 6/15\n",
            "15/15 [==============================] - ETA: 0s - loss: 0.3979 - f1: 0.8699\n",
            "Epoch 00006: val_f1 improved from 0.85933 to 0.86921, saving model to model.weights\n",
            "15/15 [==============================] - 13s 878ms/step - loss: 0.3979 - f1: 0.8699 - val_loss: 0.3880 - val_f1: 0.8692\n",
            "Epoch 7/15\n",
            "15/15 [==============================] - ETA: 0s - loss: 0.3566 - f1: 0.8780\n",
            "Epoch 00007: val_f1 improved from 0.86921 to 0.87059, saving model to model.weights\n",
            "15/15 [==============================] - 13s 884ms/step - loss: 0.3566 - f1: 0.8780 - val_loss: 0.3640 - val_f1: 0.8706\n",
            "Epoch 8/15\n",
            "15/15 [==============================] - ETA: 0s - loss: 0.3305 - f1: 0.8827\n",
            "Epoch 00008: val_f1 improved from 0.87059 to 0.87194, saving model to model.weights\n",
            "15/15 [==============================] - 13s 877ms/step - loss: 0.3305 - f1: 0.8827 - val_loss: 0.3503 - val_f1: 0.8719\n",
            "Epoch 9/15\n",
            "15/15 [==============================] - ETA: 0s - loss: 0.3090 - f1: 0.8896\n",
            "Epoch 00009: val_f1 did not improve from 0.87194\n",
            "15/15 [==============================] - 13s 873ms/step - loss: 0.3090 - f1: 0.8896 - val_loss: 0.3409 - val_f1: 0.8718\n",
            "Epoch 10/15\n",
            "15/15 [==============================] - ETA: 0s - loss: 0.2939 - f1: 0.8904\n",
            "Epoch 00010: val_f1 did not improve from 0.87194\n",
            "15/15 [==============================] - 13s 870ms/step - loss: 0.2939 - f1: 0.8904 - val_loss: 0.3375 - val_f1: 0.8701\n",
            "Epoch 00010: early stopping\n"
          ],
          "name": "stdout"
        },
        {
          "output_type": "execute_result",
          "data": {
            "text/plain": [
              "<tensorflow.python.keras.callbacks.History at 0x7f29bc256f60>"
            ]
          },
          "metadata": {
            "tags": []
          },
          "execution_count": 141
        }
      ]
    },
    {
      "cell_type": "code",
      "metadata": {
        "id": "TSoNiRBg8Xib",
        "colab_type": "code",
        "colab": {
          "base_uri": "https://localhost:8080/",
          "height": 312
        },
        "outputId": "402e0257-5e08-4789-cde9-a337be6702ad"
      },
      "source": [
        "print(model.history.history.keys())\n",
        "plt.plot(model.history.history['f1'])\n",
        "plt.plot(model.history.history['val_f1'])\n",
        "plt.title('model f1')\n",
        "plt.ylabel('f1')\n",
        "plt.xlabel('epoch')\n",
        "plt.legend(['train', 'val'], loc='upper left')\n",
        "plt.show()"
      ],
      "execution_count": null,
      "outputs": [
        {
          "output_type": "stream",
          "text": [
            "dict_keys(['loss', 'f1', 'val_loss', 'val_f1'])\n"
          ],
          "name": "stdout"
        },
        {
          "output_type": "display_data",
          "data": {
            "image/png": "[encoded data removed]",
            "text/plain": [
              "<Figure size 432x288 with 1 Axes>"
            ]
          },
          "metadata": {
            "tags": [],
            "needs_background": "light"
          }
        }
      ]
    },
    {
      "cell_type": "markdown",
      "metadata": {
        "id": "lP0OVpmbXm3Z",
        "colab_type": "text"
      },
      "source": [
        "По сравнению с бейзлайном на даунсэмпле (0.89) метрика f1 в сверточной нейронной модели на символах получилась немного меньше (0.87)."
      ]
    },
    {
      "cell_type": "markdown",
      "metadata": {
        "id": "ePEpYjd1MYZQ",
        "colab_type": "text"
      },
      "source": [
        "## 6. Поиск аутлаеров в данных с помощью кластеризации (нужно найти хотя бы 20 странных не одинаковых текста)  - 1.5 балла"
      ]
    },
    {
      "cell_type": "code",
      "metadata": {
        "id": "Fz-LgNuHMWec",
        "colab_type": "code",
        "colab": {}
      },
      "source": [
        "sample = data_downsampled.sample(frac=0.01)"
      ],
      "execution_count": null,
      "outputs": []
    },
    {
      "cell_type": "code",
      "metadata": {
        "id": "eXfcIfguNpP3",
        "colab_type": "code",
        "colab": {}
      },
      "source": [
        "cv = CountVectorizer()\n",
        "svd = TruncatedSVD(50)\n",
        "X = cv.fit_transform(sample['comment_text'])\n",
        "X_svd = svd.fit_transform(X)\n",
        "\n",
        "y = sample['toxic']"
      ],
      "execution_count": null,
      "outputs": []
    },
    {
      "cell_type": "code",
      "metadata": {
        "id": "q_kVCIbOPxx9",
        "colab_type": "code",
        "colab": {
          "base_uri": "https://localhost:8080/",
          "height": 52
        },
        "outputId": "be47d1a6-dd72-47de-f568-8cf78045ee4e"
      },
      "source": [
        "cluster = DBSCAN(min_samples=5, eps=0.5) \n",
        "cluster.fit(X_svd)"
      ],
      "execution_count": null,
      "outputs": [
        {
          "output_type": "execute_result",
          "data": {
            "text/plain": [
              "DBSCAN(algorithm='auto', eps=0.5, leaf_size=30, metric='euclidean',\n",
              "       metric_params=None, min_samples=5, n_jobs=None, p=None)"
            ]
          },
          "metadata": {
            "tags": []
          },
          "execution_count": 183
        }
      ]
    },
    {
      "cell_type": "code",
      "metadata": {
        "id": "B1uQgIPUQOdk",
        "colab_type": "code",
        "colab": {}
      },
      "source": [
        "labels = cluster.labels_"
      ],
      "execution_count": null,
      "outputs": []
    },
    {
      "cell_type": "code",
      "metadata": {
        "id": "dg7dysL7RPOI",
        "colab_type": "code",
        "colab": {}
      },
      "source": [
        "sample['cluster'] = cluster.labels_"
      ],
      "execution_count": null,
      "outputs": []
    },
    {
      "cell_type": "code",
      "metadata": {
        "id": "eQVpGiB1ft48",
        "colab_type": "code",
        "colab": {
          "base_uri": "https://localhost:8080/",
          "height": 34
        },
        "outputId": "5b34eaba-cf71-4677-949d-46257b695b03"
      },
      "source": [
        "set(cluster.labels_)"
      ],
      "execution_count": null,
      "outputs": [
        {
          "output_type": "execute_result",
          "data": {
            "text/plain": [
              "{-1, 0, 1}"
            ]
          },
          "metadata": {
            "tags": []
          },
          "execution_count": 186
        }
      ]
    },
    {
      "cell_type": "code",
      "metadata": {
        "id": "1b3LRVlURSO5",
        "colab_type": "code",
        "colab": {
          "base_uri": "https://localhost:8080/",
          "height": 34
        },
        "outputId": "4b31bd47-bda4-4094-fcf6-6a40fda39858"
      },
      "source": [
        "len(set(cluster.labels_))"
      ],
      "execution_count": null,
      "outputs": [
        {
          "output_type": "execute_result",
          "data": {
            "text/plain": [
              "3"
            ]
          },
          "metadata": {
            "tags": []
          },
          "execution_count": 187
        }
      ]
    },
    {
      "cell_type": "code",
      "metadata": {
        "id": "n4mjsxIESvFk",
        "colab_type": "code",
        "colab": {
          "base_uri": "https://localhost:8080/",
          "height": 437
        },
        "outputId": "c6a258de-5287-4ec8-86f6-9d9d26416e6c"
      },
      "source": [
        "sample[sample.cluster==0]\n"
      ],
      "execution_count": null,
      "outputs": [
        {
          "output_type": "execute_result",
          "data": {
            "text/html": [
              "<div>\n",
              "<style scoped>\n",
              "    .dataframe tbody tr th:only-of-type {\n",
              "        vertical-align: middle;\n",
              "    }\n",
              "\n",
              "    .dataframe tbody tr th {\n",
              "        vertical-align: top;\n",
              "    }\n",
              "\n",
              "    .dataframe thead th {\n",
              "        text-align: right;\n",
              "    }\n",
              "</style>\n",
              "<table border=\"1\" class=\"dataframe\">\n",
              "  <thead>\n",
              "    <tr style=\"text-align: right;\">\n",
              "      <th></th>\n",
              "      <th>id</th>\n",
              "      <th>comment_text</th>\n",
              "      <th>toxic</th>\n",
              "      <th>severe_toxic</th>\n",
              "      <th>obscene</th>\n",
              "      <th>threat</th>\n",
              "      <th>insult</th>\n",
              "      <th>identity_hate</th>\n",
              "      <th>encoded_comments</th>\n",
              "      <th>cluster</th>\n",
              "    </tr>\n",
              "  </thead>\n",
              "  <tbody>\n",
              "    <tr>\n",
              "      <th>197793</th>\n",
              "      <td>9866e05088c29349</td>\n",
              "      <td>im a fucking spz</td>\n",
              "      <td>1</td>\n",
              "      <td>0</td>\n",
              "      <td>1</td>\n",
              "      <td>0</td>\n",
              "      <td>0</td>\n",
              "      <td>0</td>\n",
              "      <td>[813, 520, 1016, 1113, 67]</td>\n",
              "      <td>0</td>\n",
              "    </tr>\n",
              "    <tr>\n",
              "      <th>185357</th>\n",
              "      <td>66a2fb0d8f33392f</td>\n",
              "      <td>chocolate bar because jessca sucks</td>\n",
              "      <td>1</td>\n",
              "      <td>0</td>\n",
              "      <td>0</td>\n",
              "      <td>0</td>\n",
              "      <td>0</td>\n",
              "      <td>0</td>\n",
              "      <td>[774, 1166, 664, 649, 533, 557, 903, 693, 924,...</td>\n",
              "      <td>0</td>\n",
              "    </tr>\n",
              "    <tr>\n",
              "      <th>148183</th>\n",
              "      <td>482629b853c64d75</td>\n",
              "      <td>Coward. \\n\\nStop deleting these messages.</td>\n",
              "      <td>1</td>\n",
              "      <td>0</td>\n",
              "      <td>0</td>\n",
              "      <td>0</td>\n",
              "      <td>1</td>\n",
              "      <td>0</td>\n",
              "      <td>[598, 588, 756, 24, 1116, 639, 850, 544, 1229,...</td>\n",
              "      <td>0</td>\n",
              "    </tr>\n",
              "    <tr>\n",
              "      <th>127732</th>\n",
              "      <td>ab32d6a49fb44e30</td>\n",
              "      <td>Bloody bots get more annoying every day.... He...</td>\n",
              "      <td>1</td>\n",
              "      <td>0</td>\n",
              "      <td>0</td>\n",
              "      <td>0</td>\n",
              "      <td>0</td>\n",
              "      <td>0</td>\n",
              "      <td>[580, 14, 902, 18, 533, 558, 11, 872, 885, 548...</td>\n",
              "      <td>0</td>\n",
              "    </tr>\n",
              "    <tr>\n",
              "      <th>208651</th>\n",
              "      <td>c37a28261ff09be4</td>\n",
              "      <td>Suck a fuckin dick bitch</td>\n",
              "      <td>1</td>\n",
              "      <td>0</td>\n",
              "      <td>1</td>\n",
              "      <td>0</td>\n",
              "      <td>1</td>\n",
              "      <td>0</td>\n",
              "      <td>[582, 597, 520, 667, 522, 1222, 1198]</td>\n",
              "      <td>0</td>\n",
              "    </tr>\n",
              "    <tr>\n",
              "      <th>208758</th>\n",
              "      <td>c3f42a0d7c1762c7</td>\n",
              "      <td>Dude like era sucks</td>\n",
              "      <td>1</td>\n",
              "      <td>0</td>\n",
              "      <td>0</td>\n",
              "      <td>0</td>\n",
              "      <td>1</td>\n",
              "      <td>0</td>\n",
              "      <td>[609, 830, 5, 732, 4, 527, 7, 1310]</td>\n",
              "      <td>0</td>\n",
              "    </tr>\n",
              "    <tr>\n",
              "      <th>221430</th>\n",
              "      <td>f74d3df5c6b4fbdd</td>\n",
              "      <td>WikiI   I   suck     ProjectBannerShell</td>\n",
              "      <td>1</td>\n",
              "      <td>0</td>\n",
              "      <td>1</td>\n",
              "      <td>0</td>\n",
              "      <td>0</td>\n",
              "      <td>0</td>\n",
              "      <td>[1960, 27, 540, 960, 615, 614, 1011, 50, 1311,...</td>\n",
              "      <td>0</td>\n",
              "    </tr>\n",
              "    <tr>\n",
              "      <th>146825</th>\n",
              "      <td>321e5e8929a3f0dc</td>\n",
              "      <td>chicken shit cock sucking pussy bastard!</td>\n",
              "      <td>1</td>\n",
              "      <td>0</td>\n",
              "      <td>1</td>\n",
              "      <td>0</td>\n",
              "      <td>1</td>\n",
              "      <td>0</td>\n",
              "      <td>[774, 792, 547, 936, 1465, 960, 544, 542, 916,...</td>\n",
              "      <td>0</td>\n",
              "    </tr>\n",
              "    <tr>\n",
              "      <th>10052</th>\n",
              "      <td>1a9983326bf9364f</td>\n",
              "      <td>go suck a dick \\n\\nplease 71.178.201.4</td>\n",
              "      <td>1</td>\n",
              "      <td>0</td>\n",
              "      <td>1</td>\n",
              "      <td>0</td>\n",
              "      <td>1</td>\n",
              "      <td>0</td>\n",
              "      <td>[786, 960, 520, 1222, 1146, 1689, 56, 904, 75,...</td>\n",
              "      <td>0</td>\n",
              "    </tr>\n",
              "    <tr>\n",
              "      <th>148828</th>\n",
              "      <td>52b800e978482ba2</td>\n",
              "      <td>Yeah. go suck dick u corrupt retarded fat pig ...</td>\n",
              "      <td>1</td>\n",
              "      <td>1</td>\n",
              "      <td>1</td>\n",
              "      <td>0</td>\n",
              "      <td>1</td>\n",
              "      <td>1</td>\n",
              "      <td>[578, 5, 1412, 24, 786, 960, 1222, 622, 535, 5...</td>\n",
              "      <td>0</td>\n",
              "    </tr>\n",
              "    <tr>\n",
              "      <th>173471</th>\n",
              "      <td>375db4e937834738</td>\n",
              "      <td>نحن شعب جدن مظلومين جغرافين عيراق وقع تحت عدد ...</td>\n",
              "      <td>0</td>\n",
              "      <td>0</td>\n",
              "      <td>0</td>\n",
              "      <td>0</td>\n",
              "      <td>0</td>\n",
              "      <td>0</td>\n",
              "      <td>[4, 94, 163, 94, 4, 134, 140, 110, 4, 169, 104...</td>\n",
              "      <td>0</td>\n",
              "    </tr>\n",
              "    <tr>\n",
              "      <th>94589</th>\n",
              "      <td>fce54e60831fd966</td>\n",
              "      <td>Agreed.  18:18, 29 Apr 2005 (UTC)</td>\n",
              "      <td>0</td>\n",
              "      <td>0</td>\n",
              "      <td>0</td>\n",
              "      <td>0</td>\n",
              "      <td>0</td>\n",
              "      <td>0</td>\n",
              "      <td>[568, 20, 524, 959, 764, 74, 54, 56, 74, 29, 7...</td>\n",
              "      <td>0</td>\n",
              "    </tr>\n",
              "    <tr>\n",
              "      <th>177357</th>\n",
              "      <td>4688ece61e2be6af</td>\n",
              "      <td>|class = Start \\n |photo = yes \\n |map = na \\n...</td>\n",
              "      <td>0</td>\n",
              "      <td>0</td>\n",
              "      <td>0</td>\n",
              "      <td>0</td>\n",
              "      <td>0</td>\n",
              "      <td>0</td>\n",
              "      <td>[1035, 927, 996, 4, 53, 1116, 863, 1035, 1094,...</td>\n",
              "      <td>0</td>\n",
              "    </tr>\n",
              "  </tbody>\n",
              "</table>\n",
              "</div>"
            ],
            "text/plain": [
              "                      id  ... cluster\n",
              "197793  9866e05088c29349  ...       0\n",
              "185357  66a2fb0d8f33392f  ...       0\n",
              "148183  482629b853c64d75  ...       0\n",
              "127732  ab32d6a49fb44e30  ...       0\n",
              "208651  c37a28261ff09be4  ...       0\n",
              "208758  c3f42a0d7c1762c7  ...       0\n",
              "221430  f74d3df5c6b4fbdd  ...       0\n",
              "146825  321e5e8929a3f0dc  ...       0\n",
              "10052   1a9983326bf9364f  ...       0\n",
              "148828  52b800e978482ba2  ...       0\n",
              "173471  375db4e937834738  ...       0\n",
              "94589   fce54e60831fd966  ...       0\n",
              "177357  4688ece61e2be6af  ...       0\n",
              "\n",
              "[13 rows x 10 columns]"
            ]
          },
          "metadata": {
            "tags": []
          },
          "execution_count": 191
        }
      ]
    },
    {
      "cell_type": "code",
      "metadata": {
        "id": "80Otz7jPX3dv",
        "colab_type": "code",
        "colab": {
          "base_uri": "https://localhost:8080/",
          "height": 406
        },
        "outputId": "2727b615-e2f1-46c2-e780-fcc44892a1a2"
      },
      "source": [
        "sample[sample.cluster==-1]\n"
      ],
      "execution_count": null,
      "outputs": [
        {
          "output_type": "execute_result",
          "data": {
            "text/html": [
              "<div>\n",
              "<style scoped>\n",
              "    .dataframe tbody tr th:only-of-type {\n",
              "        vertical-align: middle;\n",
              "    }\n",
              "\n",
              "    .dataframe tbody tr th {\n",
              "        vertical-align: top;\n",
              "    }\n",
              "\n",
              "    .dataframe thead th {\n",
              "        text-align: right;\n",
              "    }\n",
              "</style>\n",
              "<table border=\"1\" class=\"dataframe\">\n",
              "  <thead>\n",
              "    <tr style=\"text-align: right;\">\n",
              "      <th></th>\n",
              "      <th>id</th>\n",
              "      <th>comment_text</th>\n",
              "      <th>toxic</th>\n",
              "      <th>severe_toxic</th>\n",
              "      <th>obscene</th>\n",
              "      <th>threat</th>\n",
              "      <th>insult</th>\n",
              "      <th>identity_hate</th>\n",
              "      <th>encoded_comments</th>\n",
              "      <th>cluster</th>\n",
              "    </tr>\n",
              "  </thead>\n",
              "  <tbody>\n",
              "    <tr>\n",
              "      <th>125615</th>\n",
              "      <td>9ffb423fd34659d4</td>\n",
              "      <td>Cody Porter dies while foolishly copying Kimim...</td>\n",
              "      <td>1</td>\n",
              "      <td>0</td>\n",
              "      <td>0</td>\n",
              "      <td>0</td>\n",
              "      <td>0</td>\n",
              "      <td>0</td>\n",
              "      <td>[598, 1582, 615, 536, 735, 550, 831, 1666, 537...</td>\n",
              "      <td>-1</td>\n",
              "    </tr>\n",
              "    <tr>\n",
              "      <th>103946</th>\n",
              "      <td>2c268795b3b37b74</td>\n",
              "      <td>\"\\nYou dopy little fuck, \"\"wee curry monster\"\"...</td>\n",
              "      <td>1</td>\n",
              "      <td>0</td>\n",
              "      <td>1</td>\n",
              "      <td>0</td>\n",
              "      <td>1</td>\n",
              "      <td>0</td>\n",
              "      <td>[595, 720, 550, 639, 18, 1217, 667, 29, 595, 4...</td>\n",
              "      <td>-1</td>\n",
              "    </tr>\n",
              "    <tr>\n",
              "      <th>79325</th>\n",
              "      <td>d44cf9c28c392d29</td>\n",
              "      <td>Shut you dub drunk bastard. Have a great at yo...</td>\n",
              "      <td>1</td>\n",
              "      <td>0</td>\n",
              "      <td>1</td>\n",
              "      <td>0</td>\n",
              "      <td>1</td>\n",
              "      <td>0</td>\n",
              "      <td>[1576, 594, 546, 550, 953, 550, 12, 1911, 1971...</td>\n",
              "      <td>-1</td>\n",
              "    </tr>\n",
              "    <tr>\n",
              "      <th>189526</th>\n",
              "      <td>77754b5bd4d46ab5</td>\n",
              "      <td>Idiots need to be confronted in the language t...</td>\n",
              "      <td>1</td>\n",
              "      <td>0</td>\n",
              "      <td>1</td>\n",
              "      <td>0</td>\n",
              "      <td>1</td>\n",
              "      <td>0</td>\n",
              "      <td>[540, 15, 1326, 11, 980, 551, 573, 1578, 12, 1...</td>\n",
              "      <td>-1</td>\n",
              "    </tr>\n",
              "    <tr>\n",
              "      <th>126015</th>\n",
              "      <td>a1fe5fb23532f41f</td>\n",
              "      <td>\"\\nWikipedia has plenty of built-in mechanisms...</td>\n",
              "      <td>0</td>\n",
              "      <td>0</td>\n",
              "      <td>0</td>\n",
              "      <td>0</td>\n",
              "      <td>0</td>\n",
              "      <td>0</td>\n",
              "      <td>[595, 769, 796, 542, 541, 688, 18, 556, 533, 1...</td>\n",
              "      <td>-1</td>\n",
              "    </tr>\n",
              "    <tr>\n",
              "      <th>...</th>\n",
              "      <td>...</td>\n",
              "      <td>...</td>\n",
              "      <td>...</td>\n",
              "      <td>...</td>\n",
              "      <td>...</td>\n",
              "      <td>...</td>\n",
              "      <td>...</td>\n",
              "      <td>...</td>\n",
              "      <td>...</td>\n",
              "      <td>...</td>\n",
              "    </tr>\n",
              "    <tr>\n",
              "      <th>26144</th>\n",
              "      <td>452cc619998777ce</td>\n",
              "      <td>This article does not meet wikipedia standard ...</td>\n",
              "      <td>0</td>\n",
              "      <td>0</td>\n",
              "      <td>0</td>\n",
              "      <td>0</td>\n",
              "      <td>0</td>\n",
              "      <td>0</td>\n",
              "      <td>[989, 660, 922, 599, 652, 617, 1207, 1797, 756...</td>\n",
              "      <td>-1</td>\n",
              "    </tr>\n",
              "    <tr>\n",
              "      <th>52623</th>\n",
              "      <td>8cbab258d760c6b5</td>\n",
              "      <td>\"{| class=\"\"messagebox standard-talk\"\" style=\"...</td>\n",
              "      <td>0</td>\n",
              "      <td>0</td>\n",
              "      <td>0</td>\n",
              "      <td>0</td>\n",
              "      <td>0</td>\n",
              "      <td>0</td>\n",
              "      <td>[595, 91, 79, 1230, 996, 53, 43, 43, 19, 924, ...</td>\n",
              "      <td>-1</td>\n",
              "    </tr>\n",
              "    <tr>\n",
              "      <th>166601</th>\n",
              "      <td>1c4f835d65f07171</td>\n",
              "      <td>==What the fuck does this mean?== \\n\\n incompr...</td>\n",
              "      <td>1</td>\n",
              "      <td>0</td>\n",
              "      <td>0</td>\n",
              "      <td>0</td>\n",
              "      <td>0</td>\n",
              "      <td>0</td>\n",
              "      <td>[768, 45, 1712, 529, 667, 922, 632, 1355, 57, ...</td>\n",
              "      <td>-1</td>\n",
              "    </tr>\n",
              "    <tr>\n",
              "      <th>120667</th>\n",
              "      <td>8577f232edddfbc4</td>\n",
              "      <td>Did he? \\n\\nIs there any evidence that he DIDN...</td>\n",
              "      <td>0</td>\n",
              "      <td>0</td>\n",
              "      <td>0</td>\n",
              "      <td>0</td>\n",
              "      <td>0</td>\n",
              "      <td>0</td>\n",
              "      <td>[609, 589, 677, 57, 1409, 809, 748, 875, 1893,...</td>\n",
              "      <td>-1</td>\n",
              "    </tr>\n",
              "    <tr>\n",
              "      <th>158155</th>\n",
              "      <td>e980dad0b074bde0</td>\n",
              "      <td>fuck u\\nrape my penis plz!</td>\n",
              "      <td>1</td>\n",
              "      <td>1</td>\n",
              "      <td>1</td>\n",
              "      <td>0</td>\n",
              "      <td>1</td>\n",
              "      <td>0</td>\n",
              "      <td>[667, 622, 670, 7, 745, 678, 1188, 1162, 67, 28]</td>\n",
              "      <td>-1</td>\n",
              "    </tr>\n",
              "  </tbody>\n",
              "</table>\n",
              "<p>409 rows × 10 columns</p>\n",
              "</div>"
            ],
            "text/plain": [
              "                      id  ... cluster\n",
              "125615  9ffb423fd34659d4  ...      -1\n",
              "103946  2c268795b3b37b74  ...      -1\n",
              "79325   d44cf9c28c392d29  ...      -1\n",
              "189526  77754b5bd4d46ab5  ...      -1\n",
              "126015  a1fe5fb23532f41f  ...      -1\n",
              "...                  ...  ...     ...\n",
              "26144   452cc619998777ce  ...      -1\n",
              "52623   8cbab258d760c6b5  ...      -1\n",
              "166601  1c4f835d65f07171  ...      -1\n",
              "120667  8577f232edddfbc4  ...      -1\n",
              "158155  e980dad0b074bde0  ...      -1\n",
              "\n",
              "[409 rows x 10 columns]"
            ]
          },
          "metadata": {
            "tags": []
          },
          "execution_count": 225
        }
      ]
    },
    {
      "cell_type": "code",
      "metadata": {
        "id": "jF03USc1jPTA",
        "colab_type": "code",
        "colab": {
          "base_uri": "https://localhost:8080/",
          "height": 227
        },
        "outputId": "72f8fa40-0acf-4cd3-c403-743961c5f8fa"
      },
      "source": [
        "sample[sample.cluster==1]\n"
      ],
      "execution_count": null,
      "outputs": [
        {
          "output_type": "execute_result",
          "data": {
            "text/html": [
              "<div>\n",
              "<style scoped>\n",
              "    .dataframe tbody tr th:only-of-type {\n",
              "        vertical-align: middle;\n",
              "    }\n",
              "\n",
              "    .dataframe tbody tr th {\n",
              "        vertical-align: top;\n",
              "    }\n",
              "\n",
              "    .dataframe thead th {\n",
              "        text-align: right;\n",
              "    }\n",
              "</style>\n",
              "<table border=\"1\" class=\"dataframe\">\n",
              "  <thead>\n",
              "    <tr style=\"text-align: right;\">\n",
              "      <th></th>\n",
              "      <th>id</th>\n",
              "      <th>comment_text</th>\n",
              "      <th>toxic</th>\n",
              "      <th>severe_toxic</th>\n",
              "      <th>obscene</th>\n",
              "      <th>threat</th>\n",
              "      <th>insult</th>\n",
              "      <th>identity_hate</th>\n",
              "      <th>encoded_comments</th>\n",
              "      <th>cluster</th>\n",
              "    </tr>\n",
              "  </thead>\n",
              "  <tbody>\n",
              "    <tr>\n",
              "      <th>8243</th>\n",
              "      <td>15eb1135c7e08836</td>\n",
              "      <td>Check the diff, swedefag</td>\n",
              "      <td>1</td>\n",
              "      <td>0</td>\n",
              "      <td>0</td>\n",
              "      <td>0</td>\n",
              "      <td>0</td>\n",
              "      <td>0</td>\n",
              "      <td>[598, 605, 569, 529, 1289, 22, 29, 526, 23, 53...</td>\n",
              "      <td>1</td>\n",
              "    </tr>\n",
              "    <tr>\n",
              "      <th>26355</th>\n",
              "      <td>45c8a5c6592eb25c</td>\n",
              "      <td>through the fourth wall</td>\n",
              "      <td>0</td>\n",
              "      <td>0</td>\n",
              "      <td>0</td>\n",
              "      <td>0</td>\n",
              "      <td>0</td>\n",
              "      <td>0</td>\n",
              "      <td>[1866, 529, 537, 680, 644, 528, 753]</td>\n",
              "      <td>1</td>\n",
              "    </tr>\n",
              "    <tr>\n",
              "      <th>108379</th>\n",
              "      <td>435c0ab4787f122c</td>\n",
              "      <td>I removed the contentious section.</td>\n",
              "      <td>0</td>\n",
              "      <td>0</td>\n",
              "      <td>0</td>\n",
              "      <td>0</td>\n",
              "      <td>0</td>\n",
              "      <td>0</td>\n",
              "      <td>[540, 1877, 529, 1470, 969, 1237, 24]</td>\n",
              "      <td>1</td>\n",
              "    </tr>\n",
              "    <tr>\n",
              "      <th>188860</th>\n",
              "      <td>74b1faee25f10504</td>\n",
              "      <td>the band called lockjaw SUCKS ASSSSSSSSSSSSSSS...</td>\n",
              "      <td>1</td>\n",
              "      <td>0</td>\n",
              "      <td>1</td>\n",
              "      <td>0</td>\n",
              "      <td>1</td>\n",
              "      <td>0</td>\n",
              "      <td>[529, 533, 669, 1919, 572, 1010, 61, 1703, 100...</td>\n",
              "      <td>1</td>\n",
              "    </tr>\n",
              "    <tr>\n",
              "      <th>179377</th>\n",
              "      <td>4ebb9ac7aa2e5169</td>\n",
              "      <td>fuck the world cuz i fucked ur mother</td>\n",
              "      <td>1</td>\n",
              "      <td>1</td>\n",
              "      <td>1</td>\n",
              "      <td>0</td>\n",
              "      <td>1</td>\n",
              "      <td>0</td>\n",
              "      <td>[667, 529, 1601, 535, 16, 67, 789, 667, 534, 6...</td>\n",
              "      <td>1</td>\n",
              "    </tr>\n",
              "    <tr>\n",
              "      <th>174897</th>\n",
              "      <td>3cf2789290384003</td>\n",
              "      <td>STFU SHUT THE FCK UP</td>\n",
              "      <td>1</td>\n",
              "      <td>0</td>\n",
              "      <td>1</td>\n",
              "      <td>0</td>\n",
              "      <td>0</td>\n",
              "      <td>0</td>\n",
              "      <td>[1540, 44, 36, 1039, 946, 858, 587, 591, 1722]</td>\n",
              "      <td>1</td>\n",
              "    </tr>\n",
              "  </tbody>\n",
              "</table>\n",
              "</div>"
            ],
            "text/plain": [
              "                      id  ... cluster\n",
              "8243    15eb1135c7e08836  ...       1\n",
              "26355   45c8a5c6592eb25c  ...       1\n",
              "108379  435c0ab4787f122c  ...       1\n",
              "188860  74b1faee25f10504  ...       1\n",
              "179377  4ebb9ac7aa2e5169  ...       1\n",
              "174897  3cf2789290384003  ...       1\n",
              "\n",
              "[6 rows x 10 columns]"
            ]
          },
          "metadata": {
            "tags": []
          },
          "execution_count": 226
        }
      ]
    },
    {
      "cell_type": "code",
      "metadata": {
        "id": "jz0RuCh2jRUx",
        "colab_type": "code",
        "colab": {}
      },
      "source": [
        ""
      ],
      "execution_count": null,
      "outputs": []
    }
  ]
}