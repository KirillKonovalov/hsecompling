{
 "cells": [
  {
   "cell_type": "markdown",
   "metadata": {},
   "source": [
    "### Задание 1 "
   ]
  },
  {
   "cell_type": "code",
   "execution_count": 44,
   "metadata": {},
   "outputs": [],
   "source": [
    "from string import punctuation\n",
    "import numpy as np\n",
    "from collections import Counter\n",
    "from nltk.tokenize import sent_tokenize\n",
    "from gensim.models.phrases import Phrases, Phraser"
   ]
  },
  {
   "cell_type": "code",
   "execution_count": 45,
   "metadata": {},
   "outputs": [],
   "source": [
    "dostoevsky = open('besy_dostoevsky.txt', encoding='UTF-8').read()"
   ]
  },
  {
   "cell_type": "code",
   "execution_count": 46,
   "metadata": {},
   "outputs": [],
   "source": [
    "def normalize(text):\n",
    "    normalized_text = [word.strip(punctuation) for word \\\n",
    "                                                            in text.lower().split()]\n",
    "    normalized_text = [word for word in normalized_text if word]\n",
    "    return normalized_text"
   ]
  },
  {
   "cell_type": "code",
   "execution_count": 47,
   "metadata": {},
   "outputs": [],
   "source": [
    "def ngrammer(tokens, n=2):\n",
    "    ngrams = []\n",
    "    for i in range(0,len(tokens)-n+1):\n",
    "        ngrams.append(' '.join(tokens[i:i+n]))\n",
    "    return ngrams"
   ]
  },
  {
   "cell_type": "code",
   "execution_count": 48,
   "metadata": {},
   "outputs": [],
   "source": [
    "sentences_dostoevsky = [['<start>'] + normalize(text) + ['<end>'] for text in sent_tokenize(dostoevsky)]"
   ]
  },
  {
   "cell_type": "code",
   "execution_count": 49,
   "metadata": {},
   "outputs": [],
   "source": [
    "sentences_dostoevsky_small = sentences_dostoevsky[:1000]"
   ]
  },
  {
   "cell_type": "code",
   "execution_count": 50,
   "metadata": {},
   "outputs": [],
   "source": [
    "unigrams_dostoevsky = Counter()\n",
    "bigrams_dostoevsky = Counter()\n",
    "trigrams_dostoevsky = Counter()\n",
    "\n",
    "for sentence in sentences_dostoevsky_small:\n",
    "    unigrams_dostoevsky.update(sentence)\n",
    "    bigrams_dostoevsky.update(ngrammer(sentence))\n",
    "    trigrams_dostoevsky.update(ngrammer(sentence, n = 3))"
   ]
  },
  {
   "cell_type": "code",
   "execution_count": 51,
   "metadata": {},
   "outputs": [],
   "source": [
    "id2word_uni_dostoevsky = list(unigrams_dostoevsky)\n",
    "word2id_uni_dostoevsky = {word:i for i, word in enumerate(id2word_uni_dostoevsky)}"
   ]
  },
  {
   "cell_type": "code",
   "execution_count": 52,
   "metadata": {},
   "outputs": [],
   "source": [
    "id2word_bi_dostoevsky = list(bigrams_dostoevsky)\n",
    "word2id_bi_dostoevsky = {word:i for i, word in enumerate(id2word_bi_dostoevsky)}"
   ]
  },
  {
   "cell_type": "code",
   "execution_count": 53,
   "metadata": {},
   "outputs": [],
   "source": [
    "matrix_dostoevsky_bi = np.zeros((len(unigrams_dostoevsky), \n",
    "                   len(unigrams_dostoevsky)))\n",
    "\n",
    "for ngram in bigrams_dostoevsky:\n",
    "    word1, word2 = ngram.split()\n",
    "    matrix_dostoevsky_bi[word2id_uni_dostoevsky[word1]][word2id_uni_dostoevsky[word2]] =  (bigrams_dostoevsky[ngram]/\n",
    "                                                                     unigrams_dostoevsky[word1])"
   ]
  },
  {
   "cell_type": "code",
   "execution_count": 54,
   "metadata": {},
   "outputs": [],
   "source": [
    "matrix_dostoevsky_tri = np.zeros((len(bigrams_dostoevsky), \n",
    "                   len(unigrams_dostoevsky)))\n",
    "for ngram in trigrams_dostoevsky:\n",
    "    word1, word2, word3 = ngram.split()\n",
    "    bigram = '{} {}'.format(word1, word2)\n",
    "    matrix_dostoevsky_tri[word2id_bi_dostoevsky[bigram]][word2id_uni_dostoevsky[word3]] =  (trigrams_dostoevsky[ngram]/\n",
    "                                                                     bigrams_dostoevsky[bigram])"
   ]
  },
  {
   "cell_type": "code",
   "execution_count": 55,
   "metadata": {},
   "outputs": [],
   "source": [
    "def first_step(text, matrix_2, word2id_bi, id2word, start_idx):\n",
    "    second_word = np.random.choice(matrix_2.shape[1], p=matrix_2[start_idx])\n",
    "    word = id2word[second_word]\n",
    "    text.append(word)\n",
    "    current_bigram = \"<start> {}\".format(word)\n",
    "    current_idx = word2id_bi[current_bigram]\n",
    "    return current_bigram, current_idx"
   ]
  },
  {
   "cell_type": "code",
   "execution_count": 56,
   "metadata": {},
   "outputs": [],
   "source": [
    "def generate(matrix, matrix_2, id2word, word2id_bi, word2id_uni, n=100):\n",
    "    text = []\n",
    "    start_idx = word2id_uni[\"<start>\"]\n",
    "    current_bigram, current_idx = first_step(text, matrix_2, word2id_bi, id2word, start_idx)\n",
    "    for i in range(n):\n",
    "\n",
    "        chosen = np.random.choice(matrix.shape[1], p=matrix[current_idx])\n",
    "        word = id2word[chosen]\n",
    "        \n",
    "        if word == '<end>':\n",
    "            current_bigram, current_idx = start_step(text, matrix_2, word2id_bi, id2word, start_idx)\n",
    "        else:\n",
    "            text.append(word)\n",
    "            current_bigram = \"{} {}\".format(current_bigram.split()[1], word)\n",
    "            current_idx = word2id_bi[current_bigram]\n",
    "    \n",
    "    return ' '.join(text)"
   ]
  },
  {
   "cell_type": "code",
   "execution_count": 151,
   "metadata": {},
   "outputs": [],
   "source": [
    "def generate2(matrix, id2word, word2id, n=100, start='<start>'):\n",
    "    text = []\n",
    "    current_idx = word2id[start]\n",
    "    \n",
    "    for i in range(n):\n",
    "        \n",
    "        chosen = np.random.choice(matrix.shape[1], p=matrix[current_idx])\n",
    "        text.append(id2word[chosen])\n",
    "        \n",
    "        if id2word[chosen] == '<end>':\n",
    "            chosen = word2id['<start>']\n",
    "        current_idx = chosen\n",
    "    \n",
    "    return ' '.join(text)"
   ]
  },
  {
   "cell_type": "markdown",
   "metadata": {},
   "source": [
    "#### Триграмная модель"
   ]
  },
  {
   "cell_type": "code",
   "execution_count": 154,
   "metadata": {},
   "outputs": [
    {
     "name": "stdout",
     "output_type": "stream",
     "text": [
      "бедный иван осипович заговорил отдаленно почти шепотом но всё несколько путался — простонал он машинально не своим голосом сначала степану трофимовичу может быть восторг был преднамеренный а жест нарочно заучен пред зеркалом за полчаса пред чаем но должно быть у него читать газеты и журналы заграничные запрещенные издания и даже в виде новой надежды и когда уже достраивают до самого верху то обладатель положим хоть олимпа убегает в комическом виде а догадавшееся человечество завладев его местом тотчас же по приезде сообщила всё степану трофимовичу являлся постоянно и брал у него раза по два в неделю бывало весело особенно когда сидел летом\n"
     ]
    }
   ],
   "source": [
    "print(generate(matrix_dostoevsky_tri, matrix_dostoevsky_bi, id2word_uni_dostoevsky, word2id_bi_dostoevsky, word2id_uni_dostoevsky, n=100).replace('<end>', '\\n'))"
   ]
  },
  {
   "cell_type": "markdown",
   "metadata": {},
   "source": [
    "#### Биграмная модель"
   ]
  },
  {
   "cell_type": "code",
   "execution_count": 152,
   "metadata": {},
   "outputs": [
    {
     "name": "stdout",
     "output_type": "stream",
     "text": [
      "я — признание замечательное английское семейство les dames charmantes,[20 прелестных дам намеревались прекратить к степану трофимовичу два купец с ним когда великую идею вами давно с вольною федеративною связью об одних лишь бы с эстрады расплакался \n",
      " губернатора человек тем более что главное в удовлетворительном виде если можно так что в самом деле произнесено было написано что он женился в наших глазах как какой-нибудь andrejeff то еще с ним обходилась \n",
      " скажу \n",
      " но это действительно варвара петровна пригласила и был с этим согласен… — очень спокойны и не в день прошло и сообразили \n",
      " они дружески расстались как предсказывал\n"
     ]
    }
   ],
   "source": [
    "print(generate2(matrix_dostoevsky_bi, id2word_uni_dostoevsky, word2id_uni_dostoevsky).replace('<end>', '\\n'))"
   ]
  },
  {
   "cell_type": "markdown",
   "metadata": {},
   "source": [
    "Вывод:\n",
    "\n",
    "В триграмной модели предложения получились более связанными и осмысленными. Есть куски, которые очень похожи на человеческую речь. Биграмная модель в сравнении выглядит хуже. Смысла в высказываниях практически нет. "
   ]
  },
  {
   "cell_type": "markdown",
   "metadata": {},
   "source": [
    "### Задание 2"
   ]
  },
  {
   "cell_type": "code",
   "execution_count": 87,
   "metadata": {},
   "outputs": [],
   "source": [
    "text = '''Чикaго — третий по числу жителей (после Нью-Йорка и Лос-Анджелеса) город США, второй по значимости финансовый центр страны (после Нью-Йорка) и крупнейший транспортный узел Северной Америки. \n",
    "Расположен на юго-западном побережье озера Мичиган в штате Иллинойс; административный центр округа Кук. Население Чикаго (по данным переписи 2010 года) составляет 2 695 598 человек. Административно город делится на 77-м районов. Агломерация Чикаго (с различными пригородами) называется «Большой Чикаго» или «Страна Чикаго» (англ. Chicagoland; название предложено газетой Chicago Tribune в начале XX века); в ней проживает более 9 млн человек. \n",
    "Агломерация Чикаго занимает 37-е место в мире по числу жителей. Чикаго по праву считается экономической, промышленной, транспортной и культурной столицей Среднего Запада. \n",
    "Неофициально его иногда также называют «Второй город» и «Город ветров». Впервые Чикаго был назван «Городом ветров» в статье в Chicago Tribune за 1858 год.\n",
    "30 января 2019 года информационный портал Travel and Leisure опубликовал рейтинг наиболее романтичных городов мира. В ходе исследования анализировалось количество людей, стремящихся сделать предложение руки и сердца либо вступить в брак на территории определённого города. \n",
    "Так же анализировалась сексуальная активность жителей и наличие благоприятных условий для ЛГБТ-знакомств. По результатам исследования Чикаго занял пятое место в данном рейтинге.\n",
    "'''"
   ]
  },
  {
   "cell_type": "code",
   "execution_count": 88,
   "metadata": {},
   "outputs": [],
   "source": [
    "sentences = sent_tokenize(text)"
   ]
  },
  {
   "cell_type": "code",
   "execution_count": 149,
   "metadata": {},
   "outputs": [
    {
     "name": "stdout",
     "output_type": "stream",
     "text": [
      "[['Ч', 'и', 'к', 'a', 'г', 'о', ' ', '—', ' ', 'т', 'р', 'е', 'т', 'и', 'й', ' ', 'п', 'о', ' ', 'ч', 'и', 'с', 'л', 'у', ' ', 'ж', 'и', 'т', 'е', 'л', 'е', 'й', ' ', '(', 'п', 'о', 'с', 'л', 'е', ' ', 'Н', 'ь', 'ю', '-', 'Й', 'о', 'р', 'к', 'а', ' ', 'и', ' ', 'Л', 'о', 'с', '-', 'А', 'н', 'д', 'ж', 'е', 'л', 'е', 'с', 'а', ')', ' ', 'г', 'о', 'р', 'о', 'д', ' ', 'С', 'Ш', 'А', ',', ' ', 'в', 'т', 'о', 'р', 'о', 'й', ' ', 'п', 'о', ' ', 'з', 'н', 'а', 'ч', 'и', 'м', 'о', 'с', 'т', 'и', ' ', 'ф', 'и', 'н', 'а', 'н', 'с', 'о', 'в', 'ы', 'й', ' ', 'ц', 'е', 'н', 'т', 'р', ' ', 'с', 'т', 'р', 'а', 'н', 'ы', ' ', '(', 'п', 'о', 'с', 'л', 'е', ' ', 'Н', 'ь', 'ю', '-', 'Й', 'о', 'р', 'к', 'а', ')', ' ', 'и', ' ', 'к', 'р', 'у', 'п', 'н', 'е', 'й', 'ш', 'и', 'й', ' ', 'т', 'р', 'а', 'н', 'с', 'п', 'о', 'р', 'т', 'н', 'ы', 'й', ' ', 'у', 'з', 'е', 'л', ' ', 'С', 'е', 'в', 'е', 'р', 'н', 'о', 'й', ' ', 'А', 'м', 'е', 'р', 'и', 'к', 'и', '.']]\n"
     ]
    }
   ],
   "source": [
    "chars = []\n",
    "for sent in sentences:\n",
    "    s = []\n",
    "    chars.append(s)\n",
    "    for word in sent:\n",
    "        for char in word:\n",
    "            s.append(char)\n",
    "print(chars[:1])"
   ]
  },
  {
   "cell_type": "code",
   "execution_count": 130,
   "metadata": {},
   "outputs": [],
   "source": [
    "phrases = Phrases(chars, min_count = 1, scoring='npmi', threshold=1)"
   ]
  },
  {
   "cell_type": "code",
   "execution_count": 131,
   "metadata": {},
   "outputs": [],
   "source": [
    "p_2 = Phrases(phrases[chars], min_count = 1,scoring='npmi', threshold=-1)"
   ]
  },
  {
   "cell_type": "code",
   "execution_count": 135,
   "metadata": {},
   "outputs": [],
   "source": [
    "p_3 = Phrases(p_2[phrases[chars]], min_count = 1, scoring='npmi', threshold=-1)"
   ]
  },
  {
   "cell_type": "code",
   "execution_count": 137,
   "metadata": {},
   "outputs": [],
   "source": [
    "p_4 = Phrases(p_3[p_2[phrases[chars]]], min_count = 1, scoring='npmi', threshold=-1)"
   ]
  },
  {
   "cell_type": "code",
   "execution_count": 146,
   "metadata": {},
   "outputs": [],
   "source": [
    "p_5 = Phrases(p_4[p_3[p_2[phrases[chars]]]], min_count=1, scoring='npmi', threshold=-1)"
   ]
  },
  {
   "cell_type": "code",
   "execution_count": 148,
   "metadata": {},
   "outputs": [
    {
     "name": "stdout",
     "output_type": "stream",
     "text": [
      "[['Ч_и_к_a_г_о_ _—_ _т_р_е_т_и_й_ ', 'п_о_ _ч_и_с_л_у_ _ж_и_т_е_л_е_й', ' _(_п_о_с_л_е_ _Н_ь_ю_-_Й_о_р_к', 'а_ _и_ _Л_о_с_-_А_н_д_ж_е_л_е_с', 'а_)_ _г_о_р_о_д_ _С_Ш_А_,_ _в_т', 'о_р_о_й_ _п_о_ _з_н_а_ч_и_м_о_с', 'т_и_ _ф_и_н_а_н_с_о_в_ы_й_ _ц_е', 'н_т_р_ _с_т_р_а_н_ы_ _(_п_о_с_л', 'е_ _Н_ь_ю_-_Й_о_р_к_а_)_ _и_ _к', 'р_у_п_н_е_й_ш_и_й_ _т_р_а_н_с_п', 'о_р_т_н_ы_й_ _у_з_е_л_ _С_е_в_е', 'р_н_о_й_ _А_м_е_р_и_к_и_.'], ['Р_а_с_п_о_л_о_ж_е_н_ _н_а_ _ю_г', 'о_-_з_а_п_а_д_н_о_м_ _п_о_б_е_р', 'е_ж_ь_е_ _о_з_е_р_а_ _М_и_ч_и_г', 'а_н_ _в_ _ш_т_а_т_е_ _И_л_л_и_н', 'о_й_с_;_ _а_д_м_и_н_и_с_т_р_а_т', 'и_в_н_ы_й_ _ц_е_н_т_р_ _о_к_р_у', 'г_а_ _К_у_к_.'], ['Н_а_с_е_л_е_н_и_е_ _Ч_и_к_а_г_о', ' _(_п_о_ _д_а_н_н_ы_м_ _п_е_р_е', 'п_и_с_и_ _2_0_1_0_ _г_о_д_а_)_ ', 'с_о_с_т_а_в_л_я_е_т_ _2_ _6_9_5', ' _5_9_8_ _ч_е_л_о_в_е_к_.'], ['А_д_м_и_н_и_с_т_р_а_т_и_в_н_о_ ', 'г_о_р_о_д_ _д_е_л_и_т_с_я_ _н_а', ' _7_7_-_м_ _р_а_й_о_н_о_в_.'], ['А_г_л_о_м_е_р_а_ц_и_я_ _Ч_и_к_а', 'г_о_ _(_с_ _р_а_з_л_и_ч_н_ы_м_и', ' _п_р_и_г_о_р_о_д_а_м_и_)_ _н_а', 'з_ы_в_а_е_т_с_я_ _«_Б_о_л_ь_ш_о', 'й_ _Ч_и_к_а_г_о_»_ _и_л_и_ _«_С', 'т_р_а_н_а_ _Ч_и_к_а_г_о_»_ _(_а', 'н_г_л_.'], ['C_h_i_c_a_g_o_l_a_n_d_;_ _н_а_з', 'в_а_н_и_е_ _п_р_е_д_л_о_ж_е_н_о', ' _г_а_з_е_т_о_й_ _C_h_i_c_a_g_o', ' _T_r_i_b_u_n_e_ _в_ _н_а_ч_а_л', 'е_ _X_X_ _в_е_к_а_)_;_ _в_ _н_е', 'й_ _п_р_о_ж_и_в_а_е_т_ _б_о_л_е', 'е_ _9_ _м_л_н_ _ч_е_л_о_в_е_к_.'], ['А_г_л_о_м_е_р_а_ц_и_я_ _Ч_и_к_а', 'г_о_ _з_а_н_и_м_а_е_т_ _3_7_-_е', ' _м_е_с_т_о_ _в_ _м_и_р_е_ _п_о', ' _ч_и_с_л_у_ _ж_и_т_е_л_е_й_.'], ['Ч_и_к_а_г_о_ _п_о_ _п_р_а_в_у_ ', 'с_ч_и_т_а_е_т_с_я_ _э_к_о_н_о_м', 'и_ч_е_с_к_о_й_,_ _п_р_о_м_ы_ш_л', 'е_н_н_о_й_,_ _т_р_а_н_с_п_о_р_т', 'н_о_й_ _и_ _к_у_л_ь_т_у_р_н_о_й', ' _с_т_о_л_и_ц_е_й_ _С_р_е_д_н_е', 'г_о_ _З_а_п_а_д_а_.'], ['Н_е_о_ф_и_ц_и_а_л_ь_н_о_ _е_г_о', ' _и_н_о_г_д_а_ _т_а_к_ж_е_ _н_а', 'з_ы_в_а_ю_т_ _«_В_т_о_р_о_й_ _г', 'о_р_о_д_»_ _и_ _«_Г_о_р_о_д_ _в', 'е_т_р_о_в_»_.'], ['В_п_е_р_в_ы_е_ _Ч_и_к_а_г_о_ _б', 'ы_л_ _н_а_з_в_а_н_ _«_Г_о_р_о_д', 'о_м_ _в_е_т_р_о_в_»_ _в_ _с_т_а', 'т_ь_е_ _в_ _C_h_i_c_a_g_o_ _T_r', 'i_b_u_n_e_ _з_а_ _1_8_5_8_ _г_о', 'д_._3_0_ _я_н_в_а_р_я_ _2_0_1_9', ' _г_о_д_а_ _и_н_ф_о_р_м_а_ц_и_о', 'н_н_ы_й_ _п_о_р_т_а_л_ _T_r_a_v', 'e_l_ _a_n_d_ _L_e_i_s_u_r_e_ _о', 'п_у_б_л_и_к_о_в_а_л_ _р_е_й_т_и', 'н_г_ _н_а_и_б_о_л_е_е_ _р_о_м_а', 'н_т_и_ч_н_ы_х_ _г_о_р_о_д_о_в_ ', 'м_и_р_а_.'], ['В_ _х_о_д_е_ _и_с_с_л_е_д_о_в_а', 'н_и_я_ _а_н_а_л_и_з_и_р_о_в_а_л', 'о_с_ь_ _к_о_л_и_ч_е_с_т_в_о_ _л', 'ю_д_е_й_,_ _с_т_р_е_м_я_щ_и_х_с', 'я_ _с_д_е_л_а_т_ь_ _п_р_е_д_л_о', 'ж_е_н_и_е_ _р_у_к_и_ _и_ _с_е_р', 'д_ц_а_ _л_и_б_о_ _в_с_т_у_п_и_т', 'ь_ _в_ _б_р_а_к_ _н_а_ _т_е_р_р', 'и_т_о_р_и_и_ _о_п_р_е_д_е_л_ё_н', 'н_о_г_о_ _г_о_р_о_д_а_.'], ['Т_а_к_ _ж_е_ _а_н_а_л_и_з_и_р_о', 'в_а_л_а_с_ь_ _с_е_к_с_у_а_л_ь_н', 'а_я_ _а_к_т_и_в_н_о_с_т_ь_ _ж_и', 'т_е_л_е_й_ _и_ _н_а_л_и_ч_и_е_ ', 'б_л_а_г_о_п_р_и_я_т_н_ы_х_ _у_с', 'л_о_в_и_й_ _д_л_я_ _Л_Г_Б_Т_-_з', 'н_а_к_о_м_с_т_в_.'], ['П_о_ _р_е_з_у_л_ь_т_а_т_а_м_ _и', 'с_с_л_е_д_о_в_а_н_и_я_ _Ч_и_к_а', 'г_о_ _з_а_н_я_л_ _п_я_т_о_е_ _м', 'е_с_т_о_ _в_ _д_а_н_н_о_м_ _р_е', 'й_т_и_н_г_е_.']]\n"
     ]
    }
   ],
   "source": [
    "print(list(p_5[p_4[p_3[p_2[chars]]]]))"
   ]
  },
  {
   "cell_type": "code",
   "execution_count": null,
   "metadata": {},
   "outputs": [],
   "source": []
  }
 ],
 "metadata": {
  "kernelspec": {
   "display_name": "Python 3",
   "language": "python",
   "name": "python3"
  },
  "language_info": {
   "codemirror_mode": {
    "name": "ipython",
    "version": 3
   },
   "file_extension": ".py",
   "mimetype": "text/x-python",
   "name": "python",
   "nbconvert_exporter": "python",
   "pygments_lexer": "ipython3",
   "version": "3.7.0"
  }
 },
 "nbformat": 4,
 "nbformat_minor": 2
}
