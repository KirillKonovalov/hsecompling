{
 "cells": [
  {
   "cell_type": "code",
   "execution_count": 14,
   "metadata": {
    "colab": {
     "base_uri": "https://localhost:8080/",
     "height": 68
    },
    "colab_type": "code",
    "id": "Q7wGwmzUOcyX",
    "outputId": "4a59bbd6-fa78-4044-b1b2-8ec929d435dc"
   },
   "outputs": [
    {
     "name": "stderr",
     "output_type": "stream",
     "text": [
      "/usr/local/lib/python3.6/dist-packages/scipy/sparse/sparsetools.py:21: DeprecationWarning: `scipy.sparse.sparsetools` is deprecated!\n",
      "scipy.sparse.sparsetools is a private module for scipy.sparse, and should not be used.\n",
      "  _deprecated()\n"
     ]
    }
   ],
   "source": [
    "import artm\n",
    "%matplotlib inline\n",
    "import glob\n",
    "import os, re\n",
    "import matplotlib.pyplot as plt\n",
    "from collections import defaultdict, Counter\n",
    "from nltk.corpus import stopwords\n",
    "import numpy as np\n",
    "from pymorphy2 import MorphAnalyzer\n",
    "import gensim, nltk\n",
    "import string\n",
    "morph = MorphAnalyzer()\n",
    "from nltk.tokenize import word_tokenize"
   ]
  },
  {
   "cell_type": "markdown",
   "metadata": {},
   "source": [
    "### 1) Нормализация"
   ]
  },
  {
   "cell_type": "code",
   "execution_count": 15,
   "metadata": {
    "colab": {
     "base_uri": "https://localhost:8080/",
     "height": 102
    },
    "colab_type": "code",
    "id": "eJxiN75BOgqk",
    "outputId": "7f97aa6d-f4ce-49a4-a1ba-3147fdb91653"
   },
   "outputs": [
    {
     "name": "stdout",
     "output_type": "stream",
     "text": [
      "[nltk_data] Downloading package punkt to /root/nltk_data...\n",
      "[nltk_data]   Unzipping tokenizers/punkt.zip.\n",
      "[nltk_data] Downloading package stopwords to /root/nltk_data...\n",
      "[nltk_data]   Unzipping corpora/stopwords.zip.\n"
     ]
    },
    {
     "data": {
      "text/plain": [
       "True"
      ]
     },
     "execution_count": 15,
     "metadata": {
      "tags": []
     },
     "output_type": "execute_result"
    }
   ],
   "source": [
    "nltk.download('punkt');nltk.download('stopwords')"
   ]
  },
  {
   "cell_type": "code",
   "execution_count": 0,
   "metadata": {
    "colab": {},
    "colab_type": "code",
    "id": "-HWMZc-SOkJp"
   },
   "outputs": [],
   "source": [
    "stops = set(stopwords.words('russian')) | {'gt',}\n",
    "def remove_tags(text):\n",
    "    return re.sub(r'<[^>]+>', '', text)\n",
    "\n",
    "\n",
    "def opt_normalize(texts, top=None):\n",
    "    uniq = Counter()\n",
    "    for text in texts:\n",
    "        uniq.update(text)\n",
    "    \n",
    "    norm_uniq = {word:morph.parse(word.replace(':', ''))[0].normal_form for word, _ in uniq.most_common(top)}\n",
    "    \n",
    "    norm_texts = []\n",
    "    for text in texts:\n",
    "        \n",
    "        norm_words = [norm_uniq.get(word) for word in text]\n",
    "        norm_words = [word for word in norm_words if word and word not in stops]\n",
    "        norm_texts.append(norm_words)\n",
    "        \n",
    "    return norm_texts\n",
    "\n",
    "def tokenize(text):\n",
    "    words = [word.strip(string.punctuation) for word in text.split()]\n",
    "    words = [word for word in words if word]\n",
    "    \n",
    "    return words"
   ]
  },
  {
   "cell_type": "code",
   "execution_count": 0,
   "metadata": {
    "colab": {},
    "colab_type": "code",
    "id": "a6Xv_pkBO4Z3"
   },
   "outputs": [],
   "source": [
    "texts = open('habr_texts.txt').read().splitlines()\n",
    "texts = opt_normalize([tokenize(remove_tags(text.lower())) for text in texts], 30000)"
   ]
  },
  {
   "cell_type": "code",
   "execution_count": 0,
   "metadata": {
    "colab": {},
    "colab_type": "code",
    "id": "ErgFV-rWPcTy"
   },
   "outputs": [],
   "source": [
    "habr_texts = texts"
   ]
  },
  {
   "cell_type": "markdown",
   "metadata": {},
   "source": [
    "### 2) Нграмы "
   ]
  },
  {
   "cell_type": "code",
   "execution_count": 0,
   "metadata": {
    "colab": {},
    "colab_type": "code",
    "id": "D6vSzgQlO8CD"
   },
   "outputs": [],
   "source": [
    "ph = gensim.models.Phrases(habr_texts, scoring='npmi', threshold=0.3, \n",
    "common_terms=set(stopwords.words('russian')))                                                                      \n",
    "p = gensim.models.phrases.Phraser(ph)\n",
    "ngrammed_habr_texts = p[habr_texts]"
   ]
  },
  {
   "cell_type": "markdown",
   "metadata": {},
   "source": [
    "### 3) Сохранение текстов в vw формате"
   ]
  },
  {
   "cell_type": "code",
   "execution_count": 0,
   "metadata": {
    "colab": {},
    "colab_type": "code",
    "id": "p3YG1OWpPwzf"
   },
   "outputs": [],
   "source": [
    "f = open('habr_texts.vw', 'w')\n",
    "\n",
    "for i, text in enumerate(texts):\n",
    "    c = Counter(text)\n",
    "    doc = 'doc_'+ str(i) + ' '\n",
    "    vw_text = ' '.join([x+':'+str(c[x]) for x in c])\n",
    "    \n",
    "    f.write(doc + vw_text  + '\\n')\n",
    "f.close()"
   ]
  },
  {
   "cell_type": "code",
   "execution_count": 0,
   "metadata": {
    "colab": {},
    "colab_type": "code",
    "id": "z0uZ6YgdP4Bd"
   },
   "outputs": [],
   "source": [
    "def print_measures(model_artm):\n",
    "    print('Sparsity Phi: {0:.3f} ARTM)'.format(\n",
    "        model_artm.score_tracker['SparsityPhiScore'].last_value)\n",
    ")\n",
    "    print('Sparsity Theta: {0:.3f} (ARTM)'.format(\n",
    "        model_artm.score_tracker['SparsityThetaScore'].last_value))\n",
    "\n",
    "    print('Kernel contrast: {0:.3f} (ARTM)'.format(\n",
    "        model_artm.score_tracker['TopicKernelScore'].last_average_contrast))\n",
    "\n",
    "    print('Kernel purity: {0:.3f} (ARTM)'.format(\n",
    "        model_artm.score_tracker['TopicKernelScore'].last_average_purity))\n",
    "\n",
    "    print('Perplexity: {0:.3f} (ARTM)'.format(\n",
    "        model_artm.score_tracker['PerplexityScore'].last_value)\n",
    ")\n",
    "    plt.plot(range(model_artm.num_phi_updates), model_artm.score_tracker['PerplexityScore'].value, 'r--', linewidth=2)\n",
    "    plt.xlabel('Iterations count')\n",
    "    plt.ylabel(' ARTM perp. (red)')\n",
    "    plt.grid(True)\n",
    "    plt.show()"
   ]
  },
  {
   "cell_type": "markdown",
   "metadata": {},
   "source": [
    "### 4) Словарь"
   ]
  },
  {
   "cell_type": "code",
   "execution_count": 0,
   "metadata": {
    "colab": {},
    "colab_type": "code",
    "id": "e1kkmOnoQEYZ"
   },
   "outputs": [],
   "source": [
    "batch_vectorizer = artm.BatchVectorizer(data_path='habr_texts.vw',  \n",
    "                                        data_format='vowpal_wabbit', \n",
    "                                        target_folder='batches', \n",
    "                                       batch_size=1000)"
   ]
  },
  {
   "cell_type": "code",
   "execution_count": 0,
   "metadata": {
    "colab": {},
    "colab_type": "code",
    "id": "u0vDh42KQd7w"
   },
   "outputs": [],
   "source": [
    "batch_vectorizer = artm.BatchVectorizer(data_path='batches', \n",
    "                                        data_format='batches')"
   ]
  },
  {
   "cell_type": "code",
   "execution_count": 0,
   "metadata": {
    "colab": {},
    "colab_type": "code",
    "id": "Kap7PHm4QjjU"
   },
   "outputs": [],
   "source": [
    "dictionary = artm.Dictionary()"
   ]
  },
  {
   "cell_type": "code",
   "execution_count": 30,
   "metadata": {
    "colab": {
     "base_uri": "https://localhost:8080/",
     "height": 34
    },
    "colab_type": "code",
    "id": "l4z2dj_QQoXW",
    "outputId": "380a23b6-dfcf-416f-b798-63a38509bbdb"
   },
   "outputs": [
    {
     "data": {
      "text/plain": [
       "artm.Dictionary(name=25119770-2474-4a0e-b428-a6fe71bde7a0, num_entries=10885)"
      ]
     },
     "execution_count": 30,
     "metadata": {
      "tags": []
     },
     "output_type": "execute_result"
    }
   ],
   "source": [
    "dictionary.gather(data_path='batches')\n",
    "dictionary.filter(class_id='@default_class',\n",
    "                  min_df=10, max_df=2000)"
   ]
  },
  {
   "cell_type": "code",
   "execution_count": 0,
   "metadata": {
    "colab": {},
    "colab_type": "code",
    "id": "rIaKth6NQ4a0"
   },
   "outputs": [],
   "source": [
    "dictionary.save_text('dict.txt')"
   ]
  },
  {
   "cell_type": "markdown",
   "metadata": {},
   "source": [
    "### 5) Модели"
   ]
  },
  {
   "cell_type": "code",
   "execution_count": 0,
   "metadata": {
    "colab": {},
    "colab_type": "code",
    "id": "aHgpjA_GQ-CG"
   },
   "outputs": [],
   "source": [
    "model_artm = artm.ARTM(topic_names=['topic_{}'.format(i) for i in range(200)],\n",
    "                       \n",
    "                       regularizers=[\n",
    "                           artm.DecorrelatorPhiRegularizer(\n",
    "                                            name='Decorr', tau=0.25, \n",
    "                                            class_ids=['@default_class'],\n",
    "                                            topic_names=['topic_{}'.format(i) for i in range(0, 200)]),\n",
    "                           \n",
    "                           artm.SmoothSparsePhiRegularizer(\n",
    "                                            name='SmoothPhi_1', \n",
    "                                            class_ids=['@default_class'],\n",
    "                                            tau=0.15, \n",
    "                                            topic_names=['topic_{}'.format(i) for i in range(0, 200)])\n",
    "                                    ]\n",
    "                        )"
   ]
  },
  {
   "cell_type": "code",
   "execution_count": 0,
   "metadata": {
    "colab": {},
    "colab_type": "code",
    "id": "ykPixQKjRS2r"
   },
   "outputs": [],
   "source": [
    "model_artm2 = artm.ARTM(topic_names=['topic_{}'.format(i) for i in range(300)],\n",
    "                       \n",
    "                       regularizers=[\n",
    "                           artm.DecorrelatorPhiRegularizer(\n",
    "                                            name='Decorr', tau=0.35, \n",
    "                                            class_ids=['@default_class'],\n",
    "                                            topic_names=['topic_{}'.format(i) for i in range(0, 300)]),\n",
    "                           \n",
    "                           artm.SmoothSparsePhiRegularizer(\n",
    "                                            name='SmoothPhi_1', \n",
    "                                            class_ids=['@default_class'],\n",
    "                                            tau=0.25, \n",
    "                                            topic_names=['topic_{}'.format(i) for i in range(0, 300)])\n",
    "                                    ]\n",
    "                        )"
   ]
  },
  {
   "cell_type": "code",
   "execution_count": 0,
   "metadata": {
    "colab": {},
    "colab_type": "code",
    "id": "HIn5gC-vRsLS"
   },
   "outputs": [],
   "source": [
    "model_artm3 = artm.ARTM(topic_names=['topic_{}'.format(i) for i in range(150)],\n",
    "                       \n",
    "                       regularizers=[\n",
    "                           artm.DecorrelatorPhiRegularizer(\n",
    "                                            name='Decorr', tau=0.5, \n",
    "                                            class_ids=['@default_class'],\n",
    "                                            topic_names=['topic_{}'.format(i) for i in range(0, 150)]),\n",
    "                           \n",
    "                           artm.SmoothSparsePhiRegularizer(\n",
    "                                            name='SmoothPhi_1', \n",
    "                                            class_ids=['@default_class'],\n",
    "                                            tau=0.5, \n",
    "                                            topic_names=['topic_{}'.format(i) for i in range(0, 150)])\n",
    "                                    ]\n",
    "                        )"
   ]
  },
  {
   "cell_type": "code",
   "execution_count": 0,
   "metadata": {
    "colab": {},
    "colab_type": "code",
    "id": "t4YHmRx8ViuW"
   },
   "outputs": [],
   "source": [
    "model_artm4 = artm.ARTM(topic_names=['topic_{}'.format(i) for i in range(200)],\n",
    "                       \n",
    "                       regularizers=[\n",
    "                           artm.DecorrelatorPhiRegularizer(\n",
    "                                            name='Decorr', tau=0.15, \n",
    "                                            class_ids=['@default_class'],\n",
    "                                            topic_names=['topic_{}'.format(i) for i in range(0, 200)]),\n",
    "                           \n",
    "                           artm.SmoothSparsePhiRegularizer(\n",
    "                                            name='SmoothPhi_1', \n",
    "                                            class_ids=['@default_class'],\n",
    "                                            tau=0.05, \n",
    "                                            topic_names=['topic_{}'.format(i) for i in range(0, 200)])\n",
    "                                    ]\n",
    "                        )"
   ]
  },
  {
   "cell_type": "code",
   "execution_count": 0,
   "metadata": {
    "colab": {},
    "colab_type": "code",
    "id": "nzaqP0OxSE4K"
   },
   "outputs": [],
   "source": [
    "model_artm.initialize(dictionary=dictionary, )"
   ]
  },
  {
   "cell_type": "code",
   "execution_count": 0,
   "metadata": {
    "colab": {},
    "colab_type": "code",
    "id": "_uA-n8aYSM4h"
   },
   "outputs": [],
   "source": [
    "model_artm2.initialize(dictionary=dictionary, )"
   ]
  },
  {
   "cell_type": "code",
   "execution_count": 0,
   "metadata": {
    "colab": {},
    "colab_type": "code",
    "id": "u2S-YHbKSaJ-"
   },
   "outputs": [],
   "source": [
    "model_artm3.initialize(dictionary=dictionary, )"
   ]
  },
  {
   "cell_type": "code",
   "execution_count": 0,
   "metadata": {
    "colab": {},
    "colab_type": "code",
    "id": "PNi6Ne_FVto0"
   },
   "outputs": [],
   "source": [
    "model_artm4.initialize(dictionary=dictionary, )"
   ]
  },
  {
   "cell_type": "code",
   "execution_count": 0,
   "metadata": {
    "colab": {},
    "colab_type": "code",
    "id": "jLs0s2gtSIcr"
   },
   "outputs": [],
   "source": [
    "model_artm.scores.add(artm.PerplexityScore(name='PerplexityScore',\n",
    "                                                    dictionary=dictionary))\n",
    "model_artm.scores.add(artm.SparsityPhiScore(name='SparsityPhiScore')) \n",
    "model_artm.scores.add(artm.SparsityThetaScore(name='SparsityThetaScore')) \n",
    "model_artm.scores.add(artm.TopicKernelScore(name='TopicKernelScore', probability_mass_threshold=0.1)) \n",
    "model_artm.scores.add(artm.TopTokensScore(class_id='@default_class', name='TopTokensScore_1', num_tokens=10)) "
   ]
  },
  {
   "cell_type": "code",
   "execution_count": 0,
   "metadata": {
    "colab": {},
    "colab_type": "code",
    "id": "5JjPKLSOSWeN"
   },
   "outputs": [],
   "source": [
    "model_artm2.scores.add(artm.PerplexityScore(name='PerplexityScore',\n",
    "                                                    dictionary=dictionary))\n",
    "model_artm2.scores.add(artm.SparsityPhiScore(name='SparsityPhiScore')) \n",
    "model_artm2.scores.add(artm.SparsityThetaScore(name='SparsityThetaScore')) \n",
    "model_artm2.scores.add(artm.TopicKernelScore(name='TopicKernelScore', probability_mass_threshold=0.1)) \n",
    "model_artm2.scores.add(artm.TopTokensScore(class_id='@default_class', name='TopTokensScore_1', num_tokens=10)) "
   ]
  },
  {
   "cell_type": "code",
   "execution_count": 0,
   "metadata": {
    "colab": {},
    "colab_type": "code",
    "id": "fSZLr7eySmB8"
   },
   "outputs": [],
   "source": [
    "model_artm3.scores.add(artm.PerplexityScore(name='PerplexityScore',\n",
    "                                                    dictionary=dictionary))\n",
    "model_artm3.scores.add(artm.SparsityPhiScore(name='SparsityPhiScore')) \n",
    "model_artm3.scores.add(artm.SparsityThetaScore(name='SparsityThetaScore')) \n",
    "model_artm3.scores.add(artm.TopicKernelScore(name='TopicKernelScore', probability_mass_threshold=0.1)) \n",
    "model_artm3.scores.add(artm.TopTokensScore(class_id='@default_class', name='TopTokensScore_1', num_tokens=10)) "
   ]
  },
  {
   "cell_type": "code",
   "execution_count": 0,
   "metadata": {
    "colab": {},
    "colab_type": "code",
    "id": "MYScquhjVzXa"
   },
   "outputs": [],
   "source": [
    "model_artm4.scores.add(artm.PerplexityScore(name='PerplexityScore',\n",
    "                                                    dictionary=dictionary))\n",
    "model_artm4.scores.add(artm.SparsityPhiScore(name='SparsityPhiScore')) \n",
    "model_artm4.scores.add(artm.SparsityThetaScore(name='SparsityThetaScore')) \n",
    "model_artm4.scores.add(artm.TopicKernelScore(name='TopicKernelScore', probability_mass_threshold=0.1)) \n",
    "model_artm4.scores.add(artm.TopTokensScore(class_id='@default_class', name='TopTokensScore_1', num_tokens=10)) "
   ]
  },
  {
   "cell_type": "code",
   "execution_count": 0,
   "metadata": {
    "colab": {},
    "colab_type": "code",
    "id": "OVT5mHFfSqfI"
   },
   "outputs": [],
   "source": [
    "model_artm.num_document_passes = 2\n",
    "model_artm.fit_offline(batch_vectorizer=batch_vectorizer, num_collection_passes=3)"
   ]
  },
  {
   "cell_type": "code",
   "execution_count": 0,
   "metadata": {
    "colab": {},
    "colab_type": "code",
    "id": "ajhTdQ56S4QI"
   },
   "outputs": [],
   "source": [
    "model_artm2.num_document_passes = 2\n",
    "model_artm2.fit_offline(batch_vectorizer=batch_vectorizer, num_collection_passes=3)"
   ]
  },
  {
   "cell_type": "code",
   "execution_count": 0,
   "metadata": {
    "colab": {},
    "colab_type": "code",
    "id": "TBBnBf9dTBhF"
   },
   "outputs": [],
   "source": [
    "model_artm3.num_document_passes = 2\n",
    "model_artm3.fit_offline(batch_vectorizer=batch_vectorizer, num_collection_passes=3)"
   ]
  },
  {
   "cell_type": "code",
   "execution_count": 0,
   "metadata": {
    "colab": {},
    "colab_type": "code",
    "id": "2rk1ZcvYV8Fo"
   },
   "outputs": [],
   "source": [
    "model_artm4.num_document_passes = 2\n",
    "model_artm4.fit_offline(batch_vectorizer=batch_vectorizer, num_collection_passes=3)"
   ]
  },
  {
   "cell_type": "markdown",
   "metadata": {},
   "source": [
    "### 6) Хорошие темы модели"
   ]
  },
  {
   "cell_type": "markdown",
   "metadata": {},
   "source": [
    "Самой хорошей моделью оказался вариант №2. Примеры ее тем:\n",
    "\n",
    "topic_0: конференция, доклад, презентация, лекция, слайд, выступление, рассказать, мероприятие, андрей, спикер\n",
    "\n",
    "topic_1: процессор, intel, гб, ноутбук, usb, lenovo, мб, память, ггц, power\n",
    "\n",
    "topic_2: сеть, лицо, социальный, контакт, отношение, друг, доверие, общество, близкие, отмечать\n"
   ]
  },
  {
   "cell_type": "markdown",
   "metadata": {},
   "source": [
    "### 7) График обучения лучшей модели"
   ]
  },
  {
   "cell_type": "code",
   "execution_count": 45,
   "metadata": {
    "colab": {
     "base_uri": "https://localhost:8080/",
     "height": 364
    },
    "colab_type": "code",
    "id": "wt67G1hJTSUS",
    "outputId": "9b0c1b61-2db4-4c77-e088-bcda95896bd1"
   },
   "outputs": [
    {
     "name": "stdout",
     "output_type": "stream",
     "text": [
      "Sparsity Phi: 0.000 ARTM)\n",
      "Sparsity Theta: 0.000 (ARTM)\n",
      "Kernel contrast: 0.000 (ARTM)\n",
      "Kernel purity: 0.000 (ARTM)\n",
      "Perplexity: 915.773 (ARTM)\n"
     ]
    },
    {
     "data": {
      "image/png": "[encoded data removed]",
      "text/plain": [
       "<Figure size 432x288 with 1 Axes>"
      ]
     },
     "metadata": {
      "tags": []
     },
     "output_type": "display_data"
    }
   ],
   "source": [
    "print_measures(model_artm2)"
   ]
  },
  {
   "cell_type": "code",
   "execution_count": 0,
   "metadata": {
    "colab": {},
    "colab_type": "code",
    "id": "1GR4gEt7Tvpr"
   },
   "outputs": [],
   "source": [
    "model_artm2.regularizers.add(artm.SmoothSparsePhiRegularizer(name='SparsePhi', tau=-0.15, \n",
    "                                                            topic_names=['topic_{}'.format(i) for i in range(1, 300)],\n",
    "                                                            ))\n",
    "model_artm2.regularizers.add(artm.SmoothSparseThetaRegularizer(name='SparseTheta', tau=-0.15, \n",
    "                                                              topic_names=['topic_{}'.format(i) for i in range(1, 300)]))"
   ]
  },
  {
   "cell_type": "code",
   "execution_count": 0,
   "metadata": {
    "colab": {},
    "colab_type": "code",
    "id": "eCulqiZ0T_8n"
   },
   "outputs": [],
   "source": [
    "model_artm2.fit_offline(batch_vectorizer=batch_vectorizer,num_collection_passes=1)"
   ]
  },
  {
   "cell_type": "code",
   "execution_count": 0,
   "metadata": {
    "colab": {},
    "colab_type": "code",
    "id": "en8RLMUhUQQU"
   },
   "outputs": [],
   "source": [
    "phi_tau = model_artm2.regularizers['SparsePhi'].tau\n",
    "theta_tau = model_artm2.regularizers['SparseTheta'].tau\n",
    "\n",
    "for i in range(10):\n",
    "    model_artm2.regularizers['SparsePhi'].tau = (phi_tau + (phi_tau*0.5))\n",
    "    model_artm2.regularizers['SparseTheta'].tau = (theta_tau + (theta_tau*0.1))\n",
    "    \n",
    "    model_artm2.fit_offline(batch_vectorizer=batch_vectorizer,num_collection_passes=1)"
   ]
  },
  {
   "cell_type": "code",
   "execution_count": 90,
   "metadata": {
    "colab": {
     "base_uri": "https://localhost:8080/",
     "height": 364
    },
    "colab_type": "code",
    "id": "5WcTz-MqVPWo",
    "outputId": "8fd2dfbb-19a3-4b4c-a61b-6b6a7ebbfc2d"
   },
   "outputs": [
    {
     "name": "stdout",
     "output_type": "stream",
     "text": [
      "Sparsity Phi: 0.972 ARTM)\n",
      "Sparsity Theta: 0.476 (ARTM)\n",
      "Kernel contrast: 0.405 (ARTM)\n",
      "Kernel purity: 0.741 (ARTM)\n",
      "Perplexity: 336.003 (ARTM)\n"
     ]
    },
    {
     "data": {
      "image/png": "[encoded data removed]",
      "text/plain": [
       "<Figure size 432x288 with 1 Axes>"
      ]
     },
     "metadata": {
      "tags": []
     },
     "output_type": "display_data"
    }
   ],
   "source": [
    "print_measures(model_artm2)"
   ]
  },
  {
   "cell_type": "code",
   "execution_count": 94,
   "metadata": {
    "colab": {
     "base_uri": "https://localhost:8080/",
     "height": 1000
    },
    "colab_type": "code",
    "id": "vjzUbH-nZw3A",
    "outputId": "9bf3b645-fdf9-4bd5-8592-86fe9d67394e"
   },
   "outputs": [
    {
     "name": "stdout",
     "output_type": "stream",
     "text": [
      "topic_0: \n",
      "конференция\n",
      "доклад\n",
      "презентация\n",
      "лекция\n",
      "слайд\n",
      "выступление\n",
      "рассказать\n",
      "мероприятие\n",
      "андрей\n",
      "спикер\n",
      "---------\n",
      "topic_1: \n",
      "процессор\n",
      "intel\n",
      "гб\n",
      "ноутбук\n",
      "usb\n",
      "lenovo\n",
      "мб\n",
      "память\n",
      "ггц\n",
      "power\n",
      "---------\n",
      "topic_2: \n",
      "сеть\n",
      "лицо\n",
      "социальный\n",
      "контакт\n",
      "отношение\n",
      "друг\n",
      "доверие\n",
      "общество\n",
      "близкие\n",
      "отмечать\n",
      "---------\n",
      "topic_3: \n",
      "оценка\n",
      "показатель\n",
      "оценить\n",
      "фактор\n",
      "риска\n",
      "оценивать\n",
      "прогноз\n",
      "методика\n",
      "эффективность\n",
      "принятие\n",
      "---------\n",
      "topic_4: \n",
      "вполне\n",
      "целое\n",
      "быстрый\n",
      "намного\n",
      "причём\n",
      "разумеется\n",
      "возможно\n",
      "справляться\n",
      "действительно\n",
      "столь\n",
      "---------\n",
      "topic_5: \n",
      "материал\n",
      "печать\n",
      "принтер\n",
      "3d\n",
      "бумага\n",
      "сканирование\n",
      "лист\n",
      "3d-принтер\n",
      "форма\n",
      "печатать\n",
      "---------\n",
      "topic_6: \n",
      "читать\n",
      "домашний\n",
      "слушать\n",
      "колонка\n",
      "обсуждать\n",
      "стоить\n",
      "звучать\n",
      "бренд\n",
      "выпуск\n",
      "ответ\n",
      "---------\n",
      "topic_7: \n",
      "заказчик\n",
      "срок\n",
      "требование\n",
      "тз\n",
      "scrum\n",
      "product\n",
      "технический\n",
      "исполнитель\n",
      "контракт\n",
      "сторона\n",
      "---------\n",
      "topic_8: \n",
      "1\n",
      "2\n",
      "up\n",
      "6\n",
      "days\n",
      "3\n",
      "down\n",
      "connection\n",
      "active\n",
      "closed\n",
      "---------\n",
      "topic_9: \n",
      "теория\n",
      "принцип\n",
      "логический\n",
      "верный\n",
      "существовать\n",
      "сила\n",
      "утверждение\n",
      "предположение\n",
      "хотя\n",
      "известный\n",
      "---------\n",
      "topic_10: \n",
      "необходимый\n",
      "данный\n",
      "процедура\n",
      "следующий\n",
      "проверка\n",
      "получение\n",
      "текущий\n",
      "регистрация\n",
      "описать\n",
      "момент\n",
      "---------\n",
      "topic_11: \n",
      "доступ\n",
      "пользовательский\n",
      "доступный\n",
      "данные\n",
      "фильтрация\n",
      "предоставить\n",
      "пользователь\n",
      "имя\n",
      "предоставление\n",
      "недоступный\n",
      "---------\n",
      "topic_12: \n",
      "правило\n",
      "т.д\n",
      "образ\n",
      "конкретный\n",
      "именно\n",
      "следовать\n",
      "исключение\n",
      "исключить\n",
      "зависеть\n",
      "любой\n",
      "---------\n",
      "topic_13: \n",
      "день\n",
      "сегодняшний\n",
      "билет\n",
      "дата\n",
      "праздник\n",
      "ежедневно\n",
      "пять\n",
      "завтра\n",
      "провести\n",
      "евро\n",
      "---------\n",
      "topic_14: \n",
      "as\n",
      "null\n",
      "from\n",
      "select\n",
      "таблица\n",
      "where\n",
      "not\n",
      "table\n",
      "on\n",
      "and\n",
      "---------\n",
      "topic_15: \n",
      "глаз\n",
      "лазер\n",
      "линза\n",
      "коррекция\n",
      "разрез\n",
      "хирург\n",
      "лазерный\n",
      "современный\n",
      "затем\n",
      "из-за\n",
      "---------\n",
      "topic_16: \n",
      "неделя\n",
      "ранний\n",
      "пройти\n",
      "начать\n",
      "прошлый\n",
      "назад\n",
      "конец\n",
      "готовый\n",
      "смочь\n",
      "успеть\n",
      "---------\n",
      "topic_17: \n",
      "продукт\n",
      "рынок\n",
      "конкурент\n",
      "продажа\n",
      "маркетинг\n",
      "направление\n",
      "аналитика\n",
      "сегмент\n",
      "ниша\n",
      "devops\n",
      "---------\n",
      "topic_18: \n",
      "российский\n",
      "россия\n",
      "государственный\n",
      "территория\n",
      "рф\n",
      "зарубежный\n",
      "отечественный\n",
      "представитель\n",
      "законодательство\n",
      "власть\n",
      "---------\n",
      "topic_19: \n",
      "type\n",
      "битый\n",
      "00\n",
      "define\n",
      "0x00\n",
      "64\n",
      "output\n",
      "bytes\n",
      "wire\n",
      "handle\n",
      "---------\n",
      "topic_20: \n",
      "виртуальный\n",
      "резервный\n",
      "копия\n",
      "восстановление\n",
      "машина\n",
      "копирование\n",
      "виртуализация\n",
      "бэкап\n",
      "backup\n",
      "veeam\n",
      "---------\n",
      "topic_21: \n",
      "хост\n",
      "вм\n",
      "storage\n",
      "vmware\n",
      "virtual\n",
      "хранилище\n",
      "vsphere\n",
      "vm\n",
      "виртуальный\n",
      "схд\n",
      "---------\n",
      "topic_22: \n",
      "fps\n",
      "geektimes\n",
      "hyperx\n",
      "подсветка\n",
      "gtx\n",
      "гарнитур\n",
      "новинка\n",
      "видеокарта\n",
      "доступный\n",
      "игровой\n",
      "---------\n",
      "topic_23: \n",
      "оказаться\n",
      "правда\n",
      "именно\n",
      "нормальный\n",
      "случиться\n",
      "странный\n",
      "произойти\n",
      "место\n",
      "случайно\n",
      "оказываться\n",
      "---------\n",
      "topic_24: \n",
      "инженер\n",
      "двигатель\n",
      "испытание\n",
      "образец\n",
      "конструкция\n",
      "стенд\n",
      "авария\n",
      "самолёт\n",
      "сила\n",
      "мотор\n",
      "---------\n",
      "topic_25: \n",
      "компьютер\n",
      "пора\n",
      "появиться\n",
      "сей\n",
      "компьютерный\n",
      "сегодня\n",
      "назад\n",
      "начало\n",
      "появление\n",
      "затем\n",
      "---------\n",
      "topic_26: \n",
      "рука\n",
      "движение\n",
      "двигаться\n",
      "палец\n",
      "голов\n",
      "стол\n",
      "нога\n",
      "голова\n",
      "тело\n",
      "сторона\n",
      "---------\n",
      "topic_27: \n",
      "свет\n",
      "обзор\n",
      "коробка\n",
      "лампа\n",
      "освещение\n",
      "яркость\n",
      "автор\n",
      "ручка\n",
      "яркий\n",
      "индикатор\n",
      "---------\n",
      "topic_28: \n",
      "мир\n",
      "история\n",
      "становиться\n",
      "многий\n",
      "протяжение\n",
      "ранний\n",
      "вокруг\n",
      "некоторый\n",
      "появляться\n",
      "многие\n",
      "---------\n",
      "topic_29: \n",
      "ребёнок\n",
      "навык\n",
      "школа\n",
      "образование\n",
      "обучение\n",
      "родитель\n",
      "учиться\n",
      "занятие\n",
      "профессия\n",
      "lego\n",
      "---------\n",
      "topic_30: \n",
      "ход\n",
      "позиция\n",
      "перемещение\n",
      "доска\n",
      "фигура\n",
      "камень\n",
      "лишь\n",
      "бог\n",
      "разнообразие\n",
      "партия\n",
      "---------\n",
      "topic_31: \n",
      "документация\n",
      "спасибо\n",
      "хотеться\n",
      "перевести\n",
      "привет\n",
      "устраивать\n",
      "разнообразный\n",
      "надеяться\n",
      "полный\n",
      "оригинал\n",
      "---------\n",
      "topic_32: \n",
      "датчик\n",
      "дом\n",
      "умный\n",
      "гаджет\n",
      "bluetooth\n",
      "девайс\n",
      "встроить\n",
      "беспроводный\n",
      "сенсор\n",
      "показание\n",
      "---------\n",
      "topic_33: \n",
      "питание\n",
      "плата\n",
      "напряжение\n",
      "ток\n",
      "мощность\n",
      "батарея\n",
      "аккумулятор\n",
      "arduino\n",
      "ибп\n",
      "плат\n",
      "---------\n",
      "topic_34: \n",
      "ситуация\n",
      "наличие\n",
      "отсутствие\n",
      "подобный\n",
      "очевидный\n",
      "возникать\n",
      "технический\n",
      "требовать\n",
      "реальный\n",
      "учитывать\n",
      "---------\n",
      "topic_35: \n",
      "т.е\n",
      "хранение\n",
      "хранить\n",
      "хранилище\n",
      "храниться\n",
      "лог\n",
      "hadoop\n",
      "объём\n",
      "использоваться\n",
      "логово\n",
      "---------\n",
      "topic_36: \n",
      "равно\n",
      "знать\n",
      "взять\n",
      "брать\n",
      "давать\n",
      "итак\n",
      "скажем\n",
      "откуда\n",
      "нюанс\n",
      "порядок\n",
      "---------\n",
      "topic_37: \n",
      "простой\n",
      "шаг\n",
      "рекомендовать\n",
      "найти\n",
      "удобный\n",
      "возможно\n",
      "способ\n",
      "советовать\n",
      "выбрать\n",
      "немой\n",
      "---------\n",
      "topic_38: \n",
      "ваш\n",
      "способ\n",
      "смочь\n",
      "стоить\n",
      "убедиться\n",
      "давать\n",
      "избегать\n",
      "скорее\n",
      "вместе\n",
      "помнить\n",
      "---------\n",
      "topic_39: \n",
      "обучение\n",
      "слой\n",
      "сеть\n",
      "машинный\n",
      "нейронный\n",
      "нейросеть\n",
      "признак\n",
      "loss\n",
      "acc\n",
      "распознавание\n",
      "---------\n",
      "topic_40: \n",
      "результат\n",
      "статистика\n",
      "общий\n",
      "утечка\n",
      "доля\n",
      "инцидент\n",
      "третье\n",
      "проанализировать\n",
      "первое\n",
      "зафиксировать\n",
      "---------\n",
      "topic_41: \n",
      "использование\n",
      "архитектура\n",
      "использоваться\n",
      "предоставлять\n",
      "автоматический\n",
      "способ\n",
      "включать\n",
      "позволять\n",
      "предназначить\n",
      "применение\n",
      "---------\n",
      "topic_42: \n",
      "далее\n",
      "очередь\n",
      "образ\n",
      "основной\n",
      "происходить\n",
      "момент\n",
      "следующий\n",
      "подробно\n",
      "начало\n",
      "основный\n",
      "---------\n",
      "topic_43: \n",
      "the\n",
      "to\n",
      "is\n",
      "a\n",
      "of\n",
      "in\n",
      "and\n",
      "for\n",
      "this\n",
      "be\n",
      "---------\n",
      "topic_44: \n",
      "linux\n",
      "установка\n",
      "windows\n",
      "ос\n",
      "операционный\n",
      "os\n",
      "sudo\n",
      "утилит\n",
      "ubuntu\n",
      "дистрибутив\n",
      "---------\n",
      "topic_45: \n",
      "запись\n",
      "чтение\n",
      "записывать\n",
      "записать\n",
      "накопитель\n",
      "записываться\n",
      "plus\n",
      "таблица\n",
      "полный\n",
      "содержимый\n",
      "---------\n",
      "topic_46: \n",
      "javascript\n",
      "css\n",
      "js\n",
      "react\n",
      "angular\n",
      "фреймворка\n",
      "html\n",
      "фреймворк\n",
      "виджет\n",
      "браузер\n",
      "---------\n",
      "topic_47: \n",
      "статья\n",
      "комментарий\n",
      "читатель\n",
      "хабра\n",
      "описать\n",
      "следующий\n",
      "автор\n",
      "подробно\n",
      "найти\n",
      "давать\n",
      "---------\n",
      "topic_48: \n",
      "класс\n",
      "свойство\n",
      "атрибут\n",
      "экземпляр\n",
      "коллекция\n",
      "имя\n",
      "конструктор\n",
      "нативный\n",
      "аргумент\n",
      "обёртка\n",
      "---------\n",
      "topic_49: \n",
      "программа\n",
      "свободный\n",
      "интернет\n",
      "открытый\n",
      "её\n",
      "название\n",
      "смочь\n",
      "разработать\n",
      "техника\n",
      "мера\n",
      "---------\n"
     ]
    }
   ],
   "source": [
    "for topic_name in model_artm2.topic_names[:50]:\n",
    "    print(topic_name + ': ')\n",
    "    try:\n",
    "        for x in model_artm2.score_tracker['TopTokensScore_1'].last_tokens[topic_name]:\n",
    "            print(x)\n",
    "        print('---------')\n",
    "    \n",
    "    except KeyError: # можно перекрутить параметры и некоторые темы окажутся пустыми\n",
    "        continue"
   ]
  },
  {
   "cell_type": "markdown",
   "metadata": {},
   "source": [
    "### 8) Изменение параметров"
   ]
  },
  {
   "cell_type": "markdown",
   "metadata": {},
   "source": [
    "В лучшей 2 модели я увеличил количество тем с 200 до 300. Также я увеличил регуляризаторы декорреляции и сглаживания до 0.35 и 0.25. Изначально после 1 прохода вторая модель была несколько хуже, чем 1 или 4 модели, но после добавления регуляризаторов разрежнивания тем (Phi) и разреженности документов (Theta) перплексия значительно уменьшилась и стала лучшей. Всего я проделал 4 итерации в ходе, которых качество каждый раз повышалось, а перплексия уменьшалась."
   ]
  }
 ],
 "metadata": {
  "colab": {
   "name": "Untitled0.ipynb",
   "provenance": []
  },
  "kernelspec": {
   "display_name": "Python 3",
   "language": "python",
   "name": "python3"
  },
  "language_info": {
   "codemirror_mode": {
    "name": "ipython",
    "version": 3
   },
   "file_extension": ".py",
   "mimetype": "text/x-python",
   "name": "python",
   "nbconvert_exporter": "python",
   "pygments_lexer": "ipython3",
   "version": "3.7.4"
  }
 },
 "nbformat": 4,
 "nbformat_minor": 1
}
