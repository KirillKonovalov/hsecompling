{
  "nbformat": 4,
  "nbformat_minor": 0,
  "metadata": {
    "colab": {
      "name": "HW4.ipynb",
      "provenance": [],
      "collapsed_sections": []
    },
    "kernelspec": {
      "name": "python3",
      "display_name": "Python 3"
    }
  },
  "cells": [
    {
      "cell_type": "code",
      "metadata": {
        "id": "4IX7bBdaVATC",
        "colab_type": "code",
        "outputId": "6867fb8f-52b9-4d5e-e94f-143d2d66047a",
        "colab": {
          "base_uri": "https://localhost:8080/",
          "height": 50
        }
      },
      "source": [
        "from google.colab import drive \n",
        "drive.mount('/gdrive')\n",
        "%cd /gdrive"
      ],
      "execution_count": 0,
      "outputs": [
        {
          "output_type": "stream",
          "text": [
            "Drive already mounted at /gdrive; to attempt to forcibly remount, call drive.mount(\"/gdrive\", force_remount=True).\n",
            "/gdrive\n"
          ],
          "name": "stdout"
        }
      ]
    },
    {
      "cell_type": "code",
      "metadata": {
        "id": "v41KYwCZVmIt",
        "colab_type": "code",
        "colab": {}
      },
      "source": [
        "import pandas as pd\n",
        "from sklearn.cluster import AffinityPropagation, AgglomerativeClustering, DBSCAN, \\\n",
        "                            KMeans, MiniBatchKMeans, Birch, MeanShift, SpectralClustering\n",
        "from sklearn.metrics import adjusted_rand_score, adjusted_mutual_info_score, \\\n",
        "                            silhouette_score\n",
        "\n",
        "from sklearn.feature_extraction.text import CountVectorizer\n",
        "from sklearn.decomposition import TruncatedSVD\n",
        "from sklearn import metrics\n",
        "from sklearn.datasets import make_blobs\n",
        "from sklearn.feature_extraction.text import TfidfVectorizer\n",
        "from sklearn.decomposition import NMF"
      ],
      "execution_count": 0,
      "outputs": []
    },
    {
      "cell_type": "code",
      "metadata": {
        "id": "piS8xkmrVpV5",
        "colab_type": "code",
        "colab": {}
      },
      "source": [
        "data = pd.read_csv('/gdrive/My Drive/clustering/data.csv')"
      ],
      "execution_count": 0,
      "outputs": []
    },
    {
      "cell_type": "code",
      "metadata": {
        "id": "Y3tr48ouV3SD",
        "colab_type": "code",
        "colab": {}
      },
      "source": [
        "data = data[['category_name', 'title']]"
      ],
      "execution_count": 0,
      "outputs": []
    },
    {
      "cell_type": "code",
      "metadata": {
        "id": "QqlINndUSRMr",
        "colab_type": "code",
        "outputId": "1ca7d870-7110-4a24-9f94-4cfc944d319f",
        "colab": {
          "base_uri": "https://localhost:8080/",
          "height": 195
        }
      },
      "source": [
        "data.head(5)"
      ],
      "execution_count": 0,
      "outputs": [
        {
          "output_type": "execute_result",
          "data": {
            "text/html": [
              "<div>\n",
              "<style scoped>\n",
              "    .dataframe tbody tr th:only-of-type {\n",
              "        vertical-align: middle;\n",
              "    }\n",
              "\n",
              "    .dataframe tbody tr th {\n",
              "        vertical-align: top;\n",
              "    }\n",
              "\n",
              "    .dataframe thead th {\n",
              "        text-align: right;\n",
              "    }\n",
              "</style>\n",
              "<table border=\"1\" class=\"dataframe\">\n",
              "  <thead>\n",
              "    <tr style=\"text-align: right;\">\n",
              "      <th></th>\n",
              "      <th>category_name</th>\n",
              "      <th>title</th>\n",
              "    </tr>\n",
              "  </thead>\n",
              "  <tbody>\n",
              "    <tr>\n",
              "      <th>0</th>\n",
              "      <td>Детская одежда и обувь</td>\n",
              "      <td>Платье праздничное для девочки</td>\n",
              "    </tr>\n",
              "    <tr>\n",
              "      <th>1</th>\n",
              "      <td>Мебель и интерьер</td>\n",
              "      <td>Кровать двухспальная</td>\n",
              "    </tr>\n",
              "    <tr>\n",
              "      <th>2</th>\n",
              "      <td>Телефоны</td>\n",
              "      <td>Samsung S3 mini gt-i8190</td>\n",
              "    </tr>\n",
              "    <tr>\n",
              "      <th>3</th>\n",
              "      <td>Одежда, обувь, аксессуары</td>\n",
              "      <td>Красивое платье на одно плечо, в идеале размер м</td>\n",
              "    </tr>\n",
              "    <tr>\n",
              "      <th>4</th>\n",
              "      <td>Детская одежда и обувь</td>\n",
              "      <td>Стильная панама</td>\n",
              "    </tr>\n",
              "  </tbody>\n",
              "</table>\n",
              "</div>"
            ],
            "text/plain": [
              "               category_name                                             title\n",
              "0     Детская одежда и обувь                    Платье праздничное для девочки\n",
              "1          Мебель и интерьер                              Кровать двухспальная\n",
              "2                   Телефоны                          Samsung S3 mini gt-i8190\n",
              "3  Одежда, обувь, аксессуары  Красивое платье на одно плечо, в идеале размер м\n",
              "4     Детская одежда и обувь                                   Стильная панама"
            ]
          },
          "metadata": {
            "tags": []
          },
          "execution_count": 13
        }
      ]
    },
    {
      "cell_type": "markdown",
      "metadata": {
        "id": "Jq-47gQNWqDi",
        "colab_type": "text"
      },
      "source": [
        "### Задание 1\n",
        "На нескольких алгоритмах кластеризации, умеющих работать с sparse матрицами, проверьте, что работает лучше Count_Vectorizer или TfidfVectorizer (попробуйте выжать максимум из каждого - попробуйте нграммы, символьные нграммы, разные значения max_features и min_df) "
      ]
    },
    {
      "cell_type": "markdown",
      "metadata": {
        "id": "gEFssSuQSYc3",
        "colab_type": "text"
      },
      "source": [
        "### KMeans\n",
        "CountVectorizer"
      ]
    },
    {
      "cell_type": "code",
      "metadata": {
        "id": "AJHsLCLnWMwE",
        "colab_type": "code",
        "colab": {}
      },
      "source": [
        "from sklearn.cluster import KMeans"
      ],
      "execution_count": 0,
      "outputs": []
    },
    {
      "cell_type": "code",
      "metadata": {
        "id": "aI21KKbhntVY",
        "colab_type": "code",
        "colab": {}
      },
      "source": [
        "sample = data.sample(frac=0.1)"
      ],
      "execution_count": 0,
      "outputs": []
    },
    {
      "cell_type": "code",
      "metadata": {
        "id": "OgqY9rdAnt0H",
        "colab_type": "code",
        "colab": {}
      },
      "source": [
        "cv = CountVectorizer(max_features=300, ngram_range=(1, 5), max_df=0.2)\n",
        "svd = TruncatedSVD(50)\n",
        "X = cv.fit_transform(sample['title'])\n",
        "X_svd = svd.fit_transform(X)\n",
        "\n",
        "y = sample['category_name']"
      ],
      "execution_count": 0,
      "outputs": []
    },
    {
      "cell_type": "code",
      "metadata": {
        "id": "XX7fdcoAszTb",
        "colab_type": "code",
        "outputId": "4401f3ff-f333-4825-a487-36d056ddaad2",
        "colab": {
          "base_uri": "https://localhost:8080/",
          "height": 67
        }
      },
      "source": [
        "cluster = KMeans(n_clusters=47)\n",
        "cluster.fit(X_svd)"
      ],
      "execution_count": 0,
      "outputs": [
        {
          "output_type": "execute_result",
          "data": {
            "text/plain": [
              "KMeans(algorithm='auto', copy_x=True, init='k-means++', max_iter=300,\n",
              "       n_clusters=47, n_init=10, n_jobs=None, precompute_distances='auto',\n",
              "       random_state=None, tol=0.0001, verbose=0)"
            ]
          },
          "metadata": {
            "tags": []
          },
          "execution_count": 511
        }
      ]
    },
    {
      "cell_type": "code",
      "metadata": {
        "id": "cWUB8zSltMCI",
        "colab_type": "code",
        "colab": {}
      },
      "source": [
        "labels = cluster.labels_"
      ],
      "execution_count": 0,
      "outputs": []
    },
    {
      "cell_type": "code",
      "metadata": {
        "id": "vlIrR5MDtPh5",
        "colab_type": "code",
        "outputId": "45692da7-db86-4d9e-ff68-240442ddc599",
        "colab": {
          "base_uri": "https://localhost:8080/",
          "height": 34
        }
      },
      "source": [
        "print(\"Silhouette Coefficient: %0.3f\"\n",
        "      % metrics.silhouette_score(X[:10000], labels[:10000]))"
      ],
      "execution_count": 0,
      "outputs": [
        {
          "output_type": "stream",
          "text": [
            "Silhouette Coefficient: 0.360\n"
          ],
          "name": "stdout"
        }
      ]
    },
    {
      "cell_type": "code",
      "metadata": {
        "id": "kVZvgtJ1teUT",
        "colab_type": "code",
        "outputId": "2184ec9e-6520-4df5-be49-bddd3d76a5c9",
        "colab": {
          "base_uri": "https://localhost:8080/",
          "height": 101
        }
      },
      "source": [
        "print(\"Homogeneity: %0.3f\" % metrics.homogeneity_score(y, labels)) \n",
        "print(\"Completeness: %0.3f\" % metrics.completeness_score(y, labels)) \n",
        "print(\"V-measure: %0.3f\" % metrics.v_measure_score(y, labels)) \n",
        "\n",
        "print(\"Adjusted Rand Index: %0.3f\"\n",
        "      % metrics.adjusted_rand_score(y, labels))\n",
        "print(\"Adjusted Mutual Information: %0.3f\"\n",
        "      % metrics.adjusted_mutual_info_score(y, labels))"
      ],
      "execution_count": 0,
      "outputs": [
        {
          "output_type": "stream",
          "text": [
            "Homogeneity: 0.275\n",
            "Completeness: 0.364\n",
            "V-measure: 0.313\n",
            "Adjusted Rand Index: -0.012\n",
            "Adjusted Mutual Information: 0.302\n"
          ],
          "name": "stdout"
        }
      ]
    },
    {
      "cell_type": "markdown",
      "metadata": {
        "id": "KYvWSMKBS8Cw",
        "colab_type": "text"
      },
      "source": [
        "TfidfVectorizer"
      ]
    },
    {
      "cell_type": "code",
      "metadata": {
        "id": "LMCOuSo8S8ZT",
        "colab_type": "code",
        "colab": {}
      },
      "source": [
        "tfidf = TfidfVectorizer(max_features=300, ngram_range=(1, 5), max_df=0.1)\n",
        "svd = TruncatedSVD(50)\n",
        "X = tfidf.fit_transform(sample['title'])\n",
        "X_svd = svd.fit_transform(X)\n",
        "\n",
        "y = sample['category_name']"
      ],
      "execution_count": 0,
      "outputs": []
    },
    {
      "cell_type": "code",
      "metadata": {
        "id": "GppULQ35TEYH",
        "colab_type": "code",
        "outputId": "b8e6a6cc-d580-40b7-e9cc-cd5462b72ced",
        "colab": {
          "base_uri": "https://localhost:8080/",
          "height": 67
        }
      },
      "source": [
        "cluster = KMeans(n_clusters=47)\n",
        "cluster.fit(X_svd)"
      ],
      "execution_count": 0,
      "outputs": [
        {
          "output_type": "execute_result",
          "data": {
            "text/plain": [
              "KMeans(algorithm='auto', copy_x=True, init='k-means++', max_iter=300,\n",
              "       n_clusters=47, n_init=10, n_jobs=None, precompute_distances='auto',\n",
              "       random_state=None, tol=0.0001, verbose=0)"
            ]
          },
          "metadata": {
            "tags": []
          },
          "execution_count": 516
        }
      ]
    },
    {
      "cell_type": "code",
      "metadata": {
        "id": "-hXXH9xnTpfR",
        "colab_type": "code",
        "colab": {}
      },
      "source": [
        "labels = cluster.labels_"
      ],
      "execution_count": 0,
      "outputs": []
    },
    {
      "cell_type": "code",
      "metadata": {
        "id": "-qNCaUrdT0Fj",
        "colab_type": "code",
        "outputId": "bf25bb49-3d54-4e19-af51-e680621012bc",
        "colab": {
          "base_uri": "https://localhost:8080/",
          "height": 34
        }
      },
      "source": [
        "print(\"Silhouette Coefficient: %0.3f\"\n",
        "      % metrics.silhouette_score(X[:10000], labels[:10000]))"
      ],
      "execution_count": 0,
      "outputs": [
        {
          "output_type": "stream",
          "text": [
            "Silhouette Coefficient: 0.406\n"
          ],
          "name": "stdout"
        }
      ]
    },
    {
      "cell_type": "code",
      "metadata": {
        "id": "Dd6BX4Q-T2Xz",
        "colab_type": "code",
        "outputId": "845e6742-6d0b-4814-e19e-553b3231d6cf",
        "colab": {
          "base_uri": "https://localhost:8080/",
          "height": 101
        }
      },
      "source": [
        "print(\"Homogeneity: %0.3f\" % metrics.homogeneity_score(y, labels)) \n",
        "print(\"Completeness: %0.3f\" % metrics.completeness_score(y, labels)) \n",
        "print(\"V-measure: %0.3f\" % metrics.v_measure_score(y, labels))  \n",
        "\n",
        "print(\"Adjusted Rand Index: %0.3f\"\n",
        "      % metrics.adjusted_rand_score(y, labels))\n",
        "print(\"Adjusted Mutual Information: %0.3f\"\n",
        "      % metrics.adjusted_mutual_info_score(y, labels))"
      ],
      "execution_count": 0,
      "outputs": [
        {
          "output_type": "stream",
          "text": [
            "Homogeneity: 0.309\n",
            "Completeness: 0.372\n",
            "V-measure: 0.337\n",
            "Adjusted Rand Index: -0.002\n",
            "Adjusted Mutual Information: 0.327\n"
          ],
          "name": "stdout"
        }
      ]
    },
    {
      "cell_type": "markdown",
      "metadata": {
        "id": "Y5ULNfJ7d4Fa",
        "colab_type": "text"
      },
      "source": [
        "В Kmeans при одних и тех же подобранных оптимальных параметрах tfidfvectorizer показывает себя лучше, чем countvectorizer. V-measure при tfidf векторизаторе больше, также как и  Silhouette Coefficient. "
      ]
    },
    {
      "cell_type": "markdown",
      "metadata": {
        "id": "LfhUuQ4geVbr",
        "colab_type": "text"
      },
      "source": [
        "### MiniBatchKMeans"
      ]
    },
    {
      "cell_type": "markdown",
      "metadata": {
        "id": "xMDOwuRSemx-",
        "colab_type": "text"
      },
      "source": [
        "CountVectorizer\n"
      ]
    },
    {
      "cell_type": "code",
      "metadata": {
        "id": "mHZNNXkaeHAe",
        "colab_type": "code",
        "colab": {}
      },
      "source": [
        "cv = CountVectorizer(max_features=500, ngram_range=(1, 5), analyzer='word', max_df=0.2)\n",
        "svd = TruncatedSVD(200)\n",
        "X = cv.fit_transform(data['title'])\n",
        "X_svd = svd.fit_transform(X)\n",
        "\n",
        "y = data['category_name']"
      ],
      "execution_count": 0,
      "outputs": []
    },
    {
      "cell_type": "code",
      "metadata": {
        "id": "W7T-43dCeYKp",
        "colab_type": "code",
        "colab": {}
      },
      "source": [
        "cluster = MiniBatchKMeans(n_clusters=1000, init_size=5000, verbose=1, max_iter=5000, \n",
        "                          max_no_improvement=100, reassignment_ratio=0.3)\n",
        "cluster.fit(X_svd)"
      ],
      "execution_count": 0,
      "outputs": []
    },
    {
      "cell_type": "code",
      "metadata": {
        "id": "vNUP1GazeabQ",
        "colab_type": "code",
        "colab": {}
      },
      "source": [
        "labels = cluster.labels_"
      ],
      "execution_count": 0,
      "outputs": []
    },
    {
      "cell_type": "code",
      "metadata": {
        "id": "TlFiC3QFecwM",
        "colab_type": "code",
        "outputId": "cf244290-ff89-4461-e88f-adb0d565f75e",
        "colab": {
          "base_uri": "https://localhost:8080/",
          "height": 34
        }
      },
      "source": [
        "print(\"Silhouette Coefficient: %0.3f\"\n",
        "      % metrics.silhouette_score(X[:10000], labels[:10000]))"
      ],
      "execution_count": 0,
      "outputs": [
        {
          "output_type": "stream",
          "text": [
            "Silhouette Coefficient: 0.590\n"
          ],
          "name": "stdout"
        }
      ]
    },
    {
      "cell_type": "code",
      "metadata": {
        "id": "CqeCuhwteeXA",
        "colab_type": "code",
        "outputId": "e699a38a-6356-4394-b666-2f46b2eb5c06",
        "colab": {
          "base_uri": "https://localhost:8080/",
          "height": 101
        }
      },
      "source": [
        "print(\"Homogeneity: %0.3f\" % metrics.homogeneity_score(y, labels)) \n",
        "print(\"Completeness: %0.3f\" % metrics.completeness_score(y, labels)) \n",
        "print(\"V-measure: %0.3f\" % metrics.v_measure_score(y, labels)) \n",
        "\n",
        "print(\"Adjusted Rand Index: %0.3f\"\n",
        "      % metrics.adjusted_rand_score(y, labels))\n",
        "print(\"Adjusted Mutual Information: %0.3f\"\n",
        "      % metrics.adjusted_mutual_info_score(y, labels))"
      ],
      "execution_count": 0,
      "outputs": [
        {
          "output_type": "stream",
          "text": [
            "Homogeneity: 0.486\n",
            "Completeness: 0.304\n",
            "V-measure: 0.374\n",
            "Adjusted Rand Index: -0.011\n",
            "Adjusted Mutual Information: 0.362\n"
          ],
          "name": "stdout"
        }
      ]
    },
    {
      "cell_type": "markdown",
      "metadata": {
        "id": "Q17zvY-xepwd",
        "colab_type": "text"
      },
      "source": [
        "TfidfVectorizer"
      ]
    },
    {
      "cell_type": "code",
      "metadata": {
        "id": "UGBABVICegI0",
        "colab_type": "code",
        "colab": {}
      },
      "source": [
        "tfidf = TfidfVectorizer(max_features=500, ngram_range=(1, 5), analyzer='word', max_df=0.2)\n",
        "svd = TruncatedSVD(200)\n",
        "X = tfidf.fit_transform(data['title'])\n",
        "X_svd = svd.fit_transform(X)\n",
        "\n",
        "y = data['category_name']"
      ],
      "execution_count": 0,
      "outputs": []
    },
    {
      "cell_type": "code",
      "metadata": {
        "id": "3tcCUgOpjtHq",
        "colab_type": "code",
        "colab": {}
      },
      "source": [
        "cluster = MiniBatchKMeans(n_clusters=1000, init_size=5000, verbose=1, max_iter=5000, \n",
        "                          max_no_improvement=100, reassignment_ratio=0.3)\n",
        "cluster.fit(X_svd)"
      ],
      "execution_count": 0,
      "outputs": []
    },
    {
      "cell_type": "code",
      "metadata": {
        "id": "YHELy117jtSA",
        "colab_type": "code",
        "colab": {}
      },
      "source": [
        "labels = cluster.labels_"
      ],
      "execution_count": 0,
      "outputs": []
    },
    {
      "cell_type": "code",
      "metadata": {
        "id": "t_gI_G46jy--",
        "colab_type": "code",
        "outputId": "2ce9d6b3-3ece-4473-c478-8035332e9942",
        "colab": {
          "base_uri": "https://localhost:8080/",
          "height": 34
        }
      },
      "source": [
        "print(\"Silhouette Coefficient: %0.3f\"\n",
        "      % metrics.silhouette_score(X[:10000], labels[:10000]))"
      ],
      "execution_count": 0,
      "outputs": [
        {
          "output_type": "stream",
          "text": [
            "Silhouette Coefficient: 0.356\n"
          ],
          "name": "stdout"
        }
      ]
    },
    {
      "cell_type": "code",
      "metadata": {
        "id": "tFZegMq4j4XX",
        "colab_type": "code",
        "outputId": "232fa0b4-3b89-4b67-f142-96c444ddf54f",
        "colab": {
          "base_uri": "https://localhost:8080/",
          "height": 101
        }
      },
      "source": [
        "print(\"Homogeneity: %0.3f\" % metrics.homogeneity_score(y, labels)) \n",
        "print(\"Completeness: %0.3f\" % metrics.completeness_score(y, labels)) \n",
        "print(\"V-measure: %0.3f\" % metrics.v_measure_score(y, labels)) \n",
        "\n",
        "print(\"Adjusted Rand Index: %0.3f\"\n",
        "      % metrics.adjusted_rand_score(y, labels))\n",
        "print(\"Adjusted Mutual Information: %0.3f\"\n",
        "      % metrics.adjusted_mutual_info_score(y, labels))"
      ],
      "execution_count": 0,
      "outputs": [
        {
          "output_type": "stream",
          "text": [
            "Homogeneity: 0.509\n",
            "Completeness: 0.310\n",
            "V-measure: 0.385\n",
            "Adjusted Rand Index: -0.012\n",
            "Adjusted Mutual Information: 0.373\n"
          ],
          "name": "stdout"
        }
      ]
    },
    {
      "cell_type": "markdown",
      "metadata": {
        "id": "7u2F79kfl9Qh",
        "colab_type": "text"
      },
      "source": [
        "В данном случае tfidfvectorizer показал себя снова немного лучше. "
      ]
    },
    {
      "cell_type": "markdown",
      "metadata": {
        "id": "Ucq_vpd6wDCN",
        "colab_type": "text"
      },
      "source": [
        "### Задание 2 "
      ]
    },
    {
      "cell_type": "markdown",
      "metadata": {
        "id": "q3CS2YJywFgM",
        "colab_type": "text"
      },
      "source": [
        "На нескольких алгоритмах кластеризации проверьте, какое матричное разложение (TruncatedSVD или NMF) работает лучше для кластеризации."
      ]
    },
    {
      "cell_type": "markdown",
      "metadata": {
        "id": "7jMWqBeww1en",
        "colab_type": "text"
      },
      "source": [
        "TruncatedSVD "
      ]
    },
    {
      "cell_type": "markdown",
      "metadata": {
        "id": "nQOMQvPKw3n2",
        "colab_type": "text"
      },
      "source": [
        "1. KMeans"
      ]
    },
    {
      "cell_type": "code",
      "metadata": {
        "id": "L_Y3Dz6Jtu-z",
        "colab_type": "code",
        "colab": {}
      },
      "source": [
        "sample = data.sample(frac=0.1)\n",
        "cv = CountVectorizer(max_features=300, ngram_range=(1, 3), max_df=0.2)\n",
        "svd = TruncatedSVD(50)\n",
        "X = cv.fit_transform(sample['title'])\n",
        "X_svd = svd.fit_transform(X)\n",
        "\n",
        "y = sample['category_name']"
      ],
      "execution_count": 0,
      "outputs": []
    },
    {
      "cell_type": "code",
      "metadata": {
        "id": "2sfx42grySEv",
        "colab_type": "code",
        "colab": {}
      },
      "source": [
        "cluster = KMeans(n_clusters=47)\n",
        "cluster.fit(X_svd)\n",
        "labels = cluster.labels_"
      ],
      "execution_count": 0,
      "outputs": []
    },
    {
      "cell_type": "code",
      "metadata": {
        "id": "X_qlgEqWyVRR",
        "colab_type": "code",
        "outputId": "06bbd12a-e229-491f-86d7-2b1f0652d8a6",
        "colab": {
          "base_uri": "https://localhost:8080/",
          "height": 34
        }
      },
      "source": [
        "print(\"Silhouette Coefficient: %0.3f\"\n",
        "      % metrics.silhouette_score(X[:10000], labels[:10000]))"
      ],
      "execution_count": 0,
      "outputs": [
        {
          "output_type": "stream",
          "text": [
            "Silhouette Coefficient: 0.357\n"
          ],
          "name": "stdout"
        }
      ]
    },
    {
      "cell_type": "code",
      "metadata": {
        "id": "1454AhgbyYU5",
        "colab_type": "code",
        "outputId": "bdb9cff3-b696-4198-8609-4ccc67331a41",
        "colab": {
          "base_uri": "https://localhost:8080/",
          "height": 101
        }
      },
      "source": [
        "print(\"Homogeneity: %0.3f\" % metrics.homogeneity_score(y, labels)) \n",
        "print(\"Completeness: %0.3f\" % metrics.completeness_score(y, labels))\n",
        "print(\"V-measure: %0.3f\" % metrics.v_measure_score(y, labels)) \n",
        "print(\"Adjusted Rand Index: %0.3f\"\n",
        "      % metrics.adjusted_rand_score(y, labels))\n",
        "print(\"Adjusted Mutual Information: %0.3f\"\n",
        "      % metrics.adjusted_mutual_info_score(y, labels))"
      ],
      "execution_count": 0,
      "outputs": [
        {
          "output_type": "stream",
          "text": [
            "Homogeneity: 0.279\n",
            "Completeness: 0.370\n",
            "V-measure: 0.318\n",
            "Adjusted Rand Index: -0.012\n",
            "Adjusted Mutual Information: 0.307\n"
          ],
          "name": "stdout"
        }
      ]
    },
    {
      "cell_type": "markdown",
      "metadata": {
        "id": "_bZtUWq10R2R",
        "colab_type": "text"
      },
      "source": [
        "2. MiniBatchKMeans"
      ]
    },
    {
      "cell_type": "code",
      "metadata": {
        "id": "r8OHV4zK0WEg",
        "colab_type": "code",
        "colab": {}
      },
      "source": [
        "sample = data.sample(frac=0.1)\n",
        "cv = CountVectorizer(max_features=500, ngram_range=(1, 3))\n",
        "svd = TruncatedSVD(50)\n",
        "X = cv.fit_transform(sample['title'])\n",
        "X_svd = svd.fit_transform(X)\n",
        "\n",
        "y = sample['category_name']"
      ],
      "execution_count": 0,
      "outputs": []
    },
    {
      "cell_type": "code",
      "metadata": {
        "id": "L3NMMAsD0Za0",
        "colab_type": "code",
        "colab": {}
      },
      "source": [
        "cluster = MiniBatchKMeans(n_clusters=1000, init_size=5000, verbose=1, max_iter=5000, \n",
        "                          max_no_improvement=100, reassignment_ratio=0.3)\n",
        "cluster.fit(X_svd)\n",
        "labels = cluster.labels_"
      ],
      "execution_count": 0,
      "outputs": []
    },
    {
      "cell_type": "code",
      "metadata": {
        "id": "ldC73IJm0ea0",
        "colab_type": "code",
        "outputId": "8fab81c1-7fcc-4ae4-f23a-0bcf41ea80ec",
        "colab": {
          "base_uri": "https://localhost:8080/",
          "height": 34
        }
      },
      "source": [
        "print(\"Silhouette Coefficient: %0.3f\"\n",
        "      % metrics.silhouette_score(X[:10000], labels[:10000]))"
      ],
      "execution_count": 0,
      "outputs": [
        {
          "output_type": "stream",
          "text": [
            "Silhouette Coefficient: 0.307\n"
          ],
          "name": "stdout"
        }
      ]
    },
    {
      "cell_type": "code",
      "metadata": {
        "id": "M6UdONuI0erh",
        "colab_type": "code",
        "outputId": "74513f62-f481-43c9-b689-33744b71421e",
        "colab": {
          "base_uri": "https://localhost:8080/",
          "height": 101
        }
      },
      "source": [
        "print(\"Homogeneity: %0.3f\" % metrics.homogeneity_score(y, labels)) \n",
        "print(\"Completeness: %0.3f\" % metrics.completeness_score(y, labels)) \n",
        "print(\"V-measure: %0.3f\" % metrics.v_measure_score(y, labels)) \n",
        "print(\"Adjusted Rand Index: %0.3f\"\n",
        "      % metrics.adjusted_rand_score(y, labels))\n",
        "print(\"Adjusted Mutual Information: %0.3f\"\n",
        "      % metrics.adjusted_mutual_info_score(y, labels))"
      ],
      "execution_count": 0,
      "outputs": [
        {
          "output_type": "stream",
          "text": [
            "Homogeneity: 0.501\n",
            "Completeness: 0.303\n",
            "V-measure: 0.377\n",
            "Adjusted Rand Index: -0.014\n",
            "Adjusted Mutual Information: 0.302\n"
          ],
          "name": "stdout"
        }
      ]
    },
    {
      "cell_type": "markdown",
      "metadata": {
        "id": "gsv7bneR3FYI",
        "colab_type": "text"
      },
      "source": [
        "3. AgglomerativeClustering"
      ]
    },
    {
      "cell_type": "code",
      "metadata": {
        "id": "v_DDguXG4K7C",
        "colab_type": "code",
        "colab": {}
      },
      "source": [
        "sample = data.sample(frac=0.05)\n",
        "cv = CountVectorizer(max_features=500)\n",
        "svd = TruncatedSVD(50)\n",
        "X = cv.fit_transform(sample['title'])\n",
        "X_svd = svd.fit_transform(X)\n",
        "\n",
        "y = sample['category_name']"
      ],
      "execution_count": 0,
      "outputs": []
    },
    {
      "cell_type": "code",
      "metadata": {
        "id": "KrY5EToK4K-5",
        "colab_type": "code",
        "colab": {}
      },
      "source": [
        "cluster = AgglomerativeClustering(n_clusters=170)\n",
        "cluster.fit(X_svd)\n",
        "labels = cluster.labels_"
      ],
      "execution_count": 0,
      "outputs": []
    },
    {
      "cell_type": "code",
      "metadata": {
        "id": "P9rEIG2P4LML",
        "colab_type": "code",
        "outputId": "9cb695d3-54d6-4b59-94f4-d39310769352",
        "colab": {
          "base_uri": "https://localhost:8080/",
          "height": 34
        }
      },
      "source": [
        "print(\"Silhouette Coefficient: %0.3f\"\n",
        "      % metrics.silhouette_score(X, labels))"
      ],
      "execution_count": 0,
      "outputs": [
        {
          "output_type": "stream",
          "text": [
            "Silhouette Coefficient: 0.260\n"
          ],
          "name": "stdout"
        }
      ]
    },
    {
      "cell_type": "code",
      "metadata": {
        "id": "cyTAFsZv4LUA",
        "colab_type": "code",
        "outputId": "c49b2442-c627-46b2-eeac-bf422895334d",
        "colab": {
          "base_uri": "https://localhost:8080/",
          "height": 101
        }
      },
      "source": [
        "print(\"Homogeneity: %0.3f\" % metrics.homogeneity_score(y, labels)) \n",
        "print(\"Completeness: %0.3f\" % metrics.completeness_score(y, labels)) \n",
        "print(\"V-measure: %0.3f\" % metrics.v_measure_score(y, labels)) \n",
        "print(\"Adjusted Rand Index: %0.3f\"\n",
        "      % metrics.adjusted_rand_score(y, labels))\n",
        "print(\"Adjusted Mutual Information: %0.3f\"\n",
        "      % metrics.adjusted_mutual_info_score(y, labels))"
      ],
      "execution_count": 0,
      "outputs": [
        {
          "output_type": "stream",
          "text": [
            "Homogeneity: 0.369\n",
            "Completeness: 0.358\n",
            "V-measure: 0.364\n",
            "Adjusted Rand Index: -0.007\n",
            "Adjusted Mutual Information: 0.319\n"
          ],
          "name": "stdout"
        }
      ]
    },
    {
      "cell_type": "markdown",
      "metadata": {
        "id": "fkvCNpqYxnXD",
        "colab_type": "text"
      },
      "source": [
        "NMF"
      ]
    },
    {
      "cell_type": "markdown",
      "metadata": {
        "id": "d20UCj_dxr3K",
        "colab_type": "text"
      },
      "source": [
        "1. KMeans"
      ]
    },
    {
      "cell_type": "code",
      "metadata": {
        "id": "YzPfHuCtxpha",
        "colab_type": "code",
        "colab": {}
      },
      "source": [
        "sample = data.sample(frac=0.1)\n",
        "cv = CountVectorizer(max_features=300, ngram_range=(1, 3), max_df=0.2)\n",
        "nmf = NMF(50)\n",
        "X = cv.fit_transform(sample['title'])\n",
        "X_nmf = nmf.fit_transform(X)\n",
        "\n",
        "y = sample['category_name']"
      ],
      "execution_count": 0,
      "outputs": []
    },
    {
      "cell_type": "code",
      "metadata": {
        "id": "41TaBu0QzNjd",
        "colab_type": "code",
        "colab": {}
      },
      "source": [
        "cluster = KMeans(n_clusters=47)\n",
        "cluster.fit(X_nmf)\n",
        "labels = cluster.labels_"
      ],
      "execution_count": 0,
      "outputs": []
    },
    {
      "cell_type": "code",
      "metadata": {
        "id": "jg09rJWLzWo6",
        "colab_type": "code",
        "outputId": "eada4679-a515-4a86-b840-e972f29dcada",
        "colab": {
          "base_uri": "https://localhost:8080/",
          "height": 34
        }
      },
      "source": [
        "print(\"Silhouette Coefficient: %0.3f\"\n",
        "      % metrics.silhouette_score(X[:10000], labels[:10000]))"
      ],
      "execution_count": 0,
      "outputs": [
        {
          "output_type": "stream",
          "text": [
            "Silhouette Coefficient: 0.384\n"
          ],
          "name": "stdout"
        }
      ]
    },
    {
      "cell_type": "code",
      "metadata": {
        "id": "OPbQhy9uzYUa",
        "colab_type": "code",
        "outputId": "e3291e32-ab6e-4689-f7ad-4157e86bd010",
        "colab": {
          "base_uri": "https://localhost:8080/",
          "height": 101
        }
      },
      "source": [
        "print(\"Homogeneity: %0.3f\" % metrics.homogeneity_score(y, labels)) \n",
        "print(\"Completeness: %0.3f\" % metrics.completeness_score(y, labels)) \n",
        "print(\"V-measure: %0.3f\" % metrics.v_measure_score(y, labels)) \n",
        "\n",
        "print(\"Adjusted Rand Index: %0.3f\"\n",
        "      % metrics.adjusted_rand_score(y, labels))\n",
        "print(\"Adjusted Mutual Information: %0.3f\"\n",
        "      % metrics.adjusted_mutual_info_score(y, labels))"
      ],
      "execution_count": 0,
      "outputs": [
        {
          "output_type": "stream",
          "text": [
            "Homogeneity: 0.266\n",
            "Completeness: 0.351\n",
            "V-measure: 0.302\n",
            "Adjusted Rand Index: -0.013\n",
            "Adjusted Mutual Information: 0.291\n"
          ],
          "name": "stdout"
        }
      ]
    },
    {
      "cell_type": "markdown",
      "metadata": {
        "id": "enmcJ94R1bvR",
        "colab_type": "text"
      },
      "source": [
        "2. MiniBatchKMeans"
      ]
    },
    {
      "cell_type": "code",
      "metadata": {
        "id": "hzTE21SczbHq",
        "colab_type": "code",
        "colab": {}
      },
      "source": [
        "sample = data.sample(frac=0.05)\n",
        "cv = CountVectorizer(max_features=500)\n",
        "nmf = NMF(50)\n",
        "X = cv.fit_transform(sample['title'])\n",
        "X_nmf = nmf.fit_transform(X)\n",
        "\n",
        "y = sample['category_name']"
      ],
      "execution_count": 0,
      "outputs": []
    },
    {
      "cell_type": "code",
      "metadata": {
        "id": "UR1t5gi-1e6b",
        "colab_type": "code",
        "colab": {}
      },
      "source": [
        "cluster = MiniBatchKMeans(n_clusters=1000, init_size=5000, verbose=1, max_iter=5000, \n",
        "                          max_no_improvement=100, reassignment_ratio=0.3)\n",
        "cluster.fit(X_nmf)\n",
        "labels = cluster.labels_"
      ],
      "execution_count": 0,
      "outputs": []
    },
    {
      "cell_type": "code",
      "metadata": {
        "id": "5KMM7Z3h1e9u",
        "colab_type": "code",
        "outputId": "f4278f39-c87b-44fc-8dda-d46d25f0f804",
        "colab": {
          "base_uri": "https://localhost:8080/",
          "height": 34
        }
      },
      "source": [
        "print(\"Silhouette Coefficient: %0.3f\"\n",
        "      % metrics.silhouette_score(X[:10000], labels[:10000]))"
      ],
      "execution_count": 0,
      "outputs": [
        {
          "output_type": "stream",
          "text": [
            "Silhouette Coefficient: 0.506\n"
          ],
          "name": "stdout"
        }
      ]
    },
    {
      "cell_type": "code",
      "metadata": {
        "id": "pVIt14yN1fBg",
        "colab_type": "code",
        "outputId": "8bdc5fa9-0b69-4aab-df61-c8c796379446",
        "colab": {
          "base_uri": "https://localhost:8080/",
          "height": 101
        }
      },
      "source": [
        "print(\"Homogeneity: %0.3f\" % metrics.homogeneity_score(y, labels)) \n",
        "print(\"Completeness: %0.3f\" % metrics.completeness_score(y, labels)) \n",
        "print(\"V-measure: %0.3f\" % metrics.v_measure_score(y, labels))\n",
        "\n",
        "print(\"Adjusted Rand Index: %0.3f\"\n",
        "      % metrics.adjusted_rand_score(y, labels))\n",
        "print(\"Adjusted Mutual Information: %0.3f\"\n",
        "      % metrics.adjusted_mutual_info_score(y, labels))"
      ],
      "execution_count": 0,
      "outputs": [
        {
          "output_type": "stream",
          "text": [
            "Homogeneity: 0.565\n",
            "Completeness: 0.317\n",
            "V-measure: 0.406\n",
            "Adjusted Rand Index: -0.007\n",
            "Adjusted Mutual Information: 0.282\n"
          ],
          "name": "stdout"
        }
      ]
    },
    {
      "cell_type": "markdown",
      "metadata": {
        "id": "o0yS6osC3dAj",
        "colab_type": "text"
      },
      "source": [
        "3. AgglomerativeClustering"
      ]
    },
    {
      "cell_type": "code",
      "metadata": {
        "id": "D2f3tDib41G5",
        "colab_type": "code",
        "colab": {}
      },
      "source": [
        "sample = data.sample(frac=0.05)\n",
        "cv = CountVectorizer(max_features=500, ngram_range=(1,3))\n",
        "nmf = NMF(50)\n",
        "X = cv.fit_transform(sample['title'])\n",
        "X_nmf = nmf.fit_transform(X)\n",
        "\n",
        "y = sample['category_name']"
      ],
      "execution_count": 0,
      "outputs": []
    },
    {
      "cell_type": "code",
      "metadata": {
        "id": "kkVglj7k41qa",
        "colab_type": "code",
        "colab": {}
      },
      "source": [
        "cluster = AgglomerativeClustering(n_clusters=170)\n",
        "cluster.fit(X_nmf)\n",
        "labels = cluster.labels_"
      ],
      "execution_count": 0,
      "outputs": []
    },
    {
      "cell_type": "code",
      "metadata": {
        "id": "3pPiZf6S41xw",
        "colab_type": "code",
        "outputId": "9c457184-1dc8-42fa-dc91-b2b3e472b40a",
        "colab": {
          "base_uri": "https://localhost:8080/",
          "height": 34
        }
      },
      "source": [
        "print(\"Silhouette Coefficient: %0.3f\"\n",
        "      % metrics.silhouette_score(X, labels))"
      ],
      "execution_count": 0,
      "outputs": [
        {
          "output_type": "stream",
          "text": [
            "Silhouette Coefficient: 0.323\n"
          ],
          "name": "stdout"
        }
      ]
    },
    {
      "cell_type": "code",
      "metadata": {
        "id": "gyLKXrPd415c",
        "colab_type": "code",
        "outputId": "451c2cae-7345-44fc-93f7-ca9fb7ef3e0b",
        "colab": {
          "base_uri": "https://localhost:8080/",
          "height": 101
        }
      },
      "source": [
        "print(\"Homogeneity: %0.3f\" % metrics.homogeneity_score(y, labels)) \n",
        "print(\"Completeness: %0.3f\" % metrics.completeness_score(y, labels)) \n",
        "print(\"V-measure: %0.3f\" % metrics.v_measure_score(y, labels)) \n",
        "\n",
        "print(\"Adjusted Rand Index: %0.3f\"\n",
        "      % metrics.adjusted_rand_score(y, labels))\n",
        "print(\"Adjusted Mutual Information: %0.3f\"\n",
        "      % metrics.adjusted_mutual_info_score(y, labels))"
      ],
      "execution_count": 0,
      "outputs": [
        {
          "output_type": "stream",
          "text": [
            "Homogeneity: 0.316\n",
            "Completeness: 0.348\n",
            "V-measure: 0.331\n",
            "Adjusted Rand Index: -0.018\n",
            "Adjusted Mutual Information: 0.285\n"
          ],
          "name": "stdout"
        }
      ]
    },
    {
      "cell_type": "markdown",
      "metadata": {
        "id": "Ce11pnBxCZgo",
        "colab_type": "text"
      },
      "source": [
        "Вывод: в целом TruncatedSVD и NMF показывают схожие параметры. В 2 из 3 случаев V-measure у TruncatedSVD был выше, однако NMF показал самый высокий результат в V-measure вообще. "
      ]
    },
    {
      "cell_type": "markdown",
      "metadata": {
        "id": "F8brxnIDCjCQ",
        "colab_type": "text"
      },
      "source": [
        "### Задание 3 "
      ]
    },
    {
      "cell_type": "markdown",
      "metadata": {
        "id": "y9BvIaCaCmTt",
        "colab_type": "text"
      },
      "source": [
        "С помощью алгоритмов, умеющих выделять выбросы, попробуйте найти необычные объявления (необычные - это такие, которые непонятно к какой категории можно вообще отнести, что-то с ошибками или вообще какая-то дичь). В этом задании можно использовать любую векторизацию. "
      ]
    },
    {
      "cell_type": "code",
      "metadata": {
        "id": "HPpVPiA6CbR8",
        "colab_type": "code",
        "colab": {}
      },
      "source": [
        "sample = data.sample(frac=0.01)"
      ],
      "execution_count": 0,
      "outputs": []
    },
    {
      "cell_type": "code",
      "metadata": {
        "id": "LP9Gw8T1DH8-",
        "colab_type": "code",
        "colab": {}
      },
      "source": [
        "cv = CountVectorizer(max_features=2000, ngram_range=(1, 3))\n",
        "svd = TruncatedSVD(50)\n",
        "X = cv.fit_transform(sample['title'])\n",
        "X_svd = svd.fit_transform(X)\n",
        "\n",
        "y = sample['category_name']"
      ],
      "execution_count": 0,
      "outputs": []
    },
    {
      "cell_type": "code",
      "metadata": {
        "id": "rxdfgituDVZ_",
        "colab_type": "code",
        "outputId": "ff6a9d11-78bf-4575-d412-b395e119a574",
        "colab": {
          "base_uri": "https://localhost:8080/",
          "height": 34
        }
      },
      "source": [
        "import sklearn\n",
        "sklearn.cluster.estimate_bandwidth(X_svd)"
      ],
      "execution_count": 0,
      "outputs": [
        {
          "output_type": "execute_result",
          "data": {
            "text/plain": [
              "0.7443296061117501"
            ]
          },
          "metadata": {
            "tags": []
          },
          "execution_count": 25
        }
      ]
    },
    {
      "cell_type": "code",
      "metadata": {
        "id": "Auc31rrQDfyd",
        "colab_type": "code",
        "outputId": "75fb8da8-ff6a-4a0a-9787-ba719e7b6c9b",
        "colab": {
          "base_uri": "https://localhost:8080/",
          "height": 50
        }
      },
      "source": [
        "cluster = MeanShift(cluster_all=False, bandwidth=0.7)\n",
        "cluster.fit(X_svd)"
      ],
      "execution_count": 0,
      "outputs": [
        {
          "output_type": "execute_result",
          "data": {
            "text/plain": [
              "MeanShift(bandwidth=0.7, bin_seeding=False, cluster_all=False, max_iter=300,\n",
              "          min_bin_freq=1, n_jobs=None, seeds=None)"
            ]
          },
          "metadata": {
            "tags": []
          },
          "execution_count": 26
        }
      ]
    },
    {
      "cell_type": "code",
      "metadata": {
        "id": "ZRiULA2xDhaN",
        "colab_type": "code",
        "colab": {}
      },
      "source": [
        "labels = cluster.labels_"
      ],
      "execution_count": 0,
      "outputs": []
    },
    {
      "cell_type": "code",
      "metadata": {
        "id": "tQvqkHorDi3h",
        "colab_type": "code",
        "outputId": "46f2b0d4-4c8a-4619-c501-86a8e58ec1cf",
        "colab": {
          "base_uri": "https://localhost:8080/",
          "height": 34
        }
      },
      "source": [
        "print(\"Silhouette Coefficient: %0.3f\"\n",
        "      % metrics.silhouette_score(X, labels))"
      ],
      "execution_count": 0,
      "outputs": [
        {
          "output_type": "stream",
          "text": [
            "Silhouette Coefficient: 0.076\n"
          ],
          "name": "stdout"
        }
      ]
    },
    {
      "cell_type": "code",
      "metadata": {
        "id": "89G5hnx_DkM7",
        "colab_type": "code",
        "outputId": "c14ae43f-5033-42ac-d73a-1ab528d63d0b",
        "colab": {
          "base_uri": "https://localhost:8080/",
          "height": 101
        }
      },
      "source": [
        "print(\"Homogeneity: %0.3f\" % metrics.homogeneity_score(y, labels)) \n",
        "print(\"Completeness: %0.3f\" % metrics.completeness_score(y, labels)) \n",
        "print(\"V-measure: %0.3f\" % metrics.v_measure_score(y, labels)) \n",
        "\n",
        "print(\"Adjusted Rand Index: %0.3f\"\n",
        "      % metrics.adjusted_rand_score(y, labels))\n",
        "print(\"Adjusted Mutual Information: %0.3f\"\n",
        "      % metrics.adjusted_mutual_info_score(y, labels))"
      ],
      "execution_count": 0,
      "outputs": [
        {
          "output_type": "stream",
          "text": [
            "Homogeneity: 0.321\n",
            "Completeness: 0.366\n",
            "V-measure: 0.342\n",
            "Adjusted Rand Index: -0.011\n",
            "Adjusted Mutual Information: 0.209\n"
          ],
          "name": "stdout"
        }
      ]
    },
    {
      "cell_type": "code",
      "metadata": {
        "id": "jyLD9stEDmFg",
        "colab_type": "code",
        "colab": {}
      },
      "source": [
        "sample['cluster'] = cluster.labels_"
      ],
      "execution_count": 0,
      "outputs": []
    },
    {
      "cell_type": "code",
      "metadata": {
        "id": "SF3kDRdDDoqT",
        "colab_type": "code",
        "outputId": "f95a1409-1206-4814-bc2d-119439b529b3",
        "colab": {
          "base_uri": "https://localhost:8080/",
          "height": 935
        }
      },
      "source": [
        "sample[sample.cluster==-1].head(30)"
      ],
      "execution_count": 0,
      "outputs": [
        {
          "output_type": "execute_result",
          "data": {
            "text/html": [
              "<div>\n",
              "<style scoped>\n",
              "    .dataframe tbody tr th:only-of-type {\n",
              "        vertical-align: middle;\n",
              "    }\n",
              "\n",
              "    .dataframe tbody tr th {\n",
              "        vertical-align: top;\n",
              "    }\n",
              "\n",
              "    .dataframe thead th {\n",
              "        text-align: right;\n",
              "    }\n",
              "</style>\n",
              "<table border=\"1\" class=\"dataframe\">\n",
              "  <thead>\n",
              "    <tr style=\"text-align: right;\">\n",
              "      <th></th>\n",
              "      <th>category_name</th>\n",
              "      <th>title</th>\n",
              "      <th>cluster</th>\n",
              "    </tr>\n",
              "  </thead>\n",
              "  <tbody>\n",
              "    <tr>\n",
              "      <th>101809</th>\n",
              "      <td>Одежда, обувь, аксессуары</td>\n",
              "      <td>Юбка из фатина</td>\n",
              "      <td>-1</td>\n",
              "    </tr>\n",
              "    <tr>\n",
              "      <th>51965</th>\n",
              "      <td>Детская одежда и обувь</td>\n",
              "      <td>Новая Дубленка</td>\n",
              "      <td>-1</td>\n",
              "    </tr>\n",
              "    <tr>\n",
              "      <th>22001</th>\n",
              "      <td>Планшеты и электронные книги</td>\n",
              "      <td>Планшет samsung galaxy Tab 10.1</td>\n",
              "      <td>-1</td>\n",
              "    </tr>\n",
              "    <tr>\n",
              "      <th>189191</th>\n",
              "      <td>Товары для детей и игрушки</td>\n",
              "      <td>Новая музыкальная игрушка панда</td>\n",
              "      <td>-1</td>\n",
              "    </tr>\n",
              "    <tr>\n",
              "      <th>146176</th>\n",
              "      <td>Оборудование для бизнеса</td>\n",
              "      <td>Витрина из алюминиевого профиля</td>\n",
              "      <td>-1</td>\n",
              "    </tr>\n",
              "    <tr>\n",
              "      <th>137221</th>\n",
              "      <td>Детская одежда и обувь</td>\n",
              "      <td>Текстильная обувь (новая)</td>\n",
              "      <td>-1</td>\n",
              "    </tr>\n",
              "    <tr>\n",
              "      <th>196223</th>\n",
              "      <td>Телефоны</td>\n",
              "      <td>Айфон 6 16 гб в отличном состояние</td>\n",
              "      <td>-1</td>\n",
              "    </tr>\n",
              "    <tr>\n",
              "      <th>246379</th>\n",
              "      <td>Одежда, обувь, аксессуары</td>\n",
              "      <td>Блузка новая bestia</td>\n",
              "      <td>-1</td>\n",
              "    </tr>\n",
              "    <tr>\n",
              "      <th>108883</th>\n",
              "      <td>Ремонт и строительство</td>\n",
              "      <td>Ог 30 гр 1220(19К60) -7,5-0,75-5ду-2300/2300-У</td>\n",
              "      <td>-1</td>\n",
              "    </tr>\n",
              "    <tr>\n",
              "      <th>64778</th>\n",
              "      <td>Предложение услуг</td>\n",
              "      <td>Сруб 6х6х2.4м из зимнего леса</td>\n",
              "      <td>-1</td>\n",
              "    </tr>\n",
              "    <tr>\n",
              "      <th>251792</th>\n",
              "      <td>Ремонт и строительство</td>\n",
              "      <td>Продажа бу инструмента из сц, гарантия</td>\n",
              "      <td>-1</td>\n",
              "    </tr>\n",
              "    <tr>\n",
              "      <th>146157</th>\n",
              "      <td>Квартиры</td>\n",
              "      <td>3-к квартира, 117 м², 12/25 эт.</td>\n",
              "      <td>-1</td>\n",
              "    </tr>\n",
              "    <tr>\n",
              "      <th>221427</th>\n",
              "      <td>Бытовая техника</td>\n",
              "      <td>Эл плита классик новая</td>\n",
              "      <td>-1</td>\n",
              "    </tr>\n",
              "    <tr>\n",
              "      <th>177473</th>\n",
              "      <td>Мебель и интерьер</td>\n",
              "      <td>Подставка под телевизор из металла</td>\n",
              "      <td>-1</td>\n",
              "    </tr>\n",
              "    <tr>\n",
              "      <th>15537</th>\n",
              "      <td>Дома, дачи, коттеджи</td>\n",
              "      <td>Куплю дом</td>\n",
              "      <td>-1</td>\n",
              "    </tr>\n",
              "    <tr>\n",
              "      <th>196271</th>\n",
              "      <td>Книги и журналы</td>\n",
              "      <td>Детективы из серии \"Великие сыщики\" 40 книг</td>\n",
              "      <td>-1</td>\n",
              "    </tr>\n",
              "    <tr>\n",
              "      <th>101510</th>\n",
              "      <td>Автомобили</td>\n",
              "      <td>LADA Granta, 2013</td>\n",
              "      <td>-1</td>\n",
              "    </tr>\n",
              "    <tr>\n",
              "      <th>99107</th>\n",
              "      <td>Одежда, обувь, аксессуары</td>\n",
              "      <td>Сумка новая</td>\n",
              "      <td>-1</td>\n",
              "    </tr>\n",
              "    <tr>\n",
              "      <th>147912</th>\n",
              "      <td>Ремонт и строительство</td>\n",
              "      <td>Стальная ванна из новостройки</td>\n",
              "      <td>-1</td>\n",
              "    </tr>\n",
              "    <tr>\n",
              "      <th>206575</th>\n",
              "      <td>Одежда, обувь, аксессуары</td>\n",
              "      <td>Босоножки 38 размер</td>\n",
              "      <td>-1</td>\n",
              "    </tr>\n",
              "    <tr>\n",
              "      <th>164504</th>\n",
              "      <td>Автомобили</td>\n",
              "      <td>LADA Granta, 2013</td>\n",
              "      <td>-1</td>\n",
              "    </tr>\n",
              "    <tr>\n",
              "      <th>163812</th>\n",
              "      <td>Одежда, обувь, аксессуары</td>\n",
              "      <td>Новая блузка</td>\n",
              "      <td>-1</td>\n",
              "    </tr>\n",
              "    <tr>\n",
              "      <th>190400</th>\n",
              "      <td>Товары для детей и игрушки</td>\n",
              "      <td>Отдам шар из фольги</td>\n",
              "      <td>-1</td>\n",
              "    </tr>\n",
              "    <tr>\n",
              "      <th>71552</th>\n",
              "      <td>Дома, дачи, коттеджи</td>\n",
              "      <td>Куплю дом</td>\n",
              "      <td>-1</td>\n",
              "    </tr>\n",
              "    <tr>\n",
              "      <th>248462</th>\n",
              "      <td>Дома, дачи, коттеджи</td>\n",
              "      <td>Сниму дом</td>\n",
              "      <td>-1</td>\n",
              "    </tr>\n",
              "    <tr>\n",
              "      <th>237476</th>\n",
              "      <td>Товары для детей и игрушки</td>\n",
              "      <td>Мягкие развивающие книжки от 0 до 18 мес</td>\n",
              "      <td>-1</td>\n",
              "    </tr>\n",
              "    <tr>\n",
              "      <th>70546</th>\n",
              "      <td>Детская одежда и обувь</td>\n",
              "      <td>Продаю ветровку утепленную фирмы mm dadak новая с</td>\n",
              "      <td>-1</td>\n",
              "    </tr>\n",
              "    <tr>\n",
              "      <th>46287</th>\n",
              "      <td>Одежда, обувь, аксессуары</td>\n",
              "      <td>Новая сумка</td>\n",
              "      <td>-1</td>\n",
              "    </tr>\n",
              "    <tr>\n",
              "      <th>51486</th>\n",
              "      <td>Детская одежда и обувь</td>\n",
              "      <td>Новая жилетка</td>\n",
              "      <td>-1</td>\n",
              "    </tr>\n",
              "    <tr>\n",
              "      <th>118704</th>\n",
              "      <td>Автомобили</td>\n",
              "      <td>ВАЗ 2113 Samara, 2005</td>\n",
              "      <td>-1</td>\n",
              "    </tr>\n",
              "  </tbody>\n",
              "</table>\n",
              "</div>"
            ],
            "text/plain": [
              "                       category_name  ... cluster\n",
              "101809     Одежда, обувь, аксессуары  ...      -1\n",
              "51965         Детская одежда и обувь  ...      -1\n",
              "22001   Планшеты и электронные книги  ...      -1\n",
              "189191    Товары для детей и игрушки  ...      -1\n",
              "146176      Оборудование для бизнеса  ...      -1\n",
              "137221        Детская одежда и обувь  ...      -1\n",
              "196223                      Телефоны  ...      -1\n",
              "246379     Одежда, обувь, аксессуары  ...      -1\n",
              "108883        Ремонт и строительство  ...      -1\n",
              "64778              Предложение услуг  ...      -1\n",
              "251792        Ремонт и строительство  ...      -1\n",
              "146157                      Квартиры  ...      -1\n",
              "221427               Бытовая техника  ...      -1\n",
              "177473             Мебель и интерьер  ...      -1\n",
              "15537           Дома, дачи, коттеджи  ...      -1\n",
              "196271               Книги и журналы  ...      -1\n",
              "101510                    Автомобили  ...      -1\n",
              "99107      Одежда, обувь, аксессуары  ...      -1\n",
              "147912        Ремонт и строительство  ...      -1\n",
              "206575     Одежда, обувь, аксессуары  ...      -1\n",
              "164504                    Автомобили  ...      -1\n",
              "163812     Одежда, обувь, аксессуары  ...      -1\n",
              "190400    Товары для детей и игрушки  ...      -1\n",
              "71552           Дома, дачи, коттеджи  ...      -1\n",
              "248462          Дома, дачи, коттеджи  ...      -1\n",
              "237476    Товары для детей и игрушки  ...      -1\n",
              "70546         Детская одежда и обувь  ...      -1\n",
              "46287      Одежда, обувь, аксессуары  ...      -1\n",
              "51486         Детская одежда и обувь  ...      -1\n",
              "118704                    Автомобили  ...      -1\n",
              "\n",
              "[30 rows x 3 columns]"
            ]
          },
          "metadata": {
            "tags": []
          },
          "execution_count": 43
        }
      ]
    },
    {
      "cell_type": "markdown",
      "metadata": {
        "id": "3Wpnvu7uNAkV",
        "colab_type": "text"
      },
      "source": [
        "В данной кластеризации какие-то необычные выбросы мною были не обнаружены. "
      ]
    },
    {
      "cell_type": "markdown",
      "metadata": {
        "id": "UertXYWGNN_-",
        "colab_type": "text"
      },
      "source": [
        "DBSCAN"
      ]
    },
    {
      "cell_type": "code",
      "metadata": {
        "id": "voGx2XYKLtV1",
        "colab_type": "code",
        "colab": {}
      },
      "source": [
        "sample = data.sample(frac=0.05)"
      ],
      "execution_count": 0,
      "outputs": []
    },
    {
      "cell_type": "code",
      "metadata": {
        "id": "b5wctviINQfZ",
        "colab_type": "code",
        "colab": {}
      },
      "source": [
        "cv = CountVectorizer(max_features=2000)\n",
        "svd = TruncatedSVD(50)\n",
        "X = cv.fit_transform(sample['title'])\n",
        "X_svd = svd.fit_transform(X)\n",
        "\n",
        "y = sample['category_name']"
      ],
      "execution_count": 0,
      "outputs": []
    },
    {
      "cell_type": "code",
      "metadata": {
        "id": "YEa2sPA_NSPn",
        "colab_type": "code",
        "outputId": "3c3a726c-bfb4-4882-be12-8c1499acacd8",
        "colab": {
          "base_uri": "https://localhost:8080/",
          "height": 50
        }
      },
      "source": [
        "cluster = DBSCAN(min_samples=10, eps=0.3) \n",
        "cluster.fit(X_svd)"
      ],
      "execution_count": 0,
      "outputs": [
        {
          "output_type": "execute_result",
          "data": {
            "text/plain": [
              "DBSCAN(algorithm='auto', eps=0.3, leaf_size=30, metric='euclidean',\n",
              "       metric_params=None, min_samples=10, n_jobs=None, p=None)"
            ]
          },
          "metadata": {
            "tags": []
          },
          "execution_count": 46
        }
      ]
    },
    {
      "cell_type": "code",
      "metadata": {
        "id": "xmmjaNNgNUoc",
        "colab_type": "code",
        "colab": {}
      },
      "source": [
        "labels = cluster.labels_"
      ],
      "execution_count": 0,
      "outputs": []
    },
    {
      "cell_type": "code",
      "metadata": {
        "id": "hxwa90yvNW0H",
        "colab_type": "code",
        "outputId": "bb4f2659-156d-4908-aca9-37fb3dd9e8e2",
        "colab": {
          "base_uri": "https://localhost:8080/",
          "height": 34
        }
      },
      "source": [
        "print(\"Silhouette Coefficient: %0.3f\"\n",
        "      % metrics.silhouette_score(X, labels))"
      ],
      "execution_count": 0,
      "outputs": [
        {
          "output_type": "stream",
          "text": [
            "Silhouette Coefficient: 0.062\n"
          ],
          "name": "stdout"
        }
      ]
    },
    {
      "cell_type": "code",
      "metadata": {
        "id": "R-C28qfANYPv",
        "colab_type": "code",
        "outputId": "76a7d2b7-01ce-4731-e2eb-e11644479e13",
        "colab": {
          "base_uri": "https://localhost:8080/",
          "height": 101
        }
      },
      "source": [
        "print(\"Homogeneity: %0.3f\" % metrics.homogeneity_score(y, labels)) \n",
        "print(\"Completeness: %0.3f\" % metrics.completeness_score(y, labels)) \n",
        "print(\"V-measure: %0.3f\" % metrics.v_measure_score(y, labels)) \n",
        "\n",
        "print(\"Adjusted Rand Index: %0.3f\"\n",
        "      % metrics.adjusted_rand_score(y, labels))\n",
        "print(\"Adjusted Mutual Information: %0.3f\"\n",
        "      % metrics.adjusted_mutual_info_score(y, labels))"
      ],
      "execution_count": 0,
      "outputs": [
        {
          "output_type": "stream",
          "text": [
            "Homogeneity: 0.298\n",
            "Completeness: 0.339\n",
            "V-measure: 0.317\n",
            "Adjusted Rand Index: -0.005\n",
            "Adjusted Mutual Information: 0.282\n"
          ],
          "name": "stdout"
        }
      ]
    },
    {
      "cell_type": "code",
      "metadata": {
        "id": "uUFEsLIbNcTz",
        "colab_type": "code",
        "colab": {}
      },
      "source": [
        "sample['cluster'] = cluster.labels_"
      ],
      "execution_count": 0,
      "outputs": []
    },
    {
      "cell_type": "code",
      "metadata": {
        "id": "FF0xVTs5NjZj",
        "colab_type": "code",
        "outputId": "68ac7809-334f-418c-98f3-59396bc50068",
        "colab": {
          "base_uri": "https://localhost:8080/",
          "height": 34
        }
      },
      "source": [
        "len(sample[sample.cluster==-1])"
      ],
      "execution_count": 0,
      "outputs": [
        {
          "output_type": "execute_result",
          "data": {
            "text/plain": [
              "1275"
            ]
          },
          "metadata": {
            "tags": []
          },
          "execution_count": 52
        }
      ]
    },
    {
      "cell_type": "code",
      "metadata": {
        "id": "VO0m4KOqNecv",
        "colab_type": "code",
        "outputId": "51743024-ad4f-477a-b09c-b2af7405d2dc",
        "colab": {
          "base_uri": "https://localhost:8080/",
          "height": 639
        }
      },
      "source": [
        "sample[sample.cluster==-1][70:100]"
      ],
      "execution_count": 0,
      "outputs": [
        {
          "output_type": "execute_result",
          "data": {
            "text/html": [
              "<div>\n",
              "<style scoped>\n",
              "    .dataframe tbody tr th:only-of-type {\n",
              "        vertical-align: middle;\n",
              "    }\n",
              "\n",
              "    .dataframe tbody tr th {\n",
              "        vertical-align: top;\n",
              "    }\n",
              "\n",
              "    .dataframe thead th {\n",
              "        text-align: right;\n",
              "    }\n",
              "</style>\n",
              "<table border=\"1\" class=\"dataframe\">\n",
              "  <thead>\n",
              "    <tr style=\"text-align: right;\">\n",
              "      <th></th>\n",
              "      <th>category_name</th>\n",
              "      <th>title</th>\n",
              "      <th>cluster</th>\n",
              "    </tr>\n",
              "  </thead>\n",
              "  <tbody>\n",
              "    <tr>\n",
              "      <th>95350</th>\n",
              "      <td>Детская одежда и обувь</td>\n",
              "      <td>Костюм зимний на мальчика \"Шалуны\" 92р</td>\n",
              "      <td>-1</td>\n",
              "    </tr>\n",
              "    <tr>\n",
              "      <th>168181</th>\n",
              "      <td>Детская одежда и обувь</td>\n",
              "      <td>Новый костюмчик на девочку</td>\n",
              "      <td>-1</td>\n",
              "    </tr>\n",
              "    <tr>\n",
              "      <th>208630</th>\n",
              "      <td>Детская одежда и обувь</td>\n",
              "      <td>Летняя обувь для мальчика 22 размера</td>\n",
              "      <td>-1</td>\n",
              "    </tr>\n",
              "    <tr>\n",
              "      <th>52836</th>\n",
              "      <td>Детская одежда и обувь</td>\n",
              "      <td>Кроссовки Nike на девочку размер 22,5</td>\n",
              "      <td>-1</td>\n",
              "    </tr>\n",
              "    <tr>\n",
              "      <th>125262</th>\n",
              "      <td>Детская одежда и обувь</td>\n",
              "      <td>Костюм на девочку</td>\n",
              "      <td>-1</td>\n",
              "    </tr>\n",
              "    <tr>\n",
              "      <th>111365</th>\n",
              "      <td>Детская одежда и обувь</td>\n",
              "      <td>Комбинезон для мальчиков демисезонный</td>\n",
              "      <td>-1</td>\n",
              "    </tr>\n",
              "    <tr>\n",
              "      <th>152606</th>\n",
              "      <td>Детская одежда и обувь</td>\n",
              "      <td>Куртка весна-осень размер 120</td>\n",
              "      <td>-1</td>\n",
              "    </tr>\n",
              "    <tr>\n",
              "      <th>208292</th>\n",
              "      <td>Ремонт и строительство</td>\n",
              "      <td>Ручки для ванны, новые, хром</td>\n",
              "      <td>-1</td>\n",
              "    </tr>\n",
              "    <tr>\n",
              "      <th>30771</th>\n",
              "      <td>Товары для детей и игрушки</td>\n",
              "      <td>Детский транспрот для дочки 3/1</td>\n",
              "      <td>-1</td>\n",
              "    </tr>\n",
              "    <tr>\n",
              "      <th>44439</th>\n",
              "      <td>Одежда, обувь, аксессуары</td>\n",
              "      <td>Продаю костюм новый</td>\n",
              "      <td>-1</td>\n",
              "    </tr>\n",
              "    <tr>\n",
              "      <th>170340</th>\n",
              "      <td>Детская одежда и обувь</td>\n",
              "      <td>Продам туфли на девочку котофей</td>\n",
              "      <td>-1</td>\n",
              "    </tr>\n",
              "    <tr>\n",
              "      <th>162764</th>\n",
              "      <td>Товары для детей и игрушки</td>\n",
              "      <td>Стол+стул до 3-х лет разборный</td>\n",
              "      <td>-1</td>\n",
              "    </tr>\n",
              "    <tr>\n",
              "      <th>115338</th>\n",
              "      <td>Ремонт и строительство</td>\n",
              "      <td>Продам щебень фракции 0-10; 5-20; 20-40; 40-70</td>\n",
              "      <td>-1</td>\n",
              "    </tr>\n",
              "    <tr>\n",
              "      <th>213772</th>\n",
              "      <td>Детская одежда и обувь</td>\n",
              "      <td>Плащ-дождевик Hello Kitty на весну осень (4-5 ...</td>\n",
              "      <td>-1</td>\n",
              "    </tr>\n",
              "    <tr>\n",
              "      <th>97569</th>\n",
              "      <td>Детская одежда и обувь</td>\n",
              "      <td>Сапоги резиновые на принцессу</td>\n",
              "      <td>-1</td>\n",
              "    </tr>\n",
              "    <tr>\n",
              "      <th>63715</th>\n",
              "      <td>Детская одежда и обувь</td>\n",
              "      <td>Кеды на мальчика</td>\n",
              "      <td>-1</td>\n",
              "    </tr>\n",
              "    <tr>\n",
              "      <th>240289</th>\n",
              "      <td>Детская одежда и обувь</td>\n",
              "      <td>Продам демисезонную куртку для девочки pelican</td>\n",
              "      <td>-1</td>\n",
              "    </tr>\n",
              "    <tr>\n",
              "      <th>196841</th>\n",
              "      <td>Телефоны</td>\n",
              "      <td>Продам iPhone 4s в очень хорошем состоянии</td>\n",
              "      <td>-1</td>\n",
              "    </tr>\n",
              "    <tr>\n",
              "      <th>66611</th>\n",
              "      <td>Одежда, обувь, аксессуары</td>\n",
              "      <td>Джинсы женские PullBear</td>\n",
              "      <td>-1</td>\n",
              "    </tr>\n",
              "    <tr>\n",
              "      <th>117344</th>\n",
              "      <td>Телефоны</td>\n",
              "      <td>Продам iPhone 6 16gb</td>\n",
              "      <td>-1</td>\n",
              "    </tr>\n",
              "  </tbody>\n",
              "</table>\n",
              "</div>"
            ],
            "text/plain": [
              "                     category_name  ... cluster\n",
              "95350       Детская одежда и обувь  ...      -1\n",
              "168181      Детская одежда и обувь  ...      -1\n",
              "208630      Детская одежда и обувь  ...      -1\n",
              "52836       Детская одежда и обувь  ...      -1\n",
              "125262      Детская одежда и обувь  ...      -1\n",
              "111365      Детская одежда и обувь  ...      -1\n",
              "152606      Детская одежда и обувь  ...      -1\n",
              "208292      Ремонт и строительство  ...      -1\n",
              "30771   Товары для детей и игрушки  ...      -1\n",
              "44439    Одежда, обувь, аксессуары  ...      -1\n",
              "170340      Детская одежда и обувь  ...      -1\n",
              "162764  Товары для детей и игрушки  ...      -1\n",
              "115338      Ремонт и строительство  ...      -1\n",
              "213772      Детская одежда и обувь  ...      -1\n",
              "97569       Детская одежда и обувь  ...      -1\n",
              "63715       Детская одежда и обувь  ...      -1\n",
              "240289      Детская одежда и обувь  ...      -1\n",
              "196841                    Телефоны  ...      -1\n",
              "66611    Одежда, обувь, аксессуары  ...      -1\n",
              "117344                    Телефоны  ...      -1\n",
              "\n",
              "[20 rows x 3 columns]"
            ]
          },
          "metadata": {
            "tags": []
          },
          "execution_count": 55
        }
      ]
    },
    {
      "cell_type": "markdown",
      "metadata": {
        "id": "urHBiVf3DOJ7",
        "colab_type": "text"
      },
      "source": [
        "Выбросы DBSCAN также выглядят обычно. Возможно такой результат связан с необычностью самих данных. Какие-то определенные ошибки или непонятные объявления мною найдены не были. "
      ]
    }
  ]
}