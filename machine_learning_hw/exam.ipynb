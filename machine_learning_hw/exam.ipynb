{
  "nbformat": 4,
  "nbformat_minor": 0,
  "metadata": {
    "colab": {
      "name": "exam.ipynb",
      "provenance": [],
      "collapsed_sections": []
    },
    "kernelspec": {
      "name": "python3",
      "display_name": "Python 3"
    }
  },
  "cells": [
    {
      "cell_type": "code",
      "metadata": {
        "id": "UYTDLDB3DqQ2",
        "colab_type": "code",
        "colab": {
          "base_uri": "https://localhost:8080/",
          "height": 272
        },
        "outputId": "07088e88-3bd5-4f03-daab-a43e4d590365"
      },
      "source": [
        "!pip install eli5"
      ],
      "execution_count": 1,
      "outputs": [
        {
          "output_type": "stream",
          "text": [
            "Collecting eli5\n",
            "\u001b[?25l  Downloading https://files.pythonhosted.org/packages/97/2f/c85c7d8f8548e460829971785347e14e45fa5c6617da374711dec8cb38cc/eli5-0.10.1-py2.py3-none-any.whl (105kB)\n",
            "\r\u001b[K     |███                             | 10kB 18.1MB/s eta 0:00:01\r\u001b[K     |██████▏                         | 20kB 1.7MB/s eta 0:00:01\r\u001b[K     |█████████▎                      | 30kB 2.2MB/s eta 0:00:01\r\u001b[K     |████████████▍                   | 40kB 2.5MB/s eta 0:00:01\r\u001b[K     |███████████████▌                | 51kB 2.0MB/s eta 0:00:01\r\u001b[K     |██████████████████▋             | 61kB 2.3MB/s eta 0:00:01\r\u001b[K     |█████████████████████▊          | 71kB 2.5MB/s eta 0:00:01\r\u001b[K     |████████████████████████▊       | 81kB 2.7MB/s eta 0:00:01\r\u001b[K     |███████████████████████████▉    | 92kB 2.9MB/s eta 0:00:01\r\u001b[K     |███████████████████████████████ | 102kB 2.8MB/s eta 0:00:01\r\u001b[K     |████████████████████████████████| 112kB 2.8MB/s \n",
            "\u001b[?25hRequirement already satisfied: jinja2 in /usr/local/lib/python3.6/dist-packages (from eli5) (2.11.2)\n",
            "Requirement already satisfied: six in /usr/local/lib/python3.6/dist-packages (from eli5) (1.12.0)\n",
            "Requirement already satisfied: scikit-learn>=0.18 in /usr/local/lib/python3.6/dist-packages (from eli5) (0.22.2.post1)\n",
            "Requirement already satisfied: graphviz in /usr/local/lib/python3.6/dist-packages (from eli5) (0.10.1)\n",
            "Requirement already satisfied: numpy>=1.9.0 in /usr/local/lib/python3.6/dist-packages (from eli5) (1.18.5)\n",
            "Requirement already satisfied: tabulate>=0.7.7 in /usr/local/lib/python3.6/dist-packages (from eli5) (0.8.7)\n",
            "Requirement already satisfied: scipy in /usr/local/lib/python3.6/dist-packages (from eli5) (1.4.1)\n",
            "Requirement already satisfied: attrs>16.0.0 in /usr/local/lib/python3.6/dist-packages (from eli5) (19.3.0)\n",
            "Requirement already satisfied: MarkupSafe>=0.23 in /usr/local/lib/python3.6/dist-packages (from jinja2->eli5) (1.1.1)\n",
            "Requirement already satisfied: joblib>=0.11 in /usr/local/lib/python3.6/dist-packages (from scikit-learn>=0.18->eli5) (0.15.1)\n",
            "Installing collected packages: eli5\n",
            "Successfully installed eli5-0.10.1\n"
          ],
          "name": "stdout"
        }
      ]
    },
    {
      "cell_type": "code",
      "metadata": {
        "id": "bUj5MOh6RuVF",
        "colab_type": "code",
        "colab": {
          "base_uri": "https://localhost:8080/",
          "height": 68
        },
        "outputId": "f65483ba-9332-4698-be0f-2183e5678d75"
      },
      "source": [
        "import nltk\n",
        "nltk.download('stopwords')"
      ],
      "execution_count": 13,
      "outputs": [
        {
          "output_type": "stream",
          "text": [
            "[nltk_data] Downloading package stopwords to /root/nltk_data...\n",
            "[nltk_data]   Unzipping corpora/stopwords.zip.\n"
          ],
          "name": "stdout"
        },
        {
          "output_type": "execute_result",
          "data": {
            "text/plain": [
              "True"
            ]
          },
          "metadata": {
            "tags": []
          },
          "execution_count": 13
        }
      ]
    },
    {
      "cell_type": "code",
      "metadata": {
        "id": "5aZd2C5NqbCR",
        "colab_type": "code",
        "colab": {
          "base_uri": "https://localhost:8080/",
          "height": 122
        },
        "outputId": "1d452cee-edb0-4927-ebfd-95b07b80515a"
      },
      "source": [
        "import pandas as pd\n",
        "from sklearn.feature_extraction.text import CountVectorizer, TfidfVectorizer\n",
        "from sklearn.model_selection import train_test_split, cross_val_score, GridSearchCV\n",
        "from sklearn.linear_model import LogisticRegression\n",
        "from sklearn.metrics import classification_report\n",
        "from sklearn.metrics import roc_auc_score\n",
        "from sklearn.metrics import roc_curve\n",
        "import matplotlib.pyplot as plt \n",
        "from eli5.sklearn import PermutationImportance\n",
        "from nltk.corpus import stopwords\n",
        "from string import punctuation"
      ],
      "execution_count": 2,
      "outputs": [
        {
          "output_type": "stream",
          "text": [
            "/usr/local/lib/python3.6/dist-packages/sklearn/utils/deprecation.py:144: FutureWarning: The sklearn.metrics.scorer module is  deprecated in version 0.22 and will be removed in version 0.24. The corresponding classes / functions should instead be imported from sklearn.metrics. Anything that cannot be imported from sklearn.metrics is now part of the private API.\n",
            "  warnings.warn(message, FutureWarning)\n",
            "/usr/local/lib/python3.6/dist-packages/sklearn/utils/deprecation.py:144: FutureWarning: The sklearn.feature_selection.base module is  deprecated in version 0.22 and will be removed in version 0.24. The corresponding classes / functions should instead be imported from sklearn.feature_selection. Anything that cannot be imported from sklearn.feature_selection is now part of the private API.\n",
            "  warnings.warn(message, FutureWarning)\n",
            "Using TensorFlow backend.\n"
          ],
          "name": "stderr"
        }
      ]
    },
    {
      "cell_type": "code",
      "metadata": {
        "id": "b4_mRAqZvya9",
        "colab_type": "code",
        "colab": {
          "base_uri": "https://localhost:8080/",
          "height": 139
        },
        "outputId": "709cb980-eb5a-456c-b850-60b33ffcd72c"
      },
      "source": [
        "from google.colab import drive \n",
        "drive.mount('/gdrive')\n",
        "%cd /gdrive"
      ],
      "execution_count": 3,
      "outputs": [
        {
          "output_type": "stream",
          "text": [
            "Go to this URL in a browser: https://accounts.google.com/o/oauth2/auth?client_id=947318989803-6bn6qk8qdgf4n4g3pfee6491hc0brc4i.apps.googleusercontent.com&redirect_uri=urn%3aietf%3awg%3aoauth%3a2.0%3aoob&response_type=code&scope=email%20https%3a%2f%2fwww.googleapis.com%2fauth%2fdocs.test%20https%3a%2f%2fwww.googleapis.com%2fauth%2fdrive%20https%3a%2f%2fwww.googleapis.com%2fauth%2fdrive.photos.readonly%20https%3a%2f%2fwww.googleapis.com%2fauth%2fpeopleapi.readonly\n",
            "\n",
            "Enter your authorization code:\n",
            "··········\n",
            "Mounted at /gdrive\n",
            "/gdrive\n"
          ],
          "name": "stdout"
        }
      ]
    },
    {
      "cell_type": "code",
      "metadata": {
        "id": "dy0f5R_GxBFK",
        "colab_type": "code",
        "colab": {}
      },
      "source": [
        "data = pd.read_csv('/gdrive/My Drive/exam/jigsaw-toxic-comment-train.csv.zip')"
      ],
      "execution_count": 4,
      "outputs": []
    },
    {
      "cell_type": "markdown",
      "metadata": {
        "id": "fSDK50e-sSu8",
        "colab_type": "text"
      },
      "source": [
        "### 1. Описательный анализ данных с привязкой к целевой переменной (toxic) и 2 другим дополнительным колонкам (как минимум 5 статистик на каждую группу) - 1.5 балл"
      ]
    },
    {
      "cell_type": "code",
      "metadata": {
        "id": "hVgTHTVQrG0k",
        "colab_type": "code",
        "colab": {
          "base_uri": "https://localhost:8080/",
          "height": 359
        },
        "outputId": "dcb06212-1a5c-4463-dc55-2fff9e6f8089"
      },
      "source": [
        "data.head(10)"
      ],
      "execution_count": 5,
      "outputs": [
        {
          "output_type": "execute_result",
          "data": {
            "text/html": [
              "<div>\n",
              "<style scoped>\n",
              "    .dataframe tbody tr th:only-of-type {\n",
              "        vertical-align: middle;\n",
              "    }\n",
              "\n",
              "    .dataframe tbody tr th {\n",
              "        vertical-align: top;\n",
              "    }\n",
              "\n",
              "    .dataframe thead th {\n",
              "        text-align: right;\n",
              "    }\n",
              "</style>\n",
              "<table border=\"1\" class=\"dataframe\">\n",
              "  <thead>\n",
              "    <tr style=\"text-align: right;\">\n",
              "      <th></th>\n",
              "      <th>id</th>\n",
              "      <th>comment_text</th>\n",
              "      <th>toxic</th>\n",
              "      <th>severe_toxic</th>\n",
              "      <th>obscene</th>\n",
              "      <th>threat</th>\n",
              "      <th>insult</th>\n",
              "      <th>identity_hate</th>\n",
              "    </tr>\n",
              "  </thead>\n",
              "  <tbody>\n",
              "    <tr>\n",
              "      <th>0</th>\n",
              "      <td>0000997932d777bf</td>\n",
              "      <td>Explanation\\nWhy the edits made under my usern...</td>\n",
              "      <td>0</td>\n",
              "      <td>0</td>\n",
              "      <td>0</td>\n",
              "      <td>0</td>\n",
              "      <td>0</td>\n",
              "      <td>0</td>\n",
              "    </tr>\n",
              "    <tr>\n",
              "      <th>1</th>\n",
              "      <td>000103f0d9cfb60f</td>\n",
              "      <td>D'aww! He matches this background colour I'm s...</td>\n",
              "      <td>0</td>\n",
              "      <td>0</td>\n",
              "      <td>0</td>\n",
              "      <td>0</td>\n",
              "      <td>0</td>\n",
              "      <td>0</td>\n",
              "    </tr>\n",
              "    <tr>\n",
              "      <th>2</th>\n",
              "      <td>000113f07ec002fd</td>\n",
              "      <td>Hey man, I'm really not trying to edit war. It...</td>\n",
              "      <td>0</td>\n",
              "      <td>0</td>\n",
              "      <td>0</td>\n",
              "      <td>0</td>\n",
              "      <td>0</td>\n",
              "      <td>0</td>\n",
              "    </tr>\n",
              "    <tr>\n",
              "      <th>3</th>\n",
              "      <td>0001b41b1c6bb37e</td>\n",
              "      <td>\"\\nMore\\nI can't make any real suggestions on ...</td>\n",
              "      <td>0</td>\n",
              "      <td>0</td>\n",
              "      <td>0</td>\n",
              "      <td>0</td>\n",
              "      <td>0</td>\n",
              "      <td>0</td>\n",
              "    </tr>\n",
              "    <tr>\n",
              "      <th>4</th>\n",
              "      <td>0001d958c54c6e35</td>\n",
              "      <td>You, sir, are my hero. Any chance you remember...</td>\n",
              "      <td>0</td>\n",
              "      <td>0</td>\n",
              "      <td>0</td>\n",
              "      <td>0</td>\n",
              "      <td>0</td>\n",
              "      <td>0</td>\n",
              "    </tr>\n",
              "    <tr>\n",
              "      <th>5</th>\n",
              "      <td>00025465d4725e87</td>\n",
              "      <td>\"\\n\\nCongratulations from me as well, use the ...</td>\n",
              "      <td>0</td>\n",
              "      <td>0</td>\n",
              "      <td>0</td>\n",
              "      <td>0</td>\n",
              "      <td>0</td>\n",
              "      <td>0</td>\n",
              "    </tr>\n",
              "    <tr>\n",
              "      <th>6</th>\n",
              "      <td>0002bcb3da6cb337</td>\n",
              "      <td>COCKSUCKER BEFORE YOU PISS AROUND ON MY WORK</td>\n",
              "      <td>1</td>\n",
              "      <td>1</td>\n",
              "      <td>1</td>\n",
              "      <td>0</td>\n",
              "      <td>1</td>\n",
              "      <td>0</td>\n",
              "    </tr>\n",
              "    <tr>\n",
              "      <th>7</th>\n",
              "      <td>00031b1e95af7921</td>\n",
              "      <td>Your vandalism to the Matt Shirvington article...</td>\n",
              "      <td>0</td>\n",
              "      <td>0</td>\n",
              "      <td>0</td>\n",
              "      <td>0</td>\n",
              "      <td>0</td>\n",
              "      <td>0</td>\n",
              "    </tr>\n",
              "    <tr>\n",
              "      <th>8</th>\n",
              "      <td>00037261f536c51d</td>\n",
              "      <td>Sorry if the word 'nonsense' was offensive to ...</td>\n",
              "      <td>0</td>\n",
              "      <td>0</td>\n",
              "      <td>0</td>\n",
              "      <td>0</td>\n",
              "      <td>0</td>\n",
              "      <td>0</td>\n",
              "    </tr>\n",
              "    <tr>\n",
              "      <th>9</th>\n",
              "      <td>00040093b2687caa</td>\n",
              "      <td>alignment on this subject and which are contra...</td>\n",
              "      <td>0</td>\n",
              "      <td>0</td>\n",
              "      <td>0</td>\n",
              "      <td>0</td>\n",
              "      <td>0</td>\n",
              "      <td>0</td>\n",
              "    </tr>\n",
              "  </tbody>\n",
              "</table>\n",
              "</div>"
            ],
            "text/plain": [
              "                 id  ... identity_hate\n",
              "0  0000997932d777bf  ...             0\n",
              "1  000103f0d9cfb60f  ...             0\n",
              "2  000113f07ec002fd  ...             0\n",
              "3  0001b41b1c6bb37e  ...             0\n",
              "4  0001d958c54c6e35  ...             0\n",
              "5  00025465d4725e87  ...             0\n",
              "6  0002bcb3da6cb337  ...             0\n",
              "7  00031b1e95af7921  ...             0\n",
              "8  00037261f536c51d  ...             0\n",
              "9  00040093b2687caa  ...             0\n",
              "\n",
              "[10 rows x 8 columns]"
            ]
          },
          "metadata": {
            "tags": []
          },
          "execution_count": 5
        }
      ]
    },
    {
      "cell_type": "code",
      "metadata": {
        "id": "fUub4b3eIkqK",
        "colab_type": "code",
        "colab": {
          "base_uri": "https://localhost:8080/",
          "height": 34
        },
        "outputId": "2cdbcd0d-3133-40fc-d093-6b0bd3eebeb2"
      },
      "source": [
        "data.shape"
      ],
      "execution_count": 6,
      "outputs": [
        {
          "output_type": "execute_result",
          "data": {
            "text/plain": [
              "(223549, 8)"
            ]
          },
          "metadata": {
            "tags": []
          },
          "execution_count": 6
        }
      ]
    },
    {
      "cell_type": "code",
      "metadata": {
        "id": "RiWQAe76KfCD",
        "colab_type": "code",
        "colab": {
          "base_uri": "https://localhost:8080/",
          "height": 297
        },
        "outputId": "329a3cbf-b4d5-4789-c88d-5ee1a1b25098"
      },
      "source": [
        "data.describe()"
      ],
      "execution_count": 7,
      "outputs": [
        {
          "output_type": "execute_result",
          "data": {
            "text/html": [
              "<div>\n",
              "<style scoped>\n",
              "    .dataframe tbody tr th:only-of-type {\n",
              "        vertical-align: middle;\n",
              "    }\n",
              "\n",
              "    .dataframe tbody tr th {\n",
              "        vertical-align: top;\n",
              "    }\n",
              "\n",
              "    .dataframe thead th {\n",
              "        text-align: right;\n",
              "    }\n",
              "</style>\n",
              "<table border=\"1\" class=\"dataframe\">\n",
              "  <thead>\n",
              "    <tr style=\"text-align: right;\">\n",
              "      <th></th>\n",
              "      <th>toxic</th>\n",
              "      <th>severe_toxic</th>\n",
              "      <th>obscene</th>\n",
              "      <th>threat</th>\n",
              "      <th>insult</th>\n",
              "      <th>identity_hate</th>\n",
              "    </tr>\n",
              "  </thead>\n",
              "  <tbody>\n",
              "    <tr>\n",
              "      <th>count</th>\n",
              "      <td>223549.000000</td>\n",
              "      <td>223549.000000</td>\n",
              "      <td>223549.000000</td>\n",
              "      <td>223549.000000</td>\n",
              "      <td>223549.000000</td>\n",
              "      <td>223549.000000</td>\n",
              "    </tr>\n",
              "    <tr>\n",
              "      <th>mean</th>\n",
              "      <td>0.095657</td>\n",
              "      <td>0.008777</td>\n",
              "      <td>0.054306</td>\n",
              "      <td>0.003082</td>\n",
              "      <td>0.050566</td>\n",
              "      <td>0.009470</td>\n",
              "    </tr>\n",
              "    <tr>\n",
              "      <th>std</th>\n",
              "      <td>0.294121</td>\n",
              "      <td>0.093272</td>\n",
              "      <td>0.226621</td>\n",
              "      <td>0.055431</td>\n",
              "      <td>0.219110</td>\n",
              "      <td>0.096852</td>\n",
              "    </tr>\n",
              "    <tr>\n",
              "      <th>min</th>\n",
              "      <td>0.000000</td>\n",
              "      <td>0.000000</td>\n",
              "      <td>0.000000</td>\n",
              "      <td>0.000000</td>\n",
              "      <td>0.000000</td>\n",
              "      <td>0.000000</td>\n",
              "    </tr>\n",
              "    <tr>\n",
              "      <th>25%</th>\n",
              "      <td>0.000000</td>\n",
              "      <td>0.000000</td>\n",
              "      <td>0.000000</td>\n",
              "      <td>0.000000</td>\n",
              "      <td>0.000000</td>\n",
              "      <td>0.000000</td>\n",
              "    </tr>\n",
              "    <tr>\n",
              "      <th>50%</th>\n",
              "      <td>0.000000</td>\n",
              "      <td>0.000000</td>\n",
              "      <td>0.000000</td>\n",
              "      <td>0.000000</td>\n",
              "      <td>0.000000</td>\n",
              "      <td>0.000000</td>\n",
              "    </tr>\n",
              "    <tr>\n",
              "      <th>75%</th>\n",
              "      <td>0.000000</td>\n",
              "      <td>0.000000</td>\n",
              "      <td>0.000000</td>\n",
              "      <td>0.000000</td>\n",
              "      <td>0.000000</td>\n",
              "      <td>0.000000</td>\n",
              "    </tr>\n",
              "    <tr>\n",
              "      <th>max</th>\n",
              "      <td>1.000000</td>\n",
              "      <td>1.000000</td>\n",
              "      <td>1.000000</td>\n",
              "      <td>1.000000</td>\n",
              "      <td>1.000000</td>\n",
              "      <td>1.000000</td>\n",
              "    </tr>\n",
              "  </tbody>\n",
              "</table>\n",
              "</div>"
            ],
            "text/plain": [
              "               toxic   severe_toxic  ...         insult  identity_hate\n",
              "count  223549.000000  223549.000000  ...  223549.000000  223549.000000\n",
              "mean        0.095657       0.008777  ...       0.050566       0.009470\n",
              "std         0.294121       0.093272  ...       0.219110       0.096852\n",
              "min         0.000000       0.000000  ...       0.000000       0.000000\n",
              "25%         0.000000       0.000000  ...       0.000000       0.000000\n",
              "50%         0.000000       0.000000  ...       0.000000       0.000000\n",
              "75%         0.000000       0.000000  ...       0.000000       0.000000\n",
              "max         1.000000       1.000000  ...       1.000000       1.000000\n",
              "\n",
              "[8 rows x 6 columns]"
            ]
          },
          "metadata": {
            "tags": []
          },
          "execution_count": 7
        }
      ]
    },
    {
      "cell_type": "code",
      "metadata": {
        "id": "DQTRzqhnK2sS",
        "colab_type": "code",
        "colab": {
          "base_uri": "https://localhost:8080/",
          "height": 272
        },
        "outputId": "e61bbaa3-882d-4e77-9b83-0dbf5f0784ba"
      },
      "source": [
        "data.info()"
      ],
      "execution_count": 8,
      "outputs": [
        {
          "output_type": "stream",
          "text": [
            "<class 'pandas.core.frame.DataFrame'>\n",
            "RangeIndex: 223549 entries, 0 to 223548\n",
            "Data columns (total 8 columns):\n",
            " #   Column         Non-Null Count   Dtype \n",
            "---  ------         --------------   ----- \n",
            " 0   id             223549 non-null  object\n",
            " 1   comment_text   223549 non-null  object\n",
            " 2   toxic          223549 non-null  int64 \n",
            " 3   severe_toxic   223549 non-null  int64 \n",
            " 4   obscene        223549 non-null  int64 \n",
            " 5   threat         223549 non-null  int64 \n",
            " 6   insult         223549 non-null  int64 \n",
            " 7   identity_hate  223549 non-null  int64 \n",
            "dtypes: int64(6), object(2)\n",
            "memory usage: 13.6+ MB\n"
          ],
          "name": "stdout"
        }
      ]
    },
    {
      "cell_type": "code",
      "metadata": {
        "id": "a9srYL7NK6TF",
        "colab_type": "code",
        "colab": {
          "base_uri": "https://localhost:8080/",
          "height": 565
        },
        "outputId": "2e523f7e-4a48-43fc-ca70-ebd26d4901dd"
      },
      "source": [
        "data.corr()"
      ],
      "execution_count": 18,
      "outputs": [
        {
          "output_type": "execute_result",
          "data": {
            "text/html": [
              "<div>\n",
              "<style scoped>\n",
              "    .dataframe tbody tr th:only-of-type {\n",
              "        vertical-align: middle;\n",
              "    }\n",
              "\n",
              "    .dataframe tbody tr th {\n",
              "        vertical-align: top;\n",
              "    }\n",
              "\n",
              "    .dataframe thead th {\n",
              "        text-align: right;\n",
              "    }\n",
              "</style>\n",
              "<table border=\"1\" class=\"dataframe\">\n",
              "  <thead>\n",
              "    <tr style=\"text-align: right;\">\n",
              "      <th></th>\n",
              "      <th>toxic</th>\n",
              "      <th>severe_toxic</th>\n",
              "      <th>obscene</th>\n",
              "      <th>threat</th>\n",
              "      <th>insult</th>\n",
              "      <th>identity_hate</th>\n",
              "      <th>text_len</th>\n",
              "      <th>text_len_tokens</th>\n",
              "      <th>number_of_caps</th>\n",
              "      <th>number_of_nonalphanum</th>\n",
              "      <th>number_of_lows</th>\n",
              "      <th>number_of_digits</th>\n",
              "      <th>number_of_ascii</th>\n",
              "      <th>number_of_nonascii</th>\n",
              "      <th>number_of_punctuation</th>\n",
              "      <th>number_of_stops</th>\n",
              "    </tr>\n",
              "  </thead>\n",
              "  <tbody>\n",
              "    <tr>\n",
              "      <th>toxic</th>\n",
              "      <td>1.000000</td>\n",
              "      <td>0.289325</td>\n",
              "      <td>0.697349</td>\n",
              "      <td>0.161360</td>\n",
              "      <td>0.666690</td>\n",
              "      <td>0.281483</td>\n",
              "      <td>-0.060568</td>\n",
              "      <td>-0.058667</td>\n",
              "      <td>0.085272</td>\n",
              "      <td>-0.052055</td>\n",
              "      <td>-0.086144</td>\n",
              "      <td>-0.019540</td>\n",
              "      <td>-0.060174</td>\n",
              "      <td>-0.008683</td>\n",
              "      <td>-0.020370</td>\n",
              "      <td>-0.086951</td>\n",
              "    </tr>\n",
              "    <tr>\n",
              "      <th>severe_toxic</th>\n",
              "      <td>0.289325</td>\n",
              "      <td>1.000000</td>\n",
              "      <td>0.375318</td>\n",
              "      <td>0.131472</td>\n",
              "      <td>0.350608</td>\n",
              "      <td>0.212644</td>\n",
              "      <td>0.018164</td>\n",
              "      <td>0.016976</td>\n",
              "      <td>0.141318</td>\n",
              "      <td>0.023280</td>\n",
              "      <td>-0.016058</td>\n",
              "      <td>-0.004171</td>\n",
              "      <td>0.018508</td>\n",
              "      <td>-0.002664</td>\n",
              "      <td>0.033514</td>\n",
              "      <td>-0.019355</td>\n",
              "    </tr>\n",
              "    <tr>\n",
              "      <th>obscene</th>\n",
              "      <td>0.697349</td>\n",
              "      <td>0.375318</td>\n",
              "      <td>1.000000</td>\n",
              "      <td>0.143005</td>\n",
              "      <td>0.745039</td>\n",
              "      <td>0.296548</td>\n",
              "      <td>-0.044486</td>\n",
              "      <td>-0.043736</td>\n",
              "      <td>0.083071</td>\n",
              "      <td>-0.038371</td>\n",
              "      <td>-0.068162</td>\n",
              "      <td>-0.014201</td>\n",
              "      <td>-0.044180</td>\n",
              "      <td>-0.006571</td>\n",
              "      <td>-0.014393</td>\n",
              "      <td>-0.070114</td>\n",
              "    </tr>\n",
              "    <tr>\n",
              "      <th>threat</th>\n",
              "      <td>0.161360</td>\n",
              "      <td>0.131472</td>\n",
              "      <td>0.143005</td>\n",
              "      <td>1.000000</td>\n",
              "      <td>0.151066</td>\n",
              "      <td>0.115382</td>\n",
              "      <td>-0.006950</td>\n",
              "      <td>-0.005417</td>\n",
              "      <td>0.038689</td>\n",
              "      <td>-0.000139</td>\n",
              "      <td>-0.018497</td>\n",
              "      <td>-0.005721</td>\n",
              "      <td>-0.006887</td>\n",
              "      <td>-0.001197</td>\n",
              "      <td>0.012888</td>\n",
              "      <td>-0.018352</td>\n",
              "    </tr>\n",
              "    <tr>\n",
              "      <th>insult</th>\n",
              "      <td>0.666690</td>\n",
              "      <td>0.350608</td>\n",
              "      <td>0.745039</td>\n",
              "      <td>0.151066</td>\n",
              "      <td>1.000000</td>\n",
              "      <td>0.348853</td>\n",
              "      <td>-0.046247</td>\n",
              "      <td>-0.044753</td>\n",
              "      <td>0.074848</td>\n",
              "      <td>-0.040528</td>\n",
              "      <td>-0.067899</td>\n",
              "      <td>-0.015110</td>\n",
              "      <td>-0.045966</td>\n",
              "      <td>-0.006407</td>\n",
              "      <td>-0.018216</td>\n",
              "      <td>-0.068965</td>\n",
              "    </tr>\n",
              "    <tr>\n",
              "      <th>identity_hate</th>\n",
              "      <td>0.281483</td>\n",
              "      <td>0.212644</td>\n",
              "      <td>0.296548</td>\n",
              "      <td>0.115382</td>\n",
              "      <td>0.348853</td>\n",
              "      <td>1.000000</td>\n",
              "      <td>-0.012629</td>\n",
              "      <td>-0.013804</td>\n",
              "      <td>0.058796</td>\n",
              "      <td>-0.012545</td>\n",
              "      <td>-0.027249</td>\n",
              "      <td>-0.004856</td>\n",
              "      <td>-0.012474</td>\n",
              "      <td>-0.002643</td>\n",
              "      <td>-0.006628</td>\n",
              "      <td>-0.027754</td>\n",
              "    </tr>\n",
              "    <tr>\n",
              "      <th>text_len</th>\n",
              "      <td>-0.060568</td>\n",
              "      <td>0.018164</td>\n",
              "      <td>-0.044486</td>\n",
              "      <td>-0.006950</td>\n",
              "      <td>-0.046247</td>\n",
              "      <td>-0.012629</td>\n",
              "      <td>1.000000</td>\n",
              "      <td>0.985277</td>\n",
              "      <td>0.368018</td>\n",
              "      <td>0.961694</td>\n",
              "      <td>0.965098</td>\n",
              "      <td>0.257665</td>\n",
              "      <td>0.996202</td>\n",
              "      <td>0.112487</td>\n",
              "      <td>0.605927</td>\n",
              "      <td>0.959113</td>\n",
              "    </tr>\n",
              "    <tr>\n",
              "      <th>text_len_tokens</th>\n",
              "      <td>-0.058667</td>\n",
              "      <td>0.016976</td>\n",
              "      <td>-0.043736</td>\n",
              "      <td>-0.005417</td>\n",
              "      <td>-0.044753</td>\n",
              "      <td>-0.013804</td>\n",
              "      <td>0.985277</td>\n",
              "      <td>1.000000</td>\n",
              "      <td>0.351443</td>\n",
              "      <td>0.949748</td>\n",
              "      <td>0.952620</td>\n",
              "      <td>0.223633</td>\n",
              "      <td>0.980966</td>\n",
              "      <td>0.117317</td>\n",
              "      <td>0.547440</td>\n",
              "      <td>0.948272</td>\n",
              "    </tr>\n",
              "    <tr>\n",
              "      <th>number_of_caps</th>\n",
              "      <td>0.085272</td>\n",
              "      <td>0.141318</td>\n",
              "      <td>0.083071</td>\n",
              "      <td>0.038689</td>\n",
              "      <td>0.074848</td>\n",
              "      <td>0.058796</td>\n",
              "      <td>0.368018</td>\n",
              "      <td>0.351443</td>\n",
              "      <td>1.000000</td>\n",
              "      <td>0.344361</td>\n",
              "      <td>0.153055</td>\n",
              "      <td>0.093762</td>\n",
              "      <td>0.369616</td>\n",
              "      <td>0.007208</td>\n",
              "      <td>0.224448</td>\n",
              "      <td>0.151283</td>\n",
              "    </tr>\n",
              "    <tr>\n",
              "      <th>number_of_nonalphanum</th>\n",
              "      <td>-0.052055</td>\n",
              "      <td>0.023280</td>\n",
              "      <td>-0.038371</td>\n",
              "      <td>-0.000139</td>\n",
              "      <td>-0.040528</td>\n",
              "      <td>-0.012545</td>\n",
              "      <td>0.961694</td>\n",
              "      <td>0.949748</td>\n",
              "      <td>0.344361</td>\n",
              "      <td>1.000000</td>\n",
              "      <td>0.903704</td>\n",
              "      <td>0.266320</td>\n",
              "      <td>0.953602</td>\n",
              "      <td>0.158840</td>\n",
              "      <td>0.739119</td>\n",
              "      <td>0.898460</td>\n",
              "    </tr>\n",
              "    <tr>\n",
              "      <th>number_of_lows</th>\n",
              "      <td>-0.086144</td>\n",
              "      <td>-0.016058</td>\n",
              "      <td>-0.068162</td>\n",
              "      <td>-0.018497</td>\n",
              "      <td>-0.067899</td>\n",
              "      <td>-0.027249</td>\n",
              "      <td>0.965098</td>\n",
              "      <td>0.952620</td>\n",
              "      <td>0.153055</td>\n",
              "      <td>0.903704</td>\n",
              "      <td>1.000000</td>\n",
              "      <td>0.204384</td>\n",
              "      <td>0.970295</td>\n",
              "      <td>0.007433</td>\n",
              "      <td>0.536351</td>\n",
              "      <td>0.993992</td>\n",
              "    </tr>\n",
              "    <tr>\n",
              "      <th>number_of_digits</th>\n",
              "      <td>-0.019540</td>\n",
              "      <td>-0.004171</td>\n",
              "      <td>-0.014201</td>\n",
              "      <td>-0.005721</td>\n",
              "      <td>-0.015110</td>\n",
              "      <td>-0.004856</td>\n",
              "      <td>0.257665</td>\n",
              "      <td>0.223633</td>\n",
              "      <td>0.093762</td>\n",
              "      <td>0.266320</td>\n",
              "      <td>0.204384</td>\n",
              "      <td>1.000000</td>\n",
              "      <td>0.258045</td>\n",
              "      <td>0.013471</td>\n",
              "      <td>0.256824</td>\n",
              "      <td>0.200832</td>\n",
              "    </tr>\n",
              "    <tr>\n",
              "      <th>number_of_ascii</th>\n",
              "      <td>-0.060174</td>\n",
              "      <td>0.018508</td>\n",
              "      <td>-0.044180</td>\n",
              "      <td>-0.006887</td>\n",
              "      <td>-0.045966</td>\n",
              "      <td>-0.012474</td>\n",
              "      <td>0.996202</td>\n",
              "      <td>0.980966</td>\n",
              "      <td>0.369616</td>\n",
              "      <td>0.953602</td>\n",
              "      <td>0.970295</td>\n",
              "      <td>0.258045</td>\n",
              "      <td>1.000000</td>\n",
              "      <td>0.025538</td>\n",
              "      <td>0.607405</td>\n",
              "      <td>0.964832</td>\n",
              "    </tr>\n",
              "    <tr>\n",
              "      <th>number_of_nonascii</th>\n",
              "      <td>-0.008683</td>\n",
              "      <td>-0.002664</td>\n",
              "      <td>-0.006571</td>\n",
              "      <td>-0.001197</td>\n",
              "      <td>-0.006407</td>\n",
              "      <td>-0.002643</td>\n",
              "      <td>0.112487</td>\n",
              "      <td>0.117317</td>\n",
              "      <td>0.007208</td>\n",
              "      <td>0.158840</td>\n",
              "      <td>0.007433</td>\n",
              "      <td>0.013471</td>\n",
              "      <td>0.025538</td>\n",
              "      <td>1.000000</td>\n",
              "      <td>0.025035</td>\n",
              "      <td>0.001049</td>\n",
              "    </tr>\n",
              "    <tr>\n",
              "      <th>number_of_punctuation</th>\n",
              "      <td>-0.020370</td>\n",
              "      <td>0.033514</td>\n",
              "      <td>-0.014393</td>\n",
              "      <td>0.012888</td>\n",
              "      <td>-0.018216</td>\n",
              "      <td>-0.006628</td>\n",
              "      <td>0.605927</td>\n",
              "      <td>0.547440</td>\n",
              "      <td>0.224448</td>\n",
              "      <td>0.739119</td>\n",
              "      <td>0.536351</td>\n",
              "      <td>0.256824</td>\n",
              "      <td>0.607405</td>\n",
              "      <td>0.025035</td>\n",
              "      <td>1.000000</td>\n",
              "      <td>0.531684</td>\n",
              "    </tr>\n",
              "    <tr>\n",
              "      <th>number_of_stops</th>\n",
              "      <td>-0.086951</td>\n",
              "      <td>-0.019355</td>\n",
              "      <td>-0.070114</td>\n",
              "      <td>-0.018352</td>\n",
              "      <td>-0.068965</td>\n",
              "      <td>-0.027754</td>\n",
              "      <td>0.959113</td>\n",
              "      <td>0.948272</td>\n",
              "      <td>0.151283</td>\n",
              "      <td>0.898460</td>\n",
              "      <td>0.993992</td>\n",
              "      <td>0.200832</td>\n",
              "      <td>0.964832</td>\n",
              "      <td>0.001049</td>\n",
              "      <td>0.531684</td>\n",
              "      <td>1.000000</td>\n",
              "    </tr>\n",
              "  </tbody>\n",
              "</table>\n",
              "</div>"
            ],
            "text/plain": [
              "                          toxic  ...  number_of_stops\n",
              "toxic                  1.000000  ...        -0.086951\n",
              "severe_toxic           0.289325  ...        -0.019355\n",
              "obscene                0.697349  ...        -0.070114\n",
              "threat                 0.161360  ...        -0.018352\n",
              "insult                 0.666690  ...        -0.068965\n",
              "identity_hate          0.281483  ...        -0.027754\n",
              "text_len              -0.060568  ...         0.959113\n",
              "text_len_tokens       -0.058667  ...         0.948272\n",
              "number_of_caps         0.085272  ...         0.151283\n",
              "number_of_nonalphanum -0.052055  ...         0.898460\n",
              "number_of_lows        -0.086144  ...         0.993992\n",
              "number_of_digits      -0.019540  ...         0.200832\n",
              "number_of_ascii       -0.060174  ...         0.964832\n",
              "number_of_nonascii    -0.008683  ...         0.001049\n",
              "number_of_punctuation -0.020370  ...         0.531684\n",
              "number_of_stops       -0.086951  ...         1.000000\n",
              "\n",
              "[16 rows x 16 columns]"
            ]
          },
          "metadata": {
            "tags": []
          },
          "execution_count": 18
        }
      ]
    },
    {
      "cell_type": "code",
      "metadata": {
        "id": "3Re3zDL9MFs6",
        "colab_type": "code",
        "colab": {
          "base_uri": "https://localhost:8080/",
          "height": 34
        },
        "outputId": "d6c87f7a-a0e0-469d-874b-25cfd65bac62"
      },
      "source": [
        "toxic_positive = data[data['toxic']==1]\n",
        "toxic_positive.shape"
      ],
      "execution_count": 10,
      "outputs": [
        {
          "output_type": "execute_result",
          "data": {
            "text/plain": [
              "(21384, 8)"
            ]
          },
          "metadata": {
            "tags": []
          },
          "execution_count": 10
        }
      ]
    },
    {
      "cell_type": "code",
      "metadata": {
        "id": "Ykvhzn2CP_e2",
        "colab_type": "code",
        "colab": {}
      },
      "source": [
        "def is_ascii(s):\n",
        "    return all(ord(c) < 128 for c in s)"
      ],
      "execution_count": 11,
      "outputs": []
    },
    {
      "cell_type": "code",
      "metadata": {
        "id": "f6Z4bsJ_QDsf",
        "colab_type": "code",
        "colab": {}
      },
      "source": [
        "stops = stopwords.words('english')"
      ],
      "execution_count": 14,
      "outputs": []
    },
    {
      "cell_type": "code",
      "metadata": {
        "id": "GA0ESYCPMFrI",
        "colab_type": "code",
        "colab": {}
      },
      "source": [
        "data['text_len'] = data['comment_text'].apply(len) #длина текста\n",
        "data['text_len_tokens'] = data['comment_text'].apply(lambda x: len(x.split())) #количество токенов\n",
        "data['number_of_caps'] = data['comment_text'].apply(lambda x: len([ch for ch in x if ch.isupper()])) #количество слов с заглавной буквы\n",
        "data['number_of_nonalphanum'] = data['comment_text'].apply(lambda x: len([ch for ch in x if not ch.isalnum()])) #количество букв\n",
        "data['number_of_lows'] = data['comment_text'].apply(lambda x: len([ch for ch in x if ch.islower()])) #количество строчных букв\n",
        "data['number_of_digits'] = data['comment_text'].apply(lambda x: len([ch for ch in x if ch.isdigit()])) #количество цифр\n",
        "data['number_of_ascii'] = data['comment_text'].apply(lambda x: len([ch for ch in x if is_ascii(ch)])) #количество ascii символов\n",
        "data['number_of_nonascii'] = data['comment_text'].apply(lambda x: len([ch for ch in x if not is_ascii(ch)])) #количество non-ascii символов\n",
        "data['number_of_punctuation'] = data['comment_text'].apply(lambda x: len([ch for ch in x if ch in punctuation])) #количество знаков пунктуации\n",
        "data['number_of_stops'] = data['comment_text'].apply(lambda x: len([ch for ch in x if ch in stops])) #количество стоп-слов"
      ],
      "execution_count": 15,
      "outputs": []
    },
    {
      "cell_type": "code",
      "metadata": {
        "id": "6gQrAt86SL6G",
        "colab_type": "code",
        "colab": {
          "base_uri": "https://localhost:8080/",
          "height": 281
        },
        "outputId": "1cfd623e-d491-4852-da82-1dce323cc318"
      },
      "source": [
        "data.head(3)"
      ],
      "execution_count": 16,
      "outputs": [
        {
          "output_type": "execute_result",
          "data": {
            "text/html": [
              "<div>\n",
              "<style scoped>\n",
              "    .dataframe tbody tr th:only-of-type {\n",
              "        vertical-align: middle;\n",
              "    }\n",
              "\n",
              "    .dataframe tbody tr th {\n",
              "        vertical-align: top;\n",
              "    }\n",
              "\n",
              "    .dataframe thead th {\n",
              "        text-align: right;\n",
              "    }\n",
              "</style>\n",
              "<table border=\"1\" class=\"dataframe\">\n",
              "  <thead>\n",
              "    <tr style=\"text-align: right;\">\n",
              "      <th></th>\n",
              "      <th>id</th>\n",
              "      <th>comment_text</th>\n",
              "      <th>toxic</th>\n",
              "      <th>severe_toxic</th>\n",
              "      <th>obscene</th>\n",
              "      <th>threat</th>\n",
              "      <th>insult</th>\n",
              "      <th>identity_hate</th>\n",
              "      <th>text_len</th>\n",
              "      <th>text_len_tokens</th>\n",
              "      <th>number_of_caps</th>\n",
              "      <th>number_of_nonalphanum</th>\n",
              "      <th>number_of_lows</th>\n",
              "      <th>number_of_digits</th>\n",
              "      <th>number_of_ascii</th>\n",
              "      <th>number_of_nonascii</th>\n",
              "      <th>number_of_punctuation</th>\n",
              "      <th>number_of_stops</th>\n",
              "    </tr>\n",
              "  </thead>\n",
              "  <tbody>\n",
              "    <tr>\n",
              "      <th>0</th>\n",
              "      <td>0000997932d777bf</td>\n",
              "      <td>Explanation\\nWhy the edits made under my usern...</td>\n",
              "      <td>0</td>\n",
              "      <td>0</td>\n",
              "      <td>0</td>\n",
              "      <td>0</td>\n",
              "      <td>0</td>\n",
              "      <td>0</td>\n",
              "      <td>264</td>\n",
              "      <td>43</td>\n",
              "      <td>17</td>\n",
              "      <td>52</td>\n",
              "      <td>186</td>\n",
              "      <td>9</td>\n",
              "      <td>264</td>\n",
              "      <td>0</td>\n",
              "      <td>10</td>\n",
              "      <td>84</td>\n",
              "    </tr>\n",
              "    <tr>\n",
              "      <th>1</th>\n",
              "      <td>000103f0d9cfb60f</td>\n",
              "      <td>D'aww! He matches this background colour I'm s...</td>\n",
              "      <td>0</td>\n",
              "      <td>0</td>\n",
              "      <td>0</td>\n",
              "      <td>0</td>\n",
              "      <td>0</td>\n",
              "      <td>0</td>\n",
              "      <td>112</td>\n",
              "      <td>17</td>\n",
              "      <td>8</td>\n",
              "      <td>29</td>\n",
              "      <td>65</td>\n",
              "      <td>10</td>\n",
              "      <td>112</td>\n",
              "      <td>0</td>\n",
              "      <td>12</td>\n",
              "      <td>29</td>\n",
              "    </tr>\n",
              "    <tr>\n",
              "      <th>2</th>\n",
              "      <td>000113f07ec002fd</td>\n",
              "      <td>Hey man, I'm really not trying to edit war. It...</td>\n",
              "      <td>0</td>\n",
              "      <td>0</td>\n",
              "      <td>0</td>\n",
              "      <td>0</td>\n",
              "      <td>0</td>\n",
              "      <td>0</td>\n",
              "      <td>233</td>\n",
              "      <td>42</td>\n",
              "      <td>4</td>\n",
              "      <td>47</td>\n",
              "      <td>182</td>\n",
              "      <td>0</td>\n",
              "      <td>233</td>\n",
              "      <td>0</td>\n",
              "      <td>6</td>\n",
              "      <td>99</td>\n",
              "    </tr>\n",
              "  </tbody>\n",
              "</table>\n",
              "</div>"
            ],
            "text/plain": [
              "                 id  ... number_of_stops\n",
              "0  0000997932d777bf  ...              84\n",
              "1  000103f0d9cfb60f  ...              29\n",
              "2  000113f07ec002fd  ...              99\n",
              "\n",
              "[3 rows x 18 columns]"
            ]
          },
          "metadata": {
            "tags": []
          },
          "execution_count": 16
        }
      ]
    },
    {
      "cell_type": "markdown",
      "metadata": {
        "id": "U0AxvX6XXbeQ",
        "colab_type": "text"
      },
      "source": [
        "### Toxic/Non-toxic"
      ]
    },
    {
      "cell_type": "code",
      "metadata": {
        "id": "6pZtJvZgWNGZ",
        "colab_type": "code",
        "colab": {
          "base_uri": "https://localhost:8080/",
          "height": 207
        },
        "outputId": "f37d38fb-df28-448a-accb-8f71a04241c4"
      },
      "source": [
        "data.groupby('toxic')['text_len', 'text_len_tokens', 'number_of_caps', 'number_of_nonalphanum', 'number_of_lows', 'number_of_digits', \n",
        "                      'number_of_ascii', 'number_of_nonascii', 'number_of_punctuation', 'number_of_stops'].agg(['mean'])"
      ],
      "execution_count": 17,
      "outputs": [
        {
          "output_type": "stream",
          "text": [
            "/usr/local/lib/python3.6/dist-packages/ipykernel_launcher.py:2: FutureWarning: Indexing with multiple keys (implicitly converted to a tuple of keys) will be deprecated, use a list instead.\n",
            "  \n"
          ],
          "name": "stderr"
        },
        {
          "output_type": "execute_result",
          "data": {
            "text/html": [
              "<div>\n",
              "<style scoped>\n",
              "    .dataframe tbody tr th:only-of-type {\n",
              "        vertical-align: middle;\n",
              "    }\n",
              "\n",
              "    .dataframe tbody tr th {\n",
              "        vertical-align: top;\n",
              "    }\n",
              "\n",
              "    .dataframe thead tr th {\n",
              "        text-align: left;\n",
              "    }\n",
              "\n",
              "    .dataframe thead tr:last-of-type th {\n",
              "        text-align: right;\n",
              "    }\n",
              "</style>\n",
              "<table border=\"1\" class=\"dataframe\">\n",
              "  <thead>\n",
              "    <tr>\n",
              "      <th></th>\n",
              "      <th>text_len</th>\n",
              "      <th>text_len_tokens</th>\n",
              "      <th>number_of_caps</th>\n",
              "      <th>number_of_nonalphanum</th>\n",
              "      <th>number_of_lows</th>\n",
              "      <th>number_of_digits</th>\n",
              "      <th>number_of_ascii</th>\n",
              "      <th>number_of_nonascii</th>\n",
              "      <th>number_of_punctuation</th>\n",
              "      <th>number_of_stops</th>\n",
              "    </tr>\n",
              "    <tr>\n",
              "      <th></th>\n",
              "      <th>mean</th>\n",
              "      <th>mean</th>\n",
              "      <th>mean</th>\n",
              "      <th>mean</th>\n",
              "      <th>mean</th>\n",
              "      <th>mean</th>\n",
              "      <th>mean</th>\n",
              "      <th>mean</th>\n",
              "      <th>mean</th>\n",
              "      <th>mean</th>\n",
              "    </tr>\n",
              "    <tr>\n",
              "      <th>toxic</th>\n",
              "      <th></th>\n",
              "      <th></th>\n",
              "      <th></th>\n",
              "      <th></th>\n",
              "      <th></th>\n",
              "      <th></th>\n",
              "      <th></th>\n",
              "      <th></th>\n",
              "      <th></th>\n",
              "      <th></th>\n",
              "    </tr>\n",
              "  </thead>\n",
              "  <tbody>\n",
              "    <tr>\n",
              "      <th>0</th>\n",
              "      <td>402.691178</td>\n",
              "      <td>68.415161</td>\n",
              "      <td>14.484189</td>\n",
              "      <td>89.072456</td>\n",
              "      <td>294.922009</td>\n",
              "      <td>3.248698</td>\n",
              "      <td>400.972142</td>\n",
              "      <td>1.719036</td>\n",
              "      <td>16.974704</td>\n",
              "      <td>141.799609</td>\n",
              "    </tr>\n",
              "    <tr>\n",
              "      <th>1</th>\n",
              "      <td>280.604097</td>\n",
              "      <td>48.573466</td>\n",
              "      <td>44.689675</td>\n",
              "      <td>65.266741</td>\n",
              "      <td>168.618921</td>\n",
              "      <td>1.995885</td>\n",
              "      <td>280.409512</td>\n",
              "      <td>0.194585</td>\n",
              "      <td>14.257202</td>\n",
              "      <td>80.432941</td>\n",
              "    </tr>\n",
              "  </tbody>\n",
              "</table>\n",
              "</div>"
            ],
            "text/plain": [
              "         text_len text_len_tokens  ... number_of_punctuation number_of_stops\n",
              "             mean            mean  ...                  mean            mean\n",
              "toxic                              ...                                      \n",
              "0      402.691178       68.415161  ...             16.974704      141.799609\n",
              "1      280.604097       48.573466  ...             14.257202       80.432941\n",
              "\n",
              "[2 rows x 10 columns]"
            ]
          },
          "metadata": {
            "tags": []
          },
          "execution_count": 17
        }
      ]
    },
    {
      "cell_type": "markdown",
      "metadata": {
        "id": "4pt0HKP7XTWe",
        "colab_type": "text"
      },
      "source": [
        "### Описание TBA"
      ]
    },
    {
      "cell_type": "markdown",
      "metadata": {
        "id": "992m3sndR2Yq",
        "colab_type": "text"
      },
      "source": [
        "### Severe_toxic/Non-severe_toxic"
      ]
    },
    {
      "cell_type": "code",
      "metadata": {
        "id": "kwwev4HSR0VL",
        "colab_type": "code",
        "colab": {
          "base_uri": "https://localhost:8080/",
          "height": 207
        },
        "outputId": "27e44f9c-0966-4461-940d-4bcbe4d028a1"
      },
      "source": [
        "data.groupby('severe_toxic')['text_len', 'text_len_tokens', 'number_of_caps', 'number_of_nonalphanum', 'number_of_lows', 'number_of_digits', \n",
        "                      'number_of_ascii', 'number_of_nonascii', 'number_of_punctuation', 'number_of_stops'].agg(['mean'])"
      ],
      "execution_count": 19,
      "outputs": [
        {
          "output_type": "stream",
          "text": [
            "/usr/local/lib/python3.6/dist-packages/ipykernel_launcher.py:2: FutureWarning: Indexing with multiple keys (implicitly converted to a tuple of keys) will be deprecated, use a list instead.\n",
            "  \n"
          ],
          "name": "stderr"
        },
        {
          "output_type": "execute_result",
          "data": {
            "text/html": [
              "<div>\n",
              "<style scoped>\n",
              "    .dataframe tbody tr th:only-of-type {\n",
              "        vertical-align: middle;\n",
              "    }\n",
              "\n",
              "    .dataframe tbody tr th {\n",
              "        vertical-align: top;\n",
              "    }\n",
              "\n",
              "    .dataframe thead tr th {\n",
              "        text-align: left;\n",
              "    }\n",
              "\n",
              "    .dataframe thead tr:last-of-type th {\n",
              "        text-align: right;\n",
              "    }\n",
              "</style>\n",
              "<table border=\"1\" class=\"dataframe\">\n",
              "  <thead>\n",
              "    <tr>\n",
              "      <th></th>\n",
              "      <th>text_len</th>\n",
              "      <th>text_len_tokens</th>\n",
              "      <th>number_of_caps</th>\n",
              "      <th>number_of_nonalphanum</th>\n",
              "      <th>number_of_lows</th>\n",
              "      <th>number_of_digits</th>\n",
              "      <th>number_of_ascii</th>\n",
              "      <th>number_of_nonascii</th>\n",
              "      <th>number_of_punctuation</th>\n",
              "      <th>number_of_stops</th>\n",
              "    </tr>\n",
              "    <tr>\n",
              "      <th></th>\n",
              "      <th>mean</th>\n",
              "      <th>mean</th>\n",
              "      <th>mean</th>\n",
              "      <th>mean</th>\n",
              "      <th>mean</th>\n",
              "      <th>mean</th>\n",
              "      <th>mean</th>\n",
              "      <th>mean</th>\n",
              "      <th>mean</th>\n",
              "      <th>mean</th>\n",
              "    </tr>\n",
              "    <tr>\n",
              "      <th>severe_toxic</th>\n",
              "      <th></th>\n",
              "      <th></th>\n",
              "      <th></th>\n",
              "      <th></th>\n",
              "      <th></th>\n",
              "      <th></th>\n",
              "      <th></th>\n",
              "      <th></th>\n",
              "      <th></th>\n",
              "      <th></th>\n",
              "    </tr>\n",
              "  </thead>\n",
              "  <tbody>\n",
              "    <tr>\n",
              "      <th>0</th>\n",
              "      <td>389.999386</td>\n",
              "      <td>66.358270</td>\n",
              "      <td>15.988131</td>\n",
              "      <td>86.500630</td>\n",
              "      <td>283.491852</td>\n",
              "      <td>3.136258</td>\n",
              "      <td>388.413228</td>\n",
              "      <td>1.586158</td>\n",
              "      <td>16.591014</td>\n",
              "      <td>136.307514</td>\n",
              "    </tr>\n",
              "    <tr>\n",
              "      <th>1</th>\n",
              "      <td>505.456677</td>\n",
              "      <td>84.462793</td>\n",
              "      <td>173.841998</td>\n",
              "      <td>120.072375</td>\n",
              "      <td>209.248726</td>\n",
              "      <td>2.293068</td>\n",
              "      <td>505.345566</td>\n",
              "      <td>0.111111</td>\n",
              "      <td>30.690112</td>\n",
              "      <td>93.232926</td>\n",
              "    </tr>\n",
              "  </tbody>\n",
              "</table>\n",
              "</div>"
            ],
            "text/plain": [
              "                text_len text_len_tokens  ... number_of_punctuation number_of_stops\n",
              "                    mean            mean  ...                  mean            mean\n",
              "severe_toxic                              ...                                      \n",
              "0             389.999386       66.358270  ...             16.591014      136.307514\n",
              "1             505.456677       84.462793  ...             30.690112       93.232926\n",
              "\n",
              "[2 rows x 10 columns]"
            ]
          },
          "metadata": {
            "tags": []
          },
          "execution_count": 19
        }
      ]
    },
    {
      "cell_type": "markdown",
      "metadata": {
        "id": "AyI3mFJaSK1w",
        "colab_type": "text"
      },
      "source": [
        "### Описание TBA"
      ]
    },
    {
      "cell_type": "markdown",
      "metadata": {
        "id": "V8zOtYEPSMIy",
        "colab_type": "text"
      },
      "source": [
        "### Obscene/Non-obscene"
      ]
    },
    {
      "cell_type": "code",
      "metadata": {
        "id": "lWFqZkxUSMRv",
        "colab_type": "code",
        "colab": {
          "base_uri": "https://localhost:8080/",
          "height": 207
        },
        "outputId": "576377a1-49f4-4ec3-aba2-b79a1bd7bf11"
      },
      "source": [
        "data.groupby('obscene')['text_len', 'text_len_tokens', 'number_of_caps', 'number_of_nonalphanum', 'number_of_lows', 'number_of_digits', \n",
        "                      'number_of_ascii', 'number_of_nonascii', 'number_of_punctuation', 'number_of_stops'].agg(['mean'])"
      ],
      "execution_count": 20,
      "outputs": [
        {
          "output_type": "stream",
          "text": [
            "/usr/local/lib/python3.6/dist-packages/ipykernel_launcher.py:2: FutureWarning: Indexing with multiple keys (implicitly converted to a tuple of keys) will be deprecated, use a list instead.\n",
            "  \n"
          ],
          "name": "stderr"
        },
        {
          "output_type": "execute_result",
          "data": {
            "text/html": [
              "<div>\n",
              "<style scoped>\n",
              "    .dataframe tbody tr th:only-of-type {\n",
              "        vertical-align: middle;\n",
              "    }\n",
              "\n",
              "    .dataframe tbody tr th {\n",
              "        vertical-align: top;\n",
              "    }\n",
              "\n",
              "    .dataframe thead tr th {\n",
              "        text-align: left;\n",
              "    }\n",
              "\n",
              "    .dataframe thead tr:last-of-type th {\n",
              "        text-align: right;\n",
              "    }\n",
              "</style>\n",
              "<table border=\"1\" class=\"dataframe\">\n",
              "  <thead>\n",
              "    <tr>\n",
              "      <th></th>\n",
              "      <th>text_len</th>\n",
              "      <th>text_len_tokens</th>\n",
              "      <th>number_of_caps</th>\n",
              "      <th>number_of_nonalphanum</th>\n",
              "      <th>number_of_lows</th>\n",
              "      <th>number_of_digits</th>\n",
              "      <th>number_of_ascii</th>\n",
              "      <th>number_of_nonascii</th>\n",
              "      <th>number_of_punctuation</th>\n",
              "      <th>number_of_stops</th>\n",
              "    </tr>\n",
              "    <tr>\n",
              "      <th></th>\n",
              "      <th>mean</th>\n",
              "      <th>mean</th>\n",
              "      <th>mean</th>\n",
              "      <th>mean</th>\n",
              "      <th>mean</th>\n",
              "      <th>mean</th>\n",
              "      <th>mean</th>\n",
              "      <th>mean</th>\n",
              "      <th>mean</th>\n",
              "      <th>mean</th>\n",
              "    </tr>\n",
              "    <tr>\n",
              "      <th>obscene</th>\n",
              "      <th></th>\n",
              "      <th></th>\n",
              "      <th></th>\n",
              "      <th></th>\n",
              "      <th></th>\n",
              "      <th></th>\n",
              "      <th></th>\n",
              "      <th></th>\n",
              "      <th></th>\n",
              "      <th></th>\n",
              "    </tr>\n",
              "  </thead>\n",
              "  <tbody>\n",
              "    <tr>\n",
              "      <th>0</th>\n",
              "      <td>397.332876</td>\n",
              "      <td>67.559707</td>\n",
              "      <td>15.299590</td>\n",
              "      <td>88.032052</td>\n",
              "      <td>289.883993</td>\n",
              "      <td>3.193029</td>\n",
              "      <td>395.678353</td>\n",
              "      <td>1.654523</td>\n",
              "      <td>16.850087</td>\n",
              "      <td>139.417163</td>\n",
              "    </tr>\n",
              "    <tr>\n",
              "      <th>1</th>\n",
              "      <td>280.951730</td>\n",
              "      <td>48.362109</td>\n",
              "      <td>53.490033</td>\n",
              "      <td>65.257743</td>\n",
              "      <td>160.178748</td>\n",
              "      <td>2.011367</td>\n",
              "      <td>280.794481</td>\n",
              "      <td>0.157249</td>\n",
              "      <td>14.358072</td>\n",
              "      <td>75.193822</td>\n",
              "    </tr>\n",
              "  </tbody>\n",
              "</table>\n",
              "</div>"
            ],
            "text/plain": [
              "           text_len text_len_tokens  ... number_of_punctuation number_of_stops\n",
              "               mean            mean  ...                  mean            mean\n",
              "obscene                              ...                                      \n",
              "0        397.332876       67.559707  ...             16.850087      139.417163\n",
              "1        280.951730       48.362109  ...             14.358072       75.193822\n",
              "\n",
              "[2 rows x 10 columns]"
            ]
          },
          "metadata": {
            "tags": []
          },
          "execution_count": 20
        }
      ]
    },
    {
      "cell_type": "markdown",
      "metadata": {
        "id": "qID8tEdrSMh7",
        "colab_type": "text"
      },
      "source": [
        "### Описание TBA"
      ]
    },
    {
      "cell_type": "markdown",
      "metadata": {
        "id": "nnJq1D5oSbqI",
        "colab_type": "text"
      },
      "source": [
        "### Threat/Non-threat"
      ]
    },
    {
      "cell_type": "code",
      "metadata": {
        "id": "70T97KdAScIz",
        "colab_type": "code",
        "colab": {
          "base_uri": "https://localhost:8080/",
          "height": 207
        },
        "outputId": "50cc58ce-5e75-4509-fe74-6f75bf781167"
      },
      "source": [
        "data.groupby('threat')['text_len', 'text_len_tokens', 'number_of_caps', 'number_of_nonalphanum', 'number_of_lows', 'number_of_digits', \n",
        "                      'number_of_ascii', 'number_of_nonascii', 'number_of_punctuation', 'number_of_stops'].agg(['mean'])"
      ],
      "execution_count": 21,
      "outputs": [
        {
          "output_type": "stream",
          "text": [
            "/usr/local/lib/python3.6/dist-packages/ipykernel_launcher.py:2: FutureWarning: Indexing with multiple keys (implicitly converted to a tuple of keys) will be deprecated, use a list instead.\n",
            "  \n"
          ],
          "name": "stderr"
        },
        {
          "output_type": "execute_result",
          "data": {
            "text/html": [
              "<div>\n",
              "<style scoped>\n",
              "    .dataframe tbody tr th:only-of-type {\n",
              "        vertical-align: middle;\n",
              "    }\n",
              "\n",
              "    .dataframe tbody tr th {\n",
              "        vertical-align: top;\n",
              "    }\n",
              "\n",
              "    .dataframe thead tr th {\n",
              "        text-align: left;\n",
              "    }\n",
              "\n",
              "    .dataframe thead tr:last-of-type th {\n",
              "        text-align: right;\n",
              "    }\n",
              "</style>\n",
              "<table border=\"1\" class=\"dataframe\">\n",
              "  <thead>\n",
              "    <tr>\n",
              "      <th></th>\n",
              "      <th>text_len</th>\n",
              "      <th>text_len_tokens</th>\n",
              "      <th>number_of_caps</th>\n",
              "      <th>number_of_nonalphanum</th>\n",
              "      <th>number_of_lows</th>\n",
              "      <th>number_of_digits</th>\n",
              "      <th>number_of_ascii</th>\n",
              "      <th>number_of_nonascii</th>\n",
              "      <th>number_of_punctuation</th>\n",
              "      <th>number_of_stops</th>\n",
              "    </tr>\n",
              "    <tr>\n",
              "      <th></th>\n",
              "      <th>mean</th>\n",
              "      <th>mean</th>\n",
              "      <th>mean</th>\n",
              "      <th>mean</th>\n",
              "      <th>mean</th>\n",
              "      <th>mean</th>\n",
              "      <th>mean</th>\n",
              "      <th>mean</th>\n",
              "      <th>mean</th>\n",
              "      <th>mean</th>\n",
              "    </tr>\n",
              "    <tr>\n",
              "      <th>threat</th>\n",
              "      <th></th>\n",
              "      <th></th>\n",
              "      <th></th>\n",
              "      <th></th>\n",
              "      <th></th>\n",
              "      <th></th>\n",
              "      <th></th>\n",
              "      <th></th>\n",
              "      <th></th>\n",
              "      <th></th>\n",
              "    </tr>\n",
              "  </thead>\n",
              "  <tbody>\n",
              "    <tr>\n",
              "      <th>0</th>\n",
              "      <td>391.241807</td>\n",
              "      <td>66.547128</td>\n",
              "      <td>17.149430</td>\n",
              "      <td>86.796312</td>\n",
              "      <td>283.283766</td>\n",
              "      <td>3.134856</td>\n",
              "      <td>389.665157</td>\n",
              "      <td>1.576649</td>\n",
              "      <td>16.686637</td>\n",
              "      <td>136.141282</td>\n",
              "    </tr>\n",
              "    <tr>\n",
              "      <th>1</th>\n",
              "      <td>316.910015</td>\n",
              "      <td>56.825835</td>\n",
              "      <td>89.866473</td>\n",
              "      <td>86.460087</td>\n",
              "      <td>139.383164</td>\n",
              "      <td>1.188679</td>\n",
              "      <td>316.448476</td>\n",
              "      <td>0.461538</td>\n",
              "      <td>25.809869</td>\n",
              "      <td>67.416546</td>\n",
              "    </tr>\n",
              "  </tbody>\n",
              "</table>\n",
              "</div>"
            ],
            "text/plain": [
              "          text_len text_len_tokens  ... number_of_punctuation number_of_stops\n",
              "              mean            mean  ...                  mean            mean\n",
              "threat                              ...                                      \n",
              "0       391.241807       66.547128  ...             16.686637      136.141282\n",
              "1       316.910015       56.825835  ...             25.809869       67.416546\n",
              "\n",
              "[2 rows x 10 columns]"
            ]
          },
          "metadata": {
            "tags": []
          },
          "execution_count": 21
        }
      ]
    },
    {
      "cell_type": "markdown",
      "metadata": {
        "id": "fs09jba7Scpb",
        "colab_type": "text"
      },
      "source": [
        "### Описание TBA"
      ]
    },
    {
      "cell_type": "markdown",
      "metadata": {
        "id": "bCL5bm8hSrBd",
        "colab_type": "text"
      },
      "source": [
        "### Insult/Non-insult"
      ]
    },
    {
      "cell_type": "code",
      "metadata": {
        "id": "6IHhN3H8SrMp",
        "colab_type": "code",
        "colab": {
          "base_uri": "https://localhost:8080/",
          "height": 207
        },
        "outputId": "77e4182a-78bc-40c4-9c40-e1fbd140a694"
      },
      "source": [
        "data.groupby('insult')['text_len', 'text_len_tokens', 'number_of_caps', 'number_of_nonalphanum', 'number_of_lows', 'number_of_digits', \n",
        "                      'number_of_ascii', 'number_of_nonascii', 'number_of_punctuation', 'number_of_stops'].agg(['mean'])"
      ],
      "execution_count": 23,
      "outputs": [
        {
          "output_type": "stream",
          "text": [
            "/usr/local/lib/python3.6/dist-packages/ipykernel_launcher.py:2: FutureWarning: Indexing with multiple keys (implicitly converted to a tuple of keys) will be deprecated, use a list instead.\n",
            "  \n"
          ],
          "name": "stderr"
        },
        {
          "output_type": "execute_result",
          "data": {
            "text/html": [
              "<div>\n",
              "<style scoped>\n",
              "    .dataframe tbody tr th:only-of-type {\n",
              "        vertical-align: middle;\n",
              "    }\n",
              "\n",
              "    .dataframe tbody tr th {\n",
              "        vertical-align: top;\n",
              "    }\n",
              "\n",
              "    .dataframe thead tr th {\n",
              "        text-align: left;\n",
              "    }\n",
              "\n",
              "    .dataframe thead tr:last-of-type th {\n",
              "        text-align: right;\n",
              "    }\n",
              "</style>\n",
              "<table border=\"1\" class=\"dataframe\">\n",
              "  <thead>\n",
              "    <tr>\n",
              "      <th></th>\n",
              "      <th>text_len</th>\n",
              "      <th>text_len_tokens</th>\n",
              "      <th>number_of_caps</th>\n",
              "      <th>number_of_nonalphanum</th>\n",
              "      <th>number_of_lows</th>\n",
              "      <th>number_of_digits</th>\n",
              "      <th>number_of_ascii</th>\n",
              "      <th>number_of_nonascii</th>\n",
              "      <th>number_of_punctuation</th>\n",
              "      <th>number_of_stops</th>\n",
              "    </tr>\n",
              "    <tr>\n",
              "      <th></th>\n",
              "      <th>mean</th>\n",
              "      <th>mean</th>\n",
              "      <th>mean</th>\n",
              "      <th>mean</th>\n",
              "      <th>mean</th>\n",
              "      <th>mean</th>\n",
              "      <th>mean</th>\n",
              "      <th>mean</th>\n",
              "      <th>mean</th>\n",
              "      <th>mean</th>\n",
              "    </tr>\n",
              "    <tr>\n",
              "      <th>insult</th>\n",
              "      <th></th>\n",
              "      <th></th>\n",
              "      <th></th>\n",
              "      <th></th>\n",
              "      <th></th>\n",
              "      <th></th>\n",
              "      <th></th>\n",
              "      <th></th>\n",
              "      <th></th>\n",
              "      <th></th>\n",
              "    </tr>\n",
              "  </thead>\n",
              "  <tbody>\n",
              "    <tr>\n",
              "      <th>0</th>\n",
              "      <td>397.340234</td>\n",
              "      <td>67.544536</td>\n",
              "      <td>15.573931</td>\n",
              "      <td>88.053302</td>\n",
              "      <td>289.597522</td>\n",
              "      <td>3.194615</td>\n",
              "      <td>395.690669</td>\n",
              "      <td>1.649565</td>\n",
              "      <td>16.879710</td>\n",
              "      <td>139.233245</td>\n",
              "    </tr>\n",
              "    <tr>\n",
              "      <th>1</th>\n",
              "      <td>272.206476</td>\n",
              "      <td>47.227176</td>\n",
              "      <td>51.163393</td>\n",
              "      <td>63.174452</td>\n",
              "      <td>155.965057</td>\n",
              "      <td>1.894197</td>\n",
              "      <td>272.066879</td>\n",
              "      <td>0.139597</td>\n",
              "      <td>13.617569</td>\n",
              "      <td>73.897381</td>\n",
              "    </tr>\n",
              "  </tbody>\n",
              "</table>\n",
              "</div>"
            ],
            "text/plain": [
              "          text_len text_len_tokens  ... number_of_punctuation number_of_stops\n",
              "              mean            mean  ...                  mean            mean\n",
              "insult                              ...                                      \n",
              "0       397.340234       67.544536  ...             16.879710      139.233245\n",
              "1       272.206476       47.227176  ...             13.617569       73.897381\n",
              "\n",
              "[2 rows x 10 columns]"
            ]
          },
          "metadata": {
            "tags": []
          },
          "execution_count": 23
        }
      ]
    },
    {
      "cell_type": "markdown",
      "metadata": {
        "id": "K_PX3EINSrb0",
        "colab_type": "text"
      },
      "source": [
        "### Описание TBA"
      ]
    },
    {
      "cell_type": "markdown",
      "metadata": {
        "id": "tThoJsZaTAku",
        "colab_type": "text"
      },
      "source": [
        "### Identity_hate/Non-identity_hate"
      ]
    },
    {
      "cell_type": "code",
      "metadata": {
        "id": "WV6Yml-rTA1D",
        "colab_type": "code",
        "colab": {
          "base_uri": "https://localhost:8080/",
          "height": 207
        },
        "outputId": "df133da4-0afd-4141-ac32-959a77995ee6"
      },
      "source": [
        "data.groupby('identity_hate')['text_len', 'text_len_tokens', 'number_of_caps', 'number_of_nonalphanum', 'number_of_lows', 'number_of_digits', \n",
        "                      'number_of_ascii', 'number_of_nonascii', 'number_of_punctuation', 'number_of_stops'].agg(['mean'])"
      ],
      "execution_count": 24,
      "outputs": [
        {
          "output_type": "stream",
          "text": [
            "/usr/local/lib/python3.6/dist-packages/ipykernel_launcher.py:2: FutureWarning: Indexing with multiple keys (implicitly converted to a tuple of keys) will be deprecated, use a list instead.\n",
            "  \n"
          ],
          "name": "stderr"
        },
        {
          "output_type": "execute_result",
          "data": {
            "text/html": [
              "<div>\n",
              "<style scoped>\n",
              "    .dataframe tbody tr th:only-of-type {\n",
              "        vertical-align: middle;\n",
              "    }\n",
              "\n",
              "    .dataframe tbody tr th {\n",
              "        vertical-align: top;\n",
              "    }\n",
              "\n",
              "    .dataframe thead tr th {\n",
              "        text-align: left;\n",
              "    }\n",
              "\n",
              "    .dataframe thead tr:last-of-type th {\n",
              "        text-align: right;\n",
              "    }\n",
              "</style>\n",
              "<table border=\"1\" class=\"dataframe\">\n",
              "  <thead>\n",
              "    <tr>\n",
              "      <th></th>\n",
              "      <th>text_len</th>\n",
              "      <th>text_len_tokens</th>\n",
              "      <th>number_of_caps</th>\n",
              "      <th>number_of_nonalphanum</th>\n",
              "      <th>number_of_lows</th>\n",
              "      <th>number_of_digits</th>\n",
              "      <th>number_of_ascii</th>\n",
              "      <th>number_of_nonascii</th>\n",
              "      <th>number_of_punctuation</th>\n",
              "      <th>number_of_stops</th>\n",
              "    </tr>\n",
              "    <tr>\n",
              "      <th></th>\n",
              "      <th>mean</th>\n",
              "      <th>mean</th>\n",
              "      <th>mean</th>\n",
              "      <th>mean</th>\n",
              "      <th>mean</th>\n",
              "      <th>mean</th>\n",
              "      <th>mean</th>\n",
              "      <th>mean</th>\n",
              "      <th>mean</th>\n",
              "      <th>mean</th>\n",
              "    </tr>\n",
              "    <tr>\n",
              "      <th>identity_hate</th>\n",
              "      <th></th>\n",
              "      <th></th>\n",
              "      <th></th>\n",
              "      <th></th>\n",
              "      <th></th>\n",
              "      <th></th>\n",
              "      <th></th>\n",
              "      <th></th>\n",
              "      <th></th>\n",
              "      <th></th>\n",
              "    </tr>\n",
              "  </thead>\n",
              "  <tbody>\n",
              "    <tr>\n",
              "      <th>0</th>\n",
              "      <td>391.744793</td>\n",
              "      <td>66.651428</td>\n",
              "      <td>16.774599</td>\n",
              "      <td>86.960259</td>\n",
              "      <td>283.989184</td>\n",
              "      <td>3.137812</td>\n",
              "      <td>390.158234</td>\n",
              "      <td>1.586559</td>\n",
              "      <td>16.740187</td>\n",
              "      <td>136.492779</td>\n",
              "    </tr>\n",
              "    <tr>\n",
              "      <th>1</th>\n",
              "      <td>314.438829</td>\n",
              "      <td>52.473784</td>\n",
              "      <td>80.022201</td>\n",
              "      <td>69.538498</td>\n",
              "      <td>162.665092</td>\n",
              "      <td>2.192253</td>\n",
              "      <td>314.261691</td>\n",
              "      <td>0.177137</td>\n",
              "      <td>14.054795</td>\n",
              "      <td>77.008503</td>\n",
              "    </tr>\n",
              "  </tbody>\n",
              "</table>\n",
              "</div>"
            ],
            "text/plain": [
              "                 text_len text_len_tokens  ... number_of_punctuation number_of_stops\n",
              "                     mean            mean  ...                  mean            mean\n",
              "identity_hate                              ...                                      \n",
              "0              391.744793       66.651428  ...             16.740187      136.492779\n",
              "1              314.438829       52.473784  ...             14.054795       77.008503\n",
              "\n",
              "[2 rows x 10 columns]"
            ]
          },
          "metadata": {
            "tags": []
          },
          "execution_count": 24
        }
      ]
    },
    {
      "cell_type": "markdown",
      "metadata": {
        "id": "B141c7MdTBCD",
        "colab_type": "text"
      },
      "source": [
        "### Описание TBA"
      ]
    },
    {
      "cell_type": "markdown",
      "metadata": {
        "id": "R9TVfOYR0Xs5",
        "colab_type": "text"
      },
      "source": [
        "### 2. Бейзлайн модель из sklearn (векторайзер + модель) с отбором признаков (через l1 регуляризацию, на глаз через анализ важных параметров или через permutation importance) - 2 балл"
      ]
    },
    {
      "cell_type": "code",
      "metadata": {
        "id": "d2gwR4gt3zx7",
        "colab_type": "code",
        "colab": {}
      },
      "source": [
        "X = data['comment_text']\n",
        "y = data['toxic']"
      ],
      "execution_count": null,
      "outputs": []
    },
    {
      "cell_type": "code",
      "metadata": {
        "id": "IPvLM4wmyJo6",
        "colab_type": "code",
        "colab": {}
      },
      "source": [
        "X_train, X_test, y_train, y_test = train_test_split(X, y, test_size=0.33, random_state=42)"
      ],
      "execution_count": null,
      "outputs": []
    },
    {
      "cell_type": "code",
      "metadata": {
        "id": "vMb6eTyd4vyh",
        "colab_type": "code",
        "colab": {}
      },
      "source": [
        "count_vect = CountVectorizer()"
      ],
      "execution_count": null,
      "outputs": []
    },
    {
      "cell_type": "code",
      "metadata": {
        "id": "aCHukUg84zql",
        "colab_type": "code",
        "colab": {
          "base_uri": "https://localhost:8080/",
          "height": 34
        },
        "outputId": "a1cd043d-bef7-47e6-ae12-f9dc1377cc38"
      },
      "source": [
        "X_train = count_vect.fit_transform(X_train)\n",
        "X_train.shape"
      ],
      "execution_count": null,
      "outputs": [
        {
          "output_type": "execute_result",
          "data": {
            "text/plain": [
              "(149777, 207901)"
            ]
          },
          "metadata": {
            "tags": []
          },
          "execution_count": 8
        }
      ]
    },
    {
      "cell_type": "code",
      "metadata": {
        "id": "yajKEe705QDb",
        "colab_type": "code",
        "colab": {
          "base_uri": "https://localhost:8080/",
          "height": 34
        },
        "outputId": "2c268b4f-7f7c-4edd-eebc-db5f9b696a1f"
      },
      "source": [
        "X_test = count_vect.transform(X_test)\n",
        "X_test.shape"
      ],
      "execution_count": null,
      "outputs": [
        {
          "output_type": "execute_result",
          "data": {
            "text/plain": [
              "(73772, 207901)"
            ]
          },
          "metadata": {
            "tags": []
          },
          "execution_count": 9
        }
      ]
    },
    {
      "cell_type": "code",
      "metadata": {
        "id": "mmsx7fQf5tKZ",
        "colab_type": "code",
        "colab": {
          "base_uri": "https://localhost:8080/",
          "height": 153
        },
        "outputId": "98f134e6-54fd-47cb-9632-854f39269448"
      },
      "source": [
        "clf = LogisticRegression().fit(X_train, y_train)"
      ],
      "execution_count": null,
      "outputs": [
        {
          "output_type": "stream",
          "text": [
            "/usr/local/lib/python3.6/dist-packages/sklearn/linear_model/_logistic.py:940: ConvergenceWarning: lbfgs failed to converge (status=1):\n",
            "STOP: TOTAL NO. of ITERATIONS REACHED LIMIT.\n",
            "\n",
            "Increase the number of iterations (max_iter) or scale the data as shown in:\n",
            "    https://scikit-learn.org/stable/modules/preprocessing.html\n",
            "Please also refer to the documentation for alternative solver options:\n",
            "    https://scikit-learn.org/stable/modules/linear_model.html#logistic-regression\n",
            "  extra_warning_msg=_LOGISTIC_SOLVER_CONVERGENCE_MSG)\n"
          ],
          "name": "stderr"
        }
      ]
    },
    {
      "cell_type": "code",
      "metadata": {
        "id": "YUMX-Hv26p97",
        "colab_type": "code",
        "colab": {}
      },
      "source": [
        "y_pred = clf.predict(X_test)"
      ],
      "execution_count": null,
      "outputs": []
    },
    {
      "cell_type": "code",
      "metadata": {
        "id": "hTz_FEH09KR4",
        "colab_type": "code",
        "colab": {
          "base_uri": "https://localhost:8080/",
          "height": 170
        },
        "outputId": "bd8fe70f-5f0f-4507-f35f-cc5c3e62b8b2"
      },
      "source": [
        "print(classification_report(y_test, y_pred))"
      ],
      "execution_count": null,
      "outputs": [
        {
          "output_type": "stream",
          "text": [
            "              precision    recall  f1-score   support\n",
            "\n",
            "           0       0.96      0.98      0.97     66765\n",
            "           1       0.80      0.62      0.70      7007\n",
            "\n",
            "    accuracy                           0.95     73772\n",
            "   macro avg       0.88      0.80      0.83     73772\n",
            "weighted avg       0.95      0.95      0.95     73772\n",
            "\n"
          ],
          "name": "stdout"
        }
      ]
    },
    {
      "cell_type": "code",
      "metadata": {
        "id": "MNxsffzU-QZY",
        "colab_type": "code",
        "colab": {
          "base_uri": "https://localhost:8080/",
          "height": 295
        },
        "outputId": "dc9e5c7a-2284-4835-c151-725bd4004cb1"
      },
      "source": [
        "logit_roc_auc = roc_auc_score(y_test, clf.predict(X_test))\n",
        "fpr, tpr, thresholds = roc_curve(y_test, clf.predict_proba(X_test)[:,1])\n",
        "plt.figure()\n",
        "plt.plot(fpr, tpr, label='Logistic Regression (area = %0.2f)' % logit_roc_auc)\n",
        "plt.plot([0, 1], [0, 1],'r--')\n",
        "plt.xlim([0.0, 1.0])\n",
        "plt.ylim([0.0, 1.05])\n",
        "plt.xlabel('False Positive Rate')\n",
        "plt.ylabel('True Positive Rate')\n",
        "plt.title('Receiver operating characteristic')\n",
        "plt.legend(loc=\"lower right\")\n",
        "plt.show()"
      ],
      "execution_count": null,
      "outputs": [
        {
          "output_type": "display_data",
          "data": {
            "image/png": "[encoded data removed]",
            "text/plain": [
              "<Figure size 432x288 with 1 Axes>"
            ]
          },
          "metadata": {
            "tags": [],
            "needs_background": "light"
          }
        }
      ]
    },
    {
      "cell_type": "markdown",
      "metadata": {
        "id": "SRnXWT4Y0zFQ",
        "colab_type": "text"
      },
      "source": [
        "### 3. "
      ]
    },
    {
      "cell_type": "code",
      "metadata": {
        "id": "rrIDwDov1Djl",
        "colab_type": "code",
        "colab": {}
      },
      "source": [
        ""
      ],
      "execution_count": null,
      "outputs": []
    }
  ]
}