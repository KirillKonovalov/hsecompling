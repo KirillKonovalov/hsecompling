{
  "nbformat": 4,
  "nbformat_minor": 0,
  "metadata": {
    "colab": {
      "name": "exam.ipynb",
      "provenance": [],
      "collapsed_sections": [],
      "authorship_tag": "ABX9TyPGx+5BF6wYGjaeKfDKMrmJ"
    },
    "kernelspec": {
      "name": "python3",
      "display_name": "Python 3"
    }
  },
  "cells": [
    {
      "cell_type": "code",
      "metadata": {
        "id": "UYTDLDB3DqQ2",
        "colab_type": "code",
        "colab": {
          "base_uri": "https://localhost:8080/",
          "height": 204
        },
        "outputId": "927add70-fbaa-4dbb-e29e-21dc3379af9a"
      },
      "source": [
        "!pip install eli5"
      ],
      "execution_count": 1,
      "outputs": [
        {
          "output_type": "stream",
          "text": [
            "Requirement already satisfied: eli5 in /usr/local/lib/python3.6/dist-packages (0.10.1)\n",
            "Requirement already satisfied: six in /usr/local/lib/python3.6/dist-packages (from eli5) (1.12.0)\n",
            "Requirement already satisfied: numpy>=1.9.0 in /usr/local/lib/python3.6/dist-packages (from eli5) (1.18.5)\n",
            "Requirement already satisfied: graphviz in /usr/local/lib/python3.6/dist-packages (from eli5) (0.10.1)\n",
            "Requirement already satisfied: scipy in /usr/local/lib/python3.6/dist-packages (from eli5) (1.4.1)\n",
            "Requirement already satisfied: tabulate>=0.7.7 in /usr/local/lib/python3.6/dist-packages (from eli5) (0.8.7)\n",
            "Requirement already satisfied: scikit-learn>=0.18 in /usr/local/lib/python3.6/dist-packages (from eli5) (0.22.2.post1)\n",
            "Requirement already satisfied: attrs>16.0.0 in /usr/local/lib/python3.6/dist-packages (from eli5) (19.3.0)\n",
            "Requirement already satisfied: jinja2 in /usr/local/lib/python3.6/dist-packages (from eli5) (2.11.2)\n",
            "Requirement already satisfied: joblib>=0.11 in /usr/local/lib/python3.6/dist-packages (from scikit-learn>=0.18->eli5) (0.15.1)\n",
            "Requirement already satisfied: MarkupSafe>=0.23 in /usr/local/lib/python3.6/dist-packages (from jinja2->eli5) (1.1.1)\n"
          ],
          "name": "stdout"
        }
      ]
    },
    {
      "cell_type": "code",
      "metadata": {
        "id": "bUj5MOh6RuVF",
        "colab_type": "code",
        "colab": {
          "base_uri": "https://localhost:8080/",
          "height": 68
        },
        "outputId": "6082acd4-2f8c-4a47-edd3-c1c52d146c13"
      },
      "source": [
        "import nltk\n",
        "nltk.download('stopwords')"
      ],
      "execution_count": 2,
      "outputs": [
        {
          "output_type": "stream",
          "text": [
            "[nltk_data] Downloading package stopwords to /root/nltk_data...\n",
            "[nltk_data]   Package stopwords is already up-to-date!\n"
          ],
          "name": "stdout"
        },
        {
          "output_type": "execute_result",
          "data": {
            "text/plain": [
              "True"
            ]
          },
          "metadata": {
            "tags": []
          },
          "execution_count": 2
        }
      ]
    },
    {
      "cell_type": "code",
      "metadata": {
        "id": "5aZd2C5NqbCR",
        "colab_type": "code",
        "colab": {}
      },
      "source": [
        "import pandas as pd\n",
        "from sklearn.feature_extraction.text import CountVectorizer\n",
        "from sklearn.model_selection import train_test_split, cross_val_score, GridSearchCV\n",
        "from sklearn.linear_model import SGDClassifier\n",
        "from sklearn.metrics import classification_report\n",
        "import eli5\n",
        "from eli5.sklearn import PermutationImportance\n",
        "from nltk.corpus import stopwords\n",
        "from string import punctuation"
      ],
      "execution_count": 21,
      "outputs": []
    },
    {
      "cell_type": "code",
      "metadata": {
        "id": "b4_mRAqZvya9",
        "colab_type": "code",
        "colab": {
          "base_uri": "https://localhost:8080/",
          "height": 51
        },
        "outputId": "a00a0ecd-1594-4eb8-e1e5-f1f5bd3b9e47"
      },
      "source": [
        "from google.colab import drive \n",
        "drive.mount('/gdrive')\n",
        "%cd /gdrive"
      ],
      "execution_count": 4,
      "outputs": [
        {
          "output_type": "stream",
          "text": [
            "Drive already mounted at /gdrive; to attempt to forcibly remount, call drive.mount(\"/gdrive\", force_remount=True).\n",
            "/gdrive\n"
          ],
          "name": "stdout"
        }
      ]
    },
    {
      "cell_type": "code",
      "metadata": {
        "id": "dy0f5R_GxBFK",
        "colab_type": "code",
        "colab": {}
      },
      "source": [
        "data = pd.read_csv('/gdrive/My Drive/exam/jigsaw-toxic-comment-train.csv.zip')"
      ],
      "execution_count": 5,
      "outputs": []
    },
    {
      "cell_type": "markdown",
      "metadata": {
        "id": "fSDK50e-sSu8",
        "colab_type": "text"
      },
      "source": [
        "## 1. Описательный анализ данных с привязкой к целевой переменной (toxic) и 2 другим дополнительным колонкам (как минимум 5 статистик на каждую группу) - 1.5 балл"
      ]
    },
    {
      "cell_type": "code",
      "metadata": {
        "id": "hVgTHTVQrG0k",
        "colab_type": "code",
        "colab": {
          "base_uri": "https://localhost:8080/",
          "height": 359
        },
        "outputId": "b5b661f4-2ca7-4624-f4c4-d3a63181e416"
      },
      "source": [
        "data.head(10)"
      ],
      "execution_count": 6,
      "outputs": [
        {
          "output_type": "execute_result",
          "data": {
            "text/html": [
              "<div>\n",
              "<style scoped>\n",
              "    .dataframe tbody tr th:only-of-type {\n",
              "        vertical-align: middle;\n",
              "    }\n",
              "\n",
              "    .dataframe tbody tr th {\n",
              "        vertical-align: top;\n",
              "    }\n",
              "\n",
              "    .dataframe thead th {\n",
              "        text-align: right;\n",
              "    }\n",
              "</style>\n",
              "<table border=\"1\" class=\"dataframe\">\n",
              "  <thead>\n",
              "    <tr style=\"text-align: right;\">\n",
              "      <th></th>\n",
              "      <th>id</th>\n",
              "      <th>comment_text</th>\n",
              "      <th>toxic</th>\n",
              "      <th>severe_toxic</th>\n",
              "      <th>obscene</th>\n",
              "      <th>threat</th>\n",
              "      <th>insult</th>\n",
              "      <th>identity_hate</th>\n",
              "    </tr>\n",
              "  </thead>\n",
              "  <tbody>\n",
              "    <tr>\n",
              "      <th>0</th>\n",
              "      <td>0000997932d777bf</td>\n",
              "      <td>Explanation\\nWhy the edits made under my usern...</td>\n",
              "      <td>0</td>\n",
              "      <td>0</td>\n",
              "      <td>0</td>\n",
              "      <td>0</td>\n",
              "      <td>0</td>\n",
              "      <td>0</td>\n",
              "    </tr>\n",
              "    <tr>\n",
              "      <th>1</th>\n",
              "      <td>000103f0d9cfb60f</td>\n",
              "      <td>D'aww! He matches this background colour I'm s...</td>\n",
              "      <td>0</td>\n",
              "      <td>0</td>\n",
              "      <td>0</td>\n",
              "      <td>0</td>\n",
              "      <td>0</td>\n",
              "      <td>0</td>\n",
              "    </tr>\n",
              "    <tr>\n",
              "      <th>2</th>\n",
              "      <td>000113f07ec002fd</td>\n",
              "      <td>Hey man, I'm really not trying to edit war. It...</td>\n",
              "      <td>0</td>\n",
              "      <td>0</td>\n",
              "      <td>0</td>\n",
              "      <td>0</td>\n",
              "      <td>0</td>\n",
              "      <td>0</td>\n",
              "    </tr>\n",
              "    <tr>\n",
              "      <th>3</th>\n",
              "      <td>0001b41b1c6bb37e</td>\n",
              "      <td>\"\\nMore\\nI can't make any real suggestions on ...</td>\n",
              "      <td>0</td>\n",
              "      <td>0</td>\n",
              "      <td>0</td>\n",
              "      <td>0</td>\n",
              "      <td>0</td>\n",
              "      <td>0</td>\n",
              "    </tr>\n",
              "    <tr>\n",
              "      <th>4</th>\n",
              "      <td>0001d958c54c6e35</td>\n",
              "      <td>You, sir, are my hero. Any chance you remember...</td>\n",
              "      <td>0</td>\n",
              "      <td>0</td>\n",
              "      <td>0</td>\n",
              "      <td>0</td>\n",
              "      <td>0</td>\n",
              "      <td>0</td>\n",
              "    </tr>\n",
              "    <tr>\n",
              "      <th>5</th>\n",
              "      <td>00025465d4725e87</td>\n",
              "      <td>\"\\n\\nCongratulations from me as well, use the ...</td>\n",
              "      <td>0</td>\n",
              "      <td>0</td>\n",
              "      <td>0</td>\n",
              "      <td>0</td>\n",
              "      <td>0</td>\n",
              "      <td>0</td>\n",
              "    </tr>\n",
              "    <tr>\n",
              "      <th>6</th>\n",
              "      <td>0002bcb3da6cb337</td>\n",
              "      <td>COCKSUCKER BEFORE YOU PISS AROUND ON MY WORK</td>\n",
              "      <td>1</td>\n",
              "      <td>1</td>\n",
              "      <td>1</td>\n",
              "      <td>0</td>\n",
              "      <td>1</td>\n",
              "      <td>0</td>\n",
              "    </tr>\n",
              "    <tr>\n",
              "      <th>7</th>\n",
              "      <td>00031b1e95af7921</td>\n",
              "      <td>Your vandalism to the Matt Shirvington article...</td>\n",
              "      <td>0</td>\n",
              "      <td>0</td>\n",
              "      <td>0</td>\n",
              "      <td>0</td>\n",
              "      <td>0</td>\n",
              "      <td>0</td>\n",
              "    </tr>\n",
              "    <tr>\n",
              "      <th>8</th>\n",
              "      <td>00037261f536c51d</td>\n",
              "      <td>Sorry if the word 'nonsense' was offensive to ...</td>\n",
              "      <td>0</td>\n",
              "      <td>0</td>\n",
              "      <td>0</td>\n",
              "      <td>0</td>\n",
              "      <td>0</td>\n",
              "      <td>0</td>\n",
              "    </tr>\n",
              "    <tr>\n",
              "      <th>9</th>\n",
              "      <td>00040093b2687caa</td>\n",
              "      <td>alignment on this subject and which are contra...</td>\n",
              "      <td>0</td>\n",
              "      <td>0</td>\n",
              "      <td>0</td>\n",
              "      <td>0</td>\n",
              "      <td>0</td>\n",
              "      <td>0</td>\n",
              "    </tr>\n",
              "  </tbody>\n",
              "</table>\n",
              "</div>"
            ],
            "text/plain": [
              "                 id  ... identity_hate\n",
              "0  0000997932d777bf  ...             0\n",
              "1  000103f0d9cfb60f  ...             0\n",
              "2  000113f07ec002fd  ...             0\n",
              "3  0001b41b1c6bb37e  ...             0\n",
              "4  0001d958c54c6e35  ...             0\n",
              "5  00025465d4725e87  ...             0\n",
              "6  0002bcb3da6cb337  ...             0\n",
              "7  00031b1e95af7921  ...             0\n",
              "8  00037261f536c51d  ...             0\n",
              "9  00040093b2687caa  ...             0\n",
              "\n",
              "[10 rows x 8 columns]"
            ]
          },
          "metadata": {
            "tags": []
          },
          "execution_count": 6
        }
      ]
    },
    {
      "cell_type": "code",
      "metadata": {
        "id": "fUub4b3eIkqK",
        "colab_type": "code",
        "colab": {
          "base_uri": "https://localhost:8080/",
          "height": 34
        },
        "outputId": "88c16c8e-0e8c-4a9c-f72f-934f23e16205"
      },
      "source": [
        "data.shape"
      ],
      "execution_count": 7,
      "outputs": [
        {
          "output_type": "execute_result",
          "data": {
            "text/plain": [
              "(223549, 8)"
            ]
          },
          "metadata": {
            "tags": []
          },
          "execution_count": 7
        }
      ]
    },
    {
      "cell_type": "code",
      "metadata": {
        "id": "Ykvhzn2CP_e2",
        "colab_type": "code",
        "colab": {}
      },
      "source": [
        "def is_ascii(s):\n",
        "    return all(ord(c) < 128 for c in s)"
      ],
      "execution_count": 8,
      "outputs": []
    },
    {
      "cell_type": "code",
      "metadata": {
        "id": "f6Z4bsJ_QDsf",
        "colab_type": "code",
        "colab": {}
      },
      "source": [
        "stops = stopwords.words('english')"
      ],
      "execution_count": 9,
      "outputs": []
    },
    {
      "cell_type": "code",
      "metadata": {
        "id": "GA0ESYCPMFrI",
        "colab_type": "code",
        "colab": {}
      },
      "source": [
        "data['text_len'] = data['comment_text'].apply(len) #длина текста\n",
        "data['text_len_tokens'] = data['comment_text'].apply(lambda x: len(x.split())) #количество токенов\n",
        "data['number_of_caps'] = data['comment_text'].apply(lambda x: len([ch for ch in x if ch.isupper()])) #количество слов с заглавной буквы\n",
        "data['number_of_nonalphanum'] = data['comment_text'].apply(lambda x: len([ch for ch in x if not ch.isalnum()])) #количество  не буквенно-цифровых символов\n",
        "data['number_of_lows'] = data['comment_text'].apply(lambda x: len([ch for ch in x if ch.islower()])) #количество строчных букв\n",
        "data['number_of_digits'] = data['comment_text'].apply(lambda x: len([ch for ch in x if ch.isdigit()])) #количество цифр\n",
        "data['number_of_ascii'] = data['comment_text'].apply(lambda x: len([ch for ch in x if is_ascii(ch)])) #количество ascii символов\n",
        "data['number_of_nonascii'] = data['comment_text'].apply(lambda x: len([ch for ch in x if not is_ascii(ch)])) #количество non-ascii символов\n",
        "data['number_of_punctuation'] = data['comment_text'].apply(lambda x: len([ch for ch in x if ch in punctuation])) #количество знаков пунктуации\n",
        "data['number_of_stops'] = data['comment_text'].apply(lambda x: len([ch for ch in x if ch in stops])) #количество стоп-слов"
      ],
      "execution_count": 10,
      "outputs": []
    },
    {
      "cell_type": "code",
      "metadata": {
        "id": "6gQrAt86SL6G",
        "colab_type": "code",
        "colab": {
          "base_uri": "https://localhost:8080/",
          "height": 281
        },
        "outputId": "c2a3bfb8-897d-4a50-bda5-439ba52731b8"
      },
      "source": [
        "data.head(3)"
      ],
      "execution_count": 11,
      "outputs": [
        {
          "output_type": "execute_result",
          "data": {
            "text/html": [
              "<div>\n",
              "<style scoped>\n",
              "    .dataframe tbody tr th:only-of-type {\n",
              "        vertical-align: middle;\n",
              "    }\n",
              "\n",
              "    .dataframe tbody tr th {\n",
              "        vertical-align: top;\n",
              "    }\n",
              "\n",
              "    .dataframe thead th {\n",
              "        text-align: right;\n",
              "    }\n",
              "</style>\n",
              "<table border=\"1\" class=\"dataframe\">\n",
              "  <thead>\n",
              "    <tr style=\"text-align: right;\">\n",
              "      <th></th>\n",
              "      <th>id</th>\n",
              "      <th>comment_text</th>\n",
              "      <th>toxic</th>\n",
              "      <th>severe_toxic</th>\n",
              "      <th>obscene</th>\n",
              "      <th>threat</th>\n",
              "      <th>insult</th>\n",
              "      <th>identity_hate</th>\n",
              "      <th>text_len</th>\n",
              "      <th>text_len_tokens</th>\n",
              "      <th>number_of_caps</th>\n",
              "      <th>number_of_nonalphanum</th>\n",
              "      <th>number_of_lows</th>\n",
              "      <th>number_of_digits</th>\n",
              "      <th>number_of_ascii</th>\n",
              "      <th>number_of_nonascii</th>\n",
              "      <th>number_of_punctuation</th>\n",
              "      <th>number_of_stops</th>\n",
              "    </tr>\n",
              "  </thead>\n",
              "  <tbody>\n",
              "    <tr>\n",
              "      <th>0</th>\n",
              "      <td>0000997932d777bf</td>\n",
              "      <td>Explanation\\nWhy the edits made under my usern...</td>\n",
              "      <td>0</td>\n",
              "      <td>0</td>\n",
              "      <td>0</td>\n",
              "      <td>0</td>\n",
              "      <td>0</td>\n",
              "      <td>0</td>\n",
              "      <td>264</td>\n",
              "      <td>43</td>\n",
              "      <td>17</td>\n",
              "      <td>52</td>\n",
              "      <td>186</td>\n",
              "      <td>9</td>\n",
              "      <td>264</td>\n",
              "      <td>0</td>\n",
              "      <td>10</td>\n",
              "      <td>84</td>\n",
              "    </tr>\n",
              "    <tr>\n",
              "      <th>1</th>\n",
              "      <td>000103f0d9cfb60f</td>\n",
              "      <td>D'aww! He matches this background colour I'm s...</td>\n",
              "      <td>0</td>\n",
              "      <td>0</td>\n",
              "      <td>0</td>\n",
              "      <td>0</td>\n",
              "      <td>0</td>\n",
              "      <td>0</td>\n",
              "      <td>112</td>\n",
              "      <td>17</td>\n",
              "      <td>8</td>\n",
              "      <td>29</td>\n",
              "      <td>65</td>\n",
              "      <td>10</td>\n",
              "      <td>112</td>\n",
              "      <td>0</td>\n",
              "      <td>12</td>\n",
              "      <td>29</td>\n",
              "    </tr>\n",
              "    <tr>\n",
              "      <th>2</th>\n",
              "      <td>000113f07ec002fd</td>\n",
              "      <td>Hey man, I'm really not trying to edit war. It...</td>\n",
              "      <td>0</td>\n",
              "      <td>0</td>\n",
              "      <td>0</td>\n",
              "      <td>0</td>\n",
              "      <td>0</td>\n",
              "      <td>0</td>\n",
              "      <td>233</td>\n",
              "      <td>42</td>\n",
              "      <td>4</td>\n",
              "      <td>47</td>\n",
              "      <td>182</td>\n",
              "      <td>0</td>\n",
              "      <td>233</td>\n",
              "      <td>0</td>\n",
              "      <td>6</td>\n",
              "      <td>99</td>\n",
              "    </tr>\n",
              "  </tbody>\n",
              "</table>\n",
              "</div>"
            ],
            "text/plain": [
              "                 id  ... number_of_stops\n",
              "0  0000997932d777bf  ...              84\n",
              "1  000103f0d9cfb60f  ...              29\n",
              "2  000113f07ec002fd  ...              99\n",
              "\n",
              "[3 rows x 18 columns]"
            ]
          },
          "metadata": {
            "tags": []
          },
          "execution_count": 11
        }
      ]
    },
    {
      "cell_type": "markdown",
      "metadata": {
        "id": "U0AxvX6XXbeQ",
        "colab_type": "text"
      },
      "source": [
        "### Toxic/Non-toxic"
      ]
    },
    {
      "cell_type": "code",
      "metadata": {
        "id": "6pZtJvZgWNGZ",
        "colab_type": "code",
        "colab": {
          "base_uri": "https://localhost:8080/",
          "height": 227
        },
        "outputId": "a3ea7fe3-d49c-418e-8f53-a28e4990e521"
      },
      "source": [
        "data.groupby('toxic')['text_len', 'text_len_tokens', 'number_of_caps', 'number_of_nonalphanum', 'number_of_lows', 'number_of_digits', \n",
        "                      'number_of_ascii', 'number_of_nonascii', 'number_of_punctuation', 'number_of_stops'].agg(['mean'])"
      ],
      "execution_count": 13,
      "outputs": [
        {
          "output_type": "stream",
          "text": [
            "/usr/local/lib/python3.6/dist-packages/ipykernel_launcher.py:2: FutureWarning: Indexing with multiple keys (implicitly converted to a tuple of keys) will be deprecated, use a list instead.\n",
            "  \n"
          ],
          "name": "stderr"
        },
        {
          "output_type": "execute_result",
          "data": {
            "text/html": [
              "<div>\n",
              "<style scoped>\n",
              "    .dataframe tbody tr th:only-of-type {\n",
              "        vertical-align: middle;\n",
              "    }\n",
              "\n",
              "    .dataframe tbody tr th {\n",
              "        vertical-align: top;\n",
              "    }\n",
              "\n",
              "    .dataframe thead tr th {\n",
              "        text-align: left;\n",
              "    }\n",
              "\n",
              "    .dataframe thead tr:last-of-type th {\n",
              "        text-align: right;\n",
              "    }\n",
              "</style>\n",
              "<table border=\"1\" class=\"dataframe\">\n",
              "  <thead>\n",
              "    <tr>\n",
              "      <th></th>\n",
              "      <th>text_len</th>\n",
              "      <th>text_len_tokens</th>\n",
              "      <th>number_of_caps</th>\n",
              "      <th>number_of_nonalphanum</th>\n",
              "      <th>number_of_lows</th>\n",
              "      <th>number_of_digits</th>\n",
              "      <th>number_of_ascii</th>\n",
              "      <th>number_of_nonascii</th>\n",
              "      <th>number_of_punctuation</th>\n",
              "      <th>number_of_stops</th>\n",
              "    </tr>\n",
              "    <tr>\n",
              "      <th></th>\n",
              "      <th>mean</th>\n",
              "      <th>mean</th>\n",
              "      <th>mean</th>\n",
              "      <th>mean</th>\n",
              "      <th>mean</th>\n",
              "      <th>mean</th>\n",
              "      <th>mean</th>\n",
              "      <th>mean</th>\n",
              "      <th>mean</th>\n",
              "      <th>mean</th>\n",
              "    </tr>\n",
              "    <tr>\n",
              "      <th>toxic</th>\n",
              "      <th></th>\n",
              "      <th></th>\n",
              "      <th></th>\n",
              "      <th></th>\n",
              "      <th></th>\n",
              "      <th></th>\n",
              "      <th></th>\n",
              "      <th></th>\n",
              "      <th></th>\n",
              "      <th></th>\n",
              "    </tr>\n",
              "  </thead>\n",
              "  <tbody>\n",
              "    <tr>\n",
              "      <th>0</th>\n",
              "      <td>402.691178</td>\n",
              "      <td>68.415161</td>\n",
              "      <td>14.484189</td>\n",
              "      <td>89.072456</td>\n",
              "      <td>294.922009</td>\n",
              "      <td>3.248698</td>\n",
              "      <td>400.972142</td>\n",
              "      <td>1.719036</td>\n",
              "      <td>16.974704</td>\n",
              "      <td>141.799609</td>\n",
              "    </tr>\n",
              "    <tr>\n",
              "      <th>1</th>\n",
              "      <td>280.604097</td>\n",
              "      <td>48.573466</td>\n",
              "      <td>44.689675</td>\n",
              "      <td>65.266741</td>\n",
              "      <td>168.618921</td>\n",
              "      <td>1.995885</td>\n",
              "      <td>280.409512</td>\n",
              "      <td>0.194585</td>\n",
              "      <td>14.257202</td>\n",
              "      <td>80.432941</td>\n",
              "    </tr>\n",
              "  </tbody>\n",
              "</table>\n",
              "</div>"
            ],
            "text/plain": [
              "         text_len text_len_tokens  ... number_of_punctuation number_of_stops\n",
              "             mean            mean  ...                  mean            mean\n",
              "toxic                              ...                                      \n",
              "0      402.691178       68.415161  ...             16.974704      141.799609\n",
              "1      280.604097       48.573466  ...             14.257202       80.432941\n",
              "\n",
              "[2 rows x 10 columns]"
            ]
          },
          "metadata": {
            "tags": []
          },
          "execution_count": 13
        }
      ]
    },
    {
      "cell_type": "markdown",
      "metadata": {
        "id": "4pt0HKP7XTWe",
        "colab_type": "text"
      },
      "source": [
        "1. Средняя длина нетоксичного комментария выше, чем у токсичного. \n",
        "2. Среднее количество слов у нетоксичных текстов также больше. \n",
        "3. Среднее количество используемых заглавных букв у токсичных сообщений в несколько рах выше, чем у нетоксичных.\n",
        "4. Среднее количество  не буквенно-цифровых символов в нетоксичных комментариях выше.\n",
        "5. Количество строчных букв в токсичных комментариях меньше, чем в нетоксичных.\n",
        "6. Цифр в нетоксичных комментариях также в среднем больше. \n",
        "7. Ascii-символов в нетоксичных комментариях больше.\n",
        "8. Не-ascii символов в целом по комментариям практически нет, но если они встречаются, то чаще в нетоксичных комментариях.\n",
        "9. Оба типа комментариев имеют практически одинаковое среднее количество знаков препинания. В нетоксичных комментариях их чуть больше. \n",
        "10. Используемых стоп-слов в нетоксичных комментариях гораздо больше, чем в токсичных."
      ]
    },
    {
      "cell_type": "markdown",
      "metadata": {
        "id": "992m3sndR2Yq",
        "colab_type": "text"
      },
      "source": [
        "### Severe_toxic/Non-severe_toxic"
      ]
    },
    {
      "cell_type": "code",
      "metadata": {
        "id": "kwwev4HSR0VL",
        "colab_type": "code",
        "colab": {
          "base_uri": "https://localhost:8080/",
          "height": 227
        },
        "outputId": "aac006eb-c550-41fe-9fbb-ba029b4dc9e8"
      },
      "source": [
        "data.groupby('severe_toxic')['text_len', 'text_len_tokens', 'number_of_caps', 'number_of_nonalphanum', 'number_of_lows', 'number_of_digits', \n",
        "                      'number_of_ascii', 'number_of_nonascii', 'number_of_punctuation', 'number_of_stops'].agg(['mean'])"
      ],
      "execution_count": 14,
      "outputs": [
        {
          "output_type": "stream",
          "text": [
            "/usr/local/lib/python3.6/dist-packages/ipykernel_launcher.py:2: FutureWarning: Indexing with multiple keys (implicitly converted to a tuple of keys) will be deprecated, use a list instead.\n",
            "  \n"
          ],
          "name": "stderr"
        },
        {
          "output_type": "execute_result",
          "data": {
            "text/html": [
              "<div>\n",
              "<style scoped>\n",
              "    .dataframe tbody tr th:only-of-type {\n",
              "        vertical-align: middle;\n",
              "    }\n",
              "\n",
              "    .dataframe tbody tr th {\n",
              "        vertical-align: top;\n",
              "    }\n",
              "\n",
              "    .dataframe thead tr th {\n",
              "        text-align: left;\n",
              "    }\n",
              "\n",
              "    .dataframe thead tr:last-of-type th {\n",
              "        text-align: right;\n",
              "    }\n",
              "</style>\n",
              "<table border=\"1\" class=\"dataframe\">\n",
              "  <thead>\n",
              "    <tr>\n",
              "      <th></th>\n",
              "      <th>text_len</th>\n",
              "      <th>text_len_tokens</th>\n",
              "      <th>number_of_caps</th>\n",
              "      <th>number_of_nonalphanum</th>\n",
              "      <th>number_of_lows</th>\n",
              "      <th>number_of_digits</th>\n",
              "      <th>number_of_ascii</th>\n",
              "      <th>number_of_nonascii</th>\n",
              "      <th>number_of_punctuation</th>\n",
              "      <th>number_of_stops</th>\n",
              "    </tr>\n",
              "    <tr>\n",
              "      <th></th>\n",
              "      <th>mean</th>\n",
              "      <th>mean</th>\n",
              "      <th>mean</th>\n",
              "      <th>mean</th>\n",
              "      <th>mean</th>\n",
              "      <th>mean</th>\n",
              "      <th>mean</th>\n",
              "      <th>mean</th>\n",
              "      <th>mean</th>\n",
              "      <th>mean</th>\n",
              "    </tr>\n",
              "    <tr>\n",
              "      <th>severe_toxic</th>\n",
              "      <th></th>\n",
              "      <th></th>\n",
              "      <th></th>\n",
              "      <th></th>\n",
              "      <th></th>\n",
              "      <th></th>\n",
              "      <th></th>\n",
              "      <th></th>\n",
              "      <th></th>\n",
              "      <th></th>\n",
              "    </tr>\n",
              "  </thead>\n",
              "  <tbody>\n",
              "    <tr>\n",
              "      <th>0</th>\n",
              "      <td>389.999386</td>\n",
              "      <td>66.358270</td>\n",
              "      <td>15.988131</td>\n",
              "      <td>86.500630</td>\n",
              "      <td>283.491852</td>\n",
              "      <td>3.136258</td>\n",
              "      <td>388.413228</td>\n",
              "      <td>1.586158</td>\n",
              "      <td>16.591014</td>\n",
              "      <td>136.307514</td>\n",
              "    </tr>\n",
              "    <tr>\n",
              "      <th>1</th>\n",
              "      <td>505.456677</td>\n",
              "      <td>84.462793</td>\n",
              "      <td>173.841998</td>\n",
              "      <td>120.072375</td>\n",
              "      <td>209.248726</td>\n",
              "      <td>2.293068</td>\n",
              "      <td>505.345566</td>\n",
              "      <td>0.111111</td>\n",
              "      <td>30.690112</td>\n",
              "      <td>93.232926</td>\n",
              "    </tr>\n",
              "  </tbody>\n",
              "</table>\n",
              "</div>"
            ],
            "text/plain": [
              "                text_len text_len_tokens  ... number_of_punctuation number_of_stops\n",
              "                    mean            mean  ...                  mean            mean\n",
              "severe_toxic                              ...                                      \n",
              "0             389.999386       66.358270  ...             16.591014      136.307514\n",
              "1             505.456677       84.462793  ...             30.690112       93.232926\n",
              "\n",
              "[2 rows x 10 columns]"
            ]
          },
          "metadata": {
            "tags": []
          },
          "execution_count": 14
        }
      ]
    },
    {
      "cell_type": "markdown",
      "metadata": {
        "id": "AyI3mFJaSK1w",
        "colab_type": "text"
      },
      "source": [
        "1. Средняя длина сильно токсичных комментариев гораздо больше. \n",
        "2. Среднее количество слов в сильно токсичных комментариях выше.\n",
        "3. Количество заглавных букв в сильно токсичных текстах во много раз превышает количество в обычных комментариях.\n",
        "4. Среднее количество не буквенно-цифровых символов в токсичных комментариях выше.\n",
        "5. Строчных букв в обычных комментариях больше. \n",
        "6. В обоих типах комментариев цифр мало, но в обычных комментариях в среднем чуть больше.\n",
        "7. Ascii-символов больше в сильно токсичных комментариях.\n",
        "8. Не-ascii символы практически отсутствуют в обоих типах. В обычных чуть больше.\n",
        "9. Количество знаков пунктуации в среднем почти в 2 раза больше в токсичных комментариях.\n",
        "10. Количество стоп-слов в обычных комментариях в среднем больше. "
      ]
    },
    {
      "cell_type": "markdown",
      "metadata": {
        "id": "V8zOtYEPSMIy",
        "colab_type": "text"
      },
      "source": [
        "### Obscene/Non-obscene"
      ]
    },
    {
      "cell_type": "code",
      "metadata": {
        "id": "lWFqZkxUSMRv",
        "colab_type": "code",
        "colab": {
          "base_uri": "https://localhost:8080/",
          "height": 227
        },
        "outputId": "2a4d663e-43cd-4f15-a674-2c1192936d93"
      },
      "source": [
        "data.groupby('obscene')['text_len', 'text_len_tokens', 'number_of_caps', 'number_of_nonalphanum', 'number_of_lows', 'number_of_digits', \n",
        "                      'number_of_ascii', 'number_of_nonascii', 'number_of_punctuation', 'number_of_stops'].agg(['mean'])"
      ],
      "execution_count": 15,
      "outputs": [
        {
          "output_type": "stream",
          "text": [
            "/usr/local/lib/python3.6/dist-packages/ipykernel_launcher.py:2: FutureWarning: Indexing with multiple keys (implicitly converted to a tuple of keys) will be deprecated, use a list instead.\n",
            "  \n"
          ],
          "name": "stderr"
        },
        {
          "output_type": "execute_result",
          "data": {
            "text/html": [
              "<div>\n",
              "<style scoped>\n",
              "    .dataframe tbody tr th:only-of-type {\n",
              "        vertical-align: middle;\n",
              "    }\n",
              "\n",
              "    .dataframe tbody tr th {\n",
              "        vertical-align: top;\n",
              "    }\n",
              "\n",
              "    .dataframe thead tr th {\n",
              "        text-align: left;\n",
              "    }\n",
              "\n",
              "    .dataframe thead tr:last-of-type th {\n",
              "        text-align: right;\n",
              "    }\n",
              "</style>\n",
              "<table border=\"1\" class=\"dataframe\">\n",
              "  <thead>\n",
              "    <tr>\n",
              "      <th></th>\n",
              "      <th>text_len</th>\n",
              "      <th>text_len_tokens</th>\n",
              "      <th>number_of_caps</th>\n",
              "      <th>number_of_nonalphanum</th>\n",
              "      <th>number_of_lows</th>\n",
              "      <th>number_of_digits</th>\n",
              "      <th>number_of_ascii</th>\n",
              "      <th>number_of_nonascii</th>\n",
              "      <th>number_of_punctuation</th>\n",
              "      <th>number_of_stops</th>\n",
              "    </tr>\n",
              "    <tr>\n",
              "      <th></th>\n",
              "      <th>mean</th>\n",
              "      <th>mean</th>\n",
              "      <th>mean</th>\n",
              "      <th>mean</th>\n",
              "      <th>mean</th>\n",
              "      <th>mean</th>\n",
              "      <th>mean</th>\n",
              "      <th>mean</th>\n",
              "      <th>mean</th>\n",
              "      <th>mean</th>\n",
              "    </tr>\n",
              "    <tr>\n",
              "      <th>obscene</th>\n",
              "      <th></th>\n",
              "      <th></th>\n",
              "      <th></th>\n",
              "      <th></th>\n",
              "      <th></th>\n",
              "      <th></th>\n",
              "      <th></th>\n",
              "      <th></th>\n",
              "      <th></th>\n",
              "      <th></th>\n",
              "    </tr>\n",
              "  </thead>\n",
              "  <tbody>\n",
              "    <tr>\n",
              "      <th>0</th>\n",
              "      <td>397.332876</td>\n",
              "      <td>67.559707</td>\n",
              "      <td>15.299590</td>\n",
              "      <td>88.032052</td>\n",
              "      <td>289.883993</td>\n",
              "      <td>3.193029</td>\n",
              "      <td>395.678353</td>\n",
              "      <td>1.654523</td>\n",
              "      <td>16.850087</td>\n",
              "      <td>139.417163</td>\n",
              "    </tr>\n",
              "    <tr>\n",
              "      <th>1</th>\n",
              "      <td>280.951730</td>\n",
              "      <td>48.362109</td>\n",
              "      <td>53.490033</td>\n",
              "      <td>65.257743</td>\n",
              "      <td>160.178748</td>\n",
              "      <td>2.011367</td>\n",
              "      <td>280.794481</td>\n",
              "      <td>0.157249</td>\n",
              "      <td>14.358072</td>\n",
              "      <td>75.193822</td>\n",
              "    </tr>\n",
              "  </tbody>\n",
              "</table>\n",
              "</div>"
            ],
            "text/plain": [
              "           text_len text_len_tokens  ... number_of_punctuation number_of_stops\n",
              "               mean            mean  ...                  mean            mean\n",
              "obscene                              ...                                      \n",
              "0        397.332876       67.559707  ...             16.850087      139.417163\n",
              "1        280.951730       48.362109  ...             14.358072       75.193822\n",
              "\n",
              "[2 rows x 10 columns]"
            ]
          },
          "metadata": {
            "tags": []
          },
          "execution_count": 15
        }
      ]
    },
    {
      "cell_type": "markdown",
      "metadata": {
        "id": "qID8tEdrSMh7",
        "colab_type": "text"
      },
      "source": [
        "### Описание TBA"
      ]
    },
    {
      "cell_type": "markdown",
      "metadata": {
        "id": "nnJq1D5oSbqI",
        "colab_type": "text"
      },
      "source": [
        "### Threat/Non-threat"
      ]
    },
    {
      "cell_type": "code",
      "metadata": {
        "id": "70T97KdAScIz",
        "colab_type": "code",
        "colab": {
          "base_uri": "https://localhost:8080/",
          "height": 227
        },
        "outputId": "e2d30373-80e1-4386-a9dd-af1a5653690d"
      },
      "source": [
        "data.groupby('threat')['text_len', 'text_len_tokens', 'number_of_caps', 'number_of_nonalphanum', 'number_of_lows', 'number_of_digits', \n",
        "                      'number_of_ascii', 'number_of_nonascii', 'number_of_punctuation', 'number_of_stops'].agg(['mean'])"
      ],
      "execution_count": 16,
      "outputs": [
        {
          "output_type": "stream",
          "text": [
            "/usr/local/lib/python3.6/dist-packages/ipykernel_launcher.py:2: FutureWarning: Indexing with multiple keys (implicitly converted to a tuple of keys) will be deprecated, use a list instead.\n",
            "  \n"
          ],
          "name": "stderr"
        },
        {
          "output_type": "execute_result",
          "data": {
            "text/html": [
              "<div>\n",
              "<style scoped>\n",
              "    .dataframe tbody tr th:only-of-type {\n",
              "        vertical-align: middle;\n",
              "    }\n",
              "\n",
              "    .dataframe tbody tr th {\n",
              "        vertical-align: top;\n",
              "    }\n",
              "\n",
              "    .dataframe thead tr th {\n",
              "        text-align: left;\n",
              "    }\n",
              "\n",
              "    .dataframe thead tr:last-of-type th {\n",
              "        text-align: right;\n",
              "    }\n",
              "</style>\n",
              "<table border=\"1\" class=\"dataframe\">\n",
              "  <thead>\n",
              "    <tr>\n",
              "      <th></th>\n",
              "      <th>text_len</th>\n",
              "      <th>text_len_tokens</th>\n",
              "      <th>number_of_caps</th>\n",
              "      <th>number_of_nonalphanum</th>\n",
              "      <th>number_of_lows</th>\n",
              "      <th>number_of_digits</th>\n",
              "      <th>number_of_ascii</th>\n",
              "      <th>number_of_nonascii</th>\n",
              "      <th>number_of_punctuation</th>\n",
              "      <th>number_of_stops</th>\n",
              "    </tr>\n",
              "    <tr>\n",
              "      <th></th>\n",
              "      <th>mean</th>\n",
              "      <th>mean</th>\n",
              "      <th>mean</th>\n",
              "      <th>mean</th>\n",
              "      <th>mean</th>\n",
              "      <th>mean</th>\n",
              "      <th>mean</th>\n",
              "      <th>mean</th>\n",
              "      <th>mean</th>\n",
              "      <th>mean</th>\n",
              "    </tr>\n",
              "    <tr>\n",
              "      <th>threat</th>\n",
              "      <th></th>\n",
              "      <th></th>\n",
              "      <th></th>\n",
              "      <th></th>\n",
              "      <th></th>\n",
              "      <th></th>\n",
              "      <th></th>\n",
              "      <th></th>\n",
              "      <th></th>\n",
              "      <th></th>\n",
              "    </tr>\n",
              "  </thead>\n",
              "  <tbody>\n",
              "    <tr>\n",
              "      <th>0</th>\n",
              "      <td>391.241807</td>\n",
              "      <td>66.547128</td>\n",
              "      <td>17.149430</td>\n",
              "      <td>86.796312</td>\n",
              "      <td>283.283766</td>\n",
              "      <td>3.134856</td>\n",
              "      <td>389.665157</td>\n",
              "      <td>1.576649</td>\n",
              "      <td>16.686637</td>\n",
              "      <td>136.141282</td>\n",
              "    </tr>\n",
              "    <tr>\n",
              "      <th>1</th>\n",
              "      <td>316.910015</td>\n",
              "      <td>56.825835</td>\n",
              "      <td>89.866473</td>\n",
              "      <td>86.460087</td>\n",
              "      <td>139.383164</td>\n",
              "      <td>1.188679</td>\n",
              "      <td>316.448476</td>\n",
              "      <td>0.461538</td>\n",
              "      <td>25.809869</td>\n",
              "      <td>67.416546</td>\n",
              "    </tr>\n",
              "  </tbody>\n",
              "</table>\n",
              "</div>"
            ],
            "text/plain": [
              "          text_len text_len_tokens  ... number_of_punctuation number_of_stops\n",
              "              mean            mean  ...                  mean            mean\n",
              "threat                              ...                                      \n",
              "0       391.241807       66.547128  ...             16.686637      136.141282\n",
              "1       316.910015       56.825835  ...             25.809869       67.416546\n",
              "\n",
              "[2 rows x 10 columns]"
            ]
          },
          "metadata": {
            "tags": []
          },
          "execution_count": 16
        }
      ]
    },
    {
      "cell_type": "markdown",
      "metadata": {
        "id": "fs09jba7Scpb",
        "colab_type": "text"
      },
      "source": [
        "### Описание TBA"
      ]
    },
    {
      "cell_type": "markdown",
      "metadata": {
        "id": "bCL5bm8hSrBd",
        "colab_type": "text"
      },
      "source": [
        "### Insult/Non-insult"
      ]
    },
    {
      "cell_type": "code",
      "metadata": {
        "id": "6IHhN3H8SrMp",
        "colab_type": "code",
        "colab": {
          "base_uri": "https://localhost:8080/",
          "height": 227
        },
        "outputId": "e8f232c2-2c2b-47fe-ef12-159ab58e8495"
      },
      "source": [
        "data.groupby('insult')['text_len', 'text_len_tokens', 'number_of_caps', 'number_of_nonalphanum', 'number_of_lows', 'number_of_digits', \n",
        "                      'number_of_ascii', 'number_of_nonascii', 'number_of_punctuation', 'number_of_stops'].agg(['mean'])"
      ],
      "execution_count": 17,
      "outputs": [
        {
          "output_type": "stream",
          "text": [
            "/usr/local/lib/python3.6/dist-packages/ipykernel_launcher.py:2: FutureWarning: Indexing with multiple keys (implicitly converted to a tuple of keys) will be deprecated, use a list instead.\n",
            "  \n"
          ],
          "name": "stderr"
        },
        {
          "output_type": "execute_result",
          "data": {
            "text/html": [
              "<div>\n",
              "<style scoped>\n",
              "    .dataframe tbody tr th:only-of-type {\n",
              "        vertical-align: middle;\n",
              "    }\n",
              "\n",
              "    .dataframe tbody tr th {\n",
              "        vertical-align: top;\n",
              "    }\n",
              "\n",
              "    .dataframe thead tr th {\n",
              "        text-align: left;\n",
              "    }\n",
              "\n",
              "    .dataframe thead tr:last-of-type th {\n",
              "        text-align: right;\n",
              "    }\n",
              "</style>\n",
              "<table border=\"1\" class=\"dataframe\">\n",
              "  <thead>\n",
              "    <tr>\n",
              "      <th></th>\n",
              "      <th>text_len</th>\n",
              "      <th>text_len_tokens</th>\n",
              "      <th>number_of_caps</th>\n",
              "      <th>number_of_nonalphanum</th>\n",
              "      <th>number_of_lows</th>\n",
              "      <th>number_of_digits</th>\n",
              "      <th>number_of_ascii</th>\n",
              "      <th>number_of_nonascii</th>\n",
              "      <th>number_of_punctuation</th>\n",
              "      <th>number_of_stops</th>\n",
              "    </tr>\n",
              "    <tr>\n",
              "      <th></th>\n",
              "      <th>mean</th>\n",
              "      <th>mean</th>\n",
              "      <th>mean</th>\n",
              "      <th>mean</th>\n",
              "      <th>mean</th>\n",
              "      <th>mean</th>\n",
              "      <th>mean</th>\n",
              "      <th>mean</th>\n",
              "      <th>mean</th>\n",
              "      <th>mean</th>\n",
              "    </tr>\n",
              "    <tr>\n",
              "      <th>insult</th>\n",
              "      <th></th>\n",
              "      <th></th>\n",
              "      <th></th>\n",
              "      <th></th>\n",
              "      <th></th>\n",
              "      <th></th>\n",
              "      <th></th>\n",
              "      <th></th>\n",
              "      <th></th>\n",
              "      <th></th>\n",
              "    </tr>\n",
              "  </thead>\n",
              "  <tbody>\n",
              "    <tr>\n",
              "      <th>0</th>\n",
              "      <td>397.340234</td>\n",
              "      <td>67.544536</td>\n",
              "      <td>15.573931</td>\n",
              "      <td>88.053302</td>\n",
              "      <td>289.597522</td>\n",
              "      <td>3.194615</td>\n",
              "      <td>395.690669</td>\n",
              "      <td>1.649565</td>\n",
              "      <td>16.879710</td>\n",
              "      <td>139.233245</td>\n",
              "    </tr>\n",
              "    <tr>\n",
              "      <th>1</th>\n",
              "      <td>272.206476</td>\n",
              "      <td>47.227176</td>\n",
              "      <td>51.163393</td>\n",
              "      <td>63.174452</td>\n",
              "      <td>155.965057</td>\n",
              "      <td>1.894197</td>\n",
              "      <td>272.066879</td>\n",
              "      <td>0.139597</td>\n",
              "      <td>13.617569</td>\n",
              "      <td>73.897381</td>\n",
              "    </tr>\n",
              "  </tbody>\n",
              "</table>\n",
              "</div>"
            ],
            "text/plain": [
              "          text_len text_len_tokens  ... number_of_punctuation number_of_stops\n",
              "              mean            mean  ...                  mean            mean\n",
              "insult                              ...                                      \n",
              "0       397.340234       67.544536  ...             16.879710      139.233245\n",
              "1       272.206476       47.227176  ...             13.617569       73.897381\n",
              "\n",
              "[2 rows x 10 columns]"
            ]
          },
          "metadata": {
            "tags": []
          },
          "execution_count": 17
        }
      ]
    },
    {
      "cell_type": "markdown",
      "metadata": {
        "id": "K_PX3EINSrb0",
        "colab_type": "text"
      },
      "source": [
        "### Описание TBA"
      ]
    },
    {
      "cell_type": "markdown",
      "metadata": {
        "id": "tThoJsZaTAku",
        "colab_type": "text"
      },
      "source": [
        "### Identity_hate/Non-identity_hate"
      ]
    },
    {
      "cell_type": "code",
      "metadata": {
        "id": "WV6Yml-rTA1D",
        "colab_type": "code",
        "colab": {
          "base_uri": "https://localhost:8080/",
          "height": 227
        },
        "outputId": "8e6708f7-7b8d-4d18-92b1-5a0228adfc25"
      },
      "source": [
        "data.groupby('identity_hate')['text_len', 'text_len_tokens', 'number_of_caps', 'number_of_nonalphanum', 'number_of_lows', 'number_of_digits', \n",
        "                      'number_of_ascii', 'number_of_nonascii', 'number_of_punctuation', 'number_of_stops'].agg(['mean'])"
      ],
      "execution_count": 18,
      "outputs": [
        {
          "output_type": "stream",
          "text": [
            "/usr/local/lib/python3.6/dist-packages/ipykernel_launcher.py:2: FutureWarning: Indexing with multiple keys (implicitly converted to a tuple of keys) will be deprecated, use a list instead.\n",
            "  \n"
          ],
          "name": "stderr"
        },
        {
          "output_type": "execute_result",
          "data": {
            "text/html": [
              "<div>\n",
              "<style scoped>\n",
              "    .dataframe tbody tr th:only-of-type {\n",
              "        vertical-align: middle;\n",
              "    }\n",
              "\n",
              "    .dataframe tbody tr th {\n",
              "        vertical-align: top;\n",
              "    }\n",
              "\n",
              "    .dataframe thead tr th {\n",
              "        text-align: left;\n",
              "    }\n",
              "\n",
              "    .dataframe thead tr:last-of-type th {\n",
              "        text-align: right;\n",
              "    }\n",
              "</style>\n",
              "<table border=\"1\" class=\"dataframe\">\n",
              "  <thead>\n",
              "    <tr>\n",
              "      <th></th>\n",
              "      <th>text_len</th>\n",
              "      <th>text_len_tokens</th>\n",
              "      <th>number_of_caps</th>\n",
              "      <th>number_of_nonalphanum</th>\n",
              "      <th>number_of_lows</th>\n",
              "      <th>number_of_digits</th>\n",
              "      <th>number_of_ascii</th>\n",
              "      <th>number_of_nonascii</th>\n",
              "      <th>number_of_punctuation</th>\n",
              "      <th>number_of_stops</th>\n",
              "    </tr>\n",
              "    <tr>\n",
              "      <th></th>\n",
              "      <th>mean</th>\n",
              "      <th>mean</th>\n",
              "      <th>mean</th>\n",
              "      <th>mean</th>\n",
              "      <th>mean</th>\n",
              "      <th>mean</th>\n",
              "      <th>mean</th>\n",
              "      <th>mean</th>\n",
              "      <th>mean</th>\n",
              "      <th>mean</th>\n",
              "    </tr>\n",
              "    <tr>\n",
              "      <th>identity_hate</th>\n",
              "      <th></th>\n",
              "      <th></th>\n",
              "      <th></th>\n",
              "      <th></th>\n",
              "      <th></th>\n",
              "      <th></th>\n",
              "      <th></th>\n",
              "      <th></th>\n",
              "      <th></th>\n",
              "      <th></th>\n",
              "    </tr>\n",
              "  </thead>\n",
              "  <tbody>\n",
              "    <tr>\n",
              "      <th>0</th>\n",
              "      <td>391.744793</td>\n",
              "      <td>66.651428</td>\n",
              "      <td>16.774599</td>\n",
              "      <td>86.960259</td>\n",
              "      <td>283.989184</td>\n",
              "      <td>3.137812</td>\n",
              "      <td>390.158234</td>\n",
              "      <td>1.586559</td>\n",
              "      <td>16.740187</td>\n",
              "      <td>136.492779</td>\n",
              "    </tr>\n",
              "    <tr>\n",
              "      <th>1</th>\n",
              "      <td>314.438829</td>\n",
              "      <td>52.473784</td>\n",
              "      <td>80.022201</td>\n",
              "      <td>69.538498</td>\n",
              "      <td>162.665092</td>\n",
              "      <td>2.192253</td>\n",
              "      <td>314.261691</td>\n",
              "      <td>0.177137</td>\n",
              "      <td>14.054795</td>\n",
              "      <td>77.008503</td>\n",
              "    </tr>\n",
              "  </tbody>\n",
              "</table>\n",
              "</div>"
            ],
            "text/plain": [
              "                 text_len text_len_tokens  ... number_of_punctuation number_of_stops\n",
              "                     mean            mean  ...                  mean            mean\n",
              "identity_hate                              ...                                      \n",
              "0              391.744793       66.651428  ...             16.740187      136.492779\n",
              "1              314.438829       52.473784  ...             14.054795       77.008503\n",
              "\n",
              "[2 rows x 10 columns]"
            ]
          },
          "metadata": {
            "tags": []
          },
          "execution_count": 18
        }
      ]
    },
    {
      "cell_type": "markdown",
      "metadata": {
        "id": "B141c7MdTBCD",
        "colab_type": "text"
      },
      "source": [
        "### Описание TBA"
      ]
    },
    {
      "cell_type": "markdown",
      "metadata": {
        "id": "GOkEwsDqWqMO",
        "colab_type": "text"
      },
      "source": [
        "### Описательный анализ с привязкой к другим колонкам"
      ]
    },
    {
      "cell_type": "code",
      "metadata": {
        "id": "qS5n-UcsW1Ol",
        "colab_type": "code",
        "colab": {
          "base_uri": "https://localhost:8080/",
          "height": 289
        },
        "outputId": "6b614e2b-7f6a-402f-ba99-7c5cba583656"
      },
      "source": [
        "data.groupby(['toxic', 'identity_hate'])['text_len', 'text_len_tokens', 'number_of_caps', 'number_of_nonalphanum', 'number_of_lows', 'number_of_digits', \n",
        "                      'number_of_ascii', 'number_of_nonascii', 'number_of_punctuation', 'number_of_stops'].agg(['mean'])"
      ],
      "execution_count": 19,
      "outputs": [
        {
          "output_type": "stream",
          "text": [
            "/usr/local/lib/python3.6/dist-packages/ipykernel_launcher.py:2: FutureWarning: Indexing with multiple keys (implicitly converted to a tuple of keys) will be deprecated, use a list instead.\n",
            "  \n"
          ],
          "name": "stderr"
        },
        {
          "output_type": "execute_result",
          "data": {
            "text/html": [
              "<div>\n",
              "<style scoped>\n",
              "    .dataframe tbody tr th:only-of-type {\n",
              "        vertical-align: middle;\n",
              "    }\n",
              "\n",
              "    .dataframe tbody tr th {\n",
              "        vertical-align: top;\n",
              "    }\n",
              "\n",
              "    .dataframe thead tr th {\n",
              "        text-align: left;\n",
              "    }\n",
              "\n",
              "    .dataframe thead tr:last-of-type th {\n",
              "        text-align: right;\n",
              "    }\n",
              "</style>\n",
              "<table border=\"1\" class=\"dataframe\">\n",
              "  <thead>\n",
              "    <tr>\n",
              "      <th></th>\n",
              "      <th></th>\n",
              "      <th>text_len</th>\n",
              "      <th>text_len_tokens</th>\n",
              "      <th>number_of_caps</th>\n",
              "      <th>number_of_nonalphanum</th>\n",
              "      <th>number_of_lows</th>\n",
              "      <th>number_of_digits</th>\n",
              "      <th>number_of_ascii</th>\n",
              "      <th>number_of_nonascii</th>\n",
              "      <th>number_of_punctuation</th>\n",
              "      <th>number_of_stops</th>\n",
              "    </tr>\n",
              "    <tr>\n",
              "      <th></th>\n",
              "      <th></th>\n",
              "      <th>mean</th>\n",
              "      <th>mean</th>\n",
              "      <th>mean</th>\n",
              "      <th>mean</th>\n",
              "      <th>mean</th>\n",
              "      <th>mean</th>\n",
              "      <th>mean</th>\n",
              "      <th>mean</th>\n",
              "      <th>mean</th>\n",
              "      <th>mean</th>\n",
              "    </tr>\n",
              "    <tr>\n",
              "      <th>toxic</th>\n",
              "      <th>identity_hate</th>\n",
              "      <th></th>\n",
              "      <th></th>\n",
              "      <th></th>\n",
              "      <th></th>\n",
              "      <th></th>\n",
              "      <th></th>\n",
              "      <th></th>\n",
              "      <th></th>\n",
              "      <th></th>\n",
              "      <th></th>\n",
              "    </tr>\n",
              "  </thead>\n",
              "  <tbody>\n",
              "    <tr>\n",
              "      <th rowspan=\"2\" valign=\"top\">0</th>\n",
              "      <th>0</th>\n",
              "      <td>402.695179</td>\n",
              "      <td>68.414832</td>\n",
              "      <td>14.483169</td>\n",
              "      <td>89.074192</td>\n",
              "      <td>294.924204</td>\n",
              "      <td>3.249204</td>\n",
              "      <td>400.975213</td>\n",
              "      <td>1.719966</td>\n",
              "      <td>16.975768</td>\n",
              "      <td>141.799127</td>\n",
              "    </tr>\n",
              "    <tr>\n",
              "      <th>1</th>\n",
              "      <td>396.065574</td>\n",
              "      <td>68.959016</td>\n",
              "      <td>16.172131</td>\n",
              "      <td>86.196721</td>\n",
              "      <td>291.286885</td>\n",
              "      <td>2.409836</td>\n",
              "      <td>395.885246</td>\n",
              "      <td>0.180328</td>\n",
              "      <td>15.213115</td>\n",
              "      <td>142.598361</td>\n",
              "    </tr>\n",
              "    <tr>\n",
              "      <th rowspan=\"2\" valign=\"top\">1</th>\n",
              "      <th>0</th>\n",
              "      <td>277.636340</td>\n",
              "      <td>48.275878</td>\n",
              "      <td>40.652432</td>\n",
              "      <td>64.932023</td>\n",
              "      <td>170.040848</td>\n",
              "      <td>1.977049</td>\n",
              "      <td>277.439940</td>\n",
              "      <td>0.196400</td>\n",
              "      <td>14.285316</td>\n",
              "      <td>81.197999</td>\n",
              "    </tr>\n",
              "    <tr>\n",
              "      <th>1</th>\n",
              "      <td>309.447118</td>\n",
              "      <td>51.465664</td>\n",
              "      <td>83.926817</td>\n",
              "      <td>68.519799</td>\n",
              "      <td>154.799499</td>\n",
              "      <td>2.178947</td>\n",
              "      <td>309.270175</td>\n",
              "      <td>0.176942</td>\n",
              "      <td>13.983960</td>\n",
              "      <td>72.997494</td>\n",
              "    </tr>\n",
              "  </tbody>\n",
              "</table>\n",
              "</div>"
            ],
            "text/plain": [
              "                       text_len  ... number_of_stops\n",
              "                           mean  ...            mean\n",
              "toxic identity_hate              ...                \n",
              "0     0              402.695179  ...      141.799127\n",
              "      1              396.065574  ...      142.598361\n",
              "1     0              277.636340  ...       81.197999\n",
              "      1              309.447118  ...       72.997494\n",
              "\n",
              "[4 rows x 10 columns]"
            ]
          },
          "metadata": {
            "tags": []
          },
          "execution_count": 19
        }
      ]
    },
    {
      "cell_type": "markdown",
      "metadata": {
        "id": "R9TVfOYR0Xs5",
        "colab_type": "text"
      },
      "source": [
        "### 2. Бейзлайн модель из sklearn (векторайзер + модель) с отбором признаков (через l1 регуляризацию, на глаз через анализ важных параметров или через permutation importance) - 2 балл"
      ]
    },
    {
      "cell_type": "code",
      "metadata": {
        "id": "d2gwR4gt3zx7",
        "colab_type": "code",
        "colab": {}
      },
      "source": [
        "X = data['comment_text']\n",
        "y = data['toxic']"
      ],
      "execution_count": 35,
      "outputs": []
    },
    {
      "cell_type": "code",
      "metadata": {
        "id": "IPvLM4wmyJo6",
        "colab_type": "code",
        "colab": {}
      },
      "source": [
        "X_train, X_test, y_train, y_test = train_test_split(X, y, test_size=0.33, random_state=42)"
      ],
      "execution_count": 36,
      "outputs": []
    },
    {
      "cell_type": "code",
      "metadata": {
        "id": "vMb6eTyd4vyh",
        "colab_type": "code",
        "colab": {}
      },
      "source": [
        "count_vect = CountVectorizer()"
      ],
      "execution_count": 37,
      "outputs": []
    },
    {
      "cell_type": "code",
      "metadata": {
        "id": "aCHukUg84zql",
        "colab_type": "code",
        "colab": {
          "base_uri": "https://localhost:8080/",
          "height": 34
        },
        "outputId": "abb6e011-184f-434a-afb9-86f9428ee11c"
      },
      "source": [
        "X_train = count_vect.fit_transform(X_train)\n",
        "X_train.shape"
      ],
      "execution_count": 38,
      "outputs": [
        {
          "output_type": "execute_result",
          "data": {
            "text/plain": [
              "(149777, 207901)"
            ]
          },
          "metadata": {
            "tags": []
          },
          "execution_count": 38
        }
      ]
    },
    {
      "cell_type": "code",
      "metadata": {
        "id": "yajKEe705QDb",
        "colab_type": "code",
        "colab": {
          "base_uri": "https://localhost:8080/",
          "height": 34
        },
        "outputId": "d7092a0c-6a77-4d7a-c98b-06d9bcac45ef"
      },
      "source": [
        "X_test = count_vect.transform(X_test)\n",
        "X_test.shape"
      ],
      "execution_count": 39,
      "outputs": [
        {
          "output_type": "execute_result",
          "data": {
            "text/plain": [
              "(73772, 207901)"
            ]
          },
          "metadata": {
            "tags": []
          },
          "execution_count": 39
        }
      ]
    },
    {
      "cell_type": "code",
      "metadata": {
        "id": "mmsx7fQf5tKZ",
        "colab_type": "code",
        "colab": {}
      },
      "source": [
        "clf = SGDClassifier().fit(X_train, y_train)"
      ],
      "execution_count": 40,
      "outputs": []
    },
    {
      "cell_type": "code",
      "metadata": {
        "id": "YUMX-Hv26p97",
        "colab_type": "code",
        "colab": {}
      },
      "source": [
        "y_pred = clf.predict(X_test)"
      ],
      "execution_count": 41,
      "outputs": []
    },
    {
      "cell_type": "code",
      "metadata": {
        "id": "hTz_FEH09KR4",
        "colab_type": "code",
        "colab": {
          "base_uri": "https://localhost:8080/",
          "height": 170
        },
        "outputId": "0ccfb28e-cbbe-4f61-d0b9-5cbc00d67318"
      },
      "source": [
        "print(classification_report(y_test, y_pred))"
      ],
      "execution_count": 42,
      "outputs": [
        {
          "output_type": "stream",
          "text": [
            "              precision    recall  f1-score   support\n",
            "\n",
            "           0       0.96      0.99      0.97     66765\n",
            "           1       0.81      0.60      0.69      7007\n",
            "\n",
            "    accuracy                           0.95     73772\n",
            "   macro avg       0.89      0.79      0.83     73772\n",
            "weighted avg       0.95      0.95      0.95     73772\n",
            "\n"
          ],
          "name": "stdout"
        }
      ]
    },
    {
      "cell_type": "code",
      "metadata": {
        "id": "bH-cdUPXDo-X",
        "colab_type": "code",
        "colab": {
          "base_uri": "https://localhost:8080/",
          "height": 419
        },
        "outputId": "5c7d0822-b185-4ecf-894b-6e4755cc83f0"
      },
      "source": [
        "eli5.formatters.as_dataframe.explain_weights_df(clf)\n"
      ],
      "execution_count": 43,
      "outputs": [
        {
          "output_type": "execute_result",
          "data": {
            "text/html": [
              "<div>\n",
              "<style scoped>\n",
              "    .dataframe tbody tr th:only-of-type {\n",
              "        vertical-align: middle;\n",
              "    }\n",
              "\n",
              "    .dataframe tbody tr th {\n",
              "        vertical-align: top;\n",
              "    }\n",
              "\n",
              "    .dataframe thead th {\n",
              "        text-align: right;\n",
              "    }\n",
              "</style>\n",
              "<table border=\"1\" class=\"dataframe\">\n",
              "  <thead>\n",
              "    <tr style=\"text-align: right;\">\n",
              "      <th></th>\n",
              "      <th>target</th>\n",
              "      <th>feature</th>\n",
              "      <th>weight</th>\n",
              "    </tr>\n",
              "  </thead>\n",
              "  <tbody>\n",
              "    <tr>\n",
              "      <th>0</th>\n",
              "      <td>1</td>\n",
              "      <td>x70089</td>\n",
              "      <td>2.186657</td>\n",
              "    </tr>\n",
              "    <tr>\n",
              "      <th>1</th>\n",
              "      <td>1</td>\n",
              "      <td>x84835</td>\n",
              "      <td>2.092285</td>\n",
              "    </tr>\n",
              "    <tr>\n",
              "      <th>2</th>\n",
              "      <td>1</td>\n",
              "      <td>x64497</td>\n",
              "      <td>2.032440</td>\n",
              "    </tr>\n",
              "    <tr>\n",
              "      <th>3</th>\n",
              "      <td>1</td>\n",
              "      <td>x20704</td>\n",
              "      <td>2.011724</td>\n",
              "    </tr>\n",
              "    <tr>\n",
              "      <th>4</th>\n",
              "      <td>1</td>\n",
              "      <td>x84845</td>\n",
              "      <td>1.852904</td>\n",
              "    </tr>\n",
              "    <tr>\n",
              "      <th>...</th>\n",
              "      <td>...</td>\n",
              "      <td>...</td>\n",
              "      <td>...</td>\n",
              "    </tr>\n",
              "    <tr>\n",
              "      <th>70655</th>\n",
              "      <td>1</td>\n",
              "      <td>&lt;BIAS&gt;</td>\n",
              "      <td>-1.181929</td>\n",
              "    </tr>\n",
              "    <tr>\n",
              "      <th>70656</th>\n",
              "      <td>1</td>\n",
              "      <td>x23850</td>\n",
              "      <td>-1.284373</td>\n",
              "    </tr>\n",
              "    <tr>\n",
              "      <th>70657</th>\n",
              "      <td>1</td>\n",
              "      <td>x69507</td>\n",
              "      <td>-1.394857</td>\n",
              "    </tr>\n",
              "    <tr>\n",
              "      <th>70658</th>\n",
              "      <td>1</td>\n",
              "      <td>x166952</td>\n",
              "      <td>-1.629635</td>\n",
              "    </tr>\n",
              "    <tr>\n",
              "      <th>70659</th>\n",
              "      <td>1</td>\n",
              "      <td>x122363</td>\n",
              "      <td>-2.230390</td>\n",
              "    </tr>\n",
              "  </tbody>\n",
              "</table>\n",
              "<p>70660 rows × 3 columns</p>\n",
              "</div>"
            ],
            "text/plain": [
              "       target  feature    weight\n",
              "0           1   x70089  2.186657\n",
              "1           1   x84835  2.092285\n",
              "2           1   x64497  2.032440\n",
              "3           1   x20704  2.011724\n",
              "4           1   x84845  1.852904\n",
              "...       ...      ...       ...\n",
              "70655       1   <BIAS> -1.181929\n",
              "70656       1   x23850 -1.284373\n",
              "70657       1   x69507 -1.394857\n",
              "70658       1  x166952 -1.629635\n",
              "70659       1  x122363 -2.230390\n",
              "\n",
              "[70660 rows x 3 columns]"
            ]
          },
          "metadata": {
            "tags": []
          },
          "execution_count": 43
        }
      ]
    },
    {
      "cell_type": "code",
      "metadata": {
        "id": "cpV-lJ9JWaRB",
        "colab_type": "code",
        "colab": {
          "base_uri": "https://localhost:8080/",
          "height": 34
        },
        "outputId": "03de799b-54b1-47e9-f1db-67b7d473163f"
      },
      "source": [
        "sum(sum(clf.coef_ != 0))\n"
      ],
      "execution_count": 47,
      "outputs": [
        {
          "output_type": "execute_result",
          "data": {
            "text/plain": [
              "70659"
            ]
          },
          "metadata": {
            "tags": []
          },
          "execution_count": 47
        }
      ]
    },
    {
      "cell_type": "code",
      "metadata": {
        "id": "wfe0px_MVwwx",
        "colab_type": "code",
        "colab": {}
      },
      "source": [
        "top_features = [int(i[1:]) for i in eli5.formatters.as_dataframe.explain_weights_df(clf).feature if 'BIAS' not in i]"
      ],
      "execution_count": 44,
      "outputs": []
    },
    {
      "cell_type": "code",
      "metadata": {
        "id": "Gpv-y9HWV6qO",
        "colab_type": "code",
        "colab": {
          "base_uri": "https://localhost:8080/",
          "height": 34
        },
        "outputId": "9da5d526-9736-45b9-ec67-d72e636d4ac9"
      },
      "source": [
        "len(top_features)"
      ],
      "execution_count": 46,
      "outputs": [
        {
          "output_type": "execute_result",
          "data": {
            "text/plain": [
              "70659"
            ]
          },
          "metadata": {
            "tags": []
          },
          "execution_count": 46
        }
      ]
    },
    {
      "cell_type": "code",
      "metadata": {
        "id": "fo9TKkaMWl4t",
        "colab_type": "code",
        "colab": {}
      },
      "source": [
        "X_train_eli5 = X_train[:,top_features]\n",
        "X_test_eli5 = X_test[:,top_features]"
      ],
      "execution_count": 48,
      "outputs": []
    },
    {
      "cell_type": "code",
      "metadata": {
        "id": "ImLbARvbWocs",
        "colab_type": "code",
        "colab": {}
      },
      "source": [
        "eli5_model = SGDClassifier().fit(X_train_eli5, y_train)"
      ],
      "execution_count": 49,
      "outputs": []
    },
    {
      "cell_type": "code",
      "metadata": {
        "id": "kGe-IELmXQlw",
        "colab_type": "code",
        "colab": {}
      },
      "source": [
        "y_pred = eli5_model.predict(X_test_eli5)"
      ],
      "execution_count": 52,
      "outputs": []
    },
    {
      "cell_type": "code",
      "metadata": {
        "id": "Vc4VYCg-XuVQ",
        "colab_type": "code",
        "colab": {
          "base_uri": "https://localhost:8080/",
          "height": 170
        },
        "outputId": "00f2292a-7aea-468f-a51b-b7fd36608f1e"
      },
      "source": [
        "print(classification_report(y_test, y_pred))"
      ],
      "execution_count": 53,
      "outputs": [
        {
          "output_type": "stream",
          "text": [
            "              precision    recall  f1-score   support\n",
            "\n",
            "           0       0.96      0.99      0.97     66765\n",
            "           1       0.81      0.61      0.70      7007\n",
            "\n",
            "    accuracy                           0.95     73772\n",
            "   macro avg       0.89      0.80      0.83     73772\n",
            "weighted avg       0.95      0.95      0.95     73772\n",
            "\n"
          ],
          "name": "stdout"
        }
      ]
    },
    {
      "cell_type": "markdown",
      "metadata": {
        "id": "SRnXWT4Y0zFQ",
        "colab_type": "text"
      },
      "source": [
        "### 3. "
      ]
    },
    {
      "cell_type": "code",
      "metadata": {
        "id": "rrIDwDov1Djl",
        "colab_type": "code",
        "colab": {}
      },
      "source": [
        ""
      ],
      "execution_count": null,
      "outputs": []
    }
  ]
}