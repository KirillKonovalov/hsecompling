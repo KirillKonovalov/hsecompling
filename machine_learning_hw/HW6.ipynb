{
  "nbformat": 4,
  "nbformat_minor": 0,
  "metadata": {
    "colab": {
      "name": "HW6.ipynb",
      "provenance": [],
      "collapsed_sections": []
    },
    "kernelspec": {
      "name": "python3",
      "display_name": "Python 3"
    }
  },
  "cells": [
    {
      "cell_type": "code",
      "metadata": {
        "id": "-jsHJ7rK_kcT",
        "colab_type": "code",
        "outputId": "6cbb5430-53e1-4685-f009-9d3a2b9bbfe0",
        "colab": {
          "base_uri": "https://localhost:8080/",
          "height": 462
        }
      },
      "source": [
        "!pip install pandas scikit-learn gensim matplotlib"
      ],
      "execution_count": 1,
      "outputs": [
        {
          "output_type": "stream",
          "text": [
            "Requirement already satisfied: pandas in /usr/local/lib/python3.6/dist-packages (1.0.3)\n",
            "Requirement already satisfied: scikit-learn in /usr/local/lib/python3.6/dist-packages (0.22.2.post1)\n",
            "Requirement already satisfied: gensim in /usr/local/lib/python3.6/dist-packages (3.6.0)\n",
            "Requirement already satisfied: matplotlib in /usr/local/lib/python3.6/dist-packages (3.2.1)\n",
            "Requirement already satisfied: python-dateutil>=2.6.1 in /usr/local/lib/python3.6/dist-packages (from pandas) (2.8.1)\n",
            "Requirement already satisfied: pytz>=2017.2 in /usr/local/lib/python3.6/dist-packages (from pandas) (2018.9)\n",
            "Requirement already satisfied: numpy>=1.13.3 in /usr/local/lib/python3.6/dist-packages (from pandas) (1.18.2)\n",
            "Requirement already satisfied: scipy>=0.17.0 in /usr/local/lib/python3.6/dist-packages (from scikit-learn) (1.4.1)\n",
            "Requirement already satisfied: joblib>=0.11 in /usr/local/lib/python3.6/dist-packages (from scikit-learn) (0.14.1)\n",
            "Requirement already satisfied: six>=1.5.0 in /usr/local/lib/python3.6/dist-packages (from gensim) (1.12.0)\n",
            "Requirement already satisfied: smart-open>=1.2.1 in /usr/local/lib/python3.6/dist-packages (from gensim) (1.11.1)\n",
            "Requirement already satisfied: cycler>=0.10 in /usr/local/lib/python3.6/dist-packages (from matplotlib) (0.10.0)\n",
            "Requirement already satisfied: kiwisolver>=1.0.1 in /usr/local/lib/python3.6/dist-packages (from matplotlib) (1.2.0)\n",
            "Requirement already satisfied: pyparsing!=2.0.4,!=2.1.2,!=2.1.6,>=2.0.1 in /usr/local/lib/python3.6/dist-packages (from matplotlib) (2.4.7)\n",
            "Requirement already satisfied: requests in /usr/local/lib/python3.6/dist-packages (from smart-open>=1.2.1->gensim) (2.21.0)\n",
            "Requirement already satisfied: boto in /usr/local/lib/python3.6/dist-packages (from smart-open>=1.2.1->gensim) (2.49.0)\n",
            "Requirement already satisfied: boto3 in /usr/local/lib/python3.6/dist-packages (from smart-open>=1.2.1->gensim) (1.12.39)\n",
            "Requirement already satisfied: certifi>=2017.4.17 in /usr/local/lib/python3.6/dist-packages (from requests->smart-open>=1.2.1->gensim) (2020.4.5.1)\n",
            "Requirement already satisfied: urllib3<1.25,>=1.21.1 in /usr/local/lib/python3.6/dist-packages (from requests->smart-open>=1.2.1->gensim) (1.24.3)\n",
            "Requirement already satisfied: chardet<3.1.0,>=3.0.2 in /usr/local/lib/python3.6/dist-packages (from requests->smart-open>=1.2.1->gensim) (3.0.4)\n",
            "Requirement already satisfied: idna<2.9,>=2.5 in /usr/local/lib/python3.6/dist-packages (from requests->smart-open>=1.2.1->gensim) (2.8)\n",
            "Requirement already satisfied: jmespath<1.0.0,>=0.7.1 in /usr/local/lib/python3.6/dist-packages (from boto3->smart-open>=1.2.1->gensim) (0.9.5)\n",
            "Requirement already satisfied: botocore<1.16.0,>=1.15.39 in /usr/local/lib/python3.6/dist-packages (from boto3->smart-open>=1.2.1->gensim) (1.15.39)\n",
            "Requirement already satisfied: s3transfer<0.4.0,>=0.3.0 in /usr/local/lib/python3.6/dist-packages (from boto3->smart-open>=1.2.1->gensim) (0.3.3)\n",
            "Requirement already satisfied: docutils<0.16,>=0.10 in /usr/local/lib/python3.6/dist-packages (from botocore<1.16.0,>=1.15.39->boto3->smart-open>=1.2.1->gensim) (0.15.2)\n"
          ],
          "name": "stdout"
        }
      ]
    },
    {
      "cell_type": "code",
      "metadata": {
        "id": "K14zDq9h_q2D",
        "colab_type": "code",
        "colab": {}
      },
      "source": [
        "import tensorflow as tf\n",
        "import pandas as pd\n",
        "import numpy as np\n",
        "from string import punctuation\n",
        "from sklearn.model_selection import train_test_split\n",
        "from collections import Counter\n",
        "import matplotlib.pyplot as plt\n",
        "import gensim\n",
        "%matplotlib inline"
      ],
      "execution_count": 0,
      "outputs": []
    },
    {
      "cell_type": "code",
      "metadata": {
        "id": "mYllmF_aAIY5",
        "colab_type": "code",
        "outputId": "7284c9e5-bf46-4ad9-f7ce-c38280e6f810",
        "colab": {
          "base_uri": "https://localhost:8080/",
          "height": 139
        }
      },
      "source": [
        "from google.colab import drive \n",
        "drive.mount('/gdrive')\n",
        "%cd /gdrive"
      ],
      "execution_count": 3,
      "outputs": [
        {
          "output_type": "stream",
          "text": [
            "Go to this URL in a browser: https://accounts.google.com/o/oauth2/auth?client_id=947318989803-6bn6qk8qdgf4n4g3pfee6491hc0brc4i.apps.googleusercontent.com&redirect_uri=urn%3aietf%3awg%3aoauth%3a2.0%3aoob&response_type=code&scope=email%20https%3a%2f%2fwww.googleapis.com%2fauth%2fdocs.test%20https%3a%2f%2fwww.googleapis.com%2fauth%2fdrive%20https%3a%2f%2fwww.googleapis.com%2fauth%2fdrive.photos.readonly%20https%3a%2f%2fwww.googleapis.com%2fauth%2fpeopleapi.readonly\n",
            "\n",
            "Enter your authorization code:\n",
            "··········\n",
            "Mounted at /gdrive\n",
            "/gdrive\n"
          ],
          "name": "stdout"
        }
      ]
    },
    {
      "cell_type": "code",
      "metadata": {
        "id": "ezScJr2QAEbz",
        "colab_type": "code",
        "colab": {}
      },
      "source": [
        "data = pd.read_csv('/gdrive/My Drive/quora/train.csv')"
      ],
      "execution_count": 0,
      "outputs": []
    },
    {
      "cell_type": "code",
      "metadata": {
        "id": "vfLLRygmBiu5",
        "colab_type": "code",
        "outputId": "162eebc3-f987-42f4-88b2-98b08e53f527",
        "colab": {
          "base_uri": "https://localhost:8080/",
          "height": 359
        }
      },
      "source": [
        "data.head(10)"
      ],
      "execution_count": 5,
      "outputs": [
        {
          "output_type": "execute_result",
          "data": {
            "text/html": [
              "<div>\n",
              "<style scoped>\n",
              "    .dataframe tbody tr th:only-of-type {\n",
              "        vertical-align: middle;\n",
              "    }\n",
              "\n",
              "    .dataframe tbody tr th {\n",
              "        vertical-align: top;\n",
              "    }\n",
              "\n",
              "    .dataframe thead th {\n",
              "        text-align: right;\n",
              "    }\n",
              "</style>\n",
              "<table border=\"1\" class=\"dataframe\">\n",
              "  <thead>\n",
              "    <tr style=\"text-align: right;\">\n",
              "      <th></th>\n",
              "      <th>qid</th>\n",
              "      <th>question_text</th>\n",
              "      <th>target</th>\n",
              "    </tr>\n",
              "  </thead>\n",
              "  <tbody>\n",
              "    <tr>\n",
              "      <th>0</th>\n",
              "      <td>00002165364db923c7e6</td>\n",
              "      <td>How did Quebec nationalists see their province...</td>\n",
              "      <td>0</td>\n",
              "    </tr>\n",
              "    <tr>\n",
              "      <th>1</th>\n",
              "      <td>000032939017120e6e44</td>\n",
              "      <td>Do you have an adopted dog, how would you enco...</td>\n",
              "      <td>0</td>\n",
              "    </tr>\n",
              "    <tr>\n",
              "      <th>2</th>\n",
              "      <td>0000412ca6e4628ce2cf</td>\n",
              "      <td>Why does velocity affect time? Does velocity a...</td>\n",
              "      <td>0</td>\n",
              "    </tr>\n",
              "    <tr>\n",
              "      <th>3</th>\n",
              "      <td>000042bf85aa498cd78e</td>\n",
              "      <td>How did Otto von Guericke used the Magdeburg h...</td>\n",
              "      <td>0</td>\n",
              "    </tr>\n",
              "    <tr>\n",
              "      <th>4</th>\n",
              "      <td>0000455dfa3e01eae3af</td>\n",
              "      <td>Can I convert montra helicon D to a mountain b...</td>\n",
              "      <td>0</td>\n",
              "    </tr>\n",
              "    <tr>\n",
              "      <th>5</th>\n",
              "      <td>00004f9a462a357c33be</td>\n",
              "      <td>Is Gaza slowly becoming Auschwitz, Dachau or T...</td>\n",
              "      <td>0</td>\n",
              "    </tr>\n",
              "    <tr>\n",
              "      <th>6</th>\n",
              "      <td>00005059a06ee19e11ad</td>\n",
              "      <td>Why does Quora automatically ban conservative ...</td>\n",
              "      <td>0</td>\n",
              "    </tr>\n",
              "    <tr>\n",
              "      <th>7</th>\n",
              "      <td>0000559f875832745e2e</td>\n",
              "      <td>Is it crazy if I wash or wipe my groceries off...</td>\n",
              "      <td>0</td>\n",
              "    </tr>\n",
              "    <tr>\n",
              "      <th>8</th>\n",
              "      <td>00005bd3426b2d0c8305</td>\n",
              "      <td>Is there such a thing as dressing moderately, ...</td>\n",
              "      <td>0</td>\n",
              "    </tr>\n",
              "    <tr>\n",
              "      <th>9</th>\n",
              "      <td>00006e6928c5df60eacb</td>\n",
              "      <td>Is it just me or have you ever been in this ph...</td>\n",
              "      <td>0</td>\n",
              "    </tr>\n",
              "  </tbody>\n",
              "</table>\n",
              "</div>"
            ],
            "text/plain": [
              "                    qid  ... target\n",
              "0  00002165364db923c7e6  ...      0\n",
              "1  000032939017120e6e44  ...      0\n",
              "2  0000412ca6e4628ce2cf  ...      0\n",
              "3  000042bf85aa498cd78e  ...      0\n",
              "4  0000455dfa3e01eae3af  ...      0\n",
              "5  00004f9a462a357c33be  ...      0\n",
              "6  00005059a06ee19e11ad  ...      0\n",
              "7  0000559f875832745e2e  ...      0\n",
              "8  00005bd3426b2d0c8305  ...      0\n",
              "9  00006e6928c5df60eacb  ...      0\n",
              "\n",
              "[10 rows x 3 columns]"
            ]
          },
          "metadata": {
            "tags": []
          },
          "execution_count": 5
        }
      ]
    },
    {
      "cell_type": "code",
      "metadata": {
        "id": "0AZc1bPqLghQ",
        "colab_type": "code",
        "colab": {}
      },
      "source": [
        "def preprocess(text):\n",
        "    tokens = text.lower().split()\n",
        "    tokens = [token.strip(punctuation) for token in tokens]\n",
        "    return tokens"
      ],
      "execution_count": 0,
      "outputs": []
    },
    {
      "cell_type": "code",
      "metadata": {
        "id": "oWuPw0avLtQJ",
        "colab_type": "code",
        "colab": {}
      },
      "source": [
        "vocab = Counter()\n",
        "\n",
        "for text in data.question_text:\n",
        "    vocab.update(preprocess(text))"
      ],
      "execution_count": 0,
      "outputs": []
    },
    {
      "cell_type": "code",
      "metadata": {
        "id": "STNvusviMZOu",
        "colab_type": "code",
        "outputId": "6d32adb3-f7ed-47e7-c70d-0ff8ecd5c215",
        "colab": {
          "base_uri": "https://localhost:8080/",
          "height": 34
        }
      },
      "source": [
        "len(vocab)"
      ],
      "execution_count": 8,
      "outputs": [
        {
          "output_type": "execute_result",
          "data": {
            "text/plain": [
              "273056"
            ]
          },
          "metadata": {
            "tags": []
          },
          "execution_count": 8
        }
      ]
    },
    {
      "cell_type": "code",
      "metadata": {
        "id": "fCVNDigQMUB2",
        "colab_type": "code",
        "colab": {}
      },
      "source": [
        "filtered_vocab = set()\n",
        "\n",
        "for word in vocab:\n",
        "    if vocab[word] > 5:\n",
        "        filtered_vocab.add(word)"
      ],
      "execution_count": 0,
      "outputs": []
    },
    {
      "cell_type": "code",
      "metadata": {
        "id": "Z2GuS0viMWQn",
        "colab_type": "code",
        "outputId": "f0555557-8717-4f05-e69c-701b858215de",
        "colab": {
          "base_uri": "https://localhost:8080/",
          "height": 34
        }
      },
      "source": [
        "len(filtered_vocab)"
      ],
      "execution_count": 10,
      "outputs": [
        {
          "output_type": "execute_result",
          "data": {
            "text/plain": [
              "48010"
            ]
          },
          "metadata": {
            "tags": []
          },
          "execution_count": 10
        }
      ]
    },
    {
      "cell_type": "code",
      "metadata": {
        "id": "Ljb0cFlQMvAz",
        "colab_type": "code",
        "colab": {}
      },
      "source": [
        "word2id = {'UNK':1, 'PAD':0}\n",
        "\n",
        "for word in filtered_vocab:\n",
        "    word2id[word] = len(word2id)"
      ],
      "execution_count": 0,
      "outputs": []
    },
    {
      "cell_type": "code",
      "metadata": {
        "id": "fwvD19VMMwo-",
        "colab_type": "code",
        "colab": {}
      },
      "source": [
        "id2word = {i:word for word, i in word2id.items()}"
      ],
      "execution_count": 0,
      "outputs": []
    },
    {
      "cell_type": "code",
      "metadata": {
        "id": "MdciEYOxM4AM",
        "colab_type": "code",
        "colab": {}
      },
      "source": [
        "X = []\n",
        "\n",
        "for text in data.question_text:\n",
        "    tokens = preprocess(text)\n",
        "    ids = [word2id.get(token, 1) for token in tokens]\n",
        "    X.append(ids)"
      ],
      "execution_count": 0,
      "outputs": []
    },
    {
      "cell_type": "code",
      "metadata": {
        "id": "OGB_O4u6NJk2",
        "colab_type": "code",
        "outputId": "3c67f4b5-5797-4809-b83d-24c9d661c3af",
        "colab": {
          "base_uri": "https://localhost:8080/",
          "height": 34
        }
      },
      "source": [
        "MAX_LEN = max(len(x) for x in X)\n",
        "MAX_LEN"
      ],
      "execution_count": 14,
      "outputs": [
        {
          "output_type": "execute_result",
          "data": {
            "text/plain": [
              "134"
            ]
          },
          "metadata": {
            "tags": []
          },
          "execution_count": 14
        }
      ]
    },
    {
      "cell_type": "code",
      "metadata": {
        "id": "S4VbY3lWNSI2",
        "colab_type": "code",
        "colab": {}
      },
      "source": [
        "MAX_LEN = 100"
      ],
      "execution_count": 0,
      "outputs": []
    },
    {
      "cell_type": "code",
      "metadata": {
        "id": "81XvQNjTNUFP",
        "colab_type": "code",
        "outputId": "5f8991c0-ceb9-4f5e-be73-3bdec4fa4bc0",
        "colab": {
          "base_uri": "https://localhost:8080/",
          "height": 34
        }
      },
      "source": [
        "X = tf.keras.preprocessing.sequence.pad_sequences(X, maxlen=MAX_LEN)\n",
        "X.shape"
      ],
      "execution_count": 16,
      "outputs": [
        {
          "output_type": "execute_result",
          "data": {
            "text/plain": [
              "(1306122, 100)"
            ]
          },
          "metadata": {
            "tags": []
          },
          "execution_count": 16
        }
      ]
    },
    {
      "cell_type": "code",
      "metadata": {
        "id": "dIWuBik_oyZd",
        "colab_type": "code",
        "colab": {}
      },
      "source": [
        "y = data.target.values"
      ],
      "execution_count": 0,
      "outputs": []
    },
    {
      "cell_type": "code",
      "metadata": {
        "id": "ytzOqWsjo_B7",
        "colab_type": "code",
        "colab": {}
      },
      "source": [
        "X_train, X_valid, y_train, y_valid = train_test_split(X, y, test_size=0.05, random_state=42)"
      ],
      "execution_count": 0,
      "outputs": []
    },
    {
      "cell_type": "markdown",
      "metadata": {
        "id": "6Qi8lyVf_d6J",
        "colab_type": "text"
      },
      "source": [
        "### Задание 1\n",
        "а) Конкатенация эмбедингов в один большой"
      ]
    },
    {
      "cell_type": "code",
      "metadata": {
        "id": "gbTU9Qko_FAa",
        "colab_type": "code",
        "colab": {}
      },
      "source": [
        "model = tf.keras.Sequential()\n",
        "model.add(tf.keras.layers.Embedding(input_dim=len(word2id), input_length=MAX_LEN, output_dim=100))\n",
        "model.add(tf.keras.layers.Flatten())\n",
        "model.add(tf.keras.layers.Dense(1, activation='linear'))\n",
        "model.compile(optimizer='adam', loss='mse', metrics=[tf.keras.metrics.RootMeanSquaredError()])"
      ],
      "execution_count": 0,
      "outputs": []
    },
    {
      "cell_type": "code",
      "metadata": {
        "id": "YDEKy1PiPzQe",
        "colab_type": "code",
        "outputId": "593f4d23-4bd4-4023-d781-070e45d7091c",
        "colab": {
          "base_uri": "https://localhost:8080/",
          "height": 394
        }
      },
      "source": [
        "model.fit(X_train, y_train, \n",
        "          validation_data=(X_valid, y_valid),\n",
        "          batch_size=4000,\n",
        "         epochs=10)"
      ],
      "execution_count": 0,
      "outputs": [
        {
          "output_type": "stream",
          "text": [
            "Epoch 1/10\n",
            "311/311 [==============================] - 70s 224ms/step - loss: 0.0303 - root_mean_squared_error: 0.1742 - val_loss: 0.0369 - val_root_mean_squared_error: 0.1925\n",
            "Epoch 2/10\n",
            "311/311 [==============================] - 67s 216ms/step - loss: 0.0288 - root_mean_squared_error: 0.1698 - val_loss: 0.0373 - val_root_mean_squared_error: 0.1933\n",
            "Epoch 3/10\n",
            "311/311 [==============================] - 67s 215ms/step - loss: 0.0277 - root_mean_squared_error: 0.1664 - val_loss: 0.0378 - val_root_mean_squared_error: 0.1947\n",
            "Epoch 4/10\n",
            "311/311 [==============================] - 67s 214ms/step - loss: 0.0266 - root_mean_squared_error: 0.1631 - val_loss: 0.0383 - val_root_mean_squared_error: 0.1961\n",
            "Epoch 5/10\n",
            "311/311 [==============================] - 67s 217ms/step - loss: 0.0255 - root_mean_squared_error: 0.1597 - val_loss: 0.0391 - val_root_mean_squared_error: 0.1980\n",
            "Epoch 6/10\n",
            "311/311 [==============================] - 67s 216ms/step - loss: 0.0245 - root_mean_squared_error: 0.1564 - val_loss: 0.0399 - val_root_mean_squared_error: 0.2000\n",
            "Epoch 7/10\n",
            "311/311 [==============================] - 68s 217ms/step - loss: 0.0235 - root_mean_squared_error: 0.1532 - val_loss: 0.0406 - val_root_mean_squared_error: 0.2019\n",
            "Epoch 8/10\n",
            "311/311 [==============================] - 67s 215ms/step - loss: 0.0226 - root_mean_squared_error: 0.1505 - val_loss: 0.0416 - val_root_mean_squared_error: 0.2043\n",
            "Epoch 9/10\n",
            "311/311 [==============================] - 66s 213ms/step - loss: 0.0219 - root_mean_squared_error: 0.1481 - val_loss: 0.0425 - val_root_mean_squared_error: 0.2064\n",
            "Epoch 10/10\n",
            "311/311 [==============================] - 67s 214ms/step - loss: 0.0214 - root_mean_squared_error: 0.1461 - val_loss: 0.0433 - val_root_mean_squared_error: 0.2083\n"
          ],
          "name": "stdout"
        },
        {
          "output_type": "execute_result",
          "data": {
            "text/plain": [
              "<tensorflow.python.keras.callbacks.History at 0x7f6190b09048>"
            ]
          },
          "metadata": {
            "tags": []
          },
          "execution_count": 23
        }
      ]
    },
    {
      "cell_type": "code",
      "metadata": {
        "id": "u75STXxkUBXR",
        "colab_type": "code",
        "outputId": "fb038e39-7b36-4e9f-ac94-761679cb6958",
        "colab": {
          "base_uri": "https://localhost:8080/",
          "height": 312
        }
      },
      "source": [
        "print(model.history.history.keys())\n",
        "# summarize history for accuracy\n",
        "plt.plot(model.history.history['root_mean_squared_error'])\n",
        "plt.plot(model.history.history['val_root_mean_squared_error'])\n",
        "plt.title('model RMSE')\n",
        "plt.ylabel('RMSE')\n",
        "plt.xlabel('epoch')\n",
        "plt.legend(['train', 'val'], loc='upper left')\n",
        "plt.show()"
      ],
      "execution_count": 0,
      "outputs": [
        {
          "output_type": "stream",
          "text": [
            "dict_keys(['loss', 'root_mean_squared_error', 'val_loss', 'val_root_mean_squared_error'])\n"
          ],
          "name": "stdout"
        },
        {
          "output_type": "display_data",
          "data": {
            "image/png": "[encoded data removed]",
            "text/plain": [
              "<Figure size 432x288 with 1 Axes>"
            ]
          },
          "metadata": {
            "tags": [],
            "needs_background": "light"
          }
        }
      ]
    },
    {
      "cell_type": "markdown",
      "metadata": {
        "id": "YfheLyhop8GX",
        "colab_type": "text"
      },
      "source": [
        "б) Усреднение эмбедингов"
      ]
    },
    {
      "cell_type": "code",
      "metadata": {
        "id": "Z-pZplTG-4qk",
        "colab_type": "code",
        "colab": {}
      },
      "source": [
        "inputs = tf.keras.layers.Input(shape=(100,))\n",
        "embeddings = tf.keras.layers.Embedding(input_dim=len(word2id), output_dim=100)(inputs)\n",
        "mean = tf.keras.layers.Lambda(lambda x: tf.keras.backend.mean(x,  axis=1))(embeddings)\n",
        "dense = tf.keras.layers.Dense(64, activation='relu')(mean)\n",
        "outputs = tf.keras.layers.Dense(1, activation='sigmoid')(dense)"
      ],
      "execution_count": 0,
      "outputs": []
    },
    {
      "cell_type": "code",
      "metadata": {
        "id": "p4n9ORQUXDNr",
        "colab_type": "code",
        "colab": {}
      },
      "source": [
        "model = tf.keras.Model(inputs=inputs, outputs=outputs)\n",
        "optimizer = tf.keras.optimizers.Adam(learning_rate=0.0001)\n",
        "model.compile(optimizer=optimizer,\n",
        "              loss='mse',\n",
        "              metrics=[tf.keras.metrics.RootMeanSquaredError()])"
      ],
      "execution_count": 0,
      "outputs": []
    },
    {
      "cell_type": "code",
      "metadata": {
        "id": "igyB0asFUlWv",
        "colab_type": "code",
        "outputId": "9e621e5f-8215-466d-9214-09bd4ae2fa4c",
        "colab": {
          "base_uri": "https://localhost:8080/",
          "height": 394
        }
      },
      "source": [
        "model.fit(X_train, y_train, \n",
        "          validation_data=(X_valid, y_valid),\n",
        "          batch_size=4000,\n",
        "         epochs=10)"
      ],
      "execution_count": 0,
      "outputs": [
        {
          "output_type": "stream",
          "text": [
            "Epoch 1/10\n",
            "311/311 [==============================] - 62s 199ms/step - loss: 0.1821 - root_mean_squared_error: 0.4270 - val_loss: 0.1125 - val_root_mean_squared_error: 0.3354\n",
            "Epoch 2/10\n",
            "311/311 [==============================] - 62s 200ms/step - loss: 0.0788 - root_mean_squared_error: 0.2808 - val_loss: 0.0611 - val_root_mean_squared_error: 0.2471\n",
            "Epoch 3/10\n",
            "311/311 [==============================] - 64s 205ms/step - loss: 0.0591 - root_mean_squared_error: 0.2431 - val_loss: 0.0562 - val_root_mean_squared_error: 0.2372\n",
            "Epoch 4/10\n",
            "311/311 [==============================] - 63s 204ms/step - loss: 0.0571 - root_mean_squared_error: 0.2389 - val_loss: 0.0554 - val_root_mean_squared_error: 0.2354\n",
            "Epoch 5/10\n",
            "311/311 [==============================] - 63s 204ms/step - loss: 0.0566 - root_mean_squared_error: 0.2378 - val_loss: 0.0550 - val_root_mean_squared_error: 0.2345\n",
            "Epoch 6/10\n",
            "311/311 [==============================] - 63s 202ms/step - loss: 0.0562 - root_mean_squared_error: 0.2370 - val_loss: 0.0546 - val_root_mean_squared_error: 0.2337\n",
            "Epoch 7/10\n",
            "311/311 [==============================] - 63s 203ms/step - loss: 0.0558 - root_mean_squared_error: 0.2362 - val_loss: 0.0542 - val_root_mean_squared_error: 0.2327\n",
            "Epoch 8/10\n",
            "311/311 [==============================] - 63s 203ms/step - loss: 0.0553 - root_mean_squared_error: 0.2350 - val_loss: 0.0535 - val_root_mean_squared_error: 0.2314\n",
            "Epoch 9/10\n",
            "311/311 [==============================] - 64s 204ms/step - loss: 0.0545 - root_mean_squared_error: 0.2334 - val_loss: 0.0526 - val_root_mean_squared_error: 0.2293\n",
            "Epoch 10/10\n",
            "311/311 [==============================] - 63s 202ms/step - loss: 0.0531 - root_mean_squared_error: 0.2305 - val_loss: 0.0506 - val_root_mean_squared_error: 0.2249\n"
          ],
          "name": "stdout"
        },
        {
          "output_type": "execute_result",
          "data": {
            "text/plain": [
              "<tensorflow.python.keras.callbacks.History at 0x7f618cc290f0>"
            ]
          },
          "metadata": {
            "tags": []
          },
          "execution_count": 29
        }
      ]
    },
    {
      "cell_type": "code",
      "metadata": {
        "id": "pYCuLUX5Ulj6",
        "colab_type": "code",
        "outputId": "9fa121b0-129a-49d9-ed82-cc65b28d352f",
        "colab": {
          "base_uri": "https://localhost:8080/",
          "height": 312
        }
      },
      "source": [
        "print(model.history.history.keys())\n",
        "# summarize history for accuracy\n",
        "plt.plot(model.history.history['root_mean_squared_error'])\n",
        "plt.plot(model.history.history['val_root_mean_squared_error'])\n",
        "plt.title('model RMSE')\n",
        "plt.ylabel('RMSE')\n",
        "plt.xlabel('epoch')\n",
        "plt.legend(['train', 'val'], loc='upper left')\n",
        "plt.show()"
      ],
      "execution_count": 0,
      "outputs": [
        {
          "output_type": "stream",
          "text": [
            "dict_keys(['loss', 'root_mean_squared_error', 'val_loss', 'val_root_mean_squared_error'])\n"
          ],
          "name": "stdout"
        },
        {
          "output_type": "display_data",
          "data": {
            "image/png": "[encoded data removed]",
            "text/plain": [
              "<Figure size 432x288 with 1 Axes>"
            ]
          },
          "metadata": {
            "tags": [],
            "needs_background": "light"
          }
        }
      ]
    },
    {
      "cell_type": "markdown",
      "metadata": {
        "id": "bA7YHKokqE7l",
        "colab_type": "text"
      },
      "source": [
        "в) Складывание эмбедингов"
      ]
    },
    {
      "cell_type": "code",
      "metadata": {
        "id": "D7f7ggEsqFdQ",
        "colab_type": "code",
        "colab": {}
      },
      "source": [
        "inputs = tf.keras.layers.Input(shape=(100,))\n",
        "embeddings = tf.keras.layers.Embedding(input_dim=len(word2id), output_dim=100)(inputs)\n",
        "sum = tf.keras.layers.Lambda(lambda x: tf.keras.backend.sum(x,  axis=1))(embeddings)\n",
        "dense = tf.keras.layers.Dense(64, activation='relu')(sum)\n",
        "outputs = tf.keras.layers.Dense(1, activation='sigmoid')(dense)"
      ],
      "execution_count": 0,
      "outputs": []
    },
    {
      "cell_type": "code",
      "metadata": {
        "id": "8eaySieVU_HP",
        "colab_type": "code",
        "colab": {}
      },
      "source": [
        "model = tf.keras.Model(inputs=inputs, outputs=outputs)\n",
        "optimizer = tf.keras.optimizers.Adam(learning_rate=0.0001)\n",
        "model.compile(optimizer=optimizer,\n",
        "              loss='mse',\n",
        "              metrics=[tf.keras.metrics.RootMeanSquaredError()])"
      ],
      "execution_count": 0,
      "outputs": []
    },
    {
      "cell_type": "code",
      "metadata": {
        "id": "048zI9aoYKeS",
        "colab_type": "code",
        "outputId": "1740417d-b0cf-42a8-996c-c2202daec602",
        "colab": {
          "base_uri": "https://localhost:8080/",
          "height": 394
        }
      },
      "source": [
        "model.fit(X_train, y_train, \n",
        "          validation_data=(X_valid, y_valid),\n",
        "          batch_size=4000,\n",
        "         epochs=10)"
      ],
      "execution_count": 0,
      "outputs": [
        {
          "output_type": "stream",
          "text": [
            "Epoch 1/10\n",
            "311/311 [==============================] - 55s 177ms/step - loss: 0.0566 - root_mean_squared_error: 0.2381 - val_loss: 0.0456 - val_root_mean_squared_error: 0.2135\n",
            "Epoch 2/10\n",
            "311/311 [==============================] - 55s 176ms/step - loss: 0.0416 - root_mean_squared_error: 0.2039 - val_loss: 0.0371 - val_root_mean_squared_error: 0.1926\n",
            "Epoch 3/10\n",
            "311/311 [==============================] - 55s 176ms/step - loss: 0.0364 - root_mean_squared_error: 0.1909 - val_loss: 0.0347 - val_root_mean_squared_error: 0.1862\n",
            "Epoch 4/10\n",
            "311/311 [==============================] - 58s 187ms/step - loss: 0.0343 - root_mean_squared_error: 0.1851 - val_loss: 0.0335 - val_root_mean_squared_error: 0.1832\n",
            "Epoch 5/10\n",
            "311/311 [==============================] - 55s 178ms/step - loss: 0.0329 - root_mean_squared_error: 0.1815 - val_loss: 0.0329 - val_root_mean_squared_error: 0.1814\n",
            "Epoch 6/10\n",
            "311/311 [==============================] - 56s 180ms/step - loss: 0.0320 - root_mean_squared_error: 0.1789 - val_loss: 0.0324 - val_root_mean_squared_error: 0.1803\n",
            "Epoch 7/10\n",
            "311/311 [==============================] - 56s 179ms/step - loss: 0.0313 - root_mean_squared_error: 0.1769 - val_loss: 0.0322 - val_root_mean_squared_error: 0.1797\n",
            "Epoch 8/10\n",
            "311/311 [==============================] - 56s 179ms/step - loss: 0.0307 - root_mean_squared_error: 0.1752 - val_loss: 0.0321 - val_root_mean_squared_error: 0.1795\n",
            "Epoch 9/10\n",
            "311/311 [==============================] - 55s 178ms/step - loss: 0.0302 - root_mean_squared_error: 0.1739 - val_loss: 0.0320 - val_root_mean_squared_error: 0.1792\n",
            "Epoch 10/10\n",
            "311/311 [==============================] - 55s 177ms/step - loss: 0.0298 - root_mean_squared_error: 0.1726 - val_loss: 0.0319 - val_root_mean_squared_error: 0.1789\n"
          ],
          "name": "stdout"
        },
        {
          "output_type": "execute_result",
          "data": {
            "text/plain": [
              "<tensorflow.python.keras.callbacks.History at 0x7f618aaa9a90>"
            ]
          },
          "metadata": {
            "tags": []
          },
          "execution_count": 33
        }
      ]
    },
    {
      "cell_type": "code",
      "metadata": {
        "id": "04qA1SI1U_Ck",
        "colab_type": "code",
        "outputId": "f627f3c1-aeb2-42ef-b826-8a7fd9aec5c1",
        "colab": {
          "base_uri": "https://localhost:8080/",
          "height": 312
        }
      },
      "source": [
        "print(model.history.history.keys())\n",
        "# summarize history for accuracy\n",
        "plt.plot(model.history.history['root_mean_squared_error'])\n",
        "plt.plot(model.history.history['val_root_mean_squared_error'])\n",
        "plt.title('model RMSE')\n",
        "plt.ylabel('RMSE')\n",
        "plt.xlabel('epoch')\n",
        "plt.legend(['train', 'val'], loc='upper left')\n",
        "plt.show()"
      ],
      "execution_count": 0,
      "outputs": [
        {
          "output_type": "stream",
          "text": [
            "dict_keys(['loss', 'root_mean_squared_error', 'val_loss', 'val_root_mean_squared_error'])\n"
          ],
          "name": "stdout"
        },
        {
          "output_type": "display_data",
          "data": {
            "image/png": "[encoded data removed]",
            "text/plain": [
              "<Figure size 432x288 with 1 Axes>"
            ]
          },
          "metadata": {
            "tags": [],
            "needs_background": "light"
          }
        }
      ]
    },
    {
      "cell_type": "markdown",
      "metadata": {
        "id": "4eEKUJ38qR7L",
        "colab_type": "text"
      },
      "source": [
        "### Задание 2 "
      ]
    },
    {
      "cell_type": "code",
      "metadata": {
        "id": "7WCPbaLpL0O4",
        "colab_type": "code",
        "colab": {}
      },
      "source": [
        "from tqdm import tqdm"
      ],
      "execution_count": 0,
      "outputs": []
    },
    {
      "cell_type": "code",
      "metadata": {
        "id": "UB-wsvrELCoB",
        "colab_type": "code",
        "colab": {
          "base_uri": "https://localhost:8080/",
          "height": 34
        },
        "outputId": "cb75c565-37b3-40d4-9ecd-8bddd10d3c6f"
      },
      "source": [
        "w2v = gensim.models.Word2Vec([text.split() for text in tqdm(data['question_text'])], size=100, sg=1)"
      ],
      "execution_count": 26,
      "outputs": [
        {
          "output_type": "stream",
          "text": [
            "100%|██████████| 1306122/1306122 [00:05<00:00, 229268.54it/s]\n"
          ],
          "name": "stderr"
        }
      ]
    },
    {
      "cell_type": "code",
      "metadata": {
        "id": "I5pX7LOeYoNm",
        "colab_type": "code",
        "colab": {}
      },
      "source": [
        "embedding_matrix1 = np.zeros((len(w2v.wv.vocab) + 1, 100))\n",
        "for i, vec in enumerate(w2v.wv.vectors):\n",
        "  embedding_matrix[i] = vec"
      ],
      "execution_count": 0,
      "outputs": []
    },
    {
      "cell_type": "code",
      "metadata": {
        "id": "NEzGbfvxLRYb",
        "colab_type": "code",
        "colab": {
          "base_uri": "https://localhost:8080/",
          "height": 34
        },
        "outputId": "3d4c79dc-0f4a-4d25-c959-a0a5c53e3000"
      },
      "source": [
        "fasttxt = gensim.models.FastText([text.split() for text in tqdm(data['question_text'])], size=100, sg=1)"
      ],
      "execution_count": 37,
      "outputs": [
        {
          "output_type": "stream",
          "text": [
            "100%|██████████| 1306122/1306122 [00:06<00:00, 191633.73it/s]\n"
          ],
          "name": "stderr"
        }
      ]
    },
    {
      "cell_type": "code",
      "metadata": {
        "id": "4EepFGTlY8R8",
        "colab_type": "code",
        "colab": {}
      },
      "source": [
        "embedding_matrix2 = np.zeros((len(fasttxt.wv.vocab) + 1, 100))\n",
        "for i, vec in enumerate(fasttxt.wv.vectors):\n",
        "  embedding_matrix2[i] = vec"
      ],
      "execution_count": 0,
      "outputs": []
    },
    {
      "cell_type": "code",
      "metadata": {
        "id": "q2KwvgSiMJwO",
        "colab_type": "code",
        "colab": {}
      },
      "source": [
        "inputs = tf.keras.layers.Input(shape=(100,))\n",
        "embedding1 = tf.keras.layers.Embedding(input_dim=len(w2v.wv.vocab)+1, output_dim=100, weights=[embedding_matrix1])(inputs)\n",
        "embedding2 = tf.keras.layers.Embedding(input_dim=len(fasttxt.wv.vocab)+1, output_dim=100, weights=[embedding_matrix2])(inputs)\n",
        "embeddings = tf.keras.layers.concatenate([embedding1, embedding2])\n",
        "sum = tf.keras.layers.Lambda(lambda x: tf.keras.backend.sum(x,  axis=1))(embeddings)\n",
        "dense = tf.keras.layers.Dense(64, activation='relu')(sum)\n",
        "outputs = tf.keras.layers.Dense(1, activation='sigmoid')(dense)"
      ],
      "execution_count": 0,
      "outputs": []
    },
    {
      "cell_type": "code",
      "metadata": {
        "id": "gNpx1yZjUjlT",
        "colab_type": "code",
        "colab": {}
      },
      "source": [
        "model = tf.keras.Model(inputs=inputs, outputs=outputs)\n",
        "optimizer = tf.keras.optimizers.Adam(learning_rate=0.0001)\n",
        "model.compile(optimizer=optimizer,\n",
        "              loss='mse',\n",
        "              metrics=[tf.keras.metrics.RootMeanSquaredError()])"
      ],
      "execution_count": 0,
      "outputs": []
    },
    {
      "cell_type": "code",
      "metadata": {
        "id": "Xp8V9XVUfD65",
        "colab_type": "code",
        "colab": {
          "base_uri": "https://localhost:8080/",
          "height": 394
        },
        "outputId": "bebc878b-03aa-4daf-fc79-239a6c766864"
      },
      "source": [
        "model.fit(X_train, y_train, \n",
        "          validation_data=(X_valid, y_valid),\n",
        "          batch_size=7000,\n",
        "         epochs=10)"
      ],
      "execution_count": 45,
      "outputs": [
        {
          "output_type": "stream",
          "text": [
            "Epoch 1/10\n",
            "178/178 [==============================] - 124s 694ms/step - loss: 0.0451 - root_mean_squared_error: 0.2122 - val_loss: 0.0389 - val_root_mean_squared_error: 0.1970\n",
            "Epoch 2/10\n",
            "178/178 [==============================] - 123s 691ms/step - loss: 0.0374 - root_mean_squared_error: 0.1933 - val_loss: 0.0363 - val_root_mean_squared_error: 0.1906\n",
            "Epoch 3/10\n",
            "178/178 [==============================] - 124s 696ms/step - loss: 0.0346 - root_mean_squared_error: 0.1859 - val_loss: 0.0339 - val_root_mean_squared_error: 0.1841\n",
            "Epoch 4/10\n",
            "178/178 [==============================] - 124s 694ms/step - loss: 0.0331 - root_mean_squared_error: 0.1820 - val_loss: 0.0331 - val_root_mean_squared_error: 0.1822\n",
            "Epoch 5/10\n",
            "178/178 [==============================] - 125s 701ms/step - loss: 0.0322 - root_mean_squared_error: 0.1793 - val_loss: 0.0328 - val_root_mean_squared_error: 0.1815\n",
            "Epoch 6/10\n",
            "178/178 [==============================] - 125s 700ms/step - loss: 0.0315 - root_mean_squared_error: 0.1775 - val_loss: 0.0327 - val_root_mean_squared_error: 0.1811\n",
            "Epoch 7/10\n",
            "178/178 [==============================] - 124s 697ms/step - loss: 0.0310 - root_mean_squared_error: 0.1761 - val_loss: 0.0326 - val_root_mean_squared_error: 0.1812\n",
            "Epoch 8/10\n",
            "178/178 [==============================] - 125s 701ms/step - loss: 0.0306 - root_mean_squared_error: 0.1748 - val_loss: 0.0326 - val_root_mean_squared_error: 0.1810\n",
            "Epoch 9/10\n",
            "178/178 [==============================] - 124s 697ms/step - loss: 0.0302 - root_mean_squared_error: 0.1737 - val_loss: 0.0326 - val_root_mean_squared_error: 0.1811\n",
            "Epoch 10/10\n",
            "178/178 [==============================] - 121s 682ms/step - loss: 0.0299 - root_mean_squared_error: 0.1730 - val_loss: 0.0328 - val_root_mean_squared_error: 0.1815\n"
          ],
          "name": "stdout"
        },
        {
          "output_type": "execute_result",
          "data": {
            "text/plain": [
              "<tensorflow.python.keras.callbacks.History at 0x7f7414150160>"
            ]
          },
          "metadata": {
            "tags": []
          },
          "execution_count": 45
        }
      ]
    },
    {
      "cell_type": "code",
      "metadata": {
        "id": "hZTbACmufb1U",
        "colab_type": "code",
        "colab": {
          "base_uri": "https://localhost:8080/",
          "height": 312
        },
        "outputId": "38d75f6c-129c-43af-d4ab-f08b80c3b6e2"
      },
      "source": [
        "print(model.history.history.keys())\n",
        "# summarize history for accuracy\n",
        "plt.plot(model.history.history['root_mean_squared_error'])\n",
        "plt.plot(model.history.history['val_root_mean_squared_error'])\n",
        "plt.title('model RMSE')\n",
        "plt.ylabel('RMSE')\n",
        "plt.xlabel('epoch')\n",
        "plt.legend(['train', 'val'], loc='upper left')\n",
        "plt.show()"
      ],
      "execution_count": 46,
      "outputs": [
        {
          "output_type": "stream",
          "text": [
            "dict_keys(['loss', 'root_mean_squared_error', 'val_loss', 'val_root_mean_squared_error'])\n"
          ],
          "name": "stdout"
        },
        {
          "output_type": "display_data",
          "data": {
            "image/png": "[encoded data removed]",
            "text/plain": [
              "<Figure size 432x288 with 1 Axes>"
            ]
          },
          "metadata": {
            "tags": [],
            "needs_background": "light"
          }
        }
      ]
    }
  ]
}